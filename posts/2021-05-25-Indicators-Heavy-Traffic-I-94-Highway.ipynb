{
 "cells": [
  {
   "cell_type": "raw",
   "metadata": {},
   "source": [
    "---\n",
    "aliases:\n",
    "- /python/pandas/numpy/matplotlib/seaborn/2021/05/25/Indicators-Heavy-Traffic-I-94-Highway\n",
    "author: Migs Germar\n",
    "\n",
    "branch: master\n",
    "categories:\n",
    "- python\n",
    "- pandas\n",
    "- matplotlib\n",
    "- seaborn\n",
    "date: '2021-05-25'\n",
    "description: I conduct exploratory data analysis and Seaborn visualizations in order\n",
    "  to find indicators of heavy traffic on I-94.\n",
    "image: images/2021-05-25-highway-traffic.jpg\n",
    "output-file: 2021-05-25-indicators-heavy-traffic-i-94-highway.html\n",
    "\n",
    "title: Indicators of Heavy Traffic on the I-94 Highway\n",
    "toc: true\n",
    "\n",
    "---\n",
    "\n"
   ]
  },
  {
   "attachments": {},
   "cell_type": "markdown",
   "id": "robust-alert",
   "metadata": {},
   "source": [
    "![](images/2021-05-25-highway-traffic.jpg){fig-align=\"center\"}\n",
    "\n",
    "<center><a href = \"https://unsplash.com/photos/Xbh_OGLRfUM\">Unsplash | Alexander Popov</a></center>"
   ]
  },
  {
   "attachments": {},
   "cell_type": "markdown",
   "id": "noble-particle",
   "metadata": {},
   "source": [
    "# Overview\n",
    "\n",
    "Interstate 94 or I-94 is a [highway in the USA](https://midamericafreight.org/index.php/rfs/network-inventory/corridors/profiles/i-94/) that stretches from Montana in the west to Michigan in the east. In 2019, John Hogue donated a dataset of traffic volume, weather, and holiday data on I-94 from 2012 to 2018. This can be found on the following UCI Machine Learning Repository page: [Metro Interstate Traffic Volume Data Set](https://archive.ics.uci.edu/ml/datasets/Metro+Interstate+Traffic+Volume).\n",
    "\n",
    "The goal of this project is to determine possible indicators of heavy traffic on I-94. Exploratory data analysis will be conducted with Seaborn visualizations.\n",
    "\n",
    ":::{.callout-note}\n",
    "\n",
    "I wrote this notebook for the [Dataquest](https://www.dataquest.io/) course's [Guided Project: Finding Heavy Traffic Indicators on I-94](https://app.dataquest.io/m/524/guided-project%3A-finding-heavy-traffic-indicators-on-i-94/10/next-steps). The general project flow and research questions came from Dataquest. However, all of the text and code here are written by me unless stated otherwise.\n",
    "\n",
    ":::"
   ]
  },
  {
   "attachments": {},
   "cell_type": "markdown",
   "id": "nuclear-feature",
   "metadata": {},
   "source": [
    "# Package Installs"
   ]
  },
  {
   "cell_type": "code",
   "execution_count": 1,
   "id": "contemporary-introduction",
   "metadata": {},
   "outputs": [],
   "source": [
    "import pandas as pd\n",
    "import numpy as np\n",
    "import matplotlib.pyplot as plt\n",
    "import seaborn as sns"
   ]
  },
  {
   "attachments": {},
   "cell_type": "markdown",
   "id": "hybrid-packing",
   "metadata": {},
   "source": [
    "# Data Overview\n",
    "\n",
    "The following details about the I-94 dataset are stated in the [archive](https://archive.ics.uci.edu/ml/datasets/Metro+Interstate+Traffic+Volume).\n",
    "\n",
    "- `holiday`: Categorical; US National holidays plus regional holiday, Minnesota State Fair\n",
    "- `temp`: Numeric; Average temperature (Kelvin)\n",
    "- `rain_1h`: Numeric; Amount (mm) of rain that occurred in the hour\n",
    "- `snow_1h`: Numeric; Amount (mm) of snow that occurred in the hour\n",
    "- `clouds_all`: Numeric; Percentage of cloud cover (%)\n",
    "- `weather_main`: Categorical; Short textual description of the current weather\n",
    "- `weather_description`: Categorical; Longer textual description of the current weather\n",
    "- `date_time`: DateTime; Hour of the data collected in local CST time\n",
    "- `traffic_volume`: Numeric; Hourly I-94 ATR 301 reported westbound traffic volume\n",
    "\n",
    ":::{.callout-note}\n",
    "\n",
    "The data were collected from a station somewhere between Minneapolis and St. Paul, Minnesota. Only westbound traffic was recorded, not eastbound. The data are not representative of the entire I-94 highway.\n",
    "\n",
    ":::"
   ]
  },
  {
   "attachments": {},
   "cell_type": "markdown",
   "id": "executive-bryan",
   "metadata": {},
   "source": [
    "Below are the first few rows of the dataset."
   ]
  },
  {
   "cell_type": "code",
   "execution_count": 2,
   "id": "thermal-malta",
   "metadata": {},
   "outputs": [
    {
     "data": {
      "text/html": [
       "<div>\n",
       "<style scoped>\n",
       "    .dataframe tbody tr th:only-of-type {\n",
       "        vertical-align: middle;\n",
       "    }\n",
       "\n",
       "    .dataframe tbody tr th {\n",
       "        vertical-align: top;\n",
       "    }\n",
       "\n",
       "    .dataframe thead th {\n",
       "        text-align: right;\n",
       "    }\n",
       "</style>\n",
       "<table border=\"1\" class=\"dataframe\">\n",
       "  <thead>\n",
       "    <tr style=\"text-align: right;\">\n",
       "      <th></th>\n",
       "      <th>holiday</th>\n",
       "      <th>temp</th>\n",
       "      <th>rain_1h</th>\n",
       "      <th>snow_1h</th>\n",
       "      <th>clouds_all</th>\n",
       "      <th>weather_main</th>\n",
       "      <th>weather_description</th>\n",
       "      <th>date_time</th>\n",
       "      <th>traffic_volume</th>\n",
       "    </tr>\n",
       "  </thead>\n",
       "  <tbody>\n",
       "    <tr>\n",
       "      <th>0</th>\n",
       "      <td>None</td>\n",
       "      <td>288.28</td>\n",
       "      <td>0.0</td>\n",
       "      <td>0.0</td>\n",
       "      <td>40</td>\n",
       "      <td>Clouds</td>\n",
       "      <td>scattered clouds</td>\n",
       "      <td>2012-10-02 09:00:00</td>\n",
       "      <td>5545</td>\n",
       "    </tr>\n",
       "    <tr>\n",
       "      <th>1</th>\n",
       "      <td>None</td>\n",
       "      <td>289.36</td>\n",
       "      <td>0.0</td>\n",
       "      <td>0.0</td>\n",
       "      <td>75</td>\n",
       "      <td>Clouds</td>\n",
       "      <td>broken clouds</td>\n",
       "      <td>2012-10-02 10:00:00</td>\n",
       "      <td>4516</td>\n",
       "    </tr>\n",
       "    <tr>\n",
       "      <th>2</th>\n",
       "      <td>None</td>\n",
       "      <td>289.58</td>\n",
       "      <td>0.0</td>\n",
       "      <td>0.0</td>\n",
       "      <td>90</td>\n",
       "      <td>Clouds</td>\n",
       "      <td>overcast clouds</td>\n",
       "      <td>2012-10-02 11:00:00</td>\n",
       "      <td>4767</td>\n",
       "    </tr>\n",
       "    <tr>\n",
       "      <th>3</th>\n",
       "      <td>None</td>\n",
       "      <td>290.13</td>\n",
       "      <td>0.0</td>\n",
       "      <td>0.0</td>\n",
       "      <td>90</td>\n",
       "      <td>Clouds</td>\n",
       "      <td>overcast clouds</td>\n",
       "      <td>2012-10-02 12:00:00</td>\n",
       "      <td>5026</td>\n",
       "    </tr>\n",
       "    <tr>\n",
       "      <th>4</th>\n",
       "      <td>None</td>\n",
       "      <td>291.14</td>\n",
       "      <td>0.0</td>\n",
       "      <td>0.0</td>\n",
       "      <td>75</td>\n",
       "      <td>Clouds</td>\n",
       "      <td>broken clouds</td>\n",
       "      <td>2012-10-02 13:00:00</td>\n",
       "      <td>4918</td>\n",
       "    </tr>\n",
       "  </tbody>\n",
       "</table>\n",
       "</div>"
      ],
      "text/plain": [
       "  holiday    temp  rain_1h  snow_1h  clouds_all weather_main  \\\n",
       "0    None  288.28      0.0      0.0          40       Clouds   \n",
       "1    None  289.36      0.0      0.0          75       Clouds   \n",
       "2    None  289.58      0.0      0.0          90       Clouds   \n",
       "3    None  290.13      0.0      0.0          90       Clouds   \n",
       "4    None  291.14      0.0      0.0          75       Clouds   \n",
       "\n",
       "  weather_description            date_time  traffic_volume  \n",
       "0    scattered clouds  2012-10-02 09:00:00            5545  \n",
       "1       broken clouds  2012-10-02 10:00:00            4516  \n",
       "2     overcast clouds  2012-10-02 11:00:00            4767  \n",
       "3     overcast clouds  2012-10-02 12:00:00            5026  \n",
       "4       broken clouds  2012-10-02 13:00:00            4918  "
      ]
     },
     "execution_count": 2,
     "metadata": {},
     "output_type": "execute_result"
    }
   ],
   "source": [
    "highway = pd.read_csv(\"./private/2021-05-25-IHT-Files/Metro_Interstate_Traffic_Volume.csv\")\n",
    "\n",
    "highway.head()"
   ]
  },
  {
   "attachments": {},
   "cell_type": "markdown",
   "id": "miniature-metallic",
   "metadata": {},
   "source": [
    "There are columns about the date, traffic volume, weather, and occurrence of holidays. With this dataset, one could determine how traffic or weather changed over time. One could also determine how weather and holidays affected traffic volume.\n",
    "\n",
    "Let us view the information on each column below."
   ]
  },
  {
   "cell_type": "code",
   "execution_count": 3,
   "id": "available-introduction",
   "metadata": {},
   "outputs": [
    {
     "name": "stdout",
     "output_type": "stream",
     "text": [
      "<class 'pandas.core.frame.DataFrame'>\n",
      "RangeIndex: 48204 entries, 0 to 48203\n",
      "Data columns (total 9 columns):\n",
      " #   Column               Non-Null Count  Dtype  \n",
      "---  ------               --------------  -----  \n",
      " 0   holiday              48204 non-null  object \n",
      " 1   temp                 48204 non-null  float64\n",
      " 2   rain_1h              48204 non-null  float64\n",
      " 3   snow_1h              48204 non-null  float64\n",
      " 4   clouds_all           48204 non-null  int64  \n",
      " 5   weather_main         48204 non-null  object \n",
      " 6   weather_description  48204 non-null  object \n",
      " 7   date_time            48204 non-null  object \n",
      " 8   traffic_volume       48204 non-null  int64  \n",
      "dtypes: float64(3), int64(2), object(4)\n",
      "memory usage: 3.3+ MB\n"
     ]
    }
   ],
   "source": [
    "highway.info()"
   ]
  },
  {
   "attachments": {},
   "cell_type": "markdown",
   "id": "vertical-yesterday",
   "metadata": {},
   "source": [
    "It turns out that most of the numeric columns are `float64`, which refers to decimal numbers.\n",
    "\n",
    "The integer columns are `clouds_all`, which is in percentage, and `traffic volume`, which tells the number of cars.\n",
    "\n",
    "The `date_time` column is listed as an `object` or text column. Let's convert this to `datetime` format for ease of use."
   ]
  },
  {
   "cell_type": "code",
   "execution_count": 4,
   "id": "focal-endorsement",
   "metadata": {},
   "outputs": [
    {
     "data": {
      "text/plain": [
       "0       2012-10-02 09:00:00\n",
       "1       2012-10-02 10:00:00\n",
       "2       2012-10-02 11:00:00\n",
       "3       2012-10-02 12:00:00\n",
       "4       2012-10-02 13:00:00\n",
       "                ...        \n",
       "48199   2018-09-30 19:00:00\n",
       "48200   2018-09-30 20:00:00\n",
       "48201   2018-09-30 21:00:00\n",
       "48202   2018-09-30 22:00:00\n",
       "48203   2018-09-30 23:00:00\n",
       "Name: date_time, Length: 48204, dtype: datetime64[ns]"
      ]
     },
     "execution_count": 4,
     "metadata": {},
     "output_type": "execute_result"
    }
   ],
   "source": [
    "highway[\"date_time\"] = pd.to_datetime(highway[\"date_time\"])\n",
    "\n",
    "highway[\"date_time\"]"
   ]
  },
  {
   "attachments": {},
   "cell_type": "markdown",
   "id": "bigger-geometry",
   "metadata": {},
   "source": [
    "Lastly, all of the Non-Null Counts match the total number of datapoints (48204). This could mean that there are no missing values in the dataset. It could also mean that missing values are expressed in a non-conventional way."
   ]
  },
  {
   "attachments": {},
   "cell_type": "markdown",
   "id": "pursuant-function",
   "metadata": {},
   "source": [
    "# Data Cleaning\n",
    "\n",
    "## Duplicate Entries\n",
    "\n",
    "There may be duplicate entries, i.e., multiple entries for the same date and hour. These must be removed."
   ]
  },
  {
   "cell_type": "code",
   "execution_count": 5,
   "id": "incident-edmonton",
   "metadata": {},
   "outputs": [
    {
     "data": {
      "text/plain": [
       "(40575, 9)"
      ]
     },
     "execution_count": 5,
     "metadata": {},
     "output_type": "execute_result"
    }
   ],
   "source": [
    "highway.drop_duplicates(\n",
    "    subset = [\"date_time\"],\n",
    "    keep = \"first\",\n",
    "    inplace = True,\n",
    ")\n",
    "\n",
    "highway.shape"
   ]
  },
  {
   "attachments": {},
   "cell_type": "markdown",
   "id": "ordinary-bridal",
   "metadata": {},
   "source": [
    "There were 7629 duplicate entries removed from the original 48204 entries."
   ]
  },
  {
   "attachments": {},
   "cell_type": "markdown",
   "id": "recognized-dover",
   "metadata": {},
   "source": [
    "## Descriptive Statistics\n",
    "\n",
    "Next, we view the descriptive statistics in order to find abnormal values."
   ]
  },
  {
   "cell_type": "code",
   "execution_count": 6,
   "id": "magnetic-photograph",
   "metadata": {
    "scrolled": false
   },
   "outputs": [
    {
     "data": {
      "text/html": [
       "<div>\n",
       "<style scoped>\n",
       "    .dataframe tbody tr th:only-of-type {\n",
       "        vertical-align: middle;\n",
       "    }\n",
       "\n",
       "    .dataframe tbody tr th {\n",
       "        vertical-align: top;\n",
       "    }\n",
       "\n",
       "    .dataframe thead th {\n",
       "        text-align: right;\n",
       "    }\n",
       "</style>\n",
       "<table border=\"1\" class=\"dataframe\">\n",
       "  <thead>\n",
       "    <tr style=\"text-align: right;\">\n",
       "      <th></th>\n",
       "      <th>holiday</th>\n",
       "      <th>temp</th>\n",
       "      <th>rain_1h</th>\n",
       "      <th>snow_1h</th>\n",
       "      <th>clouds_all</th>\n",
       "      <th>weather_main</th>\n",
       "      <th>weather_description</th>\n",
       "      <th>date_time</th>\n",
       "      <th>traffic_volume</th>\n",
       "    </tr>\n",
       "  </thead>\n",
       "  <tbody>\n",
       "    <tr>\n",
       "      <th>count</th>\n",
       "      <td>40575</td>\n",
       "      <td>40575.000000</td>\n",
       "      <td>40575.000000</td>\n",
       "      <td>40575.000000</td>\n",
       "      <td>40575.000000</td>\n",
       "      <td>40575</td>\n",
       "      <td>40575</td>\n",
       "      <td>40575</td>\n",
       "      <td>40575.000000</td>\n",
       "    </tr>\n",
       "    <tr>\n",
       "      <th>unique</th>\n",
       "      <td>12</td>\n",
       "      <td>NaN</td>\n",
       "      <td>NaN</td>\n",
       "      <td>NaN</td>\n",
       "      <td>NaN</td>\n",
       "      <td>11</td>\n",
       "      <td>35</td>\n",
       "      <td>NaN</td>\n",
       "      <td>NaN</td>\n",
       "    </tr>\n",
       "    <tr>\n",
       "      <th>top</th>\n",
       "      <td>None</td>\n",
       "      <td>NaN</td>\n",
       "      <td>NaN</td>\n",
       "      <td>NaN</td>\n",
       "      <td>NaN</td>\n",
       "      <td>Clouds</td>\n",
       "      <td>sky is clear</td>\n",
       "      <td>NaN</td>\n",
       "      <td>NaN</td>\n",
       "    </tr>\n",
       "    <tr>\n",
       "      <th>freq</th>\n",
       "      <td>40522</td>\n",
       "      <td>NaN</td>\n",
       "      <td>NaN</td>\n",
       "      <td>NaN</td>\n",
       "      <td>NaN</td>\n",
       "      <td>15123</td>\n",
       "      <td>11642</td>\n",
       "      <td>NaN</td>\n",
       "      <td>NaN</td>\n",
       "    </tr>\n",
       "    <tr>\n",
       "      <th>mean</th>\n",
       "      <td>NaN</td>\n",
       "      <td>281.316763</td>\n",
       "      <td>0.318632</td>\n",
       "      <td>0.000117</td>\n",
       "      <td>44.199162</td>\n",
       "      <td>NaN</td>\n",
       "      <td>NaN</td>\n",
       "      <td>2015-12-23 22:16:28.835489792</td>\n",
       "      <td>3290.650474</td>\n",
       "    </tr>\n",
       "    <tr>\n",
       "      <th>min</th>\n",
       "      <td>NaN</td>\n",
       "      <td>0.000000</td>\n",
       "      <td>0.000000</td>\n",
       "      <td>0.000000</td>\n",
       "      <td>0.000000</td>\n",
       "      <td>NaN</td>\n",
       "      <td>NaN</td>\n",
       "      <td>2012-10-02 09:00:00</td>\n",
       "      <td>0.000000</td>\n",
       "    </tr>\n",
       "    <tr>\n",
       "      <th>25%</th>\n",
       "      <td>NaN</td>\n",
       "      <td>271.840000</td>\n",
       "      <td>0.000000</td>\n",
       "      <td>0.000000</td>\n",
       "      <td>1.000000</td>\n",
       "      <td>NaN</td>\n",
       "      <td>NaN</td>\n",
       "      <td>2014-02-02 19:30:00</td>\n",
       "      <td>1248.500000</td>\n",
       "    </tr>\n",
       "    <tr>\n",
       "      <th>50%</th>\n",
       "      <td>NaN</td>\n",
       "      <td>282.860000</td>\n",
       "      <td>0.000000</td>\n",
       "      <td>0.000000</td>\n",
       "      <td>40.000000</td>\n",
       "      <td>NaN</td>\n",
       "      <td>NaN</td>\n",
       "      <td>2016-06-02 14:00:00</td>\n",
       "      <td>3427.000000</td>\n",
       "    </tr>\n",
       "    <tr>\n",
       "      <th>75%</th>\n",
       "      <td>NaN</td>\n",
       "      <td>292.280000</td>\n",
       "      <td>0.000000</td>\n",
       "      <td>0.000000</td>\n",
       "      <td>90.000000</td>\n",
       "      <td>NaN</td>\n",
       "      <td>NaN</td>\n",
       "      <td>2017-08-02 23:30:00</td>\n",
       "      <td>4952.000000</td>\n",
       "    </tr>\n",
       "    <tr>\n",
       "      <th>max</th>\n",
       "      <td>NaN</td>\n",
       "      <td>310.070000</td>\n",
       "      <td>9831.300000</td>\n",
       "      <td>0.510000</td>\n",
       "      <td>100.000000</td>\n",
       "      <td>NaN</td>\n",
       "      <td>NaN</td>\n",
       "      <td>2018-09-30 23:00:00</td>\n",
       "      <td>7280.000000</td>\n",
       "    </tr>\n",
       "    <tr>\n",
       "      <th>std</th>\n",
       "      <td>NaN</td>\n",
       "      <td>13.816618</td>\n",
       "      <td>48.812640</td>\n",
       "      <td>0.005676</td>\n",
       "      <td>38.683447</td>\n",
       "      <td>NaN</td>\n",
       "      <td>NaN</td>\n",
       "      <td>NaN</td>\n",
       "      <td>1984.772909</td>\n",
       "    </tr>\n",
       "  </tbody>\n",
       "</table>\n",
       "</div>"
      ],
      "text/plain": [
       "       holiday          temp       rain_1h       snow_1h    clouds_all  \\\n",
       "count    40575  40575.000000  40575.000000  40575.000000  40575.000000   \n",
       "unique      12           NaN           NaN           NaN           NaN   \n",
       "top       None           NaN           NaN           NaN           NaN   \n",
       "freq     40522           NaN           NaN           NaN           NaN   \n",
       "mean       NaN    281.316763      0.318632      0.000117     44.199162   \n",
       "min        NaN      0.000000      0.000000      0.000000      0.000000   \n",
       "25%        NaN    271.840000      0.000000      0.000000      1.000000   \n",
       "50%        NaN    282.860000      0.000000      0.000000     40.000000   \n",
       "75%        NaN    292.280000      0.000000      0.000000     90.000000   \n",
       "max        NaN    310.070000   9831.300000      0.510000    100.000000   \n",
       "std        NaN     13.816618     48.812640      0.005676     38.683447   \n",
       "\n",
       "       weather_main weather_description                      date_time  \\\n",
       "count         40575               40575                          40575   \n",
       "unique           11                  35                            NaN   \n",
       "top          Clouds        sky is clear                            NaN   \n",
       "freq          15123               11642                            NaN   \n",
       "mean            NaN                 NaN  2015-12-23 22:16:28.835489792   \n",
       "min             NaN                 NaN            2012-10-02 09:00:00   \n",
       "25%             NaN                 NaN            2014-02-02 19:30:00   \n",
       "50%             NaN                 NaN            2016-06-02 14:00:00   \n",
       "75%             NaN                 NaN            2017-08-02 23:30:00   \n",
       "max             NaN                 NaN            2018-09-30 23:00:00   \n",
       "std             NaN                 NaN                            NaN   \n",
       "\n",
       "        traffic_volume  \n",
       "count     40575.000000  \n",
       "unique             NaN  \n",
       "top                NaN  \n",
       "freq               NaN  \n",
       "mean       3290.650474  \n",
       "min           0.000000  \n",
       "25%        1248.500000  \n",
       "50%        3427.000000  \n",
       "75%        4952.000000  \n",
       "max        7280.000000  \n",
       "std        1984.772909  "
      ]
     },
     "execution_count": 6,
     "metadata": {},
     "output_type": "execute_result"
    }
   ],
   "source": [
    "highway.describe(\n",
    "    include = \"all\",\n",
    "    datetime_is_numeric = True,\n",
    ")"
   ]
  },
  {
   "attachments": {},
   "cell_type": "markdown",
   "id": "studied-savage",
   "metadata": {},
   "source": [
    "Most of the descriptives make sense, except for a few details:\n",
    "\n",
    "- The minimum `temp` is 0 Kelvin. This is called [absolute zero](https://www.britannica.com/science/absolute-zero), the lowest possible temperature of any object, equivalent to $-273.15^{\\circ}\\text{C}$. It is unreasonable for the I-94 highway to reach such a low temperature, even in winter.\n",
    "-  The maximum `rain_1h` is 9,831 mm, or 9.8 meters. Either this indicates a very high flood, or this is inaccurate.\n",
    "- The minimum `traffic_volume` is 0 cars. This may be possible, but it is still best to inspect the data.\n",
    "\n"
   ]
  },
  {
   "attachments": {},
   "cell_type": "markdown",
   "id": "hidden-knock",
   "metadata": {},
   "source": [
    "## Temperature Outliers\n",
    "\n",
    "Let us graph a boxplot in order to find outliers among the temperature values."
   ]
  },
  {
   "cell_type": "code",
   "execution_count": 7,
   "id": "thirty-quest",
   "metadata": {},
   "outputs": [
    {
     "data": {
      "image/png": "[encoded data removed]",
      "text/plain": [
       "<Figure size 432x288 with 1 Axes>"
      ]
     },
     "metadata": {
      "needs_background": "light"
     },
     "output_type": "display_data"
    }
   ],
   "source": [
    "sns.boxplot(\n",
    "    data = highway,\n",
    "    y = \"temp\",\n",
    ")\n",
    "\n",
    "plt.title(\"Temperature on I-94 (Kelvin)\")\n",
    "plt.ylabel(\"Temperature (Kelvin)\")\n",
    "plt.grid(True)\n",
    "plt.show()"
   ]
  },
  {
   "attachments": {},
   "cell_type": "markdown",
   "id": "bizarre-deputy",
   "metadata": {},
   "source": [
    "Indeed, most values fall between 250 Kelvin and 300 Kelvin ($-23.15^{\\circ}\\text{C}$ and $26.85^{\\circ}\\text{C}$). The only outliers are at 0 Kelvin. This supports the idea that the zeroes are placeholders for missing values.\n",
    "\n",
    "How many missing values are there?"
   ]
  },
  {
   "cell_type": "code",
   "execution_count": 8,
   "id": "inner-authorization",
   "metadata": {},
   "outputs": [
    {
     "data": {
      "text/plain": [
       "(-0.311, 31.007]         10\n",
       "(31.007, 62.014]          0\n",
       "(62.014, 93.021]          0\n",
       "(93.021, 124.028]         0\n",
       "(124.028, 155.035]        0\n",
       "(155.035, 186.042]        0\n",
       "(186.042, 217.049]        0\n",
       "(217.049, 248.056]       99\n",
       "(248.056, 279.063]    17372\n",
       "(279.063, 310.07]     23094\n",
       "Name: temp, dtype: int64"
      ]
     },
     "execution_count": 8,
     "metadata": {},
     "output_type": "execute_result"
    }
   ],
   "source": [
    "(highway[\"temp\"]\n",
    " .value_counts(bins = 10)\n",
    " .sort_index()\n",
    ")"
   ]
  },
  {
   "attachments": {},
   "cell_type": "markdown",
   "id": "coral-decade",
   "metadata": {},
   "source": [
    "Only 10 datapoints have zero-values in `temp`. Thus, these can be dropped from the dataset."
   ]
  },
  {
   "cell_type": "code",
   "execution_count": 9,
   "id": "understanding-allowance",
   "metadata": {},
   "outputs": [
    {
     "data": {
      "text/plain": [
       "(40565, 9)"
      ]
     },
     "execution_count": 9,
     "metadata": {},
     "output_type": "execute_result"
    }
   ],
   "source": [
    "highway = highway.loc[highway[\"temp\"] != 0]\n",
    "\n",
    "highway.shape"
   ]
  },
  {
   "attachments": {},
   "cell_type": "markdown",
   "id": "concerned-uncertainty",
   "metadata": {},
   "source": [
    "Now, there are 40565 rows in the dataset. Temperature outliers have been removed."
   ]
  },
  {
   "attachments": {},
   "cell_type": "markdown",
   "id": "extended-frequency",
   "metadata": {},
   "source": [
    "## Rain Level Outliers\n",
    "\n",
    "Similarly, we graph a boxplot below for the `rain_1h` column."
   ]
  },
  {
   "cell_type": "code",
   "execution_count": 10,
   "id": "harmful-meter",
   "metadata": {},
   "outputs": [
    {
     "data": {
      "image/png": "[encoded data removed]",
      "text/plain": [
       "<Figure size 432x288 with 1 Axes>"
      ]
     },
     "metadata": {
      "needs_background": "light"
     },
     "output_type": "display_data"
    }
   ],
   "source": [
    "sns.boxplot(\n",
    "    data = highway,\n",
    "    y = \"rain_1h\",\n",
    ")\n",
    "\n",
    "plt.title(\"Hourly Rain Level on I-94 (mm)\")\n",
    "plt.ylabel(\"Hourly Rain Level (mm)\")\n",
    "plt.grid(True)\n",
    "plt.show()"
   ]
  },
  {
   "attachments": {},
   "cell_type": "markdown",
   "id": "convenient-vertical",
   "metadata": {},
   "source": [
    "Most of the values are close to 0 mm, and there are only a few outliers near 10,000 mm. How many outliers are there?"
   ]
  },
  {
   "cell_type": "code",
   "execution_count": 11,
   "id": "major-bhutan",
   "metadata": {},
   "outputs": [
    {
     "data": {
      "text/plain": [
       "(-9.831999999999999, 983.13]    40564\n",
       "(983.13, 1966.26]                   0\n",
       "(1966.26, 2949.39]                  0\n",
       "(2949.39, 3932.52]                  0\n",
       "(3932.52, 4915.65]                  0\n",
       "(4915.65, 5898.78]                  0\n",
       "(5898.78, 6881.91]                  0\n",
       "(6881.91, 7865.04]                  0\n",
       "(7865.04, 8848.17]                  0\n",
       "(8848.17, 9831.3]                   1\n",
       "Name: rain_1h, dtype: int64"
      ]
     },
     "execution_count": 11,
     "metadata": {},
     "output_type": "execute_result"
    }
   ],
   "source": [
    "highway[\"rain_1h\"].value_counts(bins = 10).sort_index()"
   ]
  },
  {
   "attachments": {},
   "cell_type": "markdown",
   "id": "quarterly-vancouver",
   "metadata": {},
   "source": [
    "There is only 1 outlying datapoint. Since a 9.8 m flood level is so unrealistic given that most of the other values are small, this datapoint will be dropped."
   ]
  },
  {
   "cell_type": "code",
   "execution_count": 12,
   "id": "coastal-helicopter",
   "metadata": {},
   "outputs": [
    {
     "data": {
      "text/plain": [
       "(40564, 9)"
      ]
     },
     "execution_count": 12,
     "metadata": {},
     "output_type": "execute_result"
    }
   ],
   "source": [
    "highway = highway.loc[highway[\"rain_1h\"] < 1000]\n",
    "\n",
    "highway.shape"
   ]
  },
  {
   "attachments": {},
   "cell_type": "markdown",
   "id": "unavailable-providence",
   "metadata": {},
   "source": [
    "The dataset is left with 40564 rows."
   ]
  },
  {
   "attachments": {},
   "cell_type": "markdown",
   "id": "favorite-today",
   "metadata": {},
   "source": [
    "## Traffic Volume Outliers\n",
    "\n",
    "Below is the boxplot of traffic volume values. We want to see if the zero-values are reasonable or if these are distant outliers."
   ]
  },
  {
   "cell_type": "code",
   "execution_count": 13,
   "id": "alternative-rally",
   "metadata": {},
   "outputs": [
    {
     "data": {
      "image/png": "[encoded data removed]",
      "text/plain": [
       "<Figure size 432x288 with 1 Axes>"
      ]
     },
     "metadata": {
      "needs_background": "light"
     },
     "output_type": "display_data"
    }
   ],
   "source": [
    "sns.boxplot(\n",
    "    data = highway,\n",
    "    y = \"traffic_volume\",\n",
    ")\n",
    "\n",
    "plt.title(\"Traffic Volume on I-94\")\n",
    "plt.ylabel(\"Hourly Number of Cars\")\n",
    "plt.grid(True)\n",
    "plt.show()"
   ]
  },
  {
   "attachments": {},
   "cell_type": "markdown",
   "id": "coral-stylus",
   "metadata": {},
   "source": [
    "The boxplot shows that 0 is within the approximate lower bound. It is not too distant from most of the datapoints to be considered an outlier.\n",
    "\n",
    "Let us view a histogram to understand the distribution better."
   ]
  },
  {
   "cell_type": "code",
   "execution_count": 14,
   "id": "conditional-logistics",
   "metadata": {},
   "outputs": [
    {
     "data": {
      "image/png": "[encoded data removed]",
      "text/plain": [
       "<Figure size 432x288 with 1 Axes>"
      ]
     },
     "metadata": {
      "needs_background": "light"
     },
     "output_type": "display_data"
    }
   ],
   "source": [
    "sns.histplot(\n",
    "    data = highway,\n",
    "    x = \"traffic_volume\",\n",
    ")\n",
    "\n",
    "plt.title(\"Traffic Volume on I-94\")\n",
    "plt.xlabel(\"Hourly Number of Cars\")\n",
    "plt.grid(True)\n",
    "plt.show()"
   ]
  },
  {
   "attachments": {},
   "cell_type": "markdown",
   "id": "broad-collar",
   "metadata": {},
   "source": [
    "This is an unusual distribution. There appear to be 3 peaks:\n",
    "\n",
    "- less than 1000 cars\n",
    "- around 3000 cars\n",
    "- around 4500 cars\n",
    "\n",
    "It is common that less than 1000 cars pass through this I-94 station per hour. Therefore, it is likely that the 0-values are not outliers and do not need to be dropped from the dataset.\n",
    "\n",
    "Data cleaning is done, so here are the new descriptive statistics for the dataset."
   ]
  },
  {
   "cell_type": "code",
   "execution_count": 15,
   "id": "british-leave",
   "metadata": {},
   "outputs": [
    {
     "data": {
      "text/html": [
       "<div>\n",
       "<style scoped>\n",
       "    .dataframe tbody tr th:only-of-type {\n",
       "        vertical-align: middle;\n",
       "    }\n",
       "\n",
       "    .dataframe tbody tr th {\n",
       "        vertical-align: top;\n",
       "    }\n",
       "\n",
       "    .dataframe thead th {\n",
       "        text-align: right;\n",
       "    }\n",
       "</style>\n",
       "<table border=\"1\" class=\"dataframe\">\n",
       "  <thead>\n",
       "    <tr style=\"text-align: right;\">\n",
       "      <th></th>\n",
       "      <th>holiday</th>\n",
       "      <th>temp</th>\n",
       "      <th>rain_1h</th>\n",
       "      <th>snow_1h</th>\n",
       "      <th>clouds_all</th>\n",
       "      <th>weather_main</th>\n",
       "      <th>weather_description</th>\n",
       "      <th>date_time</th>\n",
       "      <th>traffic_volume</th>\n",
       "    </tr>\n",
       "  </thead>\n",
       "  <tbody>\n",
       "    <tr>\n",
       "      <th>count</th>\n",
       "      <td>40564</td>\n",
       "      <td>40564.000000</td>\n",
       "      <td>40564.000000</td>\n",
       "      <td>40564.000000</td>\n",
       "      <td>40564.000000</td>\n",
       "      <td>40564</td>\n",
       "      <td>40564</td>\n",
       "      <td>40564</td>\n",
       "      <td>40564.000000</td>\n",
       "    </tr>\n",
       "    <tr>\n",
       "      <th>unique</th>\n",
       "      <td>12</td>\n",
       "      <td>NaN</td>\n",
       "      <td>NaN</td>\n",
       "      <td>NaN</td>\n",
       "      <td>NaN</td>\n",
       "      <td>11</td>\n",
       "      <td>35</td>\n",
       "      <td>NaN</td>\n",
       "      <td>NaN</td>\n",
       "    </tr>\n",
       "    <tr>\n",
       "      <th>top</th>\n",
       "      <td>None</td>\n",
       "      <td>NaN</td>\n",
       "      <td>NaN</td>\n",
       "      <td>NaN</td>\n",
       "      <td>NaN</td>\n",
       "      <td>Clouds</td>\n",
       "      <td>sky is clear</td>\n",
       "      <td>NaN</td>\n",
       "      <td>NaN</td>\n",
       "    </tr>\n",
       "    <tr>\n",
       "      <th>freq</th>\n",
       "      <td>40511</td>\n",
       "      <td>NaN</td>\n",
       "      <td>NaN</td>\n",
       "      <td>NaN</td>\n",
       "      <td>NaN</td>\n",
       "      <td>15123</td>\n",
       "      <td>11632</td>\n",
       "      <td>NaN</td>\n",
       "      <td>NaN</td>\n",
       "    </tr>\n",
       "    <tr>\n",
       "      <th>mean</th>\n",
       "      <td>NaN</td>\n",
       "      <td>281.385602</td>\n",
       "      <td>0.076353</td>\n",
       "      <td>0.000117</td>\n",
       "      <td>44.209299</td>\n",
       "      <td>NaN</td>\n",
       "      <td>NaN</td>\n",
       "      <td>2015-12-24 02:14:28.937974528</td>\n",
       "      <td>3291.081402</td>\n",
       "    </tr>\n",
       "    <tr>\n",
       "      <th>min</th>\n",
       "      <td>NaN</td>\n",
       "      <td>243.390000</td>\n",
       "      <td>0.000000</td>\n",
       "      <td>0.000000</td>\n",
       "      <td>0.000000</td>\n",
       "      <td>NaN</td>\n",
       "      <td>NaN</td>\n",
       "      <td>2012-10-02 09:00:00</td>\n",
       "      <td>0.000000</td>\n",
       "    </tr>\n",
       "    <tr>\n",
       "      <th>25%</th>\n",
       "      <td>NaN</td>\n",
       "      <td>271.850000</td>\n",
       "      <td>0.000000</td>\n",
       "      <td>0.000000</td>\n",
       "      <td>1.000000</td>\n",
       "      <td>NaN</td>\n",
       "      <td>NaN</td>\n",
       "      <td>2014-02-03 02:45:00</td>\n",
       "      <td>1249.750000</td>\n",
       "    </tr>\n",
       "    <tr>\n",
       "      <th>50%</th>\n",
       "      <td>NaN</td>\n",
       "      <td>282.867500</td>\n",
       "      <td>0.000000</td>\n",
       "      <td>0.000000</td>\n",
       "      <td>40.000000</td>\n",
       "      <td>NaN</td>\n",
       "      <td>NaN</td>\n",
       "      <td>2016-06-02 19:30:00</td>\n",
       "      <td>3429.000000</td>\n",
       "    </tr>\n",
       "    <tr>\n",
       "      <th>75%</th>\n",
       "      <td>NaN</td>\n",
       "      <td>292.280000</td>\n",
       "      <td>0.000000</td>\n",
       "      <td>0.000000</td>\n",
       "      <td>90.000000</td>\n",
       "      <td>NaN</td>\n",
       "      <td>NaN</td>\n",
       "      <td>2017-08-03 02:15:00</td>\n",
       "      <td>4952.000000</td>\n",
       "    </tr>\n",
       "    <tr>\n",
       "      <th>max</th>\n",
       "      <td>NaN</td>\n",
       "      <td>310.070000</td>\n",
       "      <td>55.630000</td>\n",
       "      <td>0.510000</td>\n",
       "      <td>100.000000</td>\n",
       "      <td>NaN</td>\n",
       "      <td>NaN</td>\n",
       "      <td>2018-09-30 23:00:00</td>\n",
       "      <td>7280.000000</td>\n",
       "    </tr>\n",
       "    <tr>\n",
       "      <th>std</th>\n",
       "      <td>NaN</td>\n",
       "      <td>13.092942</td>\n",
       "      <td>0.769729</td>\n",
       "      <td>0.005677</td>\n",
       "      <td>38.682163</td>\n",
       "      <td>NaN</td>\n",
       "      <td>NaN</td>\n",
       "      <td>NaN</td>\n",
       "      <td>1984.638849</td>\n",
       "    </tr>\n",
       "  </tbody>\n",
       "</table>\n",
       "</div>"
      ],
      "text/plain": [
       "       holiday          temp       rain_1h       snow_1h    clouds_all  \\\n",
       "count    40564  40564.000000  40564.000000  40564.000000  40564.000000   \n",
       "unique      12           NaN           NaN           NaN           NaN   \n",
       "top       None           NaN           NaN           NaN           NaN   \n",
       "freq     40511           NaN           NaN           NaN           NaN   \n",
       "mean       NaN    281.385602      0.076353      0.000117     44.209299   \n",
       "min        NaN    243.390000      0.000000      0.000000      0.000000   \n",
       "25%        NaN    271.850000      0.000000      0.000000      1.000000   \n",
       "50%        NaN    282.867500      0.000000      0.000000     40.000000   \n",
       "75%        NaN    292.280000      0.000000      0.000000     90.000000   \n",
       "max        NaN    310.070000     55.630000      0.510000    100.000000   \n",
       "std        NaN     13.092942      0.769729      0.005677     38.682163   \n",
       "\n",
       "       weather_main weather_description                      date_time  \\\n",
       "count         40564               40564                          40564   \n",
       "unique           11                  35                            NaN   \n",
       "top          Clouds        sky is clear                            NaN   \n",
       "freq          15123               11632                            NaN   \n",
       "mean            NaN                 NaN  2015-12-24 02:14:28.937974528   \n",
       "min             NaN                 NaN            2012-10-02 09:00:00   \n",
       "25%             NaN                 NaN            2014-02-03 02:45:00   \n",
       "50%             NaN                 NaN            2016-06-02 19:30:00   \n",
       "75%             NaN                 NaN            2017-08-03 02:15:00   \n",
       "max             NaN                 NaN            2018-09-30 23:00:00   \n",
       "std             NaN                 NaN                            NaN   \n",
       "\n",
       "        traffic_volume  \n",
       "count     40564.000000  \n",
       "unique             NaN  \n",
       "top                NaN  \n",
       "freq               NaN  \n",
       "mean       3291.081402  \n",
       "min           0.000000  \n",
       "25%        1249.750000  \n",
       "50%        3429.000000  \n",
       "75%        4952.000000  \n",
       "max        7280.000000  \n",
       "std        1984.638849  "
      ]
     },
     "execution_count": 15,
     "metadata": {},
     "output_type": "execute_result"
    }
   ],
   "source": [
    "highway.describe(\n",
    "    include = \"all\",\n",
    "    datetime_is_numeric = True,\n",
    ")"
   ]
  },
  {
   "attachments": {},
   "cell_type": "markdown",
   "id": "listed-employee",
   "metadata": {},
   "source": [
    "Due to data cleaning, the following have changed:\n",
    "\n",
    "- Minimum `temp` is 243.39 Kelvin\n",
    "- Maximum `rain_1h` is 55.63 mm\n",
    "\n",
    "These are more reasonable values than before."
   ]
  },
  {
   "attachments": {},
   "cell_type": "markdown",
   "id": "random-national",
   "metadata": {},
   "source": [
    "# Exploratory Data Analysis\n",
    "\n",
    "## Traffic Volume: Day vs. Night\n",
    "\n",
    "At the end of the data cleaning, we noticed that there were 3 peaks (most common values) in the traffic volume data. It is possible that this can be explained by comparing traffic volume between daytime and nighttime.\n",
    "\n",
    "In order to do this, we can make a new column `half` which labels each entry as \"day\" or \"night.\" We will consider daytime to be from 6:00 AM to 6:00 PM, or 6:00 to 18:00. "
   ]
  },
  {
   "cell_type": "code",
   "execution_count": 16,
   "id": "deluxe-bandwidth",
   "metadata": {},
   "outputs": [
    {
     "data": {
      "text/plain": [
       "night    20418\n",
       "day      20146\n",
       "Name: half, dtype: int64"
      ]
     },
     "execution_count": 16,
     "metadata": {},
     "output_type": "execute_result"
    }
   ],
   "source": [
    "highway[\"half\"] = (\n",
    "    highway[\"date_time\"]\n",
    "    .dt.hour.between(6, 17) # Boolean Series where True represents day\n",
    "    .replace({True: \"day\", False: \"night\"}) # Replace booleans with strings\n",
    ")\n",
    "\n",
    "highway[\"half\"].value_counts()"
   ]
  },
  {
   "attachments": {},
   "cell_type": "markdown",
   "id": "photographic-trance",
   "metadata": {},
   "source": [
    "There are 20418 nighttime entries and 20146 daytime entries.\n",
    "\n",
    "Now we can compare the day and night histograms for traffic volume."
   ]
  },
  {
   "cell_type": "code",
   "execution_count": 17,
   "id": "prostate-velvet",
   "metadata": {},
   "outputs": [
    {
     "data": {
      "image/png": "[encoded data removed]",
      "text/plain": [
       "<Figure size 432x288 with 1 Axes>"
      ]
     },
     "metadata": {
      "needs_background": "light"
     },
     "output_type": "display_data"
    }
   ],
   "source": [
    "sns.histplot(\n",
    "    data = highway,\n",
    "    x = \"traffic_volume\",\n",
    "    hue = \"half\",\n",
    "    palette = \"RdBu\",\n",
    ")\n",
    "\n",
    "plt.title(\"Traffic Volume on I-94: Day and Night\")\n",
    "plt.xlabel(\"Hourly Number of Cars\")\n",
    "plt.grid(True)\n",
    "plt.show()"
   ]
  },
  {
   "attachments": {},
   "cell_type": "markdown",
   "id": "constitutional-string",
   "metadata": {},
   "source": [
    "The histogram above shows that:\n",
    "\n",
    "- In the nighttime, the traffic volume is commonly under 1000 or around 3000.\n",
    "- In the daytime, the traffic volume is commonly around 5000.\n",
    "\n",
    "Therefore, **traffic is generally heavier in the daytime**, between 6:00 AM and 6:00 PM.\n",
    "\n",
    "Since we want to determine what influences heavy traffic, it would be best to focus our analysis on the daytime entries. Thus, such entries will be put in a separate DataFrame called `daytime`."
   ]
  },
  {
   "cell_type": "code",
   "execution_count": 18,
   "id": "natural-youth",
   "metadata": {},
   "outputs": [
    {
     "data": {
      "text/html": [
       "<div>\n",
       "<style scoped>\n",
       "    .dataframe tbody tr th:only-of-type {\n",
       "        vertical-align: middle;\n",
       "    }\n",
       "\n",
       "    .dataframe tbody tr th {\n",
       "        vertical-align: top;\n",
       "    }\n",
       "\n",
       "    .dataframe thead th {\n",
       "        text-align: right;\n",
       "    }\n",
       "</style>\n",
       "<table border=\"1\" class=\"dataframe\">\n",
       "  <thead>\n",
       "    <tr style=\"text-align: right;\">\n",
       "      <th></th>\n",
       "      <th>holiday</th>\n",
       "      <th>temp</th>\n",
       "      <th>rain_1h</th>\n",
       "      <th>snow_1h</th>\n",
       "      <th>clouds_all</th>\n",
       "      <th>weather_main</th>\n",
       "      <th>weather_description</th>\n",
       "      <th>date_time</th>\n",
       "      <th>traffic_volume</th>\n",
       "    </tr>\n",
       "  </thead>\n",
       "  <tbody>\n",
       "    <tr>\n",
       "      <th>count</th>\n",
       "      <td>20146</td>\n",
       "      <td>20146.000000</td>\n",
       "      <td>20146.000000</td>\n",
       "      <td>20146.000000</td>\n",
       "      <td>20146.000000</td>\n",
       "      <td>20146</td>\n",
       "      <td>20146</td>\n",
       "      <td>20146</td>\n",
       "      <td>20146.000000</td>\n",
       "    </tr>\n",
       "    <tr>\n",
       "      <th>unique</th>\n",
       "      <td>1</td>\n",
       "      <td>NaN</td>\n",
       "      <td>NaN</td>\n",
       "      <td>NaN</td>\n",
       "      <td>NaN</td>\n",
       "      <td>10</td>\n",
       "      <td>33</td>\n",
       "      <td>NaN</td>\n",
       "      <td>NaN</td>\n",
       "    </tr>\n",
       "    <tr>\n",
       "      <th>top</th>\n",
       "      <td>None</td>\n",
       "      <td>NaN</td>\n",
       "      <td>NaN</td>\n",
       "      <td>NaN</td>\n",
       "      <td>NaN</td>\n",
       "      <td>Clouds</td>\n",
       "      <td>sky is clear</td>\n",
       "      <td>NaN</td>\n",
       "      <td>NaN</td>\n",
       "    </tr>\n",
       "    <tr>\n",
       "      <th>freq</th>\n",
       "      <td>20146</td>\n",
       "      <td>NaN</td>\n",
       "      <td>NaN</td>\n",
       "      <td>NaN</td>\n",
       "      <td>NaN</td>\n",
       "      <td>8360</td>\n",
       "      <td>4971</td>\n",
       "      <td>NaN</td>\n",
       "      <td>NaN</td>\n",
       "    </tr>\n",
       "    <tr>\n",
       "      <th>mean</th>\n",
       "      <td>NaN</td>\n",
       "      <td>282.018771</td>\n",
       "      <td>0.076210</td>\n",
       "      <td>0.000124</td>\n",
       "      <td>47.342500</td>\n",
       "      <td>NaN</td>\n",
       "      <td>NaN</td>\n",
       "      <td>2015-12-26 11:32:49.582050816</td>\n",
       "      <td>4784.630100</td>\n",
       "    </tr>\n",
       "    <tr>\n",
       "      <th>min</th>\n",
       "      <td>NaN</td>\n",
       "      <td>243.390000</td>\n",
       "      <td>0.000000</td>\n",
       "      <td>0.000000</td>\n",
       "      <td>0.000000</td>\n",
       "      <td>NaN</td>\n",
       "      <td>NaN</td>\n",
       "      <td>2012-10-02 09:00:00</td>\n",
       "      <td>1.000000</td>\n",
       "    </tr>\n",
       "    <tr>\n",
       "      <th>25%</th>\n",
       "      <td>NaN</td>\n",
       "      <td>272.220000</td>\n",
       "      <td>0.000000</td>\n",
       "      <td>0.000000</td>\n",
       "      <td>1.000000</td>\n",
       "      <td>NaN</td>\n",
       "      <td>NaN</td>\n",
       "      <td>2014-02-04 08:15:00</td>\n",
       "      <td>4311.000000</td>\n",
       "    </tr>\n",
       "    <tr>\n",
       "      <th>50%</th>\n",
       "      <td>NaN</td>\n",
       "      <td>283.640000</td>\n",
       "      <td>0.000000</td>\n",
       "      <td>0.000000</td>\n",
       "      <td>40.000000</td>\n",
       "      <td>NaN</td>\n",
       "      <td>NaN</td>\n",
       "      <td>2016-06-07 11:30:00</td>\n",
       "      <td>4943.000000</td>\n",
       "    </tr>\n",
       "    <tr>\n",
       "      <th>75%</th>\n",
       "      <td>NaN</td>\n",
       "      <td>293.370000</td>\n",
       "      <td>0.000000</td>\n",
       "      <td>0.000000</td>\n",
       "      <td>90.000000</td>\n",
       "      <td>NaN</td>\n",
       "      <td>NaN</td>\n",
       "      <td>2017-08-06 09:45:00</td>\n",
       "      <td>5678.000000</td>\n",
       "    </tr>\n",
       "    <tr>\n",
       "      <th>max</th>\n",
       "      <td>NaN</td>\n",
       "      <td>310.070000</td>\n",
       "      <td>44.450000</td>\n",
       "      <td>0.510000</td>\n",
       "      <td>100.000000</td>\n",
       "      <td>NaN</td>\n",
       "      <td>NaN</td>\n",
       "      <td>2018-09-30 17:00:00</td>\n",
       "      <td>7280.000000</td>\n",
       "    </tr>\n",
       "    <tr>\n",
       "      <th>std</th>\n",
       "      <td>NaN</td>\n",
       "      <td>13.330019</td>\n",
       "      <td>0.737429</td>\n",
       "      <td>0.005673</td>\n",
       "      <td>37.808456</td>\n",
       "      <td>NaN</td>\n",
       "      <td>NaN</td>\n",
       "      <td>NaN</td>\n",
       "      <td>1293.502893</td>\n",
       "    </tr>\n",
       "  </tbody>\n",
       "</table>\n",
       "</div>"
      ],
      "text/plain": [
       "       holiday          temp       rain_1h       snow_1h    clouds_all  \\\n",
       "count    20146  20146.000000  20146.000000  20146.000000  20146.000000   \n",
       "unique       1           NaN           NaN           NaN           NaN   \n",
       "top       None           NaN           NaN           NaN           NaN   \n",
       "freq     20146           NaN           NaN           NaN           NaN   \n",
       "mean       NaN    282.018771      0.076210      0.000124     47.342500   \n",
       "min        NaN    243.390000      0.000000      0.000000      0.000000   \n",
       "25%        NaN    272.220000      0.000000      0.000000      1.000000   \n",
       "50%        NaN    283.640000      0.000000      0.000000     40.000000   \n",
       "75%        NaN    293.370000      0.000000      0.000000     90.000000   \n",
       "max        NaN    310.070000     44.450000      0.510000    100.000000   \n",
       "std        NaN     13.330019      0.737429      0.005673     37.808456   \n",
       "\n",
       "       weather_main weather_description                      date_time  \\\n",
       "count         20146               20146                          20146   \n",
       "unique           10                  33                            NaN   \n",
       "top          Clouds        sky is clear                            NaN   \n",
       "freq           8360                4971                            NaN   \n",
       "mean            NaN                 NaN  2015-12-26 11:32:49.582050816   \n",
       "min             NaN                 NaN            2012-10-02 09:00:00   \n",
       "25%             NaN                 NaN            2014-02-04 08:15:00   \n",
       "50%             NaN                 NaN            2016-06-07 11:30:00   \n",
       "75%             NaN                 NaN            2017-08-06 09:45:00   \n",
       "max             NaN                 NaN            2018-09-30 17:00:00   \n",
       "std             NaN                 NaN                            NaN   \n",
       "\n",
       "        traffic_volume  \n",
       "count     20146.000000  \n",
       "unique             NaN  \n",
       "top                NaN  \n",
       "freq               NaN  \n",
       "mean       4784.630100  \n",
       "min           1.000000  \n",
       "25%        4311.000000  \n",
       "50%        4943.000000  \n",
       "75%        5678.000000  \n",
       "max        7280.000000  \n",
       "std        1293.502893  "
      ]
     },
     "execution_count": 18,
     "metadata": {},
     "output_type": "execute_result"
    }
   ],
   "source": [
    "daytime = (\n",
    "    highway\n",
    "    .loc[highway[\"half\"] == \"day\"]\n",
    "    .drop(columns = \"half\")\n",
    ")\n",
    "\n",
    "daytime.describe(\n",
    "    include = \"all\",\n",
    "    datetime_is_numeric = True,\n",
    ")"
   ]
  },
  {
   "attachments": {},
   "cell_type": "markdown",
   "id": "attempted-daily",
   "metadata": {},
   "source": [
    "This DataFrame contains only 20146 rows. The descriptive statistics are naturally somewhat different from before."
   ]
  },
  {
   "attachments": {},
   "cell_type": "markdown",
   "id": "surrounded-booking",
   "metadata": {},
   "source": [
    "## Effect of Units of Time\n",
    "\n",
    "It is possible that traffic volume is influenced by certain units of time. For example, it could be influenced by the month, the day of the week, or the hour of the day. In this section, we investigate these factors.\n",
    "\n",
    "### By Month\n",
    "\n",
    "First, does the month affect the traffic volume?\n",
    "\n",
    "Let us make a new column that indicates the month as a number."
   ]
  },
  {
   "cell_type": "code",
   "execution_count": 19,
   "id": "valuable-import",
   "metadata": {},
   "outputs": [
    {
     "data": {
      "text/plain": [
       "0        10\n",
       "1        10\n",
       "2        10\n",
       "3        10\n",
       "4        10\n",
       "         ..\n",
       "48191     9\n",
       "48192     9\n",
       "48194     9\n",
       "48196     9\n",
       "48197     9\n",
       "Name: month, Length: 20146, dtype: int64"
      ]
     },
     "execution_count": 19,
     "metadata": {},
     "output_type": "execute_result"
    }
   ],
   "source": [
    "daytime[\"month\"] = daytime[\"date_time\"].dt.month\n",
    "\n",
    "daytime[\"month\"]"
   ]
  },
  {
   "attachments": {},
   "cell_type": "markdown",
   "id": "painful-pavilion",
   "metadata": {},
   "source": [
    "Then, we can calculate and graph the average traffic volume per month. The median will be used instead of the mean since the data are not normally distributed.\n",
    "\n",
    "Table:"
   ]
  },
  {
   "cell_type": "code",
   "execution_count": 20,
   "id": "professional-present",
   "metadata": {},
   "outputs": [
    {
     "data": {
      "text/html": [
       "<div>\n",
       "<style scoped>\n",
       "    .dataframe tbody tr th:only-of-type {\n",
       "        vertical-align: middle;\n",
       "    }\n",
       "\n",
       "    .dataframe tbody tr th {\n",
       "        vertical-align: top;\n",
       "    }\n",
       "\n",
       "    .dataframe thead th {\n",
       "        text-align: right;\n",
       "    }\n",
       "</style>\n",
       "<table border=\"1\" class=\"dataframe\">\n",
       "  <thead>\n",
       "    <tr style=\"text-align: right;\">\n",
       "      <th></th>\n",
       "      <th>traffic_volume</th>\n",
       "    </tr>\n",
       "    <tr>\n",
       "      <th>month</th>\n",
       "      <th></th>\n",
       "    </tr>\n",
       "  </thead>\n",
       "  <tbody>\n",
       "    <tr>\n",
       "      <th>1</th>\n",
       "      <td>4651.5</td>\n",
       "    </tr>\n",
       "    <tr>\n",
       "      <th>2</th>\n",
       "      <td>4886.0</td>\n",
       "    </tr>\n",
       "    <tr>\n",
       "      <th>3</th>\n",
       "      <td>5062.0</td>\n",
       "    </tr>\n",
       "    <tr>\n",
       "      <th>4</th>\n",
       "      <td>5105.0</td>\n",
       "    </tr>\n",
       "    <tr>\n",
       "      <th>5</th>\n",
       "      <td>5052.0</td>\n",
       "    </tr>\n",
       "    <tr>\n",
       "      <th>6</th>\n",
       "      <td>5050.0</td>\n",
       "    </tr>\n",
       "    <tr>\n",
       "      <th>7</th>\n",
       "      <td>4799.5</td>\n",
       "    </tr>\n",
       "    <tr>\n",
       "      <th>8</th>\n",
       "      <td>5056.0</td>\n",
       "    </tr>\n",
       "    <tr>\n",
       "      <th>9</th>\n",
       "      <td>4925.5</td>\n",
       "    </tr>\n",
       "    <tr>\n",
       "      <th>10</th>\n",
       "      <td>5056.0</td>\n",
       "    </tr>\n",
       "    <tr>\n",
       "      <th>11</th>\n",
       "      <td>4876.0</td>\n",
       "    </tr>\n",
       "    <tr>\n",
       "      <th>12</th>\n",
       "      <td>4722.0</td>\n",
       "    </tr>\n",
       "  </tbody>\n",
       "</table>\n",
       "</div>"
      ],
      "text/plain": [
       "       traffic_volume\n",
       "month                \n",
       "1              4651.5\n",
       "2              4886.0\n",
       "3              5062.0\n",
       "4              5105.0\n",
       "5              5052.0\n",
       "6              5050.0\n",
       "7              4799.5\n",
       "8              5056.0\n",
       "9              4925.5\n",
       "10             5056.0\n",
       "11             4876.0\n",
       "12             4722.0"
      ]
     },
     "execution_count": 20,
     "metadata": {},
     "output_type": "execute_result"
    }
   ],
   "source": [
    "(daytime\n",
    " .groupby(\"month\")\n",
    " .median()\n",
    " [[\"traffic_volume\"]]\n",
    ")"
   ]
  },
  {
   "attachments": {},
   "cell_type": "markdown",
   "id": "deadly-crystal",
   "metadata": {},
   "source": [
    "Line chart:"
   ]
  },
  {
   "cell_type": "code",
   "execution_count": 21,
   "id": "annual-tunisia",
   "metadata": {},
   "outputs": [
    {
     "data": {
      "image/png": "[encoded data removed]",
      "text/plain": [
       "<Figure size 432x288 with 1 Axes>"
      ]
     },
     "metadata": {
      "needs_background": "light"
     },
     "output_type": "display_data"
    }
   ],
   "source": [
    "sns.lineplot(\n",
    "    data = daytime,\n",
    "    x = \"month\",\n",
    "    y = \"traffic_volume\",\n",
    "    estimator = np.median,\n",
    "    ci = None,\n",
    ")\n",
    "\n",
    "plt.title(\"Effect of Month on Traffic Volume\")\n",
    "plt.xlabel(\"Month\"),\n",
    "plt.ylabel(\"Median Hourly Number of Cars\")\n",
    "plt.grid(True)\n",
    "plt.show()"
   ]
  },
  {
   "attachments": {},
   "cell_type": "markdown",
   "id": "spoken-stereo",
   "metadata": {},
   "source": [
    "The line chart shows that the median traffic volume is highest in April, possibly because this is in spring. Traffic volume is lowest in January and December since these are in the middle of winter. July also has less traffic since it is in the middle of summer."
   ]
  },
  {
   "attachments": {},
   "cell_type": "markdown",
   "id": "parliamentary-multimedia",
   "metadata": {},
   "source": [
    "### By Day of the Week\n",
    "\n",
    "Next, we will investigate the effect of the day of the week on the traffic volume."
   ]
  },
  {
   "cell_type": "code",
   "execution_count": 22,
   "id": "looking-underground",
   "metadata": {},
   "outputs": [
    {
     "data": {
      "text/html": [
       "<div>\n",
       "<style scoped>\n",
       "    .dataframe tbody tr th:only-of-type {\n",
       "        vertical-align: middle;\n",
       "    }\n",
       "\n",
       "    .dataframe tbody tr th {\n",
       "        vertical-align: top;\n",
       "    }\n",
       "\n",
       "    .dataframe thead th {\n",
       "        text-align: right;\n",
       "    }\n",
       "</style>\n",
       "<table border=\"1\" class=\"dataframe\">\n",
       "  <thead>\n",
       "    <tr style=\"text-align: right;\">\n",
       "      <th></th>\n",
       "      <th>traffic_volume</th>\n",
       "    </tr>\n",
       "    <tr>\n",
       "      <th>day</th>\n",
       "      <th></th>\n",
       "    </tr>\n",
       "  </thead>\n",
       "  <tbody>\n",
       "    <tr>\n",
       "      <th>0</th>\n",
       "      <td>4971.5</td>\n",
       "    </tr>\n",
       "    <tr>\n",
       "      <th>1</th>\n",
       "      <td>5268.0</td>\n",
       "    </tr>\n",
       "    <tr>\n",
       "      <th>2</th>\n",
       "      <td>5355.0</td>\n",
       "    </tr>\n",
       "    <tr>\n",
       "      <th>3</th>\n",
       "      <td>5404.0</td>\n",
       "    </tr>\n",
       "    <tr>\n",
       "      <th>4</th>\n",
       "      <td>5399.0</td>\n",
       "    </tr>\n",
       "    <tr>\n",
       "      <th>5</th>\n",
       "      <td>4194.0</td>\n",
       "    </tr>\n",
       "    <tr>\n",
       "      <th>6</th>\n",
       "      <td>3737.0</td>\n",
       "    </tr>\n",
       "  </tbody>\n",
       "</table>\n",
       "</div>"
      ],
      "text/plain": [
       "     traffic_volume\n",
       "day                \n",
       "0            4971.5\n",
       "1            5268.0\n",
       "2            5355.0\n",
       "3            5404.0\n",
       "4            5399.0\n",
       "5            4194.0\n",
       "6            3737.0"
      ]
     },
     "execution_count": 22,
     "metadata": {},
     "output_type": "execute_result"
    }
   ],
   "source": [
    "daytime[\"day\"] = daytime[\"date_time\"].dt.dayofweek\n",
    "\n",
    "(daytime\n",
    " .groupby(\"day\")\n",
    " .median()\n",
    " [[\"traffic_volume\"]]\n",
    ")"
   ]
  },
  {
   "attachments": {},
   "cell_type": "markdown",
   "id": "bibliographic-banana",
   "metadata": {},
   "source": [
    "Note that 0 means Monday and 6 means Sunday.\n",
    "\n",
    "The corresponding line chart is shown below."
   ]
  },
  {
   "cell_type": "code",
   "execution_count": 23,
   "id": "essential-appeal",
   "metadata": {},
   "outputs": [
    {
     "data": {
      "image/png": "[encoded data removed]",
      "text/plain": [
       "<Figure size 432x288 with 1 Axes>"
      ]
     },
     "metadata": {
      "needs_background": "light"
     },
     "output_type": "display_data"
    }
   ],
   "source": [
    "sns.lineplot(\n",
    "    data = daytime,\n",
    "    x = \"day\",\n",
    "    y = \"traffic_volume\",\n",
    "    estimator = np.median,\n",
    "    ci = None,\n",
    ")\n",
    "\n",
    "plt.title(\"Effect of Day of Week on Traffic Volume\")\n",
    "plt.xlabel(\"Day of the Week\"),\n",
    "plt.ylabel(\"Median Hourly Number of Cars\")\n",
    "plt.grid(True)\n",
    "plt.show()"
   ]
  },
  {
   "attachments": {},
   "cell_type": "markdown",
   "id": "orange-forth",
   "metadata": {},
   "source": [
    "The line chart shows that the traffic volume is very high from Monday to Friday, then dips by 1000 cars on Saturday and Sunday. It makes sense that traffic is **heavier on weekdays** and lighter on weekends."
   ]
  },
  {
   "attachments": {},
   "cell_type": "markdown",
   "id": "intimate-intellectual",
   "metadata": {},
   "source": [
    "### By Hour of the Day\n",
    "\n",
    "Lastly, we will investigate the effect of the time of day on the traffic volume. Since we have narrowed the dataset down to daytime entries, only hours from 6:00 AM to 6:00 PM are included.\n",
    "\n",
    "First, though, let's make a column that indicates weekdays and weekends so that we can compare them."
   ]
  },
  {
   "cell_type": "code",
   "execution_count": 24,
   "id": "corporate-adoption",
   "metadata": {},
   "outputs": [],
   "source": [
    "daytime[\"day_type\"] = daytime[\"day\"].replace({\n",
    "    0: \"business day\",\n",
    "    1: \"business day\",\n",
    "    2: \"business day\",\n",
    "    3: \"business day\",\n",
    "    4: \"business day\",\n",
    "    5: \"weekend\",\n",
    "    6: \"weekend\",\n",
    "})"
   ]
  },
  {
   "attachments": {},
   "cell_type": "markdown",
   "id": "occupational-prince",
   "metadata": {},
   "source": [
    "Next, below is the table of median traffic volume grouped by the day of the week and the type of day."
   ]
  },
  {
   "cell_type": "code",
   "execution_count": 25,
   "id": "charitable-beach",
   "metadata": {},
   "outputs": [
    {
     "data": {
      "text/html": [
       "<div>\n",
       "<style scoped>\n",
       "    .dataframe tbody tr th:only-of-type {\n",
       "        vertical-align: middle;\n",
       "    }\n",
       "\n",
       "    .dataframe tbody tr th {\n",
       "        vertical-align: top;\n",
       "    }\n",
       "\n",
       "    .dataframe thead th {\n",
       "        text-align: right;\n",
       "    }\n",
       "</style>\n",
       "<table border=\"1\" class=\"dataframe\">\n",
       "  <thead>\n",
       "    <tr style=\"text-align: right;\">\n",
       "      <th></th>\n",
       "      <th></th>\n",
       "      <th>traffic_volume</th>\n",
       "    </tr>\n",
       "    <tr>\n",
       "      <th>hour</th>\n",
       "      <th>day_type</th>\n",
       "      <th></th>\n",
       "    </tr>\n",
       "  </thead>\n",
       "  <tbody>\n",
       "    <tr>\n",
       "      <th rowspan=\"2\" valign=\"top\">6</th>\n",
       "      <th>business day</th>\n",
       "      <td>5588.0</td>\n",
       "    </tr>\n",
       "    <tr>\n",
       "      <th>weekend</th>\n",
       "      <td>1092.0</td>\n",
       "    </tr>\n",
       "    <tr>\n",
       "      <th rowspan=\"2\" valign=\"top\">7</th>\n",
       "      <th>business day</th>\n",
       "      <td>6320.5</td>\n",
       "    </tr>\n",
       "    <tr>\n",
       "      <th>weekend</th>\n",
       "      <td>1547.0</td>\n",
       "    </tr>\n",
       "    <tr>\n",
       "      <th rowspan=\"2\" valign=\"top\">8</th>\n",
       "      <th>business day</th>\n",
       "      <td>5751.0</td>\n",
       "    </tr>\n",
       "    <tr>\n",
       "      <th>weekend</th>\n",
       "      <td>2268.0</td>\n",
       "    </tr>\n",
       "    <tr>\n",
       "      <th rowspan=\"2\" valign=\"top\">9</th>\n",
       "      <th>business day</th>\n",
       "      <td>5053.0</td>\n",
       "    </tr>\n",
       "    <tr>\n",
       "      <th>weekend</th>\n",
       "      <td>3147.0</td>\n",
       "    </tr>\n",
       "    <tr>\n",
       "      <th rowspan=\"2\" valign=\"top\">10</th>\n",
       "      <th>business day</th>\n",
       "      <td>4484.5</td>\n",
       "    </tr>\n",
       "    <tr>\n",
       "      <th>weekend</th>\n",
       "      <td>3722.0</td>\n",
       "    </tr>\n",
       "    <tr>\n",
       "      <th rowspan=\"2\" valign=\"top\">11</th>\n",
       "      <th>business day</th>\n",
       "      <td>4714.0</td>\n",
       "    </tr>\n",
       "    <tr>\n",
       "      <th>weekend</th>\n",
       "      <td>4114.0</td>\n",
       "    </tr>\n",
       "    <tr>\n",
       "      <th rowspan=\"2\" valign=\"top\">12</th>\n",
       "      <th>business day</th>\n",
       "      <td>4921.0</td>\n",
       "    </tr>\n",
       "    <tr>\n",
       "      <th>weekend</th>\n",
       "      <td>4442.5</td>\n",
       "    </tr>\n",
       "    <tr>\n",
       "      <th rowspan=\"2\" valign=\"top\">13</th>\n",
       "      <th>business day</th>\n",
       "      <td>4919.5</td>\n",
       "    </tr>\n",
       "    <tr>\n",
       "      <th>weekend</th>\n",
       "      <td>4457.0</td>\n",
       "    </tr>\n",
       "    <tr>\n",
       "      <th rowspan=\"2\" valign=\"top\">14</th>\n",
       "      <th>business day</th>\n",
       "      <td>5232.0</td>\n",
       "    </tr>\n",
       "    <tr>\n",
       "      <th>weekend</th>\n",
       "      <td>4457.0</td>\n",
       "    </tr>\n",
       "    <tr>\n",
       "      <th rowspan=\"2\" valign=\"top\">15</th>\n",
       "      <th>business day</th>\n",
       "      <td>5740.0</td>\n",
       "    </tr>\n",
       "    <tr>\n",
       "      <th>weekend</th>\n",
       "      <td>4421.0</td>\n",
       "    </tr>\n",
       "    <tr>\n",
       "      <th rowspan=\"2\" valign=\"top\">16</th>\n",
       "      <th>business day</th>\n",
       "      <td>6403.5</td>\n",
       "    </tr>\n",
       "    <tr>\n",
       "      <th>weekend</th>\n",
       "      <td>4438.0</td>\n",
       "    </tr>\n",
       "    <tr>\n",
       "      <th rowspan=\"2\" valign=\"top\">17</th>\n",
       "      <th>business day</th>\n",
       "      <td>5987.0</td>\n",
       "    </tr>\n",
       "    <tr>\n",
       "      <th>weekend</th>\n",
       "      <td>4261.5</td>\n",
       "    </tr>\n",
       "  </tbody>\n",
       "</table>\n",
       "</div>"
      ],
      "text/plain": [
       "                   traffic_volume\n",
       "hour day_type                    \n",
       "6    business day          5588.0\n",
       "     weekend               1092.0\n",
       "7    business day          6320.5\n",
       "     weekend               1547.0\n",
       "8    business day          5751.0\n",
       "     weekend               2268.0\n",
       "9    business day          5053.0\n",
       "     weekend               3147.0\n",
       "10   business day          4484.5\n",
       "     weekend               3722.0\n",
       "11   business day          4714.0\n",
       "     weekend               4114.0\n",
       "12   business day          4921.0\n",
       "     weekend               4442.5\n",
       "13   business day          4919.5\n",
       "     weekend               4457.0\n",
       "14   business day          5232.0\n",
       "     weekend               4457.0\n",
       "15   business day          5740.0\n",
       "     weekend               4421.0\n",
       "16   business day          6403.5\n",
       "     weekend               4438.0\n",
       "17   business day          5987.0\n",
       "     weekend               4261.5"
      ]
     },
     "execution_count": 25,
     "metadata": {},
     "output_type": "execute_result"
    }
   ],
   "source": [
    "daytime[\"hour\"] = daytime[\"date_time\"].dt.hour\n",
    "\n",
    "(daytime\n",
    " .groupby([\"hour\", \"day_type\"])\n",
    " .median()\n",
    " [[\"traffic_volume\"]]\n",
    ")"
   ]
  },
  {
   "attachments": {},
   "cell_type": "markdown",
   "id": "southern-receptor",
   "metadata": {},
   "source": [
    "The hours are in 24-hour time; 17:00 represents the hour from 5:00 PM to 6:00 PM.\n",
    "\n",
    "In order to understand this table better, we can visualize it in the line chart below."
   ]
  },
  {
   "cell_type": "code",
   "execution_count": 26,
   "id": "prerequisite-particular",
   "metadata": {},
   "outputs": [
    {
     "data": {
      "image/png": "[encoded data removed]",
      "text/plain": [
       "<Figure size 432x288 with 1 Axes>"
      ]
     },
     "metadata": {
      "needs_background": "light"
     },
     "output_type": "display_data"
    }
   ],
   "source": [
    "sns.lineplot(\n",
    "    data = daytime,\n",
    "    x = \"hour\",\n",
    "    y = \"traffic_volume\",\n",
    "    hue = \"day_type\",\n",
    "    estimator = np.median,\n",
    "    ci = None,\n",
    ")\n",
    "\n",
    "plt.title(\"Effect of Hour of Day on Traffic Volume\")\n",
    "plt.xlabel(\"Hour of the Day\"),\n",
    "plt.ylabel(\"Median Hourly Number of Cars\")\n",
    "plt.legend(title = \"Day Type\")\n",
    "plt.grid(True)\n",
    "plt.show()"
   ]
  },
  {
   "attachments": {},
   "cell_type": "markdown",
   "id": "level-tourist",
   "metadata": {},
   "source": [
    "On business days, traffic is heaviest at 7:00 AM and 4:00 PM. These are the times when people travel to or from work. Traffic is lightest around noontime.\n",
    "\n",
    "On weekends, traffic volume increases from 6:00 AM to 12:00 PM and plateaus from there on. People are free to travel at any time on weekends since most don't have work. However, the number of cars is still lower on weekends compared to business days."
   ]
  },
  {
   "attachments": {},
   "cell_type": "markdown",
   "id": "further-symphony",
   "metadata": {},
   "source": [
    "## Effect of Weather\n",
    "\n",
    "Up until now, we have investigated the possible effects of different units of time on the traffic volume. In this section, we focus on how traffic is affected by the **weather**.\n",
    "\n",
    "The following are the weather-related columns in the dataset:\n",
    "\n",
    "- `temp`\n",
    "- `rain_1h`\n",
    "- `snow_1h`\n",
    "- `clouds_all`\n",
    "- `weather_main`\n",
    "- `weather_description`\n",
    "\n",
    "The first 4 are numerical and the last 2 are categorical.\n",
    "\n",
    "### Numerical Weather Columns\n",
    "\n",
    "Let us inspect the Pearson's correlation coefficient between traffic volume and each of the numerical weather columns."
   ]
  },
  {
   "cell_type": "code",
   "execution_count": 27,
   "id": "marine-coordinator",
   "metadata": {},
   "outputs": [
    {
     "data": {
      "text/html": [
       "<div>\n",
       "<style scoped>\n",
       "    .dataframe tbody tr th:only-of-type {\n",
       "        vertical-align: middle;\n",
       "    }\n",
       "\n",
       "    .dataframe tbody tr th {\n",
       "        vertical-align: top;\n",
       "    }\n",
       "\n",
       "    .dataframe thead th {\n",
       "        text-align: right;\n",
       "    }\n",
       "</style>\n",
       "<table border=\"1\" class=\"dataframe\">\n",
       "  <thead>\n",
       "    <tr style=\"text-align: right;\">\n",
       "      <th></th>\n",
       "      <th>traffic_volume</th>\n",
       "    </tr>\n",
       "  </thead>\n",
       "  <tbody>\n",
       "    <tr>\n",
       "      <th>temp</th>\n",
       "      <td>0.124311</td>\n",
       "    </tr>\n",
       "    <tr>\n",
       "      <th>rain_1h</th>\n",
       "      <td>-0.022817</td>\n",
       "    </tr>\n",
       "    <tr>\n",
       "      <th>snow_1h</th>\n",
       "      <td>-0.004145</td>\n",
       "    </tr>\n",
       "    <tr>\n",
       "      <th>clouds_all</th>\n",
       "      <td>0.000621</td>\n",
       "    </tr>\n",
       "  </tbody>\n",
       "</table>\n",
       "</div>"
      ],
      "text/plain": [
       "            traffic_volume\n",
       "temp              0.124311\n",
       "rain_1h          -0.022817\n",
       "snow_1h          -0.004145\n",
       "clouds_all        0.000621"
      ]
     },
     "execution_count": 27,
     "metadata": {},
     "output_type": "execute_result"
    }
   ],
   "source": [
    "daytime.corr().loc[\n",
    "    [\"temp\", \"rain_1h\", \"snow_1h\", \"clouds_all\"],\n",
    "    [\"traffic_volume\"]\n",
    "]"
   ]
  },
  {
   "attachments": {},
   "cell_type": "markdown",
   "id": "returning-sampling",
   "metadata": {},
   "source": [
    "All 4 numerical weather columns appear to have very weak correlations with traffic volume.\n",
    "\n",
    "The highest correlation involves temperature, but the coefficient is only 12.43. This indicates a weak positive relationship. As temperature increases, traffic volume also increases, but not consistently.\n",
    "\n",
    "We can understand the correlation better using a scatter plot."
   ]
  },
  {
   "cell_type": "code",
   "execution_count": 28,
   "id": "graduate-scholar",
   "metadata": {},
   "outputs": [
    {
     "data": {
      "image/png": "[encoded data removed]",
      "text/plain": [
       "<Figure size 432x288 with 1 Axes>"
      ]
     },
     "metadata": {
      "needs_background": "light"
     },
     "output_type": "display_data"
    }
   ],
   "source": [
    "sns.scatterplot(\n",
    "    data = daytime,\n",
    "    x = \"temp\",\n",
    "    y = \"traffic_volume\",\n",
    "    ci = None,\n",
    ")\n",
    "\n",
    "plt.title(\"Effect of Temperature on Traffic Volume\")\n",
    "plt.xlabel(\"Temperature (Kelvin)\"),\n",
    "plt.ylabel(\"Median Hourly Number of Cars\")\n",
    "plt.grid(True)\n",
    "plt.show()"
   ]
  },
  {
   "attachments": {},
   "cell_type": "markdown",
   "id": "further-cologne",
   "metadata": {},
   "source": [
    "Unfortunately, the datapoints are scattered quite consistently throughout all combinations of temperature and traffic volume. The correlation is weak; temperature is not a reliable indicator of traffic. Neither are the other numerical weather columns, since their coefficients were even weaker. "
   ]
  },
  {
   "attachments": {},
   "cell_type": "markdown",
   "id": "identical-juvenile",
   "metadata": {},
   "source": [
    "### Categorical Weather Columns\n",
    "\n",
    "Next, we'll see if the categorical weather columns can serve as better indicators of heavy traffic.\n",
    "\n",
    "#### Short Descriptions of Weather\n",
    "\n",
    "The `weather_main` column contains short, 1-word descriptions of the weather.\n",
    "\n",
    "What are the categories under `weather_main`?"
   ]
  },
  {
   "cell_type": "code",
   "execution_count": 29,
   "id": "owned-enhancement",
   "metadata": {},
   "outputs": [
    {
     "data": {
      "text/plain": [
       "Clouds          8360\n",
       "Clear           5821\n",
       "Rain            2392\n",
       "Mist            1441\n",
       "Snow            1165\n",
       "Haze             472\n",
       "Drizzle          223\n",
       "Thunderstorm     175\n",
       "Fog               90\n",
       "Smoke              7\n",
       "Name: weather_main, dtype: int64"
      ]
     },
     "execution_count": 29,
     "metadata": {},
     "output_type": "execute_result"
    }
   ],
   "source": [
    "daytime[\"weather_main\"].value_counts()"
   ]
  },
  {
   "attachments": {},
   "cell_type": "markdown",
   "id": "molecular-cattle",
   "metadata": {},
   "source": [
    "Clouds, Clear, and Rain are the most frequent descriptions of the weather.\n",
    "\n",
    "Next, let us investigate the effect of the weather description on the traffic volume. The table is shown below."
   ]
  },
  {
   "cell_type": "code",
   "execution_count": 30,
   "id": "mighty-vanilla",
   "metadata": {},
   "outputs": [
    {
     "data": {
      "text/html": [
       "<div>\n",
       "<style scoped>\n",
       "    .dataframe tbody tr th:only-of-type {\n",
       "        vertical-align: middle;\n",
       "    }\n",
       "\n",
       "    .dataframe tbody tr th {\n",
       "        vertical-align: top;\n",
       "    }\n",
       "\n",
       "    .dataframe thead th {\n",
       "        text-align: right;\n",
       "    }\n",
       "</style>\n",
       "<table border=\"1\" class=\"dataframe\">\n",
       "  <thead>\n",
       "    <tr style=\"text-align: right;\">\n",
       "      <th></th>\n",
       "      <th>traffic_volume</th>\n",
       "    </tr>\n",
       "    <tr>\n",
       "      <th>weather_main</th>\n",
       "      <th></th>\n",
       "    </tr>\n",
       "  </thead>\n",
       "  <tbody>\n",
       "    <tr>\n",
       "      <th>Clear</th>\n",
       "      <td>4936.0</td>\n",
       "    </tr>\n",
       "    <tr>\n",
       "      <th>Clouds</th>\n",
       "      <td>4974.5</td>\n",
       "    </tr>\n",
       "    <tr>\n",
       "      <th>Drizzle</th>\n",
       "      <td>5132.0</td>\n",
       "    </tr>\n",
       "    <tr>\n",
       "      <th>Fog</th>\n",
       "      <td>5588.0</td>\n",
       "    </tr>\n",
       "    <tr>\n",
       "      <th>Haze</th>\n",
       "      <td>4817.5</td>\n",
       "    </tr>\n",
       "    <tr>\n",
       "      <th>Mist</th>\n",
       "      <td>5053.0</td>\n",
       "    </tr>\n",
       "    <tr>\n",
       "      <th>Rain</th>\n",
       "      <td>4975.0</td>\n",
       "    </tr>\n",
       "    <tr>\n",
       "      <th>Smoke</th>\n",
       "      <td>4085.0</td>\n",
       "    </tr>\n",
       "    <tr>\n",
       "      <th>Snow</th>\n",
       "      <td>4570.0</td>\n",
       "    </tr>\n",
       "    <tr>\n",
       "      <th>Thunderstorm</th>\n",
       "      <td>4875.0</td>\n",
       "    </tr>\n",
       "  </tbody>\n",
       "</table>\n",
       "</div>"
      ],
      "text/plain": [
       "              traffic_volume\n",
       "weather_main                \n",
       "Clear                 4936.0\n",
       "Clouds                4974.5\n",
       "Drizzle               5132.0\n",
       "Fog                   5588.0\n",
       "Haze                  4817.5\n",
       "Mist                  5053.0\n",
       "Rain                  4975.0\n",
       "Smoke                 4085.0\n",
       "Snow                  4570.0\n",
       "Thunderstorm          4875.0"
      ]
     },
     "execution_count": 30,
     "metadata": {},
     "output_type": "execute_result"
    }
   ],
   "source": [
    "(daytime\n",
    " .groupby(\"weather_main\")\n",
    " .median()\n",
    " [[\"traffic_volume\"]]\n",
    ")"
   ]
  },
  {
   "attachments": {},
   "cell_type": "markdown",
   "id": "removable-loading",
   "metadata": {},
   "source": [
    "This is visualized in the bar plot below."
   ]
  },
  {
   "cell_type": "code",
   "execution_count": 31,
   "id": "curious-boston",
   "metadata": {},
   "outputs": [
    {
     "data": {
      "image/png": "[encoded data removed]",
      "text/plain": [
       "<Figure size 432x288 with 1 Axes>"
      ]
     },
     "metadata": {
      "needs_background": "light"
     },
     "output_type": "display_data"
    }
   ],
   "source": [
    "sns.barplot(\n",
    "    data = daytime,\n",
    "    x = \"weather_main\",\n",
    "    y = \"traffic_volume\",\n",
    "    estimator = np.median,\n",
    "    ci = None,\n",
    ")\n",
    "\n",
    "plt.title(\"Effect of Short Weather Description on Traffic Volume\")\n",
    "plt.xlabel(\"Short Weather Description\"),\n",
    "plt.ylabel(\"Median Hourly Number of Cars\")\n",
    "plt.xticks(rotation = 45)\n",
    "plt.grid(True)\n",
    "plt.show()"
   ]
  },
  {
   "attachments": {},
   "cell_type": "markdown",
   "id": "round-balloon",
   "metadata": {},
   "source": [
    "The traffic volume appears to be mostly consistent across short weather descriptions. Notably:\n",
    "\n",
    "- Traffic is heaviest during fog (5588 cars).\n",
    "- Traffic is lightest when there is smoke (4085 cars).\n",
    "\n",
    "However, the effects are quite small, reaching only up to a difference of 1000 cars.\n",
    "\n",
    "#### Long Descriptions of Weather\n",
    "\n",
    "The `weather_description` column contains longer descriptions of the weather.\n",
    "\n",
    "Below are its categories."
   ]
  },
  {
   "cell_type": "code",
   "execution_count": 32,
   "id": "further-screen",
   "metadata": {},
   "outputs": [
    {
     "data": {
      "text/plain": [
       "sky is clear                           4971\n",
       "broken clouds                          2683\n",
       "overcast clouds                        2526\n",
       "scattered clouds                       2068\n",
       "mist                                   1441\n",
       "light rain                             1415\n",
       "few clouds                             1083\n",
       "Sky is Clear                            850\n",
       "light snow                              811\n",
       "moderate rain                           666\n",
       "haze                                    472\n",
       "heavy snow                              249\n",
       "heavy intensity rain                    207\n",
       "light intensity drizzle                 160\n",
       "proximity thunderstorm                  136\n",
       "snow                                     90\n",
       "fog                                      90\n",
       "proximity shower rain                    89\n",
       "drizzle                                  57\n",
       "thunderstorm                             22\n",
       "light shower snow                        11\n",
       "light intensity shower rain               7\n",
       "smoke                                     7\n",
       "thunderstorm with light rain              7\n",
       "very heavy rain                           7\n",
       "heavy intensity drizzle                   6\n",
       "thunderstorm with heavy rain              5\n",
       "thunderstorm with rain                    3\n",
       "sleet                                     3\n",
       "light rain and snow                       1\n",
       "freezing rain                             1\n",
       "proximity thunderstorm with drizzle       1\n",
       "proximity thunderstorm with rain          1\n",
       "Name: weather_description, dtype: int64"
      ]
     },
     "execution_count": 32,
     "metadata": {},
     "output_type": "execute_result"
    }
   ],
   "source": [
    "daytime[\"weather_description\"].value_counts()"
   ]
  },
  {
   "attachments": {},
   "cell_type": "markdown",
   "id": "sharing-float",
   "metadata": {},
   "source": [
    "Notice that there is a `sky is clear` value and a `Sky is Clear` value with different capitalization. It is likely that these two categories mean the same thing, so let us combine them."
   ]
  },
  {
   "cell_type": "code",
   "execution_count": 33,
   "id": "tamil-palace",
   "metadata": {},
   "outputs": [
    {
     "data": {
      "text/plain": [
       "sky is clear        5821\n",
       "broken clouds       2683\n",
       "overcast clouds     2526\n",
       "scattered clouds    2068\n",
       "mist                1441\n",
       "Name: weather_description, dtype: int64"
      ]
     },
     "execution_count": 33,
     "metadata": {},
     "output_type": "execute_result"
    }
   ],
   "source": [
    "daytime[\"weather_description\"].replace(\n",
    "    {\"Sky is Clear\": \"sky is clear\"},\n",
    "    inplace = True,\n",
    ")\n",
    "\n",
    "daytime[\"weather_description\"].value_counts().head()"
   ]
  },
  {
   "attachments": {},
   "cell_type": "markdown",
   "id": "comparable-cleaning",
   "metadata": {},
   "source": [
    "The `sky is clear` category now has 5821 entries.\n",
    "\n",
    "Now that that's cleaned, let's make a table showing the effect of the long weather description on the traffic volume."
   ]
  },
  {
   "cell_type": "code",
   "execution_count": 34,
   "id": "graphic-convertible",
   "metadata": {},
   "outputs": [
    {
     "data": {
      "text/html": [
       "<div>\n",
       "<style scoped>\n",
       "    .dataframe tbody tr th:only-of-type {\n",
       "        vertical-align: middle;\n",
       "    }\n",
       "\n",
       "    .dataframe tbody tr th {\n",
       "        vertical-align: top;\n",
       "    }\n",
       "\n",
       "    .dataframe thead th {\n",
       "        text-align: right;\n",
       "    }\n",
       "</style>\n",
       "<table border=\"1\" class=\"dataframe\">\n",
       "  <thead>\n",
       "    <tr style=\"text-align: right;\">\n",
       "      <th></th>\n",
       "      <th>traffic_volume</th>\n",
       "    </tr>\n",
       "    <tr>\n",
       "      <th>weather_description</th>\n",
       "      <th></th>\n",
       "    </tr>\n",
       "  </thead>\n",
       "  <tbody>\n",
       "    <tr>\n",
       "      <th>broken clouds</th>\n",
       "      <td>4925.0</td>\n",
       "    </tr>\n",
       "    <tr>\n",
       "      <th>drizzle</th>\n",
       "      <td>5132.0</td>\n",
       "    </tr>\n",
       "    <tr>\n",
       "      <th>few clouds</th>\n",
       "      <td>4977.0</td>\n",
       "    </tr>\n",
       "    <tr>\n",
       "      <th>fog</th>\n",
       "      <td>5588.0</td>\n",
       "    </tr>\n",
       "    <tr>\n",
       "      <th>freezing rain</th>\n",
       "      <td>4762.0</td>\n",
       "    </tr>\n",
       "    <tr>\n",
       "      <th>haze</th>\n",
       "      <td>4817.5</td>\n",
       "    </tr>\n",
       "    <tr>\n",
       "      <th>heavy intensity drizzle</th>\n",
       "      <td>5824.5</td>\n",
       "    </tr>\n",
       "    <tr>\n",
       "      <th>heavy intensity rain</th>\n",
       "      <td>4922.0</td>\n",
       "    </tr>\n",
       "    <tr>\n",
       "      <th>heavy snow</th>\n",
       "      <td>4673.0</td>\n",
       "    </tr>\n",
       "    <tr>\n",
       "      <th>light intensity drizzle</th>\n",
       "      <td>5086.5</td>\n",
       "    </tr>\n",
       "    <tr>\n",
       "      <th>light intensity shower rain</th>\n",
       "      <td>4695.0</td>\n",
       "    </tr>\n",
       "    <tr>\n",
       "      <th>light rain</th>\n",
       "      <td>5011.0</td>\n",
       "    </tr>\n",
       "    <tr>\n",
       "      <th>light rain and snow</th>\n",
       "      <td>5544.0</td>\n",
       "    </tr>\n",
       "    <tr>\n",
       "      <th>light shower snow</th>\n",
       "      <td>4324.0</td>\n",
       "    </tr>\n",
       "    <tr>\n",
       "      <th>light snow</th>\n",
       "      <td>4601.0</td>\n",
       "    </tr>\n",
       "    <tr>\n",
       "      <th>mist</th>\n",
       "      <td>5053.0</td>\n",
       "    </tr>\n",
       "    <tr>\n",
       "      <th>moderate rain</th>\n",
       "      <td>4940.0</td>\n",
       "    </tr>\n",
       "    <tr>\n",
       "      <th>overcast clouds</th>\n",
       "      <td>4968.0</td>\n",
       "    </tr>\n",
       "    <tr>\n",
       "      <th>proximity shower rain</th>\n",
       "      <td>4910.0</td>\n",
       "    </tr>\n",
       "    <tr>\n",
       "      <th>proximity thunderstorm</th>\n",
       "      <td>4849.5</td>\n",
       "    </tr>\n",
       "    <tr>\n",
       "      <th>proximity thunderstorm with drizzle</th>\n",
       "      <td>6667.0</td>\n",
       "    </tr>\n",
       "    <tr>\n",
       "      <th>proximity thunderstorm with rain</th>\n",
       "      <td>5730.0</td>\n",
       "    </tr>\n",
       "    <tr>\n",
       "      <th>scattered clouds</th>\n",
       "      <td>5032.5</td>\n",
       "    </tr>\n",
       "    <tr>\n",
       "      <th>sky is clear</th>\n",
       "      <td>4936.0</td>\n",
       "    </tr>\n",
       "    <tr>\n",
       "      <th>sleet</th>\n",
       "      <td>5174.0</td>\n",
       "    </tr>\n",
       "    <tr>\n",
       "      <th>smoke</th>\n",
       "      <td>4085.0</td>\n",
       "    </tr>\n",
       "    <tr>\n",
       "      <th>snow</th>\n",
       "      <td>4032.0</td>\n",
       "    </tr>\n",
       "    <tr>\n",
       "      <th>thunderstorm</th>\n",
       "      <td>5578.0</td>\n",
       "    </tr>\n",
       "    <tr>\n",
       "      <th>thunderstorm with heavy rain</th>\n",
       "      <td>5278.0</td>\n",
       "    </tr>\n",
       "    <tr>\n",
       "      <th>thunderstorm with light rain</th>\n",
       "      <td>4073.0</td>\n",
       "    </tr>\n",
       "    <tr>\n",
       "      <th>thunderstorm with rain</th>\n",
       "      <td>4270.0</td>\n",
       "    </tr>\n",
       "    <tr>\n",
       "      <th>very heavy rain</th>\n",
       "      <td>4802.0</td>\n",
       "    </tr>\n",
       "  </tbody>\n",
       "</table>\n",
       "</div>"
      ],
      "text/plain": [
       "                                     traffic_volume\n",
       "weather_description                                \n",
       "broken clouds                                4925.0\n",
       "drizzle                                      5132.0\n",
       "few clouds                                   4977.0\n",
       "fog                                          5588.0\n",
       "freezing rain                                4762.0\n",
       "haze                                         4817.5\n",
       "heavy intensity drizzle                      5824.5\n",
       "heavy intensity rain                         4922.0\n",
       "heavy snow                                   4673.0\n",
       "light intensity drizzle                      5086.5\n",
       "light intensity shower rain                  4695.0\n",
       "light rain                                   5011.0\n",
       "light rain and snow                          5544.0\n",
       "light shower snow                            4324.0\n",
       "light snow                                   4601.0\n",
       "mist                                         5053.0\n",
       "moderate rain                                4940.0\n",
       "overcast clouds                              4968.0\n",
       "proximity shower rain                        4910.0\n",
       "proximity thunderstorm                       4849.5\n",
       "proximity thunderstorm with drizzle          6667.0\n",
       "proximity thunderstorm with rain             5730.0\n",
       "scattered clouds                             5032.5\n",
       "sky is clear                                 4936.0\n",
       "sleet                                        5174.0\n",
       "smoke                                        4085.0\n",
       "snow                                         4032.0\n",
       "thunderstorm                                 5578.0\n",
       "thunderstorm with heavy rain                 5278.0\n",
       "thunderstorm with light rain                 4073.0\n",
       "thunderstorm with rain                       4270.0\n",
       "very heavy rain                              4802.0"
      ]
     },
     "execution_count": 34,
     "metadata": {},
     "output_type": "execute_result"
    }
   ],
   "source": [
    "(daytime\n",
    " .groupby(\"weather_description\")\n",
    " .median()\n",
    " [[\"traffic_volume\"]]\n",
    ")"
   ]
  },
  {
   "attachments": {},
   "cell_type": "markdown",
   "id": "postal-storm",
   "metadata": {},
   "source": [
    "The table is visualized in the bar graph below."
   ]
  },
  {
   "cell_type": "code",
   "execution_count": 35,
   "id": "southern-accountability",
   "metadata": {},
   "outputs": [
    {
     "data": {
      "image/png": "[encoded data removed]",
      "text/plain": [
       "<Figure size 1008x360 with 1 Axes>"
      ]
     },
     "metadata": {
      "needs_background": "light"
     },
     "output_type": "display_data"
    }
   ],
   "source": [
    "plt.figure(figsize = (14, 5))\n",
    "\n",
    "sns.barplot(\n",
    "    data = daytime,\n",
    "    x = \"weather_description\",\n",
    "    y = \"traffic_volume\",\n",
    "    estimator = np.median,\n",
    "    ci = None,\n",
    ")\n",
    "\n",
    "plt.title(\"Effect of Long Weather Description on Traffic Volume\")\n",
    "plt.xlabel(\"Long Weather Description\"),\n",
    "plt.ylabel(\"Median Hourly Number of Cars\")\n",
    "plt.xticks(rotation = 45, ha = \"right\")\n",
    "plt.grid(True)\n",
    "plt.show()"
   ]
  },
  {
   "attachments": {},
   "cell_type": "markdown",
   "id": "abroad-burning",
   "metadata": {},
   "source": [
    "Similar to the bar graph of short weather descriptions, most of the values are around 5000 cars. Notably:\n",
    "\n",
    "- Traffic is heaviest in a proximity thunderstorm with drizzle (6667 cars).\n",
    "    - The word \"proximity\" was likely used to emphasize that the storm was very close to the station.\n",
    "    - It makes sense that a drizzling thunderstorm directly over the highway would reduce visibility and make traffic pile up.\n",
    "- Traffic is lightest in snow (4032 cars).\n",
    "    - It is likely that more people choose not to travel outside when it is snowing."
   ]
  },
  {
   "attachments": {},
   "cell_type": "markdown",
   "id": "filled-poland",
   "metadata": {},
   "source": [
    "# Conclusion\n",
    "\n",
    "This project aimed to determine reliable indicators of heavy traffic along the I-94 highway. Data were narrowed down to daytime (as opposed to nighttime) entries, which have higher traffic volumes. Exploratory data analysis was conducted using mostly Seaborn visualizations.\n",
    "\n",
    "The following conclusions were drawn:\n",
    "\n",
    "- Time has various effects on traffic volume. Traffic is **heavier** when:\n",
    "    - It is daytime (between 6:00 AM and 6:00 PM).\n",
    "    - The month is from March to June.\n",
    "    - The day is a business day, as opposed to a weekend.\n",
    "    - The hour is 7:00 AM or 4:00 PM on a business day.\n",
    "    \n",
    "<br/>\n",
    "\n",
    "- Weather affects traffic volume to a lesser extent. Traffic is **heavier** when:\n",
    "    - There is fog on the road (or other visual obstructions).\n",
    "    - There is a nearby thunderstorm with drizzle or rain.\n",
    "    \n",
    "<br/>\n",
    "    \n",
    "Thanks for reading!"
   ]
  }
 ],
 "metadata": {
  "kernelspec": {
   "display_name": "Python 3",
   "language": "python",
   "name": "python3"
  },
  "language_info": {
   "codemirror_mode": {
    "name": "ipython",
    "version": 3
   },
   "file_extension": ".py",
   "mimetype": "text/x-python",
   "name": "python",
   "nbconvert_exporter": "python",
   "pygments_lexer": "ipython3",
   "version": "3.8.11"
  }
 },
 "nbformat": 4,
 "nbformat_minor": 5
}
