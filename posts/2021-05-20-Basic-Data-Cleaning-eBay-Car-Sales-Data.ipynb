{
 "cells": [
  {
   "cell_type": "raw",
   "metadata": {},
   "source": [
    "---\n",
    "aliases:\n",
    "- /python/pandas/numpy/matplotlib/seaborn/datetime/2021/05/20/Basic-Data-Cleaning-eBay-Car-Sales-Data\n",
    "author: Migs Germar\n",
    "\n",
    "branch: master\n",
    "categories:\n",
    "- python\n",
    "- pandas\n",
    "- matplotlib\n",
    "- seaborn\n",
    "date: '2021-05-20'\n",
    "description: I clean a messy dataset of eBay car sales data before performing simple\n",
    "  analyses about car prices.\n",
    "",
    "image: images/2021-05-20-used-cars.jpg\n",
    "output-file: 2021-05-20-basic-data-cleaning-ebay-car-sales-data.html\n",
    "\n",
    "title: Basic Data Cleaning with eBay Car Sales Data\n",
    "toc: true\n",
    "\n",
    "---\n",
    "\n"
   ]
  },
  {
   "attachments": {},
   "cell_type": "markdown",
   "id": "cooperative-score",
   "metadata": {},
   "source": [
    "![](images/2021-05-20-used-cars.jpg){fig-align=\"center\"}\n",
    "\n",
    "<center><a href = \"https://unsplash.com/photos/pdUVFX8WglY\">Unsplash | Parker Gibbs</a></center>"
   ]
  },
  {
   "attachments": {},
   "cell_type": "markdown",
   "id": "noble-particle",
   "metadata": {},
   "source": [
    "# Overview\n",
    "\n",
    "In 2016, Kaggle user `orgezleka` scraped data about used car advertisements on eBay Kleinanzeigen, which is the eBay Classifieds website of Germany. The full dataset is still available on [Used Cars Data (data.world 2016)](https://data.world/data-society/used-cars-data), with over 370,000 datapoints.\n",
    "\n",
    "The project aims to answer the following questions:\n",
    "\n",
    "- Which brands of the used cars are most expensive?\n",
    "- Does a used car's age affect its price?\n",
    "- Does a used car's mileage affect its price?\n",
    "- Does the presence of unrepaired damage affect a car's price?\n",
    "\n",
    "More importantly, this project aims to showcase basic data cleaning procedures. Thus, even columns beyond the scope of the research questions will be considered for cleaning. The assumption is that analysis will eventually be performed on all columns.\n",
    "\n",
    "\n",
    ":::{.callout-note}\n",
    "\n",
    "I wrote this notebook for the [Dataquest](https://www.dataquest.io/) course's [Guided Project: Exploring eBay Car Sales Data](https://app.dataquest.io/m/294/guided-project%3A-exploring-ebay-car-sales-data/9/next-steps). The general project flow came from Dataquest. However, all of the text and code here are written by me unless stated otherwise.\n",
    "\n",
    ":::"
   ]
  },
  {
   "attachments": {},
   "cell_type": "markdown",
   "id": "nuclear-feature",
   "metadata": {},
   "source": [
    "# Package Installs"
   ]
  },
  {
   "cell_type": "code",
   "execution_count": 4,
   "id": "contemporary-introduction",
   "metadata": {},
   "outputs": [],
   "source": [
    "import pandas as pd\n",
    "import numpy as np\n",
    "import matplotlib.pyplot as plt\n",
    "import seaborn as sns"
   ]
  },
  {
   "attachments": {},
   "cell_type": "markdown",
   "id": "protecting-vertical",
   "metadata": {},
   "source": [
    "# Data Overview\n",
    "\n",
    "Below is the information about each column in the dataset, taken from [Used Cars Data (data.world 2016)](https://data.world/data-society/used-cars-data).\n",
    "\n",
    "- dateCrawled : when this ad was first crawled, all field-values are taken from this date\n",
    "- name : \"name\" of the car\n",
    "- seller : private or dealer\n",
    "- offerType\n",
    "- price : the price on the ad to sell the car\n",
    "- abtest\n",
    "- vehicleType\n",
    "- yearOfRegistration : at which year the car was first registered\n",
    "- gearbox\n",
    "- powerPS : power of the car in PS\n",
    "- model\n",
    "- kilometer : how many kilometers the car has driven\n",
    "- monthOfRegistration : at which month the car was first registered\n",
    "- fuelType\n",
    "- brand\n",
    "- notRepairedDamage : if the car has a damage which is not repaired yet\n",
    "- dateCreated : the date for which the ad at ebay was created\n",
    "- nrOfPictures : number of pictures in the ad\n",
    "- postalCode\n",
    "- lastSeenOnline : when the crawler saw this ad last online\n",
    "\n",
    "Let us view the first 5 rows of the dataset below."
   ]
  },
  {
   "cell_type": "code",
   "execution_count": 5,
   "id": "sustained-carol",
   "metadata": {},
   "outputs": [
    {
     "data": {
      "text/html": [
       "<div>\n",
       "<style scoped>\n",
       "    .dataframe tbody tr th:only-of-type {\n",
       "        vertical-align: middle;\n",
       "    }\n",
       "\n",
       "    .dataframe tbody tr th {\n",
       "        vertical-align: top;\n",
       "    }\n",
       "\n",
       "    .dataframe thead th {\n",
       "        text-align: right;\n",
       "    }\n",
       "</style>\n",
       "<table border=\"1\" class=\"dataframe\">\n",
       "  <thead>\n",
       "    <tr style=\"text-align: right;\">\n",
       "      <th></th>\n",
       "      <th>dateCrawled</th>\n",
       "      <th>name</th>\n",
       "      <th>seller</th>\n",
       "      <th>offerType</th>\n",
       "      <th>price</th>\n",
       "      <th>abtest</th>\n",
       "      <th>vehicleType</th>\n",
       "      <th>yearOfRegistration</th>\n",
       "      <th>gearbox</th>\n",
       "      <th>powerPS</th>\n",
       "      <th>model</th>\n",
       "      <th>kilometer</th>\n",
       "      <th>monthOfRegistration</th>\n",
       "      <th>fuelType</th>\n",
       "      <th>brand</th>\n",
       "      <th>notRepairedDamage</th>\n",
       "      <th>dateCreated</th>\n",
       "      <th>nrOfPictures</th>\n",
       "      <th>postalCode</th>\n",
       "      <th>lastSeen</th>\n",
       "    </tr>\n",
       "  </thead>\n",
       "  <tbody>\n",
       "    <tr>\n",
       "      <th>0</th>\n",
       "      <td>2016-03-24 11:52:17</td>\n",
       "      <td>Golf_3_1.6</td>\n",
       "      <td>privat</td>\n",
       "      <td>Angebot</td>\n",
       "      <td>480</td>\n",
       "      <td>test</td>\n",
       "      <td>NaN</td>\n",
       "      <td>1993</td>\n",
       "      <td>manuell</td>\n",
       "      <td>0</td>\n",
       "      <td>golf</td>\n",
       "      <td>150000</td>\n",
       "      <td>0</td>\n",
       "      <td>benzin</td>\n",
       "      <td>volkswagen</td>\n",
       "      <td>NaN</td>\n",
       "      <td>2016-03-24 00:00:00</td>\n",
       "      <td>0</td>\n",
       "      <td>70435</td>\n",
       "      <td>2016-04-07 03:16:57</td>\n",
       "    </tr>\n",
       "    <tr>\n",
       "      <th>1</th>\n",
       "      <td>2016-03-24 10:58:45</td>\n",
       "      <td>A5_Sportback_2.7_Tdi</td>\n",
       "      <td>privat</td>\n",
       "      <td>Angebot</td>\n",
       "      <td>18300</td>\n",
       "      <td>test</td>\n",
       "      <td>coupe</td>\n",
       "      <td>2011</td>\n",
       "      <td>manuell</td>\n",
       "      <td>190</td>\n",
       "      <td>NaN</td>\n",
       "      <td>125000</td>\n",
       "      <td>5</td>\n",
       "      <td>diesel</td>\n",
       "      <td>audi</td>\n",
       "      <td>ja</td>\n",
       "      <td>2016-03-24 00:00:00</td>\n",
       "      <td>0</td>\n",
       "      <td>66954</td>\n",
       "      <td>2016-04-07 01:46:50</td>\n",
       "    </tr>\n",
       "    <tr>\n",
       "      <th>2</th>\n",
       "      <td>2016-03-14 12:52:21</td>\n",
       "      <td>Jeep_Grand_Cherokee_\"Overland\"</td>\n",
       "      <td>privat</td>\n",
       "      <td>Angebot</td>\n",
       "      <td>9800</td>\n",
       "      <td>test</td>\n",
       "      <td>suv</td>\n",
       "      <td>2004</td>\n",
       "      <td>automatik</td>\n",
       "      <td>163</td>\n",
       "      <td>grand</td>\n",
       "      <td>125000</td>\n",
       "      <td>8</td>\n",
       "      <td>diesel</td>\n",
       "      <td>jeep</td>\n",
       "      <td>NaN</td>\n",
       "      <td>2016-03-14 00:00:00</td>\n",
       "      <td>0</td>\n",
       "      <td>90480</td>\n",
       "      <td>2016-04-05 12:47:46</td>\n",
       "    </tr>\n",
       "    <tr>\n",
       "      <th>3</th>\n",
       "      <td>2016-03-17 16:54:04</td>\n",
       "      <td>GOLF_4_1_4__3TÜRER</td>\n",
       "      <td>privat</td>\n",
       "      <td>Angebot</td>\n",
       "      <td>1500</td>\n",
       "      <td>test</td>\n",
       "      <td>kleinwagen</td>\n",
       "      <td>2001</td>\n",
       "      <td>manuell</td>\n",
       "      <td>75</td>\n",
       "      <td>golf</td>\n",
       "      <td>150000</td>\n",
       "      <td>6</td>\n",
       "      <td>benzin</td>\n",
       "      <td>volkswagen</td>\n",
       "      <td>nein</td>\n",
       "      <td>2016-03-17 00:00:00</td>\n",
       "      <td>0</td>\n",
       "      <td>91074</td>\n",
       "      <td>2016-03-17 17:40:17</td>\n",
       "    </tr>\n",
       "    <tr>\n",
       "      <th>4</th>\n",
       "      <td>2016-03-31 17:25:20</td>\n",
       "      <td>Skoda_Fabia_1.4_TDI_PD_Classic</td>\n",
       "      <td>privat</td>\n",
       "      <td>Angebot</td>\n",
       "      <td>3600</td>\n",
       "      <td>test</td>\n",
       "      <td>kleinwagen</td>\n",
       "      <td>2008</td>\n",
       "      <td>manuell</td>\n",
       "      <td>69</td>\n",
       "      <td>fabia</td>\n",
       "      <td>90000</td>\n",
       "      <td>7</td>\n",
       "      <td>diesel</td>\n",
       "      <td>skoda</td>\n",
       "      <td>nein</td>\n",
       "      <td>2016-03-31 00:00:00</td>\n",
       "      <td>0</td>\n",
       "      <td>60437</td>\n",
       "      <td>2016-04-06 10:17:21</td>\n",
       "    </tr>\n",
       "  </tbody>\n",
       "</table>\n",
       "</div>"
      ],
      "text/plain": [
       "           dateCrawled                            name  seller offerType  \\\n",
       "0  2016-03-24 11:52:17                      Golf_3_1.6  privat   Angebot   \n",
       "1  2016-03-24 10:58:45            A5_Sportback_2.7_Tdi  privat   Angebot   \n",
       "2  2016-03-14 12:52:21  Jeep_Grand_Cherokee_\"Overland\"  privat   Angebot   \n",
       "3  2016-03-17 16:54:04              GOLF_4_1_4__3TÜRER  privat   Angebot   \n",
       "4  2016-03-31 17:25:20  Skoda_Fabia_1.4_TDI_PD_Classic  privat   Angebot   \n",
       "\n",
       "   price abtest vehicleType  yearOfRegistration    gearbox  powerPS  model  \\\n",
       "0    480   test         NaN                1993    manuell        0   golf   \n",
       "1  18300   test       coupe                2011    manuell      190    NaN   \n",
       "2   9800   test         suv                2004  automatik      163  grand   \n",
       "3   1500   test  kleinwagen                2001    manuell       75   golf   \n",
       "4   3600   test  kleinwagen                2008    manuell       69  fabia   \n",
       "\n",
       "   kilometer  monthOfRegistration fuelType       brand notRepairedDamage  \\\n",
       "0     150000                    0   benzin  volkswagen               NaN   \n",
       "1     125000                    5   diesel        audi                ja   \n",
       "2     125000                    8   diesel        jeep               NaN   \n",
       "3     150000                    6   benzin  volkswagen              nein   \n",
       "4      90000                    7   diesel       skoda              nein   \n",
       "\n",
       "           dateCreated  nrOfPictures  postalCode             lastSeen  \n",
       "0  2016-03-24 00:00:00             0       70435  2016-04-07 03:16:57  \n",
       "1  2016-03-24 00:00:00             0       66954  2016-04-07 01:46:50  \n",
       "2  2016-03-14 00:00:00             0       90480  2016-04-05 12:47:46  \n",
       "3  2016-03-17 00:00:00             0       91074  2016-03-17 17:40:17  \n",
       "4  2016-03-31 00:00:00             0       60437  2016-04-06 10:17:21  "
      ]
     },
     "execution_count": 5,
     "metadata": {},
     "output_type": "execute_result"
    }
   ],
   "source": [
    "autos = pd.read_csv(\"./private/2021-05-20-BDC-Files/autos.csv\", encoding = \"Windows-1252\")\n",
    "\n",
    "autos.head()"
   ]
  },
  {
   "attachments": {},
   "cell_type": "markdown",
   "id": "graphic-spending",
   "metadata": {},
   "source": [
    "We can get additional information about each column using `DataFrame.info()`."
   ]
  },
  {
   "cell_type": "code",
   "execution_count": 6,
   "id": "female-teacher",
   "metadata": {},
   "outputs": [
    {
     "name": "stdout",
     "output_type": "stream",
     "text": [
      "<class 'pandas.core.frame.DataFrame'>\n",
      "RangeIndex: 371528 entries, 0 to 371527\n",
      "Data columns (total 20 columns):\n",
      " #   Column               Non-Null Count   Dtype \n",
      "---  ------               --------------   ----- \n",
      " 0   dateCrawled          371528 non-null  object\n",
      " 1   name                 371528 non-null  object\n",
      " 2   seller               371528 non-null  object\n",
      " 3   offerType            371528 non-null  object\n",
      " 4   price                371528 non-null  int64 \n",
      " 5   abtest               371528 non-null  object\n",
      " 6   vehicleType          333659 non-null  object\n",
      " 7   yearOfRegistration   371528 non-null  int64 \n",
      " 8   gearbox              351319 non-null  object\n",
      " 9   powerPS              371528 non-null  int64 \n",
      " 10  model                351044 non-null  object\n",
      " 11  kilometer            371528 non-null  int64 \n",
      " 12  monthOfRegistration  371528 non-null  int64 \n",
      " 13  fuelType             338142 non-null  object\n",
      " 14  brand                371528 non-null  object\n",
      " 15  notRepairedDamage    299468 non-null  object\n",
      " 16  dateCreated          371528 non-null  object\n",
      " 17  nrOfPictures         371528 non-null  int64 \n",
      " 18  postalCode           371528 non-null  int64 \n",
      " 19  lastSeen             371528 non-null  object\n",
      "dtypes: int64(7), object(13)\n",
      "memory usage: 56.7+ MB\n"
     ]
    }
   ],
   "source": [
    "autos.info()"
   ]
  },
  {
   "attachments": {},
   "cell_type": "markdown",
   "id": "august-positive",
   "metadata": {},
   "source": [
    "The dataset has 371,528 rows and 20 columns. Each column contains one of two types of data:\n",
    "\n",
    "- `int64`: 64-bit integers\n",
    "- `object`: text strings\n",
    "\n",
    "Also, some columns have a non-null count smaller than the number of entries. This means that there are missing values in these columns. The column `notRepairedDamage`has the most missing values."
   ]
  },
  {
   "attachments": {},
   "cell_type": "markdown",
   "id": "behind-redhead",
   "metadata": {},
   "source": [
    "# Data Cleaning\n",
    "\n",
    "## Column Labels\n",
    "\n",
    "As seen earlier, all of the column labels  are written in camel case. This means that the first letter of each word is capitalized, like `CamelCase.`\n",
    "\n",
    "Column labels should ideally be written in `snake_case` so that these are easier to use. Thus, I will convert all column labels to snake case."
   ]
  },
  {
   "cell_type": "code",
   "execution_count": 7,
   "id": "phantom-moore",
   "metadata": {},
   "outputs": [
    {
     "name": "stdout",
     "output_type": "stream",
     "text": [
      "<class 'pandas.core.frame.DataFrame'>\n",
      "RangeIndex: 371528 entries, 0 to 371527\n",
      "Data columns (total 20 columns):\n",
      " #   Column                 Non-Null Count   Dtype \n",
      "---  ------                 --------------   ----- \n",
      " 0   date_crawled           371528 non-null  object\n",
      " 1   name                   371528 non-null  object\n",
      " 2   seller                 371528 non-null  object\n",
      " 3   offer_type             371528 non-null  object\n",
      " 4   price                  371528 non-null  int64 \n",
      " 5   abtest                 371528 non-null  object\n",
      " 6   vehicle_type           333659 non-null  object\n",
      " 7   year_of_registration   371528 non-null  int64 \n",
      " 8   gearbox                351319 non-null  object\n",
      " 9   power_p_s              371528 non-null  int64 \n",
      " 10  model                  351044 non-null  object\n",
      " 11  kilometer              371528 non-null  int64 \n",
      " 12  month_of_registration  371528 non-null  int64 \n",
      " 13  fuel_type              338142 non-null  object\n",
      " 14  brand                  371528 non-null  object\n",
      " 15  not_repaired_damage    299468 non-null  object\n",
      " 16  date_created           371528 non-null  object\n",
      " 17  nr_of_pictures         371528 non-null  int64 \n",
      " 18  postal_code            371528 non-null  int64 \n",
      " 19  last_seen              371528 non-null  object\n",
      "dtypes: int64(7), object(13)\n",
      "memory usage: 56.7+ MB\n"
     ]
    }
   ],
   "source": [
    "cols = list(autos.columns)\n",
    "\n",
    "new_cols = []\n",
    "\n",
    "for label in cols:\n",
    "    # List of indices of the first letter of each word.\n",
    "    cap_inds = [0] + [index for index, character in enumerate(label) if character.isupper()]\n",
    "    \n",
    "    # List of 2-tuples. Each tuple contains the start index of the current word\n",
    "    # and the start index of the next word.\n",
    "    zipped = list(zip(cap_inds, cap_inds[1:] + [None]))\n",
    "    \n",
    "    # Split the label into a list of words.\n",
    "    # Make them lowercase and combine them with underscores.\n",
    "    word_list = [label[i:j] for i, j in zipped]\n",
    "    word_list = [word.lower() for word in word_list]\n",
    "    new_label = \"_\".join(word_list)\n",
    "    \n",
    "    new_cols.append(new_label)\n",
    "    \n",
    "autos.columns = new_cols\n",
    "\n",
    "autos.info()"
   ]
  },
  {
   "attachments": {},
   "cell_type": "markdown",
   "id": "verbal-hungary",
   "metadata": {},
   "source": [
    "Now, all of the column labels are in snake case. However, I will manually change a few of them to make them neater."
   ]
  },
  {
   "cell_type": "code",
   "execution_count": 8,
   "id": "surgical-midwest",
   "metadata": {},
   "outputs": [
    {
     "name": "stdout",
     "output_type": "stream",
     "text": [
      "<class 'pandas.core.frame.DataFrame'>\n",
      "RangeIndex: 371528 entries, 0 to 371527\n",
      "Data columns (total 20 columns):\n",
      " #   Column        Non-Null Count   Dtype \n",
      "---  ------        --------------   ----- \n",
      " 0   date_crawled  371528 non-null  object\n",
      " 1   name          371528 non-null  object\n",
      " 2   seller        371528 non-null  object\n",
      " 3   offer_type    371528 non-null  object\n",
      " 4   price         371528 non-null  int64 \n",
      " 5   abtest        371528 non-null  object\n",
      " 6   vehicle_type  333659 non-null  object\n",
      " 7   year_reg      371528 non-null  int64 \n",
      " 8   gearbox       351319 non-null  object\n",
      " 9   power_ps      371528 non-null  int64 \n",
      " 10  model         351044 non-null  object\n",
      " 11  mileage_km    371528 non-null  int64 \n",
      " 12  month_reg     371528 non-null  int64 \n",
      " 13  fuel_type     338142 non-null  object\n",
      " 14  brand         371528 non-null  object\n",
      " 15  damage        299468 non-null  object\n",
      " 16  date_created  371528 non-null  object\n",
      " 17  num_pictures  371528 non-null  int64 \n",
      " 18  postal_code   371528 non-null  int64 \n",
      " 19  last_seen     371528 non-null  object\n",
      "dtypes: int64(7), object(13)\n",
      "memory usage: 56.7+ MB\n"
     ]
    }
   ],
   "source": [
    "convert = {\n",
    "    \"power_p_s\": \"power_ps\",\n",
    "    \"nr_of_pictures\": \"num_pictures\",\n",
    "    \"year_of_registration\": \"year_reg\",\n",
    "    \"kilometer\": \"mileage_km\",\n",
    "    \"month_of_registration\": \"month_reg\",\n",
    "    \"not_repaired_damage\": \"damage\",\n",
    "}\n",
    "\n",
    "autos.columns = pd.Series(autos.columns).replace(convert)\n",
    "\n",
    "autos.info()"
   ]
  },
  {
   "attachments": {},
   "cell_type": "markdown",
   "id": "marked-orlando",
   "metadata": {},
   "source": [
    "All of the column labels are now easy to use."
   ]
  },
  {
   "attachments": {},
   "cell_type": "markdown",
   "id": "spectacular-liechtenstein",
   "metadata": {},
   "source": [
    "## Uninformative Columns\n",
    "\n",
    "Next, we will look for columns filled with mostly 1 value. The other values in them are underrepresented, so we wouldn't be able to compare groups reliably.\n",
    "\n",
    "We can inspect the columns using `DataFrame.describe()`."
   ]
  },
  {
   "cell_type": "code",
   "execution_count": 9,
   "id": "logical-detroit",
   "metadata": {
    "scrolled": false
   },
   "outputs": [
    {
     "data": {
      "text/html": [
       "<div>\n",
       "<style scoped>\n",
       "    .dataframe tbody tr th:only-of-type {\n",
       "        vertical-align: middle;\n",
       "    }\n",
       "\n",
       "    .dataframe tbody tr th {\n",
       "        vertical-align: top;\n",
       "    }\n",
       "\n",
       "    .dataframe thead th {\n",
       "        text-align: right;\n",
       "    }\n",
       "</style>\n",
       "<table border=\"1\" class=\"dataframe\">\n",
       "  <thead>\n",
       "    <tr style=\"text-align: right;\">\n",
       "      <th></th>\n",
       "      <th>date_crawled</th>\n",
       "      <th>name</th>\n",
       "      <th>seller</th>\n",
       "      <th>offer_type</th>\n",
       "      <th>price</th>\n",
       "      <th>abtest</th>\n",
       "      <th>vehicle_type</th>\n",
       "      <th>year_reg</th>\n",
       "      <th>gearbox</th>\n",
       "      <th>power_ps</th>\n",
       "      <th>model</th>\n",
       "      <th>mileage_km</th>\n",
       "      <th>month_reg</th>\n",
       "      <th>fuel_type</th>\n",
       "      <th>brand</th>\n",
       "      <th>damage</th>\n",
       "      <th>date_created</th>\n",
       "      <th>num_pictures</th>\n",
       "      <th>postal_code</th>\n",
       "      <th>last_seen</th>\n",
       "    </tr>\n",
       "  </thead>\n",
       "  <tbody>\n",
       "    <tr>\n",
       "      <th>count</th>\n",
       "      <td>371528</td>\n",
       "      <td>371528</td>\n",
       "      <td>371528</td>\n",
       "      <td>371528</td>\n",
       "      <td>3.715280e+05</td>\n",
       "      <td>371528</td>\n",
       "      <td>333659</td>\n",
       "      <td>371528.000000</td>\n",
       "      <td>351319</td>\n",
       "      <td>371528.000000</td>\n",
       "      <td>351044</td>\n",
       "      <td>371528.000000</td>\n",
       "      <td>371528.000000</td>\n",
       "      <td>338142</td>\n",
       "      <td>371528</td>\n",
       "      <td>299468</td>\n",
       "      <td>371528</td>\n",
       "      <td>371528.0</td>\n",
       "      <td>371528.00000</td>\n",
       "      <td>371528</td>\n",
       "    </tr>\n",
       "    <tr>\n",
       "      <th>unique</th>\n",
       "      <td>280500</td>\n",
       "      <td>233531</td>\n",
       "      <td>2</td>\n",
       "      <td>2</td>\n",
       "      <td>NaN</td>\n",
       "      <td>2</td>\n",
       "      <td>8</td>\n",
       "      <td>NaN</td>\n",
       "      <td>2</td>\n",
       "      <td>NaN</td>\n",
       "      <td>251</td>\n",
       "      <td>NaN</td>\n",
       "      <td>NaN</td>\n",
       "      <td>7</td>\n",
       "      <td>40</td>\n",
       "      <td>2</td>\n",
       "      <td>114</td>\n",
       "      <td>NaN</td>\n",
       "      <td>NaN</td>\n",
       "      <td>182806</td>\n",
       "    </tr>\n",
       "    <tr>\n",
       "      <th>top</th>\n",
       "      <td>2016-03-24 14:49:47</td>\n",
       "      <td>Ford_Fiesta</td>\n",
       "      <td>privat</td>\n",
       "      <td>Angebot</td>\n",
       "      <td>NaN</td>\n",
       "      <td>test</td>\n",
       "      <td>limousine</td>\n",
       "      <td>NaN</td>\n",
       "      <td>manuell</td>\n",
       "      <td>NaN</td>\n",
       "      <td>golf</td>\n",
       "      <td>NaN</td>\n",
       "      <td>NaN</td>\n",
       "      <td>benzin</td>\n",
       "      <td>volkswagen</td>\n",
       "      <td>nein</td>\n",
       "      <td>2016-04-03 00:00:00</td>\n",
       "      <td>NaN</td>\n",
       "      <td>NaN</td>\n",
       "      <td>2016-04-07 06:45:59</td>\n",
       "    </tr>\n",
       "    <tr>\n",
       "      <th>freq</th>\n",
       "      <td>7</td>\n",
       "      <td>657</td>\n",
       "      <td>371525</td>\n",
       "      <td>371516</td>\n",
       "      <td>NaN</td>\n",
       "      <td>192585</td>\n",
       "      <td>95894</td>\n",
       "      <td>NaN</td>\n",
       "      <td>274214</td>\n",
       "      <td>NaN</td>\n",
       "      <td>30070</td>\n",
       "      <td>NaN</td>\n",
       "      <td>NaN</td>\n",
       "      <td>223857</td>\n",
       "      <td>79640</td>\n",
       "      <td>263182</td>\n",
       "      <td>14450</td>\n",
       "      <td>NaN</td>\n",
       "      <td>NaN</td>\n",
       "      <td>17</td>\n",
       "    </tr>\n",
       "    <tr>\n",
       "      <th>mean</th>\n",
       "      <td>NaN</td>\n",
       "      <td>NaN</td>\n",
       "      <td>NaN</td>\n",
       "      <td>NaN</td>\n",
       "      <td>1.729514e+04</td>\n",
       "      <td>NaN</td>\n",
       "      <td>NaN</td>\n",
       "      <td>2004.577997</td>\n",
       "      <td>NaN</td>\n",
       "      <td>115.549477</td>\n",
       "      <td>NaN</td>\n",
       "      <td>125618.688228</td>\n",
       "      <td>5.734445</td>\n",
       "      <td>NaN</td>\n",
       "      <td>NaN</td>\n",
       "      <td>NaN</td>\n",
       "      <td>NaN</td>\n",
       "      <td>0.0</td>\n",
       "      <td>50820.66764</td>\n",
       "      <td>NaN</td>\n",
       "    </tr>\n",
       "    <tr>\n",
       "      <th>std</th>\n",
       "      <td>NaN</td>\n",
       "      <td>NaN</td>\n",
       "      <td>NaN</td>\n",
       "      <td>NaN</td>\n",
       "      <td>3.587954e+06</td>\n",
       "      <td>NaN</td>\n",
       "      <td>NaN</td>\n",
       "      <td>92.866598</td>\n",
       "      <td>NaN</td>\n",
       "      <td>192.139578</td>\n",
       "      <td>NaN</td>\n",
       "      <td>40112.337051</td>\n",
       "      <td>3.712412</td>\n",
       "      <td>NaN</td>\n",
       "      <td>NaN</td>\n",
       "      <td>NaN</td>\n",
       "      <td>NaN</td>\n",
       "      <td>0.0</td>\n",
       "      <td>25799.08247</td>\n",
       "      <td>NaN</td>\n",
       "    </tr>\n",
       "    <tr>\n",
       "      <th>min</th>\n",
       "      <td>NaN</td>\n",
       "      <td>NaN</td>\n",
       "      <td>NaN</td>\n",
       "      <td>NaN</td>\n",
       "      <td>0.000000e+00</td>\n",
       "      <td>NaN</td>\n",
       "      <td>NaN</td>\n",
       "      <td>1000.000000</td>\n",
       "      <td>NaN</td>\n",
       "      <td>0.000000</td>\n",
       "      <td>NaN</td>\n",
       "      <td>5000.000000</td>\n",
       "      <td>0.000000</td>\n",
       "      <td>NaN</td>\n",
       "      <td>NaN</td>\n",
       "      <td>NaN</td>\n",
       "      <td>NaN</td>\n",
       "      <td>0.0</td>\n",
       "      <td>1067.00000</td>\n",
       "      <td>NaN</td>\n",
       "    </tr>\n",
       "    <tr>\n",
       "      <th>25%</th>\n",
       "      <td>NaN</td>\n",
       "      <td>NaN</td>\n",
       "      <td>NaN</td>\n",
       "      <td>NaN</td>\n",
       "      <td>1.150000e+03</td>\n",
       "      <td>NaN</td>\n",
       "      <td>NaN</td>\n",
       "      <td>1999.000000</td>\n",
       "      <td>NaN</td>\n",
       "      <td>70.000000</td>\n",
       "      <td>NaN</td>\n",
       "      <td>125000.000000</td>\n",
       "      <td>3.000000</td>\n",
       "      <td>NaN</td>\n",
       "      <td>NaN</td>\n",
       "      <td>NaN</td>\n",
       "      <td>NaN</td>\n",
       "      <td>0.0</td>\n",
       "      <td>30459.00000</td>\n",
       "      <td>NaN</td>\n",
       "    </tr>\n",
       "    <tr>\n",
       "      <th>50%</th>\n",
       "      <td>NaN</td>\n",
       "      <td>NaN</td>\n",
       "      <td>NaN</td>\n",
       "      <td>NaN</td>\n",
       "      <td>2.950000e+03</td>\n",
       "      <td>NaN</td>\n",
       "      <td>NaN</td>\n",
       "      <td>2003.000000</td>\n",
       "      <td>NaN</td>\n",
       "      <td>105.000000</td>\n",
       "      <td>NaN</td>\n",
       "      <td>150000.000000</td>\n",
       "      <td>6.000000</td>\n",
       "      <td>NaN</td>\n",
       "      <td>NaN</td>\n",
       "      <td>NaN</td>\n",
       "      <td>NaN</td>\n",
       "      <td>0.0</td>\n",
       "      <td>49610.00000</td>\n",
       "      <td>NaN</td>\n",
       "    </tr>\n",
       "    <tr>\n",
       "      <th>75%</th>\n",
       "      <td>NaN</td>\n",
       "      <td>NaN</td>\n",
       "      <td>NaN</td>\n",
       "      <td>NaN</td>\n",
       "      <td>7.200000e+03</td>\n",
       "      <td>NaN</td>\n",
       "      <td>NaN</td>\n",
       "      <td>2008.000000</td>\n",
       "      <td>NaN</td>\n",
       "      <td>150.000000</td>\n",
       "      <td>NaN</td>\n",
       "      <td>150000.000000</td>\n",
       "      <td>9.000000</td>\n",
       "      <td>NaN</td>\n",
       "      <td>NaN</td>\n",
       "      <td>NaN</td>\n",
       "      <td>NaN</td>\n",
       "      <td>0.0</td>\n",
       "      <td>71546.00000</td>\n",
       "      <td>NaN</td>\n",
       "    </tr>\n",
       "    <tr>\n",
       "      <th>max</th>\n",
       "      <td>NaN</td>\n",
       "      <td>NaN</td>\n",
       "      <td>NaN</td>\n",
       "      <td>NaN</td>\n",
       "      <td>2.147484e+09</td>\n",
       "      <td>NaN</td>\n",
       "      <td>NaN</td>\n",
       "      <td>9999.000000</td>\n",
       "      <td>NaN</td>\n",
       "      <td>20000.000000</td>\n",
       "      <td>NaN</td>\n",
       "      <td>150000.000000</td>\n",
       "      <td>12.000000</td>\n",
       "      <td>NaN</td>\n",
       "      <td>NaN</td>\n",
       "      <td>NaN</td>\n",
       "      <td>NaN</td>\n",
       "      <td>0.0</td>\n",
       "      <td>99998.00000</td>\n",
       "      <td>NaN</td>\n",
       "    </tr>\n",
       "  </tbody>\n",
       "</table>\n",
       "</div>"
      ],
      "text/plain": [
       "               date_crawled         name  seller offer_type         price  \\\n",
       "count                371528       371528  371528     371528  3.715280e+05   \n",
       "unique               280500       233531       2          2           NaN   \n",
       "top     2016-03-24 14:49:47  Ford_Fiesta  privat    Angebot           NaN   \n",
       "freq                      7          657  371525     371516           NaN   \n",
       "mean                    NaN          NaN     NaN        NaN  1.729514e+04   \n",
       "std                     NaN          NaN     NaN        NaN  3.587954e+06   \n",
       "min                     NaN          NaN     NaN        NaN  0.000000e+00   \n",
       "25%                     NaN          NaN     NaN        NaN  1.150000e+03   \n",
       "50%                     NaN          NaN     NaN        NaN  2.950000e+03   \n",
       "75%                     NaN          NaN     NaN        NaN  7.200000e+03   \n",
       "max                     NaN          NaN     NaN        NaN  2.147484e+09   \n",
       "\n",
       "        abtest vehicle_type       year_reg  gearbox       power_ps   model  \\\n",
       "count   371528       333659  371528.000000   351319  371528.000000  351044   \n",
       "unique       2            8            NaN        2            NaN     251   \n",
       "top       test    limousine            NaN  manuell            NaN    golf   \n",
       "freq    192585        95894            NaN   274214            NaN   30070   \n",
       "mean       NaN          NaN    2004.577997      NaN     115.549477     NaN   \n",
       "std        NaN          NaN      92.866598      NaN     192.139578     NaN   \n",
       "min        NaN          NaN    1000.000000      NaN       0.000000     NaN   \n",
       "25%        NaN          NaN    1999.000000      NaN      70.000000     NaN   \n",
       "50%        NaN          NaN    2003.000000      NaN     105.000000     NaN   \n",
       "75%        NaN          NaN    2008.000000      NaN     150.000000     NaN   \n",
       "max        NaN          NaN    9999.000000      NaN   20000.000000     NaN   \n",
       "\n",
       "           mileage_km      month_reg fuel_type       brand  damage  \\\n",
       "count   371528.000000  371528.000000    338142      371528  299468   \n",
       "unique            NaN            NaN         7          40       2   \n",
       "top               NaN            NaN    benzin  volkswagen    nein   \n",
       "freq              NaN            NaN    223857       79640  263182   \n",
       "mean    125618.688228       5.734445       NaN         NaN     NaN   \n",
       "std      40112.337051       3.712412       NaN         NaN     NaN   \n",
       "min       5000.000000       0.000000       NaN         NaN     NaN   \n",
       "25%     125000.000000       3.000000       NaN         NaN     NaN   \n",
       "50%     150000.000000       6.000000       NaN         NaN     NaN   \n",
       "75%     150000.000000       9.000000       NaN         NaN     NaN   \n",
       "max     150000.000000      12.000000       NaN         NaN     NaN   \n",
       "\n",
       "               date_created  num_pictures   postal_code            last_seen  \n",
       "count                371528      371528.0  371528.00000               371528  \n",
       "unique                  114           NaN           NaN               182806  \n",
       "top     2016-04-03 00:00:00           NaN           NaN  2016-04-07 06:45:59  \n",
       "freq                  14450           NaN           NaN                   17  \n",
       "mean                    NaN           0.0   50820.66764                  NaN  \n",
       "std                     NaN           0.0   25799.08247                  NaN  \n",
       "min                     NaN           0.0    1067.00000                  NaN  \n",
       "25%                     NaN           0.0   30459.00000                  NaN  \n",
       "50%                     NaN           0.0   49610.00000                  NaN  \n",
       "75%                     NaN           0.0   71546.00000                  NaN  \n",
       "max                     NaN           0.0   99998.00000                  NaN  "
      ]
     },
     "execution_count": 9,
     "metadata": {},
     "output_type": "execute_result"
    }
   ],
   "source": [
    "autos.describe(include = \"all\")\n",
    "# Include all columns, including text."
   ]
  },
  {
   "attachments": {},
   "cell_type": "markdown",
   "id": "fixed-thesis",
   "metadata": {},
   "source": [
    "The `top` row gives the most frequent value in the column. The `freq` row tells exactly how often the `top` value occurs.\n",
    "\n",
    "We can see that in the `seller` column, `\"privat\"` appears 371,525 times; this is close to the total number of entries. Also, in the `offer_type` column, `\"Angebot\"` appears 371,516 times.\n",
    "\n",
    "Let us first check the unique values of the `seller` column."
   ]
  },
  {
   "cell_type": "code",
   "execution_count": 10,
   "id": "competent-prime",
   "metadata": {},
   "outputs": [
    {
     "data": {
      "text/plain": [
       "privat        371525\n",
       "gewerblich         3\n",
       "Name: seller, dtype: int64"
      ]
     },
     "execution_count": 10,
     "metadata": {},
     "output_type": "execute_result"
    }
   ],
   "source": [
    "autos[\"seller\"].value_counts()"
   ]
  },
  {
   "attachments": {},
   "cell_type": "markdown",
   "id": "transparent-medium",
   "metadata": {},
   "source": [
    "In English, these mean \"private\" and \"commercial.\" It is likely that private listings are put up by individuals, whereas commercial listings are put up by used car dealer companies. Most listings scraped were apparently private.\n",
    "\n",
    "One idea is to compare private listing prices to commercial listing prices. However, there are only 3 commercial listings, so this comparison would be unreliable. Therefore, we can drop this column."
   ]
  },
  {
   "cell_type": "code",
   "execution_count": 11,
   "id": "legendary-butterfly",
   "metadata": {},
   "outputs": [],
   "source": [
    "autos.drop(columns = \"seller\", inplace = True)"
   ]
  },
  {
   "attachments": {},
   "cell_type": "markdown",
   "id": "executed-frontier",
   "metadata": {},
   "source": [
    "Secondly, let's check the unique values of the `offer_type` column."
   ]
  },
  {
   "cell_type": "code",
   "execution_count": 12,
   "id": "bizarre-spray",
   "metadata": {},
   "outputs": [
    {
     "data": {
      "text/plain": [
       "Angebot    371516\n",
       "Gesuch         12\n",
       "Name: offer_type, dtype: int64"
      ]
     },
     "execution_count": 12,
     "metadata": {},
     "output_type": "execute_result"
    }
   ],
   "source": [
    "autos[\"offer_type\"].value_counts()"
   ]
  },
  {
   "attachments": {},
   "cell_type": "markdown",
   "id": "medium-headset",
   "metadata": {},
   "source": [
    "In English, these mean \"offer\" and \"request.\" This isn't very informative. It could have something to do with the system of sending Offers to buyers in eBay. In any case, it doesn't seem interesting to analyze, and there are only 12 request listings. Thus, we can also drop this column."
   ]
  },
  {
   "cell_type": "code",
   "execution_count": 13,
   "id": "incident-european",
   "metadata": {},
   "outputs": [],
   "source": [
    "autos.drop(columns = \"offer_type\", inplace = True)"
   ]
  },
  {
   "attachments": {},
   "cell_type": "markdown",
   "id": "induced-campaign",
   "metadata": {},
   "source": [
    "Next, the numerical `num_pictures` column has a minimum of 0 and a maximum of 0."
   ]
  },
  {
   "cell_type": "code",
   "execution_count": 14,
   "id": "gross-democrat",
   "metadata": {},
   "outputs": [
    {
     "data": {
      "text/plain": [
       "count    371528.0\n",
       "mean          0.0\n",
       "std           0.0\n",
       "min           0.0\n",
       "25%           0.0\n",
       "50%           0.0\n",
       "75%           0.0\n",
       "max           0.0\n",
       "Name: num_pictures, dtype: float64"
      ]
     },
     "execution_count": 14,
     "metadata": {},
     "output_type": "execute_result"
    }
   ],
   "source": [
    "autos[\"num_pictures\"].describe()"
   ]
  },
  {
   "attachments": {},
   "cell_type": "markdown",
   "id": "potential-somalia",
   "metadata": {},
   "source": [
    "This means that none of the listings for used cars were found to have pictures. This data may be true or it may have come from an error, but either way, it is not useful. Thus, it will be dropped."
   ]
  },
  {
   "cell_type": "code",
   "execution_count": 15,
   "id": "rough-brazil",
   "metadata": {},
   "outputs": [],
   "source": [
    "autos.drop(columns = \"num_pictures\", inplace = True)"
   ]
  },
  {
   "attachments": {},
   "cell_type": "markdown",
   "id": "stainless-salad",
   "metadata": {},
   "source": [
    "## Outliers in Numerical Columns\n",
    "\n",
    "Next, we inspect the ranges of numerical columns to see if there are any unusually high or low values."
   ]
  },
  {
   "cell_type": "code",
   "execution_count": 16,
   "id": "instant-elephant",
   "metadata": {
    "scrolled": true
   },
   "outputs": [
    {
     "data": {
      "text/html": [
       "<div>\n",
       "<style scoped>\n",
       "    .dataframe tbody tr th:only-of-type {\n",
       "        vertical-align: middle;\n",
       "    }\n",
       "\n",
       "    .dataframe tbody tr th {\n",
       "        vertical-align: top;\n",
       "    }\n",
       "\n",
       "    .dataframe thead th {\n",
       "        text-align: right;\n",
       "    }\n",
       "</style>\n",
       "<table border=\"1\" class=\"dataframe\">\n",
       "  <thead>\n",
       "    <tr style=\"text-align: right;\">\n",
       "      <th></th>\n",
       "      <th>price</th>\n",
       "      <th>year_reg</th>\n",
       "      <th>power_ps</th>\n",
       "      <th>mileage_km</th>\n",
       "      <th>month_reg</th>\n",
       "      <th>postal_code</th>\n",
       "    </tr>\n",
       "  </thead>\n",
       "  <tbody>\n",
       "    <tr>\n",
       "      <th>count</th>\n",
       "      <td>3.715280e+05</td>\n",
       "      <td>371528.000000</td>\n",
       "      <td>371528.000000</td>\n",
       "      <td>371528.000000</td>\n",
       "      <td>371528.000000</td>\n",
       "      <td>371528.00000</td>\n",
       "    </tr>\n",
       "    <tr>\n",
       "      <th>mean</th>\n",
       "      <td>1.729514e+04</td>\n",
       "      <td>2004.577997</td>\n",
       "      <td>115.549477</td>\n",
       "      <td>125618.688228</td>\n",
       "      <td>5.734445</td>\n",
       "      <td>50820.66764</td>\n",
       "    </tr>\n",
       "    <tr>\n",
       "      <th>std</th>\n",
       "      <td>3.587954e+06</td>\n",
       "      <td>92.866598</td>\n",
       "      <td>192.139578</td>\n",
       "      <td>40112.337051</td>\n",
       "      <td>3.712412</td>\n",
       "      <td>25799.08247</td>\n",
       "    </tr>\n",
       "    <tr>\n",
       "      <th>min</th>\n",
       "      <td>0.000000e+00</td>\n",
       "      <td>1000.000000</td>\n",
       "      <td>0.000000</td>\n",
       "      <td>5000.000000</td>\n",
       "      <td>0.000000</td>\n",
       "      <td>1067.00000</td>\n",
       "    </tr>\n",
       "    <tr>\n",
       "      <th>25%</th>\n",
       "      <td>1.150000e+03</td>\n",
       "      <td>1999.000000</td>\n",
       "      <td>70.000000</td>\n",
       "      <td>125000.000000</td>\n",
       "      <td>3.000000</td>\n",
       "      <td>30459.00000</td>\n",
       "    </tr>\n",
       "    <tr>\n",
       "      <th>50%</th>\n",
       "      <td>2.950000e+03</td>\n",
       "      <td>2003.000000</td>\n",
       "      <td>105.000000</td>\n",
       "      <td>150000.000000</td>\n",
       "      <td>6.000000</td>\n",
       "      <td>49610.00000</td>\n",
       "    </tr>\n",
       "    <tr>\n",
       "      <th>75%</th>\n",
       "      <td>7.200000e+03</td>\n",
       "      <td>2008.000000</td>\n",
       "      <td>150.000000</td>\n",
       "      <td>150000.000000</td>\n",
       "      <td>9.000000</td>\n",
       "      <td>71546.00000</td>\n",
       "    </tr>\n",
       "    <tr>\n",
       "      <th>max</th>\n",
       "      <td>2.147484e+09</td>\n",
       "      <td>9999.000000</td>\n",
       "      <td>20000.000000</td>\n",
       "      <td>150000.000000</td>\n",
       "      <td>12.000000</td>\n",
       "      <td>99998.00000</td>\n",
       "    </tr>\n",
       "  </tbody>\n",
       "</table>\n",
       "</div>"
      ],
      "text/plain": [
       "              price       year_reg       power_ps     mileage_km  \\\n",
       "count  3.715280e+05  371528.000000  371528.000000  371528.000000   \n",
       "mean   1.729514e+04    2004.577997     115.549477  125618.688228   \n",
       "std    3.587954e+06      92.866598     192.139578   40112.337051   \n",
       "min    0.000000e+00    1000.000000       0.000000    5000.000000   \n",
       "25%    1.150000e+03    1999.000000      70.000000  125000.000000   \n",
       "50%    2.950000e+03    2003.000000     105.000000  150000.000000   \n",
       "75%    7.200000e+03    2008.000000     150.000000  150000.000000   \n",
       "max    2.147484e+09    9999.000000   20000.000000  150000.000000   \n",
       "\n",
       "           month_reg   postal_code  \n",
       "count  371528.000000  371528.00000  \n",
       "mean        5.734445   50820.66764  \n",
       "std         3.712412   25799.08247  \n",
       "min         0.000000    1067.00000  \n",
       "25%         3.000000   30459.00000  \n",
       "50%         6.000000   49610.00000  \n",
       "75%         9.000000   71546.00000  \n",
       "max        12.000000   99998.00000  "
      ]
     },
     "execution_count": 16,
     "metadata": {},
     "output_type": "execute_result"
    }
   ],
   "source": [
    "autos.describe(include = np.number)"
   ]
  },
  {
   "attachments": {},
   "cell_type": "markdown",
   "id": "available-nepal",
   "metadata": {},
   "source": [
    "The following unusual characteristics are noticeable:\n",
    "\n",
    "- `price`: The minimum price is 0 (free) and the maximum price is larger than 2 billion.\n",
    "- `year_reg`: The earliest year of registration is 1000, and the latest year is 9999.\n",
    "- `power_ps`: The lowest power is 0 PS. The highest is 20,000 PS, which is much higher than the 75th percentile (only 150 PS).\n",
    "- `month_reg`: The month numbers range from 0 to 12, not 1 to 12.\n",
    "\n",
    "All of these columns shall be cleaned of inaccurate data."
   ]
  },
  {
   "attachments": {},
   "cell_type": "markdown",
   "id": "expensive-party",
   "metadata": {},
   "source": [
    "### Price in Euros\n",
    "\n",
    "It was seen that the minimum value for price data was 0, and the maximum is over 2,000,000,000. Since this data was scraped from the German eBay, we can assume that these prices are in euros.\n",
    "\n",
    "Both the minimum and maximum values seem to be very unrealistic for the price of a used car, so we want to clean this data.\n",
    "\n",
    "Let us create a frequency table of the prices. We will first sort it by price, ascending."
   ]
  },
  {
   "cell_type": "code",
   "execution_count": 17,
   "id": "metallic-dodge",
   "metadata": {},
   "outputs": [
    {
     "data": {
      "text/plain": [
       "0             10778\n",
       "1              1189\n",
       "2                12\n",
       "3                 8\n",
       "4                 1\n",
       "              ...  \n",
       "32545461          1\n",
       "74185296          1\n",
       "99000000          1\n",
       "99999999         15\n",
       "2147483647        1\n",
       "Name: price, Length: 5597, dtype: int64"
      ]
     },
     "execution_count": 17,
     "metadata": {},
     "output_type": "execute_result"
    }
   ],
   "source": [
    "autos[\"price\"].value_counts().sort_index()"
   ]
  },
  {
   "attachments": {},
   "cell_type": "markdown",
   "id": "atlantic-train",
   "metadata": {},
   "source": [
    "Two things are noticeable:\n",
    "\n",
    "- There are over 10,000 instances of 0 euro prices.\n",
    "- There are several extremely high outliers, not just the one above 2 billion.\n",
    "\n",
    "Since it is unlikely that the cars are actually free, 0 may represent missing values. As for the high outliers, these may have resulted from inaccurate scraping.\n",
    "\n",
    "The next question is, what is the most frequent price value? Is it 0?"
   ]
  },
  {
   "cell_type": "code",
   "execution_count": 18,
   "id": "golden-trauma",
   "metadata": {},
   "outputs": [
    {
     "data": {
      "text/plain": [
       "0        10778\n",
       "500       5670\n",
       "1500      5394\n",
       "1000      4649\n",
       "1200      4594\n",
       "         ...  \n",
       "2610         1\n",
       "20620        1\n",
       "16689        1\n",
       "9964         1\n",
       "10985        1\n",
       "Name: price, Length: 5597, dtype: int64"
      ]
     },
     "execution_count": 18,
     "metadata": {},
     "output_type": "execute_result"
    }
   ],
   "source": [
    "autos[\"price\"].value_counts().sort_values(ascending = False)"
   ]
  },
  {
   "attachments": {},
   "cell_type": "markdown",
   "id": "serial-freight",
   "metadata": {},
   "source": [
    "Indeed, the most frequent price is 0, which makes it likely that it represents missing values. The next most frequent prices are 500, 1500, and 1000, most likely because these are easy for buyers to remember.\n",
    "\n",
    "Now that we know about the low and high outliers, we can clean rows using the interquartile range or IQR. The IQR is bounded by the 25th and 75th percentiles. Reasonable lower and upper bounds can be approximated by multiplying the IQR length by 1.5 and:\n",
    "\n",
    "- subtracting it from the 25th percentile\n",
    "- adding it to the 75th percentile\n",
    "\n",
    "*Reference: [Detection and Removal of Outliers in Python – An Easy to Understand Guide](https://www.askpython.com/python/examples/detection-removal-outliers-in-python)*\n",
    "\n",
    "Below, I use this method to find a lower and upper bound, and I drop rows outside of them."
   ]
  },
  {
   "cell_type": "code",
   "execution_count": 19,
   "id": "boxed-benefit",
   "metadata": {},
   "outputs": [
    {
     "name": "stdout",
     "output_type": "stream",
     "text": [
      "Lower bound: -7925.0\n",
      "Upper bound: 16275.0\n",
      "New shape: (343420, 17)\n"
     ]
    }
   ],
   "source": [
    "autos_desc = autos[\"price\"].describe()\n",
    "\n",
    "q25, q75 = autos_desc[[\"25%\", \"75%\"]]\n",
    "\n",
    "iqr = q75 - q25\n",
    "\n",
    "lower_bound = q25 - 1.5 * iqr\n",
    "upper_bound = q75 + 1.5 * iqr\n",
    "\n",
    "autos = autos.loc[autos[\"price\"].between(lower_bound, upper_bound)]\n",
    "\n",
    "print(\"Lower bound:\", lower_bound)\n",
    "print(\"Upper bound:\", upper_bound)\n",
    "print(\"New shape:\", autos.shape)"
   ]
  },
  {
   "attachments": {},
   "cell_type": "markdown",
   "id": "civic-listing",
   "metadata": {},
   "source": [
    "Now, there are 343,420 rows remaining in the dataset. This is still quite large; not too many datapoints were removed.\n",
    "\n",
    "Let us view the new distribution of prices in a histogram."
   ]
  },
  {
   "cell_type": "code",
   "execution_count": 20,
   "id": "arbitrary-biotechnology",
   "metadata": {},
   "outputs": [
    {
     "data": {
      "image/png": "[encoded data removed]",
      "text/plain": [
       "<Figure size 432x288 with 1 Axes>"
      ]
     },
     "metadata": {
      "needs_background": "light"
     },
     "output_type": "display_data"
    }
   ],
   "source": [
    "ax = sns.histplot(\n",
    "    data = autos,\n",
    "    x = \"price\",\n",
    ")\n",
    "\n",
    "ax.set_title(\"Used Car Prices, Cleaned Using IQR\")\n",
    "ax.grid(True)\n",
    "\n",
    "plt.show()"
   ]
  },
  {
   "attachments": {},
   "cell_type": "markdown",
   "id": "miniature-license",
   "metadata": {},
   "source": [
    "Unfortunately, since the lower bound was negative, unrealistically low prices close to 0 were still accepted within the range.\n",
    "\n",
    "Remember from earlier that the 2nd most frequent price value was found to be 500 euros. This makes it likely that these were correct prices, rather than incorrectly scraped values. Thus, let us keep all price values greater than or equal to 500."
   ]
  },
  {
   "cell_type": "code",
   "execution_count": 21,
   "id": "statistical-vancouver",
   "metadata": {},
   "outputs": [
    {
     "data": {
      "text/plain": [
       "(307358, 17)"
      ]
     },
     "execution_count": 21,
     "metadata": {},
     "output_type": "execute_result"
    }
   ],
   "source": [
    "autos = autos.loc[autos[\"price\"] >= 500]\n",
    "\n",
    "autos.shape"
   ]
  },
  {
   "attachments": {},
   "cell_type": "markdown",
   "id": "biblical-director",
   "metadata": {},
   "source": [
    "Now, 307,358 datapoints remain. Let us look at the final distribution of prices:"
   ]
  },
  {
   "cell_type": "code",
   "execution_count": 22,
   "id": "immune-viking",
   "metadata": {},
   "outputs": [
    {
     "data": {
      "image/png": "[encoded data removed]",
      "text/plain": [
       "<Figure size 432x288 with 1 Axes>"
      ]
     },
     "metadata": {
      "needs_background": "light"
     },
     "output_type": "display_data"
    }
   ],
   "source": [
    "ax = sns.histplot(\n",
    "    data = autos,\n",
    "    x = \"price\",\n",
    ")\n",
    "\n",
    "ax.set_title(\"Used Car Prices, Cleaned of Low Values\")\n",
    "ax.grid(True)\n",
    "\n",
    "plt.show()"
   ]
  },
  {
   "attachments": {},
   "cell_type": "markdown",
   "id": "active-philippines",
   "metadata": {},
   "source": [
    "The distribution is still right-skewed, but at least the price range in the dataset is more reasonable now."
   ]
  },
  {
   "attachments": {},
   "cell_type": "markdown",
   "id": "burning-stress",
   "metadata": {},
   "source": [
    "### Metric Horsepower\n",
    "\n",
    "We saw earlier that some power values were at 0 PS, and others were as high as 20,000 PS.\n",
    "\n",
    ":::{.callout-note}\n",
    "\n",
    "A measure of 1 PS (metric horsepower) is equivalent to 0.98 HP (horsepower). ([Deriquito 2020](https://www.autodeal.com.ph/articles/car-news-philippines/ps-vs-hp-understanding-spec-sheet))\n",
    "\n",
    ":::"
   ]
  },
  {
   "cell_type": "code",
   "execution_count": 23,
   "id": "organizational-notification",
   "metadata": {},
   "outputs": [
    {
     "data": {
      "text/plain": [
       "count    307358.000000\n",
       "mean        112.551842\n",
       "std         191.557378\n",
       "min           0.000000\n",
       "25%          75.000000\n",
       "50%         105.000000\n",
       "75%         143.000000\n",
       "max       20000.000000\n",
       "Name: power_ps, dtype: float64"
      ]
     },
     "execution_count": 23,
     "metadata": {},
     "output_type": "execute_result"
    }
   ],
   "source": [
    "autos[\"power_ps\"].describe()"
   ]
  },
  {
   "attachments": {},
   "cell_type": "markdown",
   "id": "peaceful-sensitivity",
   "metadata": {},
   "source": [
    "Above are the new descriptive statistics for metric horsepower, after the transformations that we have done recently.\n",
    "\n",
    "According to [\"What is the Average Car Horsepower?\" (2021)](https://www.autolist.com/guides/average-car-horsepower), cars usually have a horsepower of 100 HP to 400 HP, though some have less. Faster cars have 400 HP to 1,000 HP, and some supercars have over 1,000 HP. The equivalent values in PS would be slightly higher.\n",
    "\n",
    "Considering that these are used cars, it is unlikely for them to be very fast much less to be supercars. Thus, we will keep cars with metric horsepowers between 50 and 450, in order to take as many of the realistic values as possible."
   ]
  },
  {
   "cell_type": "code",
   "execution_count": 24,
   "id": "competent-information",
   "metadata": {},
   "outputs": [
    {
     "data": {
      "text/plain": [
       "count    274514.000000\n",
       "mean        121.166931\n",
       "std          50.535320\n",
       "min          50.000000\n",
       "25%          82.000000\n",
       "50%         114.000000\n",
       "75%         150.000000\n",
       "max         450.000000\n",
       "Name: power_ps, dtype: float64"
      ]
     },
     "execution_count": 24,
     "metadata": {},
     "output_type": "execute_result"
    }
   ],
   "source": [
    "autos = autos.loc[autos[\"power_ps\"].between(50, 450)]\n",
    "\n",
    "autos[\"power_ps\"].describe()"
   ]
  },
  {
   "attachments": {},
   "cell_type": "markdown",
   "id": "wicked-ambassador",
   "metadata": {},
   "source": [
    "Let us view the distribution of power values in a histogram."
   ]
  },
  {
   "cell_type": "code",
   "execution_count": 25,
   "id": "powerful-robertson",
   "metadata": {},
   "outputs": [
    {
     "data": {
      "image/png": "[encoded data removed]",
      "text/plain": [
       "<Figure size 432x288 with 1 Axes>"
      ]
     },
     "metadata": {
      "needs_background": "light"
     },
     "output_type": "display_data"
    }
   ],
   "source": [
    "ax = sns.histplot(\n",
    "    data = autos,\n",
    "    x = \"power_ps\",\n",
    ")\n",
    "\n",
    "ax.set_title(\"Metric Horsepower (PS) of Used Cars\")\n",
    "ax.grid(True)\n",
    "\n",
    "plt.show()"
   ]
  },
  {
   "attachments": {},
   "cell_type": "markdown",
   "id": "herbal-czech",
   "metadata": {},
   "source": [
    "Like the price data, the power data are right-skewed. Lower values are more frequent. Still, we managed to capture most (274,514) of the datapoints using this range."
   ]
  },
  {
   "attachments": {},
   "cell_type": "markdown",
   "id": "dental-painting",
   "metadata": {},
   "source": [
    "### Year of Registration\n",
    "\n",
    "Earlier, we noticed that the years of registration ranged from 1000 to 9999."
   ]
  },
  {
   "cell_type": "code",
   "execution_count": 26,
   "id": "legitimate-location",
   "metadata": {},
   "outputs": [
    {
     "data": {
      "text/plain": [
       "count    274514.000000\n",
       "mean       2003.658039\n",
       "std          29.529992\n",
       "min        1000.000000\n",
       "25%        1999.000000\n",
       "50%        2004.000000\n",
       "75%        2007.000000\n",
       "max        9999.000000\n",
       "Name: year_reg, dtype: float64"
      ]
     },
     "execution_count": 26,
     "metadata": {},
     "output_type": "execute_result"
    }
   ],
   "source": [
    "autos[\"year_reg\"].describe()"
   ]
  },
  {
   "attachments": {},
   "cell_type": "markdown",
   "id": "temporal-gabriel",
   "metadata": {},
   "source": [
    "Logically, the years of registration should only range from when automobiles were first mass-produced, in the 1800s or 1900s ([Encyclopedia Britannica](https://www.britannica.com/technology/automobile/History-of-the-automobile)), to the year when the ads were last seen by the web crawler.\n",
    "\n",
    "We can know when the ads were last seen using the `last_seen` column of the dataset. The dates are shown as strings with years first, so we can sort them in descending order to find the most recent date."
   ]
  },
  {
   "cell_type": "code",
   "execution_count": 27,
   "id": "swedish-defensive",
   "metadata": {},
   "outputs": [
    {
     "data": {
      "text/plain": [
       "343211    2016-04-07 14:58:51\n",
       "5069      2016-04-07 14:58:50\n",
       "72231     2016-04-07 14:58:50\n",
       "62402     2016-04-07 14:58:50\n",
       "122068    2016-04-07 14:58:50\n",
       "                 ...         \n",
       "244077    2016-03-05 14:35:28\n",
       "177326    2016-03-05 14:25:59\n",
       "136842    2016-03-05 14:15:39\n",
       "275196    2016-03-05 14:15:16\n",
       "311225    2016-03-05 14:15:08\n",
       "Name: last_seen, Length: 274514, dtype: object"
      ]
     },
     "execution_count": 27,
     "metadata": {},
     "output_type": "execute_result"
    }
   ],
   "source": [
    "autos[\"last_seen\"].sort_values(ascending = False)"
   ]
  },
  {
   "attachments": {},
   "cell_type": "markdown",
   "id": "olive-liberty",
   "metadata": {},
   "source": [
    "It looks like all of the ads were last seen in 2016, so the cars could not have been registered beyond that year.\n",
    "\n",
    "Therefore, a reasonable range of years would be from 1900 to 2016. Let us keep all rows within this range."
   ]
  },
  {
   "cell_type": "code",
   "execution_count": 28,
   "id": "senior-population",
   "metadata": {},
   "outputs": [
    {
     "data": {
      "text/plain": [
       "count    264977.000000\n",
       "mean       2002.977877\n",
       "std           6.097207\n",
       "min        1910.000000\n",
       "25%        1999.000000\n",
       "50%        2003.000000\n",
       "75%        2007.000000\n",
       "max        2016.000000\n",
       "Name: year_reg, dtype: float64"
      ]
     },
     "execution_count": 28,
     "metadata": {},
     "output_type": "execute_result"
    }
   ],
   "source": [
    "autos = autos.loc[autos[\"year_reg\"].between(1900, 2016)]\n",
    "\n",
    "autos[\"year_reg\"].describe()"
   ]
  },
  {
   "attachments": {},
   "cell_type": "markdown",
   "id": "therapeutic-abortion",
   "metadata": {},
   "source": [
    "Now, the years of registration range from 1910 to 2016. There are also 264,977 datapoints remaining."
   ]
  },
  {
   "attachments": {},
   "cell_type": "markdown",
   "id": "turkish-layout",
   "metadata": {},
   "source": [
    "### Months of Registration\n",
    "\n",
    "Lastly, we noticed that the months of registration included integers from 0 to 12, not 1 to 12. Let us make a discrete histogram in order to understand the distribution."
   ]
  },
  {
   "cell_type": "code",
   "execution_count": 29,
   "id": "young-laugh",
   "metadata": {},
   "outputs": [
    {
     "data": {
      "image/png": "[encoded data removed]",
      "text/plain": [
       "<Figure size 432x288 with 1 Axes>"
      ]
     },
     "metadata": {
      "needs_background": "light"
     },
     "output_type": "display_data"
    }
   ],
   "source": [
    "ax = sns.histplot(\n",
    "    data = autos,\n",
    "    x = \"month_reg\",\n",
    "    discrete = True,\n",
    ")\n",
    "\n",
    "ax.set_title(\"Used Cars' Months of Registration\")\n",
    "ax.grid(True)\n",
    "\n",
    "plt.show()"
   ]
  },
  {
   "attachments": {},
   "cell_type": "markdown",
   "id": "reverse-toner",
   "metadata": {},
   "source": [
    "The graph above shows that 0 is the least frequent value, appearing under 15,000 times. It seems very likely that it is a placeholder for unknown months. Therefore, we can remove rows with month 0."
   ]
  },
  {
   "cell_type": "code",
   "execution_count": 30,
   "id": "southeast-davis",
   "metadata": {},
   "outputs": [
    {
     "data": {
      "text/plain": [
       "count    251198.000000\n",
       "mean          6.396237\n",
       "std           3.346424\n",
       "min           1.000000\n",
       "25%           4.000000\n",
       "50%           6.000000\n",
       "75%           9.000000\n",
       "max          12.000000\n",
       "Name: month_reg, dtype: float64"
      ]
     },
     "execution_count": 30,
     "metadata": {},
     "output_type": "execute_result"
    }
   ],
   "source": [
    "autos = autos.loc[autos[\"month_reg\"] >= 1]\n",
    "\n",
    "autos[\"month_reg\"].describe()"
   ]
  },
  {
   "attachments": {},
   "cell_type": "markdown",
   "id": "separate-bosnia",
   "metadata": {},
   "source": [
    "##  Missing Values\n",
    "\n",
    "Now, we shall deal with the null values in the dataset. First, how many null values are there per column?"
   ]
  },
  {
   "cell_type": "code",
   "execution_count": 31,
   "id": "eleven-field",
   "metadata": {},
   "outputs": [
    {
     "data": {
      "text/plain": [
       "date_crawled        0\n",
       "name                0\n",
       "price               0\n",
       "abtest              0\n",
       "vehicle_type     5871\n",
       "year_reg            0\n",
       "gearbox          3103\n",
       "power_ps            0\n",
       "model            7422\n",
       "mileage_km          0\n",
       "month_reg           0\n",
       "fuel_type        9057\n",
       "brand               0\n",
       "damage          28718\n",
       "date_created        0\n",
       "postal_code         0\n",
       "last_seen           0\n",
       "dtype: int64"
      ]
     },
     "execution_count": 31,
     "metadata": {},
     "output_type": "execute_result"
    }
   ],
   "source": [
    "autos.isnull().sum()"
   ]
  },
  {
   "attachments": {},
   "cell_type": "markdown",
   "id": "smooth-buying",
   "metadata": {},
   "source": [
    "There are thousands of missing values for the vehicle type, gearbox, model, fuel type, and presence of damage. None of these can be easily determined from other columns.\n",
    "\n",
    "If we were to remove all rows with these missing values, we would be left with:"
   ]
  },
  {
   "cell_type": "code",
   "execution_count": 32,
   "id": "comprehensive-canon",
   "metadata": {},
   "outputs": [
    {
     "data": {
      "text/plain": [
       "(208538, 17)"
      ]
     },
     "execution_count": 32,
     "metadata": {},
     "output_type": "execute_result"
    }
   ],
   "source": [
    "autos.dropna().shape"
   ]
  },
  {
   "attachments": {},
   "cell_type": "markdown",
   "id": "western-reminder",
   "metadata": {},
   "source": [
    "We would have 208,538 rows left. This is just over half of the original number of datapoints we started with, 371,528.\n",
    "\n",
    "This project is meant to showcase data cleaning, and we are assuming that all of the columns in the dataset will be used for analysis. Thus, we will have to delete all rows with missing values."
   ]
  },
  {
   "cell_type": "code",
   "execution_count": 33,
   "id": "touched-opposition",
   "metadata": {},
   "outputs": [],
   "source": [
    "autos.dropna(inplace = True)"
   ]
  },
  {
   "attachments": {},
   "cell_type": "markdown",
   "id": "religious-video",
   "metadata": {},
   "source": [
    "Below are the final descriptive statistics for the dataset after all of the cleaning."
   ]
  },
  {
   "cell_type": "code",
   "execution_count": 34,
   "id": "understood-gardening",
   "metadata": {
    "scrolled": false
   },
   "outputs": [
    {
     "data": {
      "text/html": [
       "<div>\n",
       "<style scoped>\n",
       "    .dataframe tbody tr th:only-of-type {\n",
       "        vertical-align: middle;\n",
       "    }\n",
       "\n",
       "    .dataframe tbody tr th {\n",
       "        vertical-align: top;\n",
       "    }\n",
       "\n",
       "    .dataframe thead th {\n",
       "        text-align: right;\n",
       "    }\n",
       "</style>\n",
       "<table border=\"1\" class=\"dataframe\">\n",
       "  <thead>\n",
       "    <tr style=\"text-align: right;\">\n",
       "      <th></th>\n",
       "      <th>date_crawled</th>\n",
       "      <th>name</th>\n",
       "      <th>price</th>\n",
       "      <th>abtest</th>\n",
       "      <th>vehicle_type</th>\n",
       "      <th>year_reg</th>\n",
       "      <th>gearbox</th>\n",
       "      <th>power_ps</th>\n",
       "      <th>model</th>\n",
       "      <th>mileage_km</th>\n",
       "      <th>month_reg</th>\n",
       "      <th>fuel_type</th>\n",
       "      <th>brand</th>\n",
       "      <th>damage</th>\n",
       "      <th>date_created</th>\n",
       "      <th>postal_code</th>\n",
       "      <th>last_seen</th>\n",
       "    </tr>\n",
       "  </thead>\n",
       "  <tbody>\n",
       "    <tr>\n",
       "      <th>count</th>\n",
       "      <td>208538</td>\n",
       "      <td>208538</td>\n",
       "      <td>208538.000000</td>\n",
       "      <td>208538</td>\n",
       "      <td>208538</td>\n",
       "      <td>208538.000000</td>\n",
       "      <td>208538</td>\n",
       "      <td>208538.000000</td>\n",
       "      <td>208538</td>\n",
       "      <td>208538.000000</td>\n",
       "      <td>208538.000000</td>\n",
       "      <td>208538</td>\n",
       "      <td>208538</td>\n",
       "      <td>208538</td>\n",
       "      <td>208538</td>\n",
       "      <td>208538.000000</td>\n",
       "      <td>208538</td>\n",
       "    </tr>\n",
       "    <tr>\n",
       "      <th>unique</th>\n",
       "      <td>177458</td>\n",
       "      <td>114617</td>\n",
       "      <td>NaN</td>\n",
       "      <td>2</td>\n",
       "      <td>8</td>\n",
       "      <td>NaN</td>\n",
       "      <td>2</td>\n",
       "      <td>NaN</td>\n",
       "      <td>248</td>\n",
       "      <td>NaN</td>\n",
       "      <td>NaN</td>\n",
       "      <td>7</td>\n",
       "      <td>39</td>\n",
       "      <td>2</td>\n",
       "      <td>98</td>\n",
       "      <td>NaN</td>\n",
       "      <td>116677</td>\n",
       "    </tr>\n",
       "    <tr>\n",
       "      <th>top</th>\n",
       "      <td>2016-04-02 22:54:55</td>\n",
       "      <td>BMW_318i</td>\n",
       "      <td>NaN</td>\n",
       "      <td>test</td>\n",
       "      <td>limousine</td>\n",
       "      <td>NaN</td>\n",
       "      <td>manuell</td>\n",
       "      <td>NaN</td>\n",
       "      <td>golf</td>\n",
       "      <td>NaN</td>\n",
       "      <td>NaN</td>\n",
       "      <td>benzin</td>\n",
       "      <td>volkswagen</td>\n",
       "      <td>nein</td>\n",
       "      <td>2016-04-03 00:00:00</td>\n",
       "      <td>NaN</td>\n",
       "      <td>2016-04-07 09:45:41</td>\n",
       "    </tr>\n",
       "    <tr>\n",
       "      <th>freq</th>\n",
       "      <td>5</td>\n",
       "      <td>616</td>\n",
       "      <td>NaN</td>\n",
       "      <td>108258</td>\n",
       "      <td>62894</td>\n",
       "      <td>NaN</td>\n",
       "      <td>166213</td>\n",
       "      <td>NaN</td>\n",
       "      <td>17505</td>\n",
       "      <td>NaN</td>\n",
       "      <td>NaN</td>\n",
       "      <td>136145</td>\n",
       "      <td>44157</td>\n",
       "      <td>189720</td>\n",
       "      <td>8271</td>\n",
       "      <td>NaN</td>\n",
       "      <td>14</td>\n",
       "    </tr>\n",
       "    <tr>\n",
       "      <th>mean</th>\n",
       "      <td>NaN</td>\n",
       "      <td>NaN</td>\n",
       "      <td>4984.662522</td>\n",
       "      <td>NaN</td>\n",
       "      <td>NaN</td>\n",
       "      <td>2003.205953</td>\n",
       "      <td>NaN</td>\n",
       "      <td>122.635031</td>\n",
       "      <td>NaN</td>\n",
       "      <td>128250.990227</td>\n",
       "      <td>6.381225</td>\n",
       "      <td>NaN</td>\n",
       "      <td>NaN</td>\n",
       "      <td>NaN</td>\n",
       "      <td>NaN</td>\n",
       "      <td>51907.756020</td>\n",
       "      <td>NaN</td>\n",
       "    </tr>\n",
       "    <tr>\n",
       "      <th>std</th>\n",
       "      <td>NaN</td>\n",
       "      <td>NaN</td>\n",
       "      <td>3990.028529</td>\n",
       "      <td>NaN</td>\n",
       "      <td>NaN</td>\n",
       "      <td>5.696916</td>\n",
       "      <td>NaN</td>\n",
       "      <td>50.515054</td>\n",
       "      <td>NaN</td>\n",
       "      <td>35781.848172</td>\n",
       "      <td>3.350349</td>\n",
       "      <td>NaN</td>\n",
       "      <td>NaN</td>\n",
       "      <td>NaN</td>\n",
       "      <td>NaN</td>\n",
       "      <td>25766.228717</td>\n",
       "      <td>NaN</td>\n",
       "    </tr>\n",
       "    <tr>\n",
       "      <th>min</th>\n",
       "      <td>NaN</td>\n",
       "      <td>NaN</td>\n",
       "      <td>500.000000</td>\n",
       "      <td>NaN</td>\n",
       "      <td>NaN</td>\n",
       "      <td>1937.000000</td>\n",
       "      <td>NaN</td>\n",
       "      <td>50.000000</td>\n",
       "      <td>NaN</td>\n",
       "      <td>5000.000000</td>\n",
       "      <td>1.000000</td>\n",
       "      <td>NaN</td>\n",
       "      <td>NaN</td>\n",
       "      <td>NaN</td>\n",
       "      <td>NaN</td>\n",
       "      <td>1067.000000</td>\n",
       "      <td>NaN</td>\n",
       "    </tr>\n",
       "    <tr>\n",
       "      <th>25%</th>\n",
       "      <td>NaN</td>\n",
       "      <td>NaN</td>\n",
       "      <td>1749.000000</td>\n",
       "      <td>NaN</td>\n",
       "      <td>NaN</td>\n",
       "      <td>2000.000000</td>\n",
       "      <td>NaN</td>\n",
       "      <td>85.000000</td>\n",
       "      <td>NaN</td>\n",
       "      <td>125000.000000</td>\n",
       "      <td>3.000000</td>\n",
       "      <td>NaN</td>\n",
       "      <td>NaN</td>\n",
       "      <td>NaN</td>\n",
       "      <td>NaN</td>\n",
       "      <td>31319.000000</td>\n",
       "      <td>NaN</td>\n",
       "    </tr>\n",
       "    <tr>\n",
       "      <th>50%</th>\n",
       "      <td>NaN</td>\n",
       "      <td>NaN</td>\n",
       "      <td>3750.000000</td>\n",
       "      <td>NaN</td>\n",
       "      <td>NaN</td>\n",
       "      <td>2004.000000</td>\n",
       "      <td>NaN</td>\n",
       "      <td>116.000000</td>\n",
       "      <td>NaN</td>\n",
       "      <td>150000.000000</td>\n",
       "      <td>6.000000</td>\n",
       "      <td>NaN</td>\n",
       "      <td>NaN</td>\n",
       "      <td>NaN</td>\n",
       "      <td>NaN</td>\n",
       "      <td>51371.000000</td>\n",
       "      <td>NaN</td>\n",
       "    </tr>\n",
       "    <tr>\n",
       "      <th>75%</th>\n",
       "      <td>NaN</td>\n",
       "      <td>NaN</td>\n",
       "      <td>7300.000000</td>\n",
       "      <td>NaN</td>\n",
       "      <td>NaN</td>\n",
       "      <td>2007.000000</td>\n",
       "      <td>NaN</td>\n",
       "      <td>150.000000</td>\n",
       "      <td>NaN</td>\n",
       "      <td>150000.000000</td>\n",
       "      <td>9.000000</td>\n",
       "      <td>NaN</td>\n",
       "      <td>NaN</td>\n",
       "      <td>NaN</td>\n",
       "      <td>NaN</td>\n",
       "      <td>72649.000000</td>\n",
       "      <td>NaN</td>\n",
       "    </tr>\n",
       "    <tr>\n",
       "      <th>max</th>\n",
       "      <td>NaN</td>\n",
       "      <td>NaN</td>\n",
       "      <td>16270.000000</td>\n",
       "      <td>NaN</td>\n",
       "      <td>NaN</td>\n",
       "      <td>2016.000000</td>\n",
       "      <td>NaN</td>\n",
       "      <td>450.000000</td>\n",
       "      <td>NaN</td>\n",
       "      <td>150000.000000</td>\n",
       "      <td>12.000000</td>\n",
       "      <td>NaN</td>\n",
       "      <td>NaN</td>\n",
       "      <td>NaN</td>\n",
       "      <td>NaN</td>\n",
       "      <td>99998.000000</td>\n",
       "      <td>NaN</td>\n",
       "    </tr>\n",
       "  </tbody>\n",
       "</table>\n",
       "</div>"
      ],
      "text/plain": [
       "               date_crawled      name          price  abtest vehicle_type  \\\n",
       "count                208538    208538  208538.000000  208538       208538   \n",
       "unique               177458    114617            NaN       2            8   \n",
       "top     2016-04-02 22:54:55  BMW_318i            NaN    test    limousine   \n",
       "freq                      5       616            NaN  108258        62894   \n",
       "mean                    NaN       NaN    4984.662522     NaN          NaN   \n",
       "std                     NaN       NaN    3990.028529     NaN          NaN   \n",
       "min                     NaN       NaN     500.000000     NaN          NaN   \n",
       "25%                     NaN       NaN    1749.000000     NaN          NaN   \n",
       "50%                     NaN       NaN    3750.000000     NaN          NaN   \n",
       "75%                     NaN       NaN    7300.000000     NaN          NaN   \n",
       "max                     NaN       NaN   16270.000000     NaN          NaN   \n",
       "\n",
       "             year_reg  gearbox       power_ps   model     mileage_km  \\\n",
       "count   208538.000000   208538  208538.000000  208538  208538.000000   \n",
       "unique            NaN        2            NaN     248            NaN   \n",
       "top               NaN  manuell            NaN    golf            NaN   \n",
       "freq              NaN   166213            NaN   17505            NaN   \n",
       "mean      2003.205953      NaN     122.635031     NaN  128250.990227   \n",
       "std          5.696916      NaN      50.515054     NaN   35781.848172   \n",
       "min       1937.000000      NaN      50.000000     NaN    5000.000000   \n",
       "25%       2000.000000      NaN      85.000000     NaN  125000.000000   \n",
       "50%       2004.000000      NaN     116.000000     NaN  150000.000000   \n",
       "75%       2007.000000      NaN     150.000000     NaN  150000.000000   \n",
       "max       2016.000000      NaN     450.000000     NaN  150000.000000   \n",
       "\n",
       "            month_reg fuel_type       brand  damage         date_created  \\\n",
       "count   208538.000000    208538      208538  208538               208538   \n",
       "unique            NaN         7          39       2                   98   \n",
       "top               NaN    benzin  volkswagen    nein  2016-04-03 00:00:00   \n",
       "freq              NaN    136145       44157  189720                 8271   \n",
       "mean         6.381225       NaN         NaN     NaN                  NaN   \n",
       "std          3.350349       NaN         NaN     NaN                  NaN   \n",
       "min          1.000000       NaN         NaN     NaN                  NaN   \n",
       "25%          3.000000       NaN         NaN     NaN                  NaN   \n",
       "50%          6.000000       NaN         NaN     NaN                  NaN   \n",
       "75%          9.000000       NaN         NaN     NaN                  NaN   \n",
       "max         12.000000       NaN         NaN     NaN                  NaN   \n",
       "\n",
       "          postal_code            last_seen  \n",
       "count   208538.000000               208538  \n",
       "unique            NaN               116677  \n",
       "top               NaN  2016-04-07 09:45:41  \n",
       "freq              NaN                   14  \n",
       "mean     51907.756020                  NaN  \n",
       "std      25766.228717                  NaN  \n",
       "min       1067.000000                  NaN  \n",
       "25%      31319.000000                  NaN  \n",
       "50%      51371.000000                  NaN  \n",
       "75%      72649.000000                  NaN  \n",
       "max      99998.000000                  NaN  "
      ]
     },
     "execution_count": 34,
     "metadata": {},
     "output_type": "execute_result"
    }
   ],
   "source": [
    "autos.describe(include = \"all\")"
   ]
  },
  {
   "attachments": {},
   "cell_type": "markdown",
   "id": "conceptual-destination",
   "metadata": {},
   "source": [
    "# Data Transformation\n",
    "\n",
    "## Strings to Datetime Objects\n",
    "\n",
    "As we saw earlier, the `date_crawled`, `date_created`, and `last_seen` columns contain dates and times in string format. It would be better to store these as datetime objects so that each part (year, month, etc.) can be accessed in analysis.\n",
    "\n",
    "For this section, I used [\"Convert the column type from string to datetime format in Pandas dataframe\" (2020)](https://www.geeksforgeeks.org/convert-the-column-type-from-string-to-datetime-format-in-pandas-dataframe/) as a reference.\n",
    "\n",
    "First, though, we have to make a format string so that the numbers can be parsed properly."
   ]
  },
  {
   "cell_type": "code",
   "execution_count": 35,
   "id": "durable-madonna",
   "metadata": {},
   "outputs": [
    {
     "data": {
      "text/html": [
       "<div>\n",
       "<style scoped>\n",
       "    .dataframe tbody tr th:only-of-type {\n",
       "        vertical-align: middle;\n",
       "    }\n",
       "\n",
       "    .dataframe tbody tr th {\n",
       "        vertical-align: top;\n",
       "    }\n",
       "\n",
       "    .dataframe thead th {\n",
       "        text-align: right;\n",
       "    }\n",
       "</style>\n",
       "<table border=\"1\" class=\"dataframe\">\n",
       "  <thead>\n",
       "    <tr style=\"text-align: right;\">\n",
       "      <th></th>\n",
       "      <th>date_crawled</th>\n",
       "      <th>date_created</th>\n",
       "      <th>last_seen</th>\n",
       "    </tr>\n",
       "  </thead>\n",
       "  <tbody>\n",
       "    <tr>\n",
       "      <th>3</th>\n",
       "      <td>2016-03-17 16:54:04</td>\n",
       "      <td>2016-03-17 00:00:00</td>\n",
       "      <td>2016-03-17 17:40:17</td>\n",
       "    </tr>\n",
       "    <tr>\n",
       "      <th>4</th>\n",
       "      <td>2016-03-31 17:25:20</td>\n",
       "      <td>2016-03-31 00:00:00</td>\n",
       "      <td>2016-04-06 10:17:21</td>\n",
       "    </tr>\n",
       "    <tr>\n",
       "      <th>5</th>\n",
       "      <td>2016-04-04 17:36:23</td>\n",
       "      <td>2016-04-04 00:00:00</td>\n",
       "      <td>2016-04-06 19:17:07</td>\n",
       "    </tr>\n",
       "    <tr>\n",
       "      <th>6</th>\n",
       "      <td>2016-04-01 20:48:51</td>\n",
       "      <td>2016-04-01 00:00:00</td>\n",
       "      <td>2016-04-05 18:18:39</td>\n",
       "    </tr>\n",
       "    <tr>\n",
       "      <th>10</th>\n",
       "      <td>2016-03-26 19:54:18</td>\n",
       "      <td>2016-03-26 00:00:00</td>\n",
       "      <td>2016-04-06 10:45:34</td>\n",
       "    </tr>\n",
       "  </tbody>\n",
       "</table>\n",
       "</div>"
      ],
      "text/plain": [
       "           date_crawled         date_created            last_seen\n",
       "3   2016-03-17 16:54:04  2016-03-17 00:00:00  2016-03-17 17:40:17\n",
       "4   2016-03-31 17:25:20  2016-03-31 00:00:00  2016-04-06 10:17:21\n",
       "5   2016-04-04 17:36:23  2016-04-04 00:00:00  2016-04-06 19:17:07\n",
       "6   2016-04-01 20:48:51  2016-04-01 00:00:00  2016-04-05 18:18:39\n",
       "10  2016-03-26 19:54:18  2016-03-26 00:00:00  2016-04-06 10:45:34"
      ]
     },
     "execution_count": 35,
     "metadata": {},
     "output_type": "execute_result"
    }
   ],
   "source": [
    "autos[[\"date_crawled\", \"date_created\", \"last_seen\"]].head()"
   ]
  },
  {
   "attachments": {},
   "cell_type": "markdown",
   "id": "perceived-milan",
   "metadata": {},
   "source": [
    "All 3 columns seem to follow the same format:\n",
    "\n",
    "{4 digit year}-{2 digit month}-{2 digit day} {24-hour time hour}:{minute}:{second}\n",
    "\n",
    "The equivalent format string is below."
   ]
  },
  {
   "cell_type": "code",
   "execution_count": 36,
   "id": "concerned-belle",
   "metadata": {},
   "outputs": [],
   "source": [
    "format_str = \"%Y-%m-%d %H:%M:%S\""
   ]
  },
  {
   "attachments": {},
   "cell_type": "markdown",
   "id": "tamil-navigation",
   "metadata": {},
   "source": [
    "We can use this string to parse the dates. This can be done quickly by using the `pd.to_datetime()` vectorized function, instead of using a for-loop with the `datetime` module."
   ]
  },
  {
   "cell_type": "code",
   "execution_count": 37,
   "id": "determined-hazard",
   "metadata": {},
   "outputs": [
    {
     "data": {
      "text/plain": [
       "3        2016-03-17 16:54:04\n",
       "4        2016-03-31 17:25:20\n",
       "5        2016-04-04 17:36:23\n",
       "6        2016-04-01 20:48:51\n",
       "10       2016-03-26 19:54:18\n",
       "                 ...        \n",
       "371516   2016-04-04 09:57:12\n",
       "371517   2016-03-28 13:48:07\n",
       "371520   2016-03-19 19:53:49\n",
       "371524   2016-03-05 19:56:21\n",
       "371525   2016-03-19 18:57:12\n",
       "Name: date_crawled, Length: 208538, dtype: datetime64[ns]"
      ]
     },
     "execution_count": 37,
     "metadata": {},
     "output_type": "execute_result"
    }
   ],
   "source": [
    "autos[\"date_crawled\"] = pd.to_datetime(\n",
    "    autos[\"date_crawled\"],\n",
    "    format = format_str,\n",
    ")\n",
    "\n",
    "autos[\"date_crawled\"]"
   ]
  },
  {
   "attachments": {},
   "cell_type": "markdown",
   "id": "improved-characteristic",
   "metadata": {},
   "source": [
    "We can see that the values look similar to how they looked before, but the dtype is now `datetime64[ns]`.\n",
    "\n",
    "For example, we can now access the month and day from the datetime objects."
   ]
  },
  {
   "cell_type": "code",
   "execution_count": 38,
   "id": "analyzed-manufacturer",
   "metadata": {},
   "outputs": [
    {
     "data": {
      "text/plain": [
       "3"
      ]
     },
     "execution_count": 38,
     "metadata": {},
     "output_type": "execute_result"
    }
   ],
   "source": [
    "autos[\"date_crawled\"].iloc[0].month"
   ]
  },
  {
   "cell_type": "code",
   "execution_count": 39,
   "id": "upset-principle",
   "metadata": {},
   "outputs": [
    {
     "data": {
      "text/plain": [
       "17"
      ]
     },
     "execution_count": 39,
     "metadata": {},
     "output_type": "execute_result"
    }
   ],
   "source": [
    "autos[\"date_crawled\"].iloc[0].day"
   ]
  },
  {
   "attachments": {},
   "cell_type": "markdown",
   "id": "radical-netherlands",
   "metadata": {},
   "source": [
    "We can see that the date in the first row has a month of 3 (March) and a day of 17.\n",
    "\n",
    "Let us do the same for the other 2 date columns."
   ]
  },
  {
   "cell_type": "code",
   "execution_count": 40,
   "id": "fatal-incentive",
   "metadata": {},
   "outputs": [
    {
     "data": {
      "text/html": [
       "<div>\n",
       "<style scoped>\n",
       "    .dataframe tbody tr th:only-of-type {\n",
       "        vertical-align: middle;\n",
       "    }\n",
       "\n",
       "    .dataframe tbody tr th {\n",
       "        vertical-align: top;\n",
       "    }\n",
       "\n",
       "    .dataframe thead th {\n",
       "        text-align: right;\n",
       "    }\n",
       "</style>\n",
       "<table border=\"1\" class=\"dataframe\">\n",
       "  <thead>\n",
       "    <tr style=\"text-align: right;\">\n",
       "      <th></th>\n",
       "      <th>date_crawled</th>\n",
       "      <th>date_created</th>\n",
       "      <th>last_seen</th>\n",
       "    </tr>\n",
       "  </thead>\n",
       "  <tbody>\n",
       "    <tr>\n",
       "      <th>count</th>\n",
       "      <td>208538</td>\n",
       "      <td>208538</td>\n",
       "      <td>208538</td>\n",
       "    </tr>\n",
       "    <tr>\n",
       "      <th>mean</th>\n",
       "      <td>2016-03-21 13:39:21.839721984</td>\n",
       "      <td>2016-03-20 19:44:12.604321536</td>\n",
       "      <td>2016-03-30 09:43:36.598633984</td>\n",
       "    </tr>\n",
       "    <tr>\n",
       "      <th>min</th>\n",
       "      <td>2016-03-05 14:06:23</td>\n",
       "      <td>2015-08-07 00:00:00</td>\n",
       "      <td>2016-03-05 14:15:16</td>\n",
       "    </tr>\n",
       "    <tr>\n",
       "      <th>25%</th>\n",
       "      <td>2016-03-13 11:06:28</td>\n",
       "      <td>2016-03-13 00:00:00</td>\n",
       "      <td>2016-03-23 20:52:41.500000</td>\n",
       "    </tr>\n",
       "    <tr>\n",
       "      <th>50%</th>\n",
       "      <td>2016-03-21 18:46:44.500000</td>\n",
       "      <td>2016-03-21 00:00:00</td>\n",
       "      <td>2016-04-04 14:39:49.500000</td>\n",
       "    </tr>\n",
       "    <tr>\n",
       "      <th>75%</th>\n",
       "      <td>2016-03-29 15:36:22.500000</td>\n",
       "      <td>2016-03-29 00:00:00</td>\n",
       "      <td>2016-04-06 11:45:07</td>\n",
       "    </tr>\n",
       "    <tr>\n",
       "      <th>max</th>\n",
       "      <td>2016-04-07 14:36:58</td>\n",
       "      <td>2016-04-07 00:00:00</td>\n",
       "      <td>2016-04-07 14:58:51</td>\n",
       "    </tr>\n",
       "  </tbody>\n",
       "</table>\n",
       "</div>"
      ],
      "text/plain": [
       "                        date_crawled                   date_created  \\\n",
       "count                         208538                         208538   \n",
       "mean   2016-03-21 13:39:21.839721984  2016-03-20 19:44:12.604321536   \n",
       "min              2016-03-05 14:06:23            2015-08-07 00:00:00   \n",
       "25%              2016-03-13 11:06:28            2016-03-13 00:00:00   \n",
       "50%       2016-03-21 18:46:44.500000            2016-03-21 00:00:00   \n",
       "75%       2016-03-29 15:36:22.500000            2016-03-29 00:00:00   \n",
       "max              2016-04-07 14:36:58            2016-04-07 00:00:00   \n",
       "\n",
       "                           last_seen  \n",
       "count                         208538  \n",
       "mean   2016-03-30 09:43:36.598633984  \n",
       "min              2016-03-05 14:15:16  \n",
       "25%       2016-03-23 20:52:41.500000  \n",
       "50%       2016-04-04 14:39:49.500000  \n",
       "75%              2016-04-06 11:45:07  \n",
       "max              2016-04-07 14:58:51  "
      ]
     },
     "execution_count": 40,
     "metadata": {},
     "output_type": "execute_result"
    }
   ],
   "source": [
    "autos[\"date_created\"] = pd.to_datetime(\n",
    "    autos[\"date_created\"],\n",
    "    format = format_str,\n",
    ")\n",
    "\n",
    "autos[\"last_seen\"] = pd.to_datetime(\n",
    "    autos[\"last_seen\"],\n",
    "    format = format_str,\n",
    ")\n",
    "\n",
    "autos[[\"date_crawled\", \"date_created\", \"last_seen\"]].describe(\n",
    "    datetime_is_numeric = True,\n",
    ")"
   ]
  },
  {
   "attachments": {},
   "cell_type": "markdown",
   "id": "logical-hammer",
   "metadata": {},
   "source": [
    "We can see that since the 3 columns are in datetime format, they are now treated as numerical values. They have a mean and a list of percentiles.\n",
    "\n",
    "Data transformation is done, so we can move on to data analysis."
   ]
  },
  {
   "attachments": {},
   "cell_type": "markdown",
   "id": "caring-physics",
   "metadata": {},
   "source": [
    "# Data Analysis\n",
    "\n",
    "Statistical analyses with hypothesis testing are outside of the scope of this project, since it is centered on data cleaning. Thus, I will perform some simple aggregates and visualize them in graphs.\n",
    "\n",
    "## Most Expensive Car Brands"
   ]
  },
  {
   "attachments": {},
   "cell_type": "markdown",
   "id": "electoral-damage",
   "metadata": {},
   "source": [
    "Below, a bar graph shows each car brand and the median price. The mean is not used because we know that the price data are right-skewed, not normal."
   ]
  },
  {
   "cell_type": "code",
   "execution_count": 41,
   "id": "extraordinary-allowance",
   "metadata": {},
   "outputs": [
    {
     "data": {
      "image/png": "[encoded data removed]",
      "text/plain": [
       "<Figure size 1008x360 with 1 Axes>"
      ]
     },
     "metadata": {
      "needs_background": "light"
     },
     "output_type": "display_data"
    }
   ],
   "source": [
    "plt.figure(figsize = (14, 5))\n",
    "\n",
    "ax = sns.barplot(\n",
    "    data = autos,\n",
    "    x = \"brand\",\n",
    "    y = \"price\",\n",
    "    estimator = np.median,\n",
    "    ci = None,\n",
    ")\n",
    "\n",
    "plt.title(\"Median Prices of Used Cars by Brand\")\n",
    "plt.grid(True)\n",
    "plt.xticks(rotation = 90)\n",
    "\n",
    "plt.show()"
   ]
  },
  {
   "attachments": {},
   "cell_type": "markdown",
   "id": "pleasant-spencer",
   "metadata": {},
   "source": [
    "The graph shows that Porsche has the highest median price of used cars, at almost 12,000 euros. This is followed by Mini, Land Rover, and Jeep."
   ]
  },
  {
   "attachments": {},
   "cell_type": "markdown",
   "id": "spiritual-angel",
   "metadata": {},
   "source": [
    "## Used Car Prices by Age"
   ]
  },
  {
   "attachments": {},
   "cell_type": "markdown",
   "id": "vanilla-bacteria",
   "metadata": {},
   "source": [
    "The line plot below shows the relationship between a car's year of registration (later -> newer) and the median price."
   ]
  },
  {
   "cell_type": "code",
   "execution_count": 42,
   "id": "finished-arlington",
   "metadata": {},
   "outputs": [
    {
     "data": {
      "image/png": "[encoded data removed]",
      "text/plain": [
       "<Figure size 1008x360 with 1 Axes>"
      ]
     },
     "metadata": {
      "needs_background": "light"
     },
     "output_type": "display_data"
    }
   ],
   "source": [
    "plt.figure(figsize = (14, 5))\n",
    "\n",
    "ax = sns.lineplot(\n",
    "    data = autos,\n",
    "    x = \"year_reg\",\n",
    "    y = \"price\",\n",
    "    estimator = np.median,\n",
    "    ci = None,\n",
    ")\n",
    "\n",
    "plt.title(\"Median Prices of Used Cars by Year of Registration\")\n",
    "plt.grid(True)\n",
    "plt.xticks(rotation = 90)\n",
    "\n",
    "plt.show()"
   ]
  },
  {
   "attachments": {},
   "cell_type": "markdown",
   "id": "bibliographic-pakistan",
   "metadata": {},
   "source": [
    "The line plot shows that used car prices are lowest when the year of registration is in the mid-1990s.\n",
    "\n",
    "To the right of the minimum, as the year of registration gets later, the median price steadily becomes higher. This makes sense because newer cars would have a higher value, even if they're used.\n",
    "\n",
    "On the other hand, to the left of the minimum, the median price increases (albeit erratically) as the year of registration gets earlier. This suggests that very old cars are considered to be valuable because they are rare. It is likely that the avid car collectors are the ones who pay such high prices for these cars."
   ]
  },
  {
   "attachments": {},
   "cell_type": "markdown",
   "id": "shared-words",
   "metadata": {},
   "source": [
    "## Used Car Prices by Mileage\n",
    "\n",
    "The line plot below shows the relationship between used cars' mileage in kilometers and the median price."
   ]
  },
  {
   "cell_type": "code",
   "execution_count": 43,
   "id": "transsexual-uzbekistan",
   "metadata": {},
   "outputs": [
    {
     "data": {
      "image/png": "[encoded data removed]",
      "text/plain": [
       "<Figure size 1008x360 with 1 Axes>"
      ]
     },
     "metadata": {
      "needs_background": "light"
     },
     "output_type": "display_data"
    }
   ],
   "source": [
    "plt.figure(figsize = (14, 5))\n",
    "\n",
    "ax = sns.lineplot(\n",
    "    data = autos,\n",
    "    x = \"mileage_km\",\n",
    "    y = \"price\",\n",
    "    estimator = np.median,\n",
    "    ci = None,\n",
    ")\n",
    "\n",
    "plt.title(\"Median Prices of Used Cars by Mileage in Kilometers\")\n",
    "plt.grid(True)\n",
    "plt.xticks(rotation = 90)\n",
    "\n",
    "plt.show()"
   ]
  },
  {
   "attachments": {},
   "cell_type": "markdown",
   "id": "direct-campaign",
   "metadata": {},
   "source": [
    "As expected, price decreases as mileage increases. What is unexpected is that there is a sharp increase in price from around 500 km to 1000 km. This was likely caused by an outlier datapoint which had a low mileage and a low price."
   ]
  },
  {
   "attachments": {},
   "cell_type": "markdown",
   "id": "charming-convertible",
   "metadata": {},
   "source": [
    "## Effect of Presence of Damage on Used Car Price\n",
    "\n",
    "Lastly, we will analyze the effect of the presence of unrepaired damage on the median price of used cars."
   ]
  },
  {
   "cell_type": "code",
   "execution_count": 44,
   "id": "legitimate-purple",
   "metadata": {},
   "outputs": [
    {
     "data": {
      "image/png": "[encoded data removed]",
      "text/plain": [
       "<Figure size 432x288 with 1 Axes>"
      ]
     },
     "metadata": {
      "needs_background": "light"
     },
     "output_type": "display_data"
    }
   ],
   "source": [
    "ax = sns.barplot(\n",
    "    data = autos,\n",
    "    x = \"damage\",\n",
    "    y = \"price\",\n",
    "    estimator = np.median,\n",
    "    ci = None,\n",
    ")\n",
    "\n",
    "plt.title(\"Effect of Presence of Damage on Median Used Car Price\")\n",
    "plt.grid(True)\n",
    "plt.xticks(rotation = 90)\n",
    "\n",
    "plt.show()"
   ]
  },
  {
   "attachments": {},
   "cell_type": "markdown",
   "id": "muslim-canvas",
   "metadata": {},
   "source": [
    "It can be seen that the median price of used cars without damage is 4000 euros. The median price is 1500 euros for those with unrepaired damage.\n",
    "\n",
    "Therefore, cars with damage generally have lower prices. This makes sense because if the buyer plans to drive the car, they must shoulder the expense of repairing it."
   ]
  },
  {
   "attachments": {},
   "cell_type": "markdown",
   "id": "cubic-cancer",
   "metadata": {},
   "source": [
    "# Conclusion\n",
    "\n",
    "In this project, we did cleaning, transformation, and simple analyses on data about used cars. Below are the insights we gained with regards to each research question. Note that prices were aggregated using the median, not the mean.\n",
    "\n",
    "- **Which brands of the used cars are most expensive?**\n",
    "\n",
    "The top 4 most expensive brands of used cars are Porsche, Mini, Land Rover, and Jeep (descending order).\n",
    "\n",
    "<br/>\n",
    "\n",
    "- **Does a used car's age affect its price?**\n",
    "\n",
    "Yes. Cars registered in the mid-1990s have the lowest prices, with a median of 1000 euros.\n",
    "\n",
    "As cars get newer from that point, their median price increases. As cars get older from the same point, their median price also increases. Very old cars are rare and therefore valuable to collectors.\n",
    "\n",
    "<br/>\n",
    "\n",
    "- **Does a used car's mileage affect its price?**\n",
    "\n",
    "Yes, as mileage increases, price decreases.\n",
    "\n",
    "<br/>\n",
    "\n",
    "- **Does the presence of unrepaired damage affect a car's price?**\n",
    "\n",
    "Yes, the median price of damaged used cars is much lower than that of cars without damage.\n",
    "\n",
    "<br/>\n",
    "\n",
    "---\n",
    "\n",
    "Thanks for reading!"
   ]
  }
 ],
 "metadata": {
  "kernelspec": {
   "display_name": "Python 3",
   "language": "python",
   "name": "python3"
  },
  "language_info": {
   "codemirror_mode": {
    "name": "ipython",
    "version": 3
   },
   "file_extension": ".py",
   "mimetype": "text/x-python",
   "name": "python",
   "nbconvert_exporter": "python",
   "pygments_lexer": "ipython3",
   "version": "3.8.11"
  }
 },
 "nbformat": 4,
 "nbformat_minor": 5
}
