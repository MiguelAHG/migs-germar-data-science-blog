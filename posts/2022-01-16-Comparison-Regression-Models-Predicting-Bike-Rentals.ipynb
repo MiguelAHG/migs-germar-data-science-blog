{
 "cells": [
  {
   "cell_type": "raw",
   "metadata": {},
   "source": [
    "---\n",
    "aliases:\n",
    "- /python/pandas/numpy/matplotlib/seaborn/sklearn/statsmodels/2022/01/16/Comparison-Regression-Models-Predicting-Bike-Rentals\n",
    "author: Migs Germar\n",
    "\n",
    "branch: master\n",
    "categories:\n",
    "- python\n",
    "- pandas\n",
    "- matplotlib\n",
    "- seaborn\n",
    "- sklearn\n",
    "- statsmodels\n",
    "date: '2022-01-16'\n",
    "description: I compare the performance of three machine learning models (linear regression,\n",
    "  decision tree, random forest) in predicting the number of bike rentals that may\n",
    "  occur at a given time in Washington, D.C.\n",
    "image: images/notebook-images/random-forest-bike-rentals/bike-sharing_stephane-mingot_unsplash.jpg\n",
    "output-file: 2022-01-16-comparison-regression-models-predicting-bike-rentals.html\n",
    "\n",
    "title: Comparison of Regression Models for Predicting Bike Rentals\n",
    "toc: true\n",
    "\n",
    "---\n",
    "\n"
   ]
  },
  {
   "attachments": {},
   "cell_type": "markdown",
   "id": "mounted-prime",
   "metadata": {},
   "source": [
    "![](images/notebook-images/random-forest-bike-rentals/bike-sharing_stephane-mingot_unsplash.jpg){fig-align=\"center\"}\n",
    "\n",
    "<center><a href = \"https://unsplash.com/photos/e8msPzLTXxU\">Unsplash | Stéphane Mingot</a></center>"
   ]
  },
  {
   "attachments": {},
   "cell_type": "markdown",
   "id": "aware-valuable",
   "metadata": {},
   "source": [
    "# Introduction\n",
    "\n",
    "Regression models refer to a class of machine learning models that predict continuous variables. That is, they predict quantities such as the count of an object, its price, its size, its mass, etc. This is what makes regression models different from classification models, which predict discrete categories such as positive and negative test results, survival or death, place of origin, etc.\n",
    "\n",
    "In this project, I will compare three different regression models: linear regression, decision tree, and random forest. I will use these to predict the number of people who will rent a bike from the bike sharing stations in Washington, D.C. at a given hour of a given day. I will then compare the performance of these models and discuss the factors that may have affected their performance."
   ]
  },
  {
   "attachments": {},
   "cell_type": "markdown",
   "id": "administrative-negotiation",
   "metadata": {},
   "source": [
    ":::{.callout-note}\n",
    "\n",
    "I wrote this notebook by following a guided project on the [Dataquest](https://www.dataquest.io/) platform, specifically the [Guided Project: Predicting Bike Rentals](https://app.dataquest.io/c/22/m/213/guided-project%3A-predicting-bike-rentals/1/introduction-to-the-dataset). The general project flow and research questions were guided by Dataquest. Other than what was instructed, I also added my own steps. You can visit the [official solution](https://github.com/dataquestio/solutions/blob/master/Mission213Solution.ipynb) to compare it to my project.\n",
    "\n",
    ":::"
   ]
  },
  {
   "attachments": {},
   "cell_type": "markdown",
   "id": "a0078ec9",
   "metadata": {},
   "source": [
    "Below are the packages imported for this project."
   ]
  },
  {
   "cell_type": "code",
   "execution_count": 1,
   "id": "03322953",
   "metadata": {},
   "outputs": [],
   "source": [
    "import pandas as pd\n",
    "import numpy as np\n",
    "import matplotlib.pyplot as plt\n",
    "import seaborn as sns\n",
    "import statsmodels.api as sms\n",
    "from sklearn.linear_model import LinearRegression\n",
    "from sklearn.tree import DecisionTreeRegressor\n",
    "from sklearn.ensemble import RandomForestRegressor\n",
    "from sklearn.metrics import mean_squared_error\n",
    "\n",
    "# Custom modules\n",
    "from custom_modules import linreg_tools as lrt"
   ]
  },
  {
   "attachments": {},
   "cell_type": "markdown",
   "id": "2fa6e845",
   "metadata": {},
   "source": [
    "Note that some of the imported modules are custom ones that I wrote. To view these modules, visit this [directory](https://github.com/MiguelAHG/migs-germar-data-science-blog/tree/main/posts/custom_modules) in my website's repository."
   ]
  },
  {
   "attachments": {},
   "cell_type": "markdown",
   "id": "2440d9f7",
   "metadata": {},
   "source": [
    "# The Dataset\n",
    "\n",
    "The \"Bike Sharing Dataset\" was donated to the UCI Machine Learning Repository by Hadi Fanaee-T in 2013. It contains data on bike rentals in Washington, D.C. from 2011-2012. The first 5 rows of the data are shown below."
   ]
  },
  {
   "cell_type": "code",
   "execution_count": 2,
   "id": "06da4ca6",
   "metadata": {},
   "outputs": [
    {
     "data": {
      "text/html": [
       "<div>\n",
       "<style scoped>\n",
       "    .dataframe tbody tr th:only-of-type {\n",
       "        vertical-align: middle;\n",
       "    }\n",
       "\n",
       "    .dataframe tbody tr th {\n",
       "        vertical-align: top;\n",
       "    }\n",
       "\n",
       "    .dataframe thead th {\n",
       "        text-align: right;\n",
       "    }\n",
       "</style>\n",
       "<table border=\"1\" class=\"dataframe\">\n",
       "  <thead>\n",
       "    <tr style=\"text-align: right;\">\n",
       "      <th></th>\n",
       "      <th>instant</th>\n",
       "      <th>dteday</th>\n",
       "      <th>season</th>\n",
       "      <th>yr</th>\n",
       "      <th>mnth</th>\n",
       "      <th>hr</th>\n",
       "      <th>holiday</th>\n",
       "      <th>weekday</th>\n",
       "      <th>workingday</th>\n",
       "      <th>weathersit</th>\n",
       "      <th>temp</th>\n",
       "      <th>atemp</th>\n",
       "      <th>hum</th>\n",
       "      <th>windspeed</th>\n",
       "      <th>casual</th>\n",
       "      <th>registered</th>\n",
       "      <th>cnt</th>\n",
       "    </tr>\n",
       "  </thead>\n",
       "  <tbody>\n",
       "    <tr>\n",
       "      <th>0</th>\n",
       "      <td>1</td>\n",
       "      <td>2011-01-01</td>\n",
       "      <td>1</td>\n",
       "      <td>0</td>\n",
       "      <td>1</td>\n",
       "      <td>0</td>\n",
       "      <td>0</td>\n",
       "      <td>6</td>\n",
       "      <td>0</td>\n",
       "      <td>1</td>\n",
       "      <td>0.24</td>\n",
       "      <td>0.2879</td>\n",
       "      <td>0.81</td>\n",
       "      <td>0.0</td>\n",
       "      <td>3</td>\n",
       "      <td>13</td>\n",
       "      <td>16</td>\n",
       "    </tr>\n",
       "    <tr>\n",
       "      <th>1</th>\n",
       "      <td>2</td>\n",
       "      <td>2011-01-01</td>\n",
       "      <td>1</td>\n",
       "      <td>0</td>\n",
       "      <td>1</td>\n",
       "      <td>1</td>\n",
       "      <td>0</td>\n",
       "      <td>6</td>\n",
       "      <td>0</td>\n",
       "      <td>1</td>\n",
       "      <td>0.22</td>\n",
       "      <td>0.2727</td>\n",
       "      <td>0.80</td>\n",
       "      <td>0.0</td>\n",
       "      <td>8</td>\n",
       "      <td>32</td>\n",
       "      <td>40</td>\n",
       "    </tr>\n",
       "    <tr>\n",
       "      <th>2</th>\n",
       "      <td>3</td>\n",
       "      <td>2011-01-01</td>\n",
       "      <td>1</td>\n",
       "      <td>0</td>\n",
       "      <td>1</td>\n",
       "      <td>2</td>\n",
       "      <td>0</td>\n",
       "      <td>6</td>\n",
       "      <td>0</td>\n",
       "      <td>1</td>\n",
       "      <td>0.22</td>\n",
       "      <td>0.2727</td>\n",
       "      <td>0.80</td>\n",
       "      <td>0.0</td>\n",
       "      <td>5</td>\n",
       "      <td>27</td>\n",
       "      <td>32</td>\n",
       "    </tr>\n",
       "    <tr>\n",
       "      <th>3</th>\n",
       "      <td>4</td>\n",
       "      <td>2011-01-01</td>\n",
       "      <td>1</td>\n",
       "      <td>0</td>\n",
       "      <td>1</td>\n",
       "      <td>3</td>\n",
       "      <td>0</td>\n",
       "      <td>6</td>\n",
       "      <td>0</td>\n",
       "      <td>1</td>\n",
       "      <td>0.24</td>\n",
       "      <td>0.2879</td>\n",
       "      <td>0.75</td>\n",
       "      <td>0.0</td>\n",
       "      <td>3</td>\n",
       "      <td>10</td>\n",
       "      <td>13</td>\n",
       "    </tr>\n",
       "    <tr>\n",
       "      <th>4</th>\n",
       "      <td>5</td>\n",
       "      <td>2011-01-01</td>\n",
       "      <td>1</td>\n",
       "      <td>0</td>\n",
       "      <td>1</td>\n",
       "      <td>4</td>\n",
       "      <td>0</td>\n",
       "      <td>6</td>\n",
       "      <td>0</td>\n",
       "      <td>1</td>\n",
       "      <td>0.24</td>\n",
       "      <td>0.2879</td>\n",
       "      <td>0.75</td>\n",
       "      <td>0.0</td>\n",
       "      <td>0</td>\n",
       "      <td>1</td>\n",
       "      <td>1</td>\n",
       "    </tr>\n",
       "  </tbody>\n",
       "</table>\n",
       "</div>"
      ],
      "text/plain": [
       "   instant     dteday  season  yr  mnth  hr  holiday  weekday  workingday  \\\n",
       "0        1 2011-01-01       1   0     1   0        0        6           0   \n",
       "1        2 2011-01-01       1   0     1   1        0        6           0   \n",
       "2        3 2011-01-01       1   0     1   2        0        6           0   \n",
       "3        4 2011-01-01       1   0     1   3        0        6           0   \n",
       "4        5 2011-01-01       1   0     1   4        0        6           0   \n",
       "\n",
       "   weathersit  temp   atemp   hum  windspeed  casual  registered  cnt  \n",
       "0           1  0.24  0.2879  0.81        0.0       3          13   16  \n",
       "1           1  0.22  0.2727  0.80        0.0       8          32   40  \n",
       "2           1  0.22  0.2727  0.80        0.0       5          27   32  \n",
       "3           1  0.24  0.2879  0.75        0.0       3          10   13  \n",
       "4           1  0.24  0.2879  0.75        0.0       0           1    1  "
      ]
     },
     "execution_count": 2,
     "metadata": {},
     "output_type": "execute_result"
    }
   ],
   "source": [
    "#| code-fold: true\n",
    "data = pd.read_csv(\"./private/Bike-Rentals-Files/hour.csv\")\n",
    "\n",
    "data.dteday = pd.to_datetime(data.dteday)\n",
    "\n",
    "data.head()"
   ]
  },
  {
   "attachments": {},
   "cell_type": "markdown",
   "id": "6f5e6bfb",
   "metadata": {},
   "source": [
    "Each row contains data for one hour of a certain day. The `dteday` column shows the date, and the `hr` column shows the hour from 0 (midnight) to 23 (11:00 PM). Also, the `instant` column provides an identification number for each row.\n",
    "\n",
    "The `cnt` variable shows the total number of people who rented bikes during a given hour. It is the sum of the `casual` (casual renters) and `registered` (registered renters) variables. The other variables describe conditions like the weather.\n",
    "\n",
    "For more information on the variables, one can visit the [data documentation](http://archive.ics.uci.edu/ml/datasets/Bike+Sharing+Dataset) and scroll down to \"Attribute Information\". Note that this link is also the link from which I downloaded the dataset.\n",
    "\n",
    "Let us look at a summary of the variables."
   ]
  },
  {
   "cell_type": "code",
   "execution_count": 3,
   "id": "e80589ed",
   "metadata": {},
   "outputs": [
    {
     "name": "stdout",
     "output_type": "stream",
     "text": [
      "<class 'pandas.core.frame.DataFrame'>\n",
      "RangeIndex: 17379 entries, 0 to 17378\n",
      "Data columns (total 17 columns):\n",
      " #   Column      Non-Null Count  Dtype         \n",
      "---  ------      --------------  -----         \n",
      " 0   instant     17379 non-null  int64         \n",
      " 1   dteday      17379 non-null  datetime64[ns]\n",
      " 2   season      17379 non-null  int64         \n",
      " 3   yr          17379 non-null  int64         \n",
      " 4   mnth        17379 non-null  int64         \n",
      " 5   hr          17379 non-null  int64         \n",
      " 6   holiday     17379 non-null  int64         \n",
      " 7   weekday     17379 non-null  int64         \n",
      " 8   workingday  17379 non-null  int64         \n",
      " 9   weathersit  17379 non-null  int64         \n",
      " 10  temp        17379 non-null  float64       \n",
      " 11  atemp       17379 non-null  float64       \n",
      " 12  hum         17379 non-null  float64       \n",
      " 13  windspeed   17379 non-null  float64       \n",
      " 14  casual      17379 non-null  int64         \n",
      " 15  registered  17379 non-null  int64         \n",
      " 16  cnt         17379 non-null  int64         \n",
      "dtypes: datetime64[ns](1), float64(4), int64(12)\n",
      "memory usage: 2.3 MB\n"
     ]
    }
   ],
   "source": [
    "#| code-fold: true\n",
    "data.info()"
   ]
  },
  {
   "attachments": {},
   "cell_type": "markdown",
   "id": "38270f60",
   "metadata": {},
   "source": [
    "The summary above shows that there are 17,379 rows and 17 columns. None of the rows have null values. Furthermore, all of the columns have numeric data types, with the exception of `dteday`, which contains datetime values.\n",
    "\n",
    "However, according to the documentation, the following variables are nominal or ordinal despite being numeric:\n",
    "\n",
    "- `instant` provides an ID number to each entry.\n",
    "- `season` ranges from winter (1) to fall (4).\n",
    "- `holiday` contains values of 1 if the day is a holiday, else 0.\n",
    "- `workingday` contains values of 1 if the day is neither a holiday nor weekday, else 0.\n",
    "- `weathersit` ranges from 1 (mild weather) to 4 (certain extreme weather conditions).\n",
    "\n",
    "`instant` should not be used as a predictor variable, but the others may be used. I must keep in mind, however, that linear regression treats all variables as continuous. It assumes that each one-unit change in a predictor variable increases or decreases the target variable by a set amount.\n",
    "\n",
    "Another concern is the `hr` variable, which indicates the hour of the day from 0 (midnight) to 23 (11:00 PM). This variable is rather fine-grained, and it would be interesting to experiment with creating a new variable that groups certain hours together. That is, 1 would refer to the morning, 2 to the afternoon, 3 to the evening, and 4 to night time.\n",
    "\n",
    "This variable has been created below, and it has been named `time_label`."
   ]
  },
  {
   "cell_type": "code",
   "execution_count": 4,
   "id": "9abad146",
   "metadata": {},
   "outputs": [
    {
     "data": {
      "text/html": [
       "<div>\n",
       "<style scoped>\n",
       "    .dataframe tbody tr th:only-of-type {\n",
       "        vertical-align: middle;\n",
       "    }\n",
       "\n",
       "    .dataframe tbody tr th {\n",
       "        vertical-align: top;\n",
       "    }\n",
       "\n",
       "    .dataframe thead th {\n",
       "        text-align: right;\n",
       "    }\n",
       "</style>\n",
       "<table border=\"1\" class=\"dataframe\">\n",
       "  <thead>\n",
       "    <tr style=\"text-align: right;\">\n",
       "      <th></th>\n",
       "      <th>hr</th>\n",
       "      <th>time_label</th>\n",
       "    </tr>\n",
       "  </thead>\n",
       "  <tbody>\n",
       "    <tr>\n",
       "      <th>0</th>\n",
       "      <td>0</td>\n",
       "      <td>4</td>\n",
       "    </tr>\n",
       "    <tr>\n",
       "      <th>1</th>\n",
       "      <td>1</td>\n",
       "      <td>4</td>\n",
       "    </tr>\n",
       "    <tr>\n",
       "      <th>2</th>\n",
       "      <td>2</td>\n",
       "      <td>4</td>\n",
       "    </tr>\n",
       "    <tr>\n",
       "      <th>3</th>\n",
       "      <td>3</td>\n",
       "      <td>4</td>\n",
       "    </tr>\n",
       "    <tr>\n",
       "      <th>4</th>\n",
       "      <td>4</td>\n",
       "      <td>4</td>\n",
       "    </tr>\n",
       "  </tbody>\n",
       "</table>\n",
       "</div>"
      ],
      "text/plain": [
       "   hr  time_label\n",
       "0   0           4\n",
       "1   1           4\n",
       "2   2           4\n",
       "3   3           4\n",
       "4   4           4"
      ]
     },
     "execution_count": 4,
     "metadata": {},
     "output_type": "execute_result"
    }
   ],
   "source": [
    "#| code-fold: true\n",
    "# Make time_label column\n",
    "\n",
    "def hour_to_label(h):\n",
    "    \"\"\"Convert an integer representing an hour of the day to an integer representing a section of the day-night cycle.\n",
    "    1: morning, 2: afternoon, 3: evening, 4: night.\"\"\"\n",
    "    if h >= 6 and h < 12:\n",
    "        return 1\n",
    "    elif h >= 12 and h < 18:\n",
    "        return 2\n",
    "    elif h >= 18 and h < 24:\n",
    "        return 3\n",
    "    elif h >= 0 and h < 6:\n",
    "        return 4\n",
    "\n",
    "data[\"time_label\"] = data.hr.apply(hour_to_label)\n",
    "\n",
    "data[[\"hr\", \"time_label\"]].head()"
   ]
  },
  {
   "attachments": {},
   "cell_type": "markdown",
   "id": "a07f41c2",
   "metadata": {},
   "source": [
    "The table above shows the first 5 rows and the `hr` and `time_label` columns. Since the hours from 00:00 to 04:00 occur in the middle of the night, the `time_label` values are 4.\n",
    "\n",
    "Now, data inspection and cleaning are done, so I can move on to the models."
   ]
  },
  {
   "attachments": {},
   "cell_type": "markdown",
   "id": "0ee55a75",
   "metadata": {},
   "source": [
    "# Linear Regression\n",
    "\n",
    "The first of the three models is linear regression. It attempts to determine how predictors affect the target variable by assigning each predictor a coefficient. The coefficients are then used in an equation to come up with a predicted value for a new observation.\n",
    "\n",
    "Note that I may not go into full detail about the steps that I am performing. To know more about the details, view my other [post](2021-12-28-Linear-Regression-House-Prices.ipynb) on linear regression for predicting house sale prices."
   ]
  },
  {
   "attachments": {},
   "cell_type": "markdown",
   "id": "4291a60b",
   "metadata": {},
   "source": [
    "## Feature Selection\n",
    "\n",
    "I must select features that have a useful linear relationship with the number of bike rentals (`cnt`). The code cell below lists the initial list of features that I will consider. I will not use `casual` and `registered` since these are systematically related to `cnt`."
   ]
  },
  {
   "cell_type": "code",
   "execution_count": 5,
   "id": "b5818b50",
   "metadata": {},
   "outputs": [],
   "source": [
    "considered_features = pd.Series([\n",
    "    \"season\",\n",
    "    \"yr\",\n",
    "    \"mnth\",\n",
    "    \"hr\",\n",
    "    \"time_label\",\n",
    "    \"holiday\",\n",
    "    \"weekday\",\n",
    "    \"workingday\",\n",
    "    \"weathersit\",\n",
    "    \"temp\",\n",
    "    \"atemp\",\n",
    "    \"hum\",\n",
    "    \"windspeed\",\n",
    "])"
   ]
  },
  {
   "attachments": {},
   "cell_type": "markdown",
   "id": "cfc8bfe9",
   "metadata": {},
   "source": [
    "First, I can find the Pearson's correlation coefficient between each variable and the target."
   ]
  },
  {
   "cell_type": "code",
   "execution_count": 6,
   "id": "6392fe0e",
   "metadata": {},
   "outputs": [
    {
     "name": "stdout",
     "output_type": "stream",
     "text": [
      "Correlation Coefficient of each Variable with `cnt`\n"
     ]
    },
    {
     "data": {
      "text/plain": [
       "temp          0.404772\n",
       "atemp         0.400929\n",
       "hr            0.394071\n",
       "time_label   -0.378318\n",
       "hum          -0.322911\n",
       "yr            0.250495\n",
       "season        0.178056\n",
       "weathersit   -0.142426\n",
       "mnth          0.120638\n",
       "windspeed     0.093234\n",
       "holiday      -0.030927\n",
       "workingday    0.030284\n",
       "weekday       0.026900\n",
       "Name: cnt, dtype: float64"
      ]
     },
     "execution_count": 6,
     "metadata": {},
     "output_type": "execute_result"
    }
   ],
   "source": [
    "#| code-fold: true\n",
    "target_col = \"cnt\"\n",
    "\n",
    "# Correlation coefficient of each variable with cnt\n",
    "cnt_corr = (\n",
    "    data\n",
    "    .loc[:, considered_features.tolist() + [target_col]]\n",
    "    .corr()\n",
    "    .loc[:, \"cnt\"]\n",
    "    .drop(index = \"cnt\")\n",
    "    # Sort by distance from 0\n",
    "    .sort_values(key = np.abs, ascending = False)\n",
    ")\n",
    "\n",
    "print(\"Correlation Coefficient of each Variable with `cnt`\")\n",
    "cnt_corr"
   ]
  },
  {
   "attachments": {},
   "cell_type": "markdown",
   "id": "ceccd20c",
   "metadata": {},
   "source": [
    "The coefficients have been ordered by distance from 0, descending. Coefficients farther from 0 indicate stronger correlation.\n",
    "\n",
    "It appears that the temperature (`temp`) and feeling temperature (`atemp`) have the strongest correlation with bike rentals, so it is likely that these will be significant predictors.\n",
    "\n",
    "As for the other variables, I will not drop any of them based solely on their correlation coefficient. This decision may seem strange since some variables have very weak correlations, even less than 0.10. However, one must note that these coefficients are the results of univariate tests. It is still possible for a variable to become significant when the effects of other variables are taken into consideration in multiple linear regression. Furthermore, the sample size is large (n = 17379), so there is little risk of overfitting from having too many predictors.\n",
    "\n",
    "However, I do have to drop predictors if they have multicollinearity issues. Thus, I have generated a correlation heatmap to inspect correlations among predictors."
   ]
  },
  {
   "cell_type": "code",
   "execution_count": 7,
   "id": "1fb0a53a",
   "metadata": {},
   "outputs": [
    {
     "data": {
      "image/png": "[encoded data removed]",
      "text/plain": [
       "<Figure size 1440x1008 with 1 Axes>"
      ]
     },
     "metadata": {
      "needs_background": "light"
     },
     "output_type": "display_data"
    }
   ],
   "source": [
    "#| code-fold: true\n",
    "lrt.correlation_heatmap(data[considered_features.tolist() + [target_col]].corr())"
   ]
  },
  {
   "attachments": {},
   "cell_type": "markdown",
   "id": "a560665f",
   "metadata": {},
   "source": [
    "In the heatmap above, blue represents positive correlations, red represents negative correlations, and darker shades represent stronger correlations.\n",
    "\n",
    "It appears that `temp` and `atemp` are highly correlated (0.99). Thus, I will keep `atemp` since it is the \"feeling\" temperature (temperature perceived by humans).\n",
    "\n",
    "Furthermore, `mnth` and `season` have a coefficient of 0.83. Thus, I will drop `season` because it is less specific compared to `mnth`.\n",
    "\n",
    "Lastly, `weathersit` and `hum` (humidity) have a coefficient of 0.42. Thus, I will drop `weathersit` because `hum` has a higher correlation with the target, `cnt`.\n",
    "\n",
    "By dropping the mentioned variables, I will avoid multicollinearity in the model."
   ]
  },
  {
   "cell_type": "code",
   "execution_count": 8,
   "id": "45d68a65",
   "metadata": {},
   "outputs": [
    {
     "data": {
      "text/plain": [
       "1             yr\n",
       "2           mnth\n",
       "3             hr\n",
       "4     time_label\n",
       "5        holiday\n",
       "6        weekday\n",
       "7     workingday\n",
       "10         atemp\n",
       "11           hum\n",
       "12     windspeed\n",
       "dtype: object"
      ]
     },
     "execution_count": 8,
     "metadata": {},
     "output_type": "execute_result"
    }
   ],
   "source": [
    "#| code-fold: true\n",
    "considered_features = considered_features.loc[~considered_features.isin([\"temp\", \"season\", \"weathersit\"])]\n",
    "\n",
    "considered_features"
   ]
  },
  {
   "attachments": {},
   "cell_type": "markdown",
   "id": "2f4fb446",
   "metadata": {},
   "source": [
    "Above is the final list of variables that I will use in linear regression."
   ]
  },
  {
   "attachments": {},
   "cell_type": "markdown",
   "id": "e491a955",
   "metadata": {},
   "source": [
    "## Statistical Inference\n",
    "\n",
    "Now, I will perform statistical inference with the statsmodels package to check for significance values and other assumptions of linear regression."
   ]
  },
  {
   "cell_type": "code",
   "execution_count": 9,
   "id": "5d836ac5",
   "metadata": {},
   "outputs": [
    {
     "name": "stderr",
     "output_type": "stream",
     "text": [
      "C:\\Users\\migs\\anaconda3\\envs\\new_streamlit_env2\\lib\\site-packages\\statsmodels\\tsa\\tsatools.py:142: FutureWarning: In a future version of pandas all arguments of concat except for the argument 'objs' will be keyword-only\n",
      "  x = pd.concat(x[::order], 1)\n"
     ]
    },
    {
     "data": {
      "text/html": [
       "<div>\n",
       "<style scoped>\n",
       "    .dataframe tbody tr th:only-of-type {\n",
       "        vertical-align: middle;\n",
       "    }\n",
       "\n",
       "    .dataframe tbody tr th {\n",
       "        vertical-align: top;\n",
       "    }\n",
       "\n",
       "    .dataframe thead th {\n",
       "        text-align: right;\n",
       "    }\n",
       "</style>\n",
       "<table border=\"1\" class=\"dataframe\">\n",
       "  <thead>\n",
       "    <tr style=\"text-align: right;\">\n",
       "      <th></th>\n",
       "      <th>0</th>\n",
       "      <th>1</th>\n",
       "      <th>2</th>\n",
       "      <th>3</th>\n",
       "    </tr>\n",
       "  </thead>\n",
       "  <tbody>\n",
       "    <tr>\n",
       "      <th>0</th>\n",
       "      <td>Dep. Variable:</td>\n",
       "      <td>cnt</td>\n",
       "      <td>R-squared:</td>\n",
       "      <td>0.463</td>\n",
       "    </tr>\n",
       "    <tr>\n",
       "      <th>1</th>\n",
       "      <td>Model:</td>\n",
       "      <td>OLS</td>\n",
       "      <td>Adj. R-squared:</td>\n",
       "      <td>0.463</td>\n",
       "    </tr>\n",
       "    <tr>\n",
       "      <th>2</th>\n",
       "      <td>Method:</td>\n",
       "      <td>Least Squares</td>\n",
       "      <td>F-statistic:</td>\n",
       "      <td>1497.000</td>\n",
       "    </tr>\n",
       "    <tr>\n",
       "      <th>3</th>\n",
       "      <td>Date:</td>\n",
       "      <td>Sun, 16 Jan 2022</td>\n",
       "      <td>Prob (F-statistic):</td>\n",
       "      <td>0.000</td>\n",
       "    </tr>\n",
       "    <tr>\n",
       "      <th>4</th>\n",
       "      <td>Time:</td>\n",
       "      <td>13:13:59</td>\n",
       "      <td>Log-Likelihood:</td>\n",
       "      <td>-109640.000</td>\n",
       "    </tr>\n",
       "    <tr>\n",
       "      <th>5</th>\n",
       "      <td>No. Observations:</td>\n",
       "      <td>17379</td>\n",
       "      <td>AIC:</td>\n",
       "      <td>219300.000</td>\n",
       "    </tr>\n",
       "    <tr>\n",
       "      <th>6</th>\n",
       "      <td>Df Residuals:</td>\n",
       "      <td>17368</td>\n",
       "      <td>BIC:</td>\n",
       "      <td>219400.000</td>\n",
       "    </tr>\n",
       "    <tr>\n",
       "      <th>7</th>\n",
       "      <td>Df Model:</td>\n",
       "      <td>10</td>\n",
       "      <td>NaN</td>\n",
       "      <td>NaN</td>\n",
       "    </tr>\n",
       "    <tr>\n",
       "      <th>8</th>\n",
       "      <td>Covariance Type:</td>\n",
       "      <td>nonrobust</td>\n",
       "      <td>NaN</td>\n",
       "      <td>NaN</td>\n",
       "    </tr>\n",
       "  </tbody>\n",
       "</table>\n",
       "</div>"
      ],
      "text/plain": [
       "                   0                 1                    2           3\n",
       "0     Dep. Variable:               cnt           R-squared:       0.463\n",
       "1             Model:               OLS      Adj. R-squared:       0.463\n",
       "2            Method:     Least Squares         F-statistic:    1497.000\n",
       "3              Date:  Sun, 16 Jan 2022  Prob (F-statistic):       0.000\n",
       "4              Time:          13:13:59      Log-Likelihood: -109640.000\n",
       "5  No. Observations:             17379                 AIC:  219300.000\n",
       "6      Df Residuals:             17368                 BIC:  219400.000\n",
       "7          Df Model:                10                  NaN         NaN\n",
       "8   Covariance Type:         nonrobust                  NaN         NaN"
      ]
     },
     "execution_count": 9,
     "metadata": {},
     "output_type": "execute_result"
    }
   ],
   "source": [
    "#| code-fold: true\n",
    "X = sms.add_constant(data[considered_features])\n",
    "y = data[target_col]\n",
    "\n",
    "vif_df = lrt.get_vif(X)\n",
    "\n",
    "model = sms.OLS(y, X)\n",
    "results = model.fit()\n",
    "summary = results.summary()\n",
    "tables = lrt.extract_summary(summary, vif_df)\n",
    "\n",
    "tables[0]"
   ]
  },
  {
   "attachments": {},
   "cell_type": "markdown",
   "id": "fcf75943",
   "metadata": {},
   "source": [
    "Above is the first table of results provided by the statsmodels package. Unfortunately, though the model's F-statistic is significant (p < 0.05), the R-squared value is 0.463. Therefore, the model only explains 46.3% of the variance in the data. This ideally should be close to 100%."
   ]
  },
  {
   "cell_type": "code",
   "execution_count": 10,
   "id": "ead2e0d7",
   "metadata": {},
   "outputs": [
    {
     "data": {
      "text/html": [
       "<div>\n",
       "<style scoped>\n",
       "    .dataframe tbody tr th:only-of-type {\n",
       "        vertical-align: middle;\n",
       "    }\n",
       "\n",
       "    .dataframe tbody tr th {\n",
       "        vertical-align: top;\n",
       "    }\n",
       "\n",
       "    .dataframe thead th {\n",
       "        text-align: right;\n",
       "    }\n",
       "</style>\n",
       "<table border=\"1\" class=\"dataframe\">\n",
       "  <thead>\n",
       "    <tr style=\"text-align: right;\">\n",
       "      <th></th>\n",
       "      <th>coef</th>\n",
       "      <th>std err</th>\n",
       "      <th>t</th>\n",
       "      <th>P&gt;|t|</th>\n",
       "      <th>[0.025</th>\n",
       "      <th>0.975]</th>\n",
       "      <th>VIF</th>\n",
       "    </tr>\n",
       "    <tr>\n",
       "      <th>feature</th>\n",
       "      <th></th>\n",
       "      <th></th>\n",
       "      <th></th>\n",
       "      <th></th>\n",
       "      <th></th>\n",
       "      <th></th>\n",
       "      <th></th>\n",
       "    </tr>\n",
       "  </thead>\n",
       "  <tbody>\n",
       "    <tr>\n",
       "      <th>const</th>\n",
       "      <td>104.2364</td>\n",
       "      <td>6.885</td>\n",
       "      <td>15.139</td>\n",
       "      <td>0.000</td>\n",
       "      <td>90.741</td>\n",
       "      <td>117.732</td>\n",
       "      <td>46.593076</td>\n",
       "    </tr>\n",
       "    <tr>\n",
       "      <th>yr</th>\n",
       "      <td>81.9409</td>\n",
       "      <td>2.028</td>\n",
       "      <td>40.405</td>\n",
       "      <td>0.000</td>\n",
       "      <td>77.966</td>\n",
       "      <td>85.916</td>\n",
       "      <td>1.010528</td>\n",
       "    </tr>\n",
       "    <tr>\n",
       "      <th>mnth</th>\n",
       "      <td>4.9372</td>\n",
       "      <td>0.306</td>\n",
       "      <td>16.130</td>\n",
       "      <td>0.000</td>\n",
       "      <td>4.337</td>\n",
       "      <td>5.537</td>\n",
       "      <td>1.088734</td>\n",
       "    </tr>\n",
       "    <tr>\n",
       "      <th>hr</th>\n",
       "      <td>6.4545</td>\n",
       "      <td>0.155</td>\n",
       "      <td>41.600</td>\n",
       "      <td>0.000</td>\n",
       "      <td>6.150</td>\n",
       "      <td>6.759</td>\n",
       "      <td>1.131082</td>\n",
       "    </tr>\n",
       "    <tr>\n",
       "      <th>time_label</th>\n",
       "      <td>-46.7594</td>\n",
       "      <td>0.928</td>\n",
       "      <td>-50.394</td>\n",
       "      <td>0.000</td>\n",
       "      <td>-48.578</td>\n",
       "      <td>-44.941</td>\n",
       "      <td>1.052451</td>\n",
       "    </tr>\n",
       "    <tr>\n",
       "      <th>holiday</th>\n",
       "      <td>-24.0548</td>\n",
       "      <td>6.269</td>\n",
       "      <td>-3.837</td>\n",
       "      <td>0.000</td>\n",
       "      <td>-36.343</td>\n",
       "      <td>-11.767</td>\n",
       "      <td>1.079365</td>\n",
       "    </tr>\n",
       "    <tr>\n",
       "      <th>weekday</th>\n",
       "      <td>1.9334</td>\n",
       "      <td>0.506</td>\n",
       "      <td>3.819</td>\n",
       "      <td>0.000</td>\n",
       "      <td>0.941</td>\n",
       "      <td>2.926</td>\n",
       "      <td>1.013161</td>\n",
       "    </tr>\n",
       "    <tr>\n",
       "      <th>workingday</th>\n",
       "      <td>3.8622</td>\n",
       "      <td>2.243</td>\n",
       "      <td>1.722</td>\n",
       "      <td>0.085</td>\n",
       "      <td>-0.535</td>\n",
       "      <td>8.259</td>\n",
       "      <td>1.071211</td>\n",
       "    </tr>\n",
       "    <tr>\n",
       "      <th>atemp</th>\n",
       "      <td>329.9434</td>\n",
       "      <td>6.103</td>\n",
       "      <td>54.058</td>\n",
       "      <td>0.000</td>\n",
       "      <td>317.980</td>\n",
       "      <td>341.907</td>\n",
       "      <td>1.081206</td>\n",
       "    </tr>\n",
       "    <tr>\n",
       "      <th>hum</th>\n",
       "      <td>-179.8373</td>\n",
       "      <td>5.760</td>\n",
       "      <td>-31.224</td>\n",
       "      <td>0.000</td>\n",
       "      <td>-191.127</td>\n",
       "      <td>-168.548</td>\n",
       "      <td>1.213499</td>\n",
       "    </tr>\n",
       "    <tr>\n",
       "      <th>windspeed</th>\n",
       "      <td>9.7759</td>\n",
       "      <td>8.717</td>\n",
       "      <td>1.121</td>\n",
       "      <td>0.262</td>\n",
       "      <td>-7.310</td>\n",
       "      <td>26.862</td>\n",
       "      <td>1.117727</td>\n",
       "    </tr>\n",
       "  </tbody>\n",
       "</table>\n",
       "</div>"
      ],
      "text/plain": [
       "                coef  std err       t  P>|t|   [0.025   0.975]        VIF\n",
       "feature                                                                  \n",
       "const       104.2364    6.885  15.139  0.000   90.741  117.732  46.593076\n",
       "yr           81.9409    2.028  40.405  0.000   77.966   85.916   1.010528\n",
       "mnth          4.9372    0.306  16.130  0.000    4.337    5.537   1.088734\n",
       "hr            6.4545    0.155  41.600  0.000    6.150    6.759   1.131082\n",
       "time_label  -46.7594    0.928 -50.394  0.000  -48.578  -44.941   1.052451\n",
       "holiday     -24.0548    6.269  -3.837  0.000  -36.343  -11.767   1.079365\n",
       "weekday       1.9334    0.506   3.819  0.000    0.941    2.926   1.013161\n",
       "workingday    3.8622    2.243   1.722  0.085   -0.535    8.259   1.071211\n",
       "atemp       329.9434    6.103  54.058  0.000  317.980  341.907   1.081206\n",
       "hum        -179.8373    5.760 -31.224  0.000 -191.127 -168.548   1.213499\n",
       "windspeed     9.7759    8.717   1.121  0.262   -7.310   26.862   1.117727"
      ]
     },
     "execution_count": 10,
     "metadata": {},
     "output_type": "execute_result"
    }
   ],
   "source": [
    "#| code-fold: true\n",
    "tables[1]"
   ]
  },
  {
   "attachments": {},
   "cell_type": "markdown",
   "id": "3104fe48",
   "metadata": {},
   "source": [
    "Next, above is the second table of model results, showing each predictor and its coefficients and other statistics. Notably, all of the variables were significant (p < 0.05), except for `workingday` and `windspeed`.\n",
    "\n",
    "It is also good that all of the predictors' variance inflation factors (VIF) were close to 1 and lower than 5. (Do not mind the VIF of `const`, since this represents the constant term, not a predictor.) These values indicate low multicollinearity among the predictors."
   ]
  },
  {
   "cell_type": "code",
   "execution_count": 11,
   "id": "edb6faef",
   "metadata": {},
   "outputs": [
    {
     "data": {
      "text/html": [
       "<div>\n",
       "<style scoped>\n",
       "    .dataframe tbody tr th:only-of-type {\n",
       "        vertical-align: middle;\n",
       "    }\n",
       "\n",
       "    .dataframe tbody tr th {\n",
       "        vertical-align: top;\n",
       "    }\n",
       "\n",
       "    .dataframe thead th {\n",
       "        text-align: right;\n",
       "    }\n",
       "</style>\n",
       "<table border=\"1\" class=\"dataframe\">\n",
       "  <thead>\n",
       "    <tr style=\"text-align: right;\">\n",
       "      <th></th>\n",
       "      <th>0</th>\n",
       "      <th>1</th>\n",
       "      <th>2</th>\n",
       "      <th>3</th>\n",
       "    </tr>\n",
       "  </thead>\n",
       "  <tbody>\n",
       "    <tr>\n",
       "      <th>0</th>\n",
       "      <td>Omnibus:</td>\n",
       "      <td>3471.487</td>\n",
       "      <td>Durbin-Watson:</td>\n",
       "      <td>0.663</td>\n",
       "    </tr>\n",
       "    <tr>\n",
       "      <th>1</th>\n",
       "      <td>Prob(Omnibus):</td>\n",
       "      <td>0.000</td>\n",
       "      <td>Jarque-Bera (JB):</td>\n",
       "      <td>7064.939</td>\n",
       "    </tr>\n",
       "    <tr>\n",
       "      <th>2</th>\n",
       "      <td>Skew:</td>\n",
       "      <td>1.192</td>\n",
       "      <td>Prob(JB):</td>\n",
       "      <td>0.000</td>\n",
       "    </tr>\n",
       "    <tr>\n",
       "      <th>3</th>\n",
       "      <td>Kurtosis:</td>\n",
       "      <td>5.018</td>\n",
       "      <td>Cond. No.</td>\n",
       "      <td>152.000</td>\n",
       "    </tr>\n",
       "  </tbody>\n",
       "</table>\n",
       "</div>"
      ],
      "text/plain": [
       "                0         1                  2         3\n",
       "0        Omnibus:  3471.487     Durbin-Watson:     0.663\n",
       "1  Prob(Omnibus):     0.000  Jarque-Bera (JB):  7064.939\n",
       "2           Skew:     1.192          Prob(JB):     0.000\n",
       "3       Kurtosis:     5.018          Cond. No.   152.000"
      ]
     },
     "execution_count": 11,
     "metadata": {},
     "output_type": "execute_result"
    }
   ],
   "source": [
    "#| code-fold: true\n",
    "tables[2]"
   ]
  },
  {
   "attachments": {},
   "cell_type": "markdown",
   "id": "a3743d2c",
   "metadata": {},
   "source": [
    "Lastly, the Jarque-Bera test statistic is significant, so the model violates the assumption of normality of residuals. Furthermore, the Durbin-Watson test statistic (0.663) is below the ideal range (1.5-2.5), indicating strong positive autocorrelation among residuals.\n",
    "\n",
    "Overall, due to the low R-squared value mentioned earlier and the violation of certain assumptions of linear regression, this model may not work very well for prediction. This will be tested in the next part."
   ]
  },
  {
   "attachments": {},
   "cell_type": "markdown",
   "id": "19c704e0",
   "metadata": {},
   "source": [
    "## Predictive Modelling\n",
    "\n",
    "Before making a predictive model, I must make training and testing sets. Given that the data is time-series data, it would be appropriate to ensure that all test set observations occur *after* the training set observations. This will allow me to test the models in a similar way to how they would be used in the real world: to predict the number of bike rentals at a given time in the future.\n",
    "\n",
    "Thus, before I perform a train-test split, I must order the observations by `dteday`. This has been done below."
   ]
  },
  {
   "cell_type": "code",
   "execution_count": 12,
   "id": "6479f60b",
   "metadata": {},
   "outputs": [
    {
     "name": "stderr",
     "output_type": "stream",
     "text": [
      "C:\\Users\\migs\\anaconda3\\envs\\new_streamlit_env2\\lib\\site-packages\\statsmodels\\tsa\\tsatools.py:142: FutureWarning: In a future version of pandas all arguments of concat except for the argument 'objs' will be keyword-only\n",
      "  x = pd.concat(x[::order], 1)\n"
     ]
    },
    {
     "data": {
      "image/png": "[encoded data removed]",
      "text/plain": [
       "<Figure size 432x288 with 1 Axes>"
      ]
     },
     "metadata": {
      "needs_background": "light"
     },
     "output_type": "display_data"
    }
   ],
   "source": [
    "#| code-fold: true\n",
    "from sklearn.model_selection import train_test_split\n",
    "\n",
    "data = data.sort_values(\"dteday\", ascending = True)\n",
    "\n",
    "X = sms.add_constant(data[considered_features])\n",
    "y = data[target_col]\n",
    "\n",
    "X_train, X_test, y_train, y_test = train_test_split(\n",
    "    X, y,\n",
    "    # When shuffle = False, the second part of the dataset is used as the test set.\n",
    "    shuffle = False,\n",
    "    test_size = 0.2,\n",
    ")\n",
    "\n",
    "# KDE plots\n",
    "sns.kdeplot(y_train)\n",
    "sns.kdeplot(y_test)\n",
    "plt.title(\"Comparison of Target Distributions\")\n",
    "plt.xlabel(\"Hourly Count of Bike Rentals\")\n",
    "plt.ylabel(\"Probability Density\")\n",
    "plt.legend([\"y_train\", \"y_test\"])\n",
    "plt.show()"
   ]
  },
  {
   "attachments": {},
   "cell_type": "markdown",
   "id": "97090f4e",
   "metadata": {},
   "source": [
    "After the train-test split, it seems that the two sets have roughly similar distributions. Both are right-skewed, as the low values appear frequently and the outliers are high values.\n",
    "\n",
    "Now, we can use RMSE (Root Mean Squared Error) to evaluate the predictive model."
   ]
  },
  {
   "cell_type": "code",
   "execution_count": 13,
   "id": "21b8804f",
   "metadata": {},
   "outputs": [
    {
     "name": "stdout",
     "output_type": "stream",
     "text": [
      "Linear Regression\n",
      "Train set: RMSE = 121.87152363617122\n",
      "Test set: RMSE = 171.70884445091582\n"
     ]
    }
   ],
   "source": [
    "#| code-fold: true\n",
    "lr = LinearRegression()\n",
    "lr.fit(X_train, y_train)\n",
    "\n",
    "def compare_train_test_rmse(model, X_train, X_test, y_train, y_test):\n",
    "    y_pred = model.predict(X_train)\n",
    "    mse = mean_squared_error(y_train, y_pred)\n",
    "    rmse = np.sqrt(mse)\n",
    "\n",
    "    print(f\"Train set: RMSE = {rmse}\")\n",
    "\n",
    "    y_pred = model.predict(X_test)\n",
    "    mse = mean_squared_error(y_test, y_pred)\n",
    "    rmse = np.sqrt(mse)\n",
    "\n",
    "    print(f\"Test set: RMSE = {rmse}\")\n",
    "\n",
    "print(\"Linear Regression\")\n",
    "compare_train_test_rmse(lr, X_train, X_test, y_train, y_test)"
   ]
  },
  {
   "attachments": {},
   "cell_type": "markdown",
   "id": "556b849c",
   "metadata": {},
   "source": [
    "Before I interpret these results, please note the following terminology:\n",
    "\n",
    "- RMSE: Root Mean Squared Error. It can be interpreted as the average distance of the predicted values from the real values. A lower value indicates better performance.\n",
    "- Test set RMSE: The RMSE resulting from evaluating the model on the testing set. We use this to assess how well the model performs on previously unseen data.\n",
    "- Train set RMSE: The RMSE resulting from evaluating the model on the training set. Since the model already saw the training set while it was being trained, this value is not a useful metric of performance. However, it is helpful for determining whether *overfitting* may have occurred.\n",
    "- Overfitting: The event in which the model has become too sensitive to the small changes in the training data. It is unable to identify the general patterns that help make accurate predictions. If the model performs much worse (higher RMSE) on the test set compared to the training set, this may indicate overfitting.\n",
    "\n",
    "The test set RMSE is roughly 172, which means that on average, the model's predicted counts of bike rentals were 172 off from the true counts. Let's put that into perspective by looking at the distribution of the target variable."
   ]
  },
  {
   "cell_type": "code",
   "execution_count": 14,
   "id": "368a484a",
   "metadata": {},
   "outputs": [
    {
     "data": {
      "image/png": "[encoded data removed]",
      "text/plain": [
       "<Figure size 432x288 with 1 Axes>"
      ]
     },
     "metadata": {
      "needs_background": "light"
     },
     "output_type": "display_data"
    }
   ],
   "source": [
    "sns.histplot(data = data, x = \"cnt\")\n",
    "plt.title(\"Distribution of Target Variable in the Whole Dataset\")\n",
    "plt.xlabel(\"Hourly Number of Bike Rentals\")\n",
    "plt.ylabel(\"Frequency\")\n",
    "plt.show()"
   ]
  },
  {
   "attachments": {},
   "cell_type": "markdown",
   "id": "4321e44d",
   "metadata": {},
   "source": [
    "The chart shows that the most common values in the distribution range between 0 and 400, and there are some outlying high values.\n",
    "\n",
    "Let's say that the true value of one observation is equal to 200 bike rentals. Since the RMSE is 172, the predicted value may usually end up being around 28 or 372. Each of these predictions is very low or high given the range of the distribution. Therefore, an RMSE of 172 indicates very poor predictive ability.\n",
    "\n",
    "Also, the test set RMSE is higher than the train set RMSE by around 50. Thus, the model has somewhat overfitted. It would be better if the test set RMSE is almost as low as the train set RMSE. This would indicate that the model is able to recognize general patterns.\n",
    "\n",
    "Later on, we'll see how this model compares to the other two models."
   ]
  },
  {
   "attachments": {},
   "cell_type": "markdown",
   "id": "aec7bb9a",
   "metadata": {},
   "source": [
    "# Decision Tree\n",
    "\n",
    "## A High-Level Explanation\n",
    "\n",
    "Here, I will briefly explain how decision trees work for regression problems, based on the Dataquest course and some articles by Sriram (2020) and Sayad (2022). Take note of the following terms:\n",
    "\n",
    "- feature, predictor: A variable used to make a prediction. Multiple features may be used in one model.\n",
    "- target, response variable: The variable that the model attempts to predict.\n",
    "\n",
    "Before a DT can make predictions, the tree must first be built. We start with one node, and each node has a conditional statement about a feature. For example, if the feature is temperature, a node may check whether the temperature is lower than 25 degrees Celsius. The \"False\" case splits off to the left branch, whereas the \"True\" case splits off to the right branch.\n",
    "\n",
    "To determine the best feature to use in a split, the model uses an *error metric*. For example, one may use Mean Squared Error, Mean Absolute Error, Standard Deviation, etc. At each split, the model determines the split that will maximize *error reduction*. Reducing the error means reducing the *spread* of the target values, so that the mean value is close to the real values.\n",
    "\n",
    "The tree keeps splitting nodes and branching off. Eventually, the tree reaches nodes where the error is very low. Thus, these nodes become leaf nodes. The mean target value of each node is used as the predicted value.\n",
    "\n",
    "When predictions are made on a new observation, the model starts at the root node, checks the conditional statement, moves to the appropriate branch, and repeats this process until a leaf node is reached. Then, the leaf node's predicted value is the output.\n",
    "\n",
    "The implication is that, unlike linear regression, the model does not assume that there are linear relationships between the predictors and the target. Rather, it narrows down the possible target values through process-of-elimination. Thus, it is able to find **non-linear relationships**. This makes DTs potentially more accurate than linear regression in some scenarios."
   ]
  },
  {
   "attachments": {},
   "cell_type": "markdown",
   "id": "5a5d964f",
   "metadata": {},
   "source": [
    "## Evaluating a DT Regressor\n",
    "\n",
    "Let's now create and evaluate a DT regressor. For the features of the model, I decided to use the ones listed below."
   ]
  },
  {
   "cell_type": "code",
   "execution_count": 15,
   "id": "18a9f34a",
   "metadata": {},
   "outputs": [],
   "source": [
    "considered_features = pd.Series([\n",
    "    \"season\",\n",
    "    \"yr\",\n",
    "    \"mnth\",\n",
    "    \"hr\",\n",
    "    \"time_label\",\n",
    "    \"holiday\",\n",
    "    \"weekday\",\n",
    "    \"workingday\",\n",
    "    \"weathersit\",\n",
    "    \"temp\",\n",
    "    \"atemp\",\n",
    "    \"hum\",\n",
    "    \"windspeed\",\n",
    "])"
   ]
  },
  {
   "attachments": {},
   "cell_type": "markdown",
   "id": "8dbba142",
   "metadata": {},
   "source": [
    "Earlier, I removed some features due to collinearity issues. However, collinearity is not an issue for Decision Trees because these are not like linear regression. That is why I have not removed the collinear features before performing Decision Tree regression.\n",
    "\n",
    "Continuing on, let us fit and evaluate the model."
   ]
  },
  {
   "cell_type": "code",
   "execution_count": 16,
   "id": "19e2a7a8",
   "metadata": {},
   "outputs": [
    {
     "name": "stdout",
     "output_type": "stream",
     "text": [
      "Decision Tree\n",
      "Train set: RMSE = 0.514411456857934\n",
      "Test set: RMSE = 86.61283689808975\n"
     ]
    }
   ],
   "source": [
    "#| code-fold: true\n",
    "data = data.sort_values(\"dteday\", ascending = True)\n",
    "\n",
    "X = data[considered_features]\n",
    "y = data[target_col]\n",
    "\n",
    "X_train, X_test, y_train, y_test = train_test_split(\n",
    "    X, y,\n",
    "    # When shuffle = False, the second part of the dataset is used as the test set.\n",
    "    shuffle = False,\n",
    "    test_size = 0.2,\n",
    ")\n",
    "\n",
    "tree = DecisionTreeRegressor(random_state = 0)\n",
    "\n",
    "tree.fit(X_train, y_train)\n",
    "\n",
    "print(\"Decision Tree\")\n",
    "compare_train_test_rmse(tree, X_train, X_test, y_train, y_test)"
   ]
  },
  {
   "attachments": {},
   "cell_type": "markdown",
   "id": "18aed75b",
   "metadata": {},
   "source": [
    "Interestingly, the test set RMSE is now roughly 87. This means that the predicted counts of bike rentals are around 87 away from the true counts. This error value is much lower (and therefore better) than that of the linear regression model shown earlier.\n",
    "\n",
    "However, the DT model also seems to suffer from overfitting. The test set RMSE is much higher than the train set RMSE (around 0.5).\n",
    "\n",
    "Thus, we may need to adjust the parameters of the tree to keep it from growing too large. In the code cell below, I have built the tree again, but with constraints on:\n",
    "\n",
    "- The maximum depth (number of splits from root to leaf nodes)\n",
    "- The minimum number of samples required to split a node"
   ]
  },
  {
   "cell_type": "code",
   "execution_count": 17,
   "id": "cf16632e",
   "metadata": {},
   "outputs": [
    {
     "name": "stdout",
     "output_type": "stream",
     "text": [
      "Decision Tree\n",
      "Train set: RMSE = 33.94259741687692\n",
      "Test set: RMSE = 78.39525816583571\n"
     ]
    }
   ],
   "source": [
    "#| code-fold: true\n",
    "tree = DecisionTreeRegressor(\n",
    "    max_depth = 20,\n",
    "    min_samples_split = 20,\n",
    "    random_state = 0,\n",
    ")\n",
    "\n",
    "tree.fit(X_train, y_train)\n",
    "\n",
    "print(\"Decision Tree\")\n",
    "compare_train_test_rmse(tree, X_train, X_test, y_train, y_test)"
   ]
  },
  {
   "attachments": {},
   "cell_type": "markdown",
   "id": "0018c298",
   "metadata": {},
   "source": [
    "These results are slightly better than before. The test set RMSE is around 79, which is better than the previous value of 87. Furthermore, The train set RMSE and test set RMSE are closer to each other, so the model suffers less overfitting.\n",
    "\n",
    "(Note that the train set RMSE increased. This is not a bad thing; it only means that the model is less sensitive to small variations in the training data.)\n",
    "\n",
    "Though these results are decent, they can be improved through the use of a Random Forest."
   ]
  },
  {
   "attachments": {},
   "cell_type": "markdown",
   "id": "55366365",
   "metadata": {},
   "source": [
    "# Random Forest\n",
    "\n",
    "A Random Forest (RF) is an *ensemble*. This means that it contains multiple individual models. When the ensemble is used to make a prediction, each model first makes its own prediction, then the predictions are combined to make a final prediction. For example, the mean of the models' predictions is taken as the final prediction.\n",
    "\n",
    "The \"Forest\" in RF's name refers to the fact that each model in the ensemble is a Decision Tree. The \"Random\" in RF's name refers to the fact that some random decisions are made while each tree is built, such that each tree is different from the others in the forest.\n",
    "\n",
    "The processes that introduce randomness are bootstrap aggregation and feature subsets. However, I won't go into detail about how those work. The important point is that since each tree is different, it takes a different *approach* to coming up with a predicted value. By combining varied approaches, we can make a more accurate final prediction.\n",
    "\n",
    "In the code cell below, I have constructed a Random Forest with 100 Decision Trees."
   ]
  },
  {
   "cell_type": "code",
   "execution_count": 18,
   "id": "6711b7f4",
   "metadata": {},
   "outputs": [
    {
     "name": "stdout",
     "output_type": "stream",
     "text": [
      "Random Forest\n",
      "Train set: RMSE = 29.62524751679492\n",
      "Test set: RMSE = 70.73988695365036\n"
     ]
    }
   ],
   "source": [
    "#| code-fold: true\n",
    "rf = RandomForestRegressor(\n",
    "    n_estimators = 100,\n",
    "    max_depth = 30,\n",
    "    min_samples_split = 15,\n",
    "    random_state = 0,\n",
    "    bootstrap = True,\n",
    ")\n",
    "\n",
    "rf.fit(X_train, y_train)\n",
    "\n",
    "print(\"Random Forest\")\n",
    "compare_train_test_rmse(rf, X_train, X_test, y_train, y_test)"
   ]
  },
  {
   "attachments": {},
   "cell_type": "markdown",
   "id": "61d270d0",
   "metadata": {},
   "source": [
    "Now, the test set RMSE is around 71, and this is better than the previous value of 78.\n",
    "\n",
    "Therefore, using a Random Forest provided an advantage over just one Decision Tree. Note, however, that the Random Forest took over 2 seconds to fit, whereas the Decision Tree took less than a second. As the number of trees in the forest increases, the amount of time required for fitting also increases. One must consider this tradeoff in order to save time and make an accurate model."
   ]
  },
  {
   "attachments": {},
   "cell_type": "markdown",
   "id": "35900027",
   "metadata": {},
   "source": [
    "# Summary\n",
    "\n",
    "In summary, we compared the performance of these three models in predicting the number of bike rentals that may occur during a particular hour.\n",
    "\n",
    "- Linear Regression had the poorest performance. The model only explained 46.3% of the variance in the data, and the test set RMSE was around 172. It also seemed to be overfit.\n",
    "- The Decision Tree initially suffered from much overfitting, but it performed better when restrictions on the size of the tree were put into place. The test set RMSE was around 78.\n",
    "- The Random Forest with 100 trees was the best-performing model. The test set RMSE was around 71.\n",
    "\n",
    "It is important to compare the RMSEs of a model when evaluated on the training set and the testing set so that potential overfitting can be identified and addressed. Decision Trees can be more accurate than Linear Regression because trees can find non-linear relationships. Random Forests can be more accurate than a single Decision Tree because forests combine the predictions of multiple models together.\n",
    "\n",
    "Thanks for reading!"
   ]
  },
  {
   "attachments": {},
   "cell_type": "markdown",
   "id": "10d4011f",
   "metadata": {},
   "source": [
    "# Bibliography\n",
    "\n",
    "## Data Source\n",
    "\n",
    "Fanaee-T, H. (2013, December 20). Bike Sharing Dataset. UCI Machine Learning Repository. http://archive.ics.uci.edu/ml/datasets/Bike+Sharing+Dataset\n",
    "\n",
    "## Information Sources\n",
    "\n",
    "Dataquest. (n.d.). Guided Project: Predicting Bike Rentals. Dataquest. https://app.dataquest.io/c/22/m/213/guided-project%3A-predicting-bike-rentals/1/introduction-to-the-dataset\n",
    "\n",
    "Sayad, S. (2022). Decision Tree—Regression. SaedSayad.Com. https://saedsayad.com/decision_tree_reg.htm\n",
    "\n",
    "scikit-learn developers. (2021). Sklearn.tree.DecisionTreeRegressor. Scikit-Learn. https://scikit-learn/stable/modules/generated/sklearn.tree.DecisionTreeRegressor.html\n",
    "\n",
    "Sriram, A. (2020, June 5). Decision Tree for Regression—The Recipe. Analytics Vidhya. https://medium.com/analytics-vidhya/decision-tree-for-regression-the-recipe-74f7628b8a0\n",
    "\n",
    "## Image Source\n",
    "\n",
    "Mingot, S. (2020, January 14). Photo by Stéphane Mingot on Unsplash. Unsplash. https://unsplash.com/photos/e8msPzLTXxU"
   ]
  }
 ],
 "metadata": {
  "kernelspec": {
   "display_name": "Python 3",
   "language": "python",
   "name": "python3"
  },
  "language_info": {
   "codemirror_mode": {
    "name": "ipython",
    "version": 3
   },
   "file_extension": ".py",
   "mimetype": "text/x-python",
   "name": "python",
   "nbconvert_exporter": "python",
   "pygments_lexer": "ipython3",
   "version": "3.8.11"
  }
 },
 "nbformat": 4,
 "nbformat_minor": 5
}
