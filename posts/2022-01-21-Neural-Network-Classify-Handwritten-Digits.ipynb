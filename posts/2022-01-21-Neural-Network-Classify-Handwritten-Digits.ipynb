{
 "cells": [
  {
   "cell_type": "raw",
   "metadata": {},
   "source": [
    "---\n",
    "aliases:\n",
    "- /python/pandas/numpy/matplotlib/seaborn/scikit-learn/2022/01/21/Neural-Network-Classify-Handwritten-Digits\n",
    "author: Migs Germar\n",
    "\n",
    "branch: master\n",
    "categories:\n",
    "- python\n",
    "- pandas\n",
    "- matplotlib\n",
    "- seaborn\n",
    "- scikit-learn\n",
    "date: '2022-01-21'\n",
    "description: I compare the performance of a neural network to that of a K Nearest\n",
    "  Neighbors model in classifying images of handwritten numbers. I also demonstrate\n",
    "  the use of Grid Search for hyperparameter optimization.\n",
    "image: images/notebook-images/neural-network-handwritten-digits/network_clint-adair_unsplash.jpg\n",
    "output-file: 2022-01-21-neural-network-classify-handwritten-digits.html\n",
    "\n",
    "title: Using a Neural Network to Classify Handwritten Digits\n",
    "toc: true\n",
    "\n",
    "---\n",
    "\n"
   ]
  },
  {
   "attachments": {},
   "cell_type": "markdown",
   "id": "mounted-prime",
   "metadata": {},
   "source": [
    "![](images/notebook-images/neural-network-handwritten-digits/network_clint-adair_unsplash.jpg){fig-align=\"center\"}\n",
    "\n",
    "<center><a href = \"https://unsplash.com/photos/BW0vK-FA3eg\">Unsplash | Clint Adair</a></center>"
   ]
  },
  {
   "attachments": {},
   "cell_type": "markdown",
   "id": "aware-valuable",
   "metadata": {},
   "source": [
    "# Introduction\n",
    "\n",
    "Neural networks are a class of machine learning models that take inspiration from biological neurons. One network is made up of multiple neurons, which can be visualized as nodes connected to each other with lines. In order to make a prediction, data is fed into input neurons, then various calculations are performed as it passes through the other neurons, until a final output value is reached.\n",
    "\n",
    "One main advantage of using a neural network is that it uses nonlinear activation functions. These are functions are \"nonlinear\" in the sense that the relationship between x (the input) and y (the output) does not form a straight line. For example, the logistic or sigmoid ($\\sigma$) function, as well as the $\\tanh$ function, have an S-shaped curve which makes them suited for classification tasks. The ReLU (Rectified Linear Unit) function, $ReLU(x) = max(0, x)$, returns 0 if the input is less than or equal to 0, thus making the shape of the function look like a bent line.\n",
    "\n",
    "Because these functions are nonlinear, the model is able to find nonlinear relationships between the features (the variables used to make a prediction) and the target (the variable that we want to predict). Thus, it can be more accurate than a linear regression in many scenarios.\n",
    "\n",
    "Furthermore, a neural network can be built with \"hidden layers\": layers of neurons between the input neurons and the output neurons. These add additional depth to the model. Thus, the neural network can potentially make more accurate predictions than other models that also use nonlinear functions.\n",
    "\n",
    "In this project, I will compare the performance of a neural network and another type of model (K Nearest Neighbors) in predicting the labels of images of handwritten digits (as in, digits from 0 to 9). Furthermore, I will demonstrate how scikit-learn's Grid Search feature can be used for hyperparameter optimization for both models."
   ]
  },
  {
   "attachments": {},
   "cell_type": "markdown",
   "id": "administrative-negotiation",
   "metadata": {},
   "source": [
    ":::{.callout-note}\n",
    "\n",
    "I wrote this notebook by following a guided project on the [Dataquest](https://www.dataquest.io/) platform, specifically the [Guided Project: Building a Handwritten Digits Classifier](https://app.dataquest.io/c/50/m/244/guided-project%3A-building-a-handwritten-digits-classifier/1/introduction). The general project flow and research questions were guided by Dataquest. Other than what was instructed, I also added my own steps. You can visit the [official solution](https://github.com/dataquestio/solutions/blob/master/Mission244Solutions.ipynb) to compare it to my project.\n",
    "\n",
    ":::"
   ]
  },
  {
   "attachments": {},
   "cell_type": "markdown",
   "id": "1d4c5d98",
   "metadata": {},
   "source": [
    "Below are the packages used in this project."
   ]
  },
  {
   "cell_type": "code",
   "execution_count": 10,
   "id": "15651094",
   "metadata": {},
   "outputs": [],
   "source": [
    "import pandas as pd\n",
    "import numpy as np\n",
    "import matplotlib.pyplot as plt\n",
    "import seaborn as sns\n",
    "from sklearn.datasets import load_digits\n",
    "from sklearn.neighbors import KNeighborsClassifier\n",
    "from sklearn.neural_network import MLPClassifier\n",
    "from sklearn.model_selection import StratifiedKFold, cross_validate\n",
    "from sklearn.model_selection import GridSearchCV"
   ]
  },
  {
   "attachments": {},
   "cell_type": "markdown",
   "id": "65d25bb2",
   "metadata": {},
   "source": [
    "# The Dataset\n",
    "\n",
    "The dataset for this project is the Optical Recognition of Handwritten Digits dataset. This dataset comes with the scikit-learn package in Python, though it can also be downloaded from the [UCI Machine Learning Repository](https://archive.ics.uci.edu/ml/datasets/Optical+Recognition+of+Handwritten+Digits), where it was donated by Alpaydin and Kaynak in 1998. It contains 1797 different images of handwritten digits.\n",
    "\n",
    "Let us inspect the first 5 rows of the features."
   ]
  },
  {
   "cell_type": "code",
   "execution_count": 11,
   "id": "df8d0db1",
   "metadata": {},
   "outputs": [
    {
     "data": {
      "text/html": [
       "<div>\n",
       "<style scoped>\n",
       "    .dataframe tbody tr th:only-of-type {\n",
       "        vertical-align: middle;\n",
       "    }\n",
       "\n",
       "    .dataframe tbody tr th {\n",
       "        vertical-align: top;\n",
       "    }\n",
       "\n",
       "    .dataframe thead th {\n",
       "        text-align: right;\n",
       "    }\n",
       "</style>\n",
       "<table border=\"1\" class=\"dataframe\">\n",
       "  <thead>\n",
       "    <tr style=\"text-align: right;\">\n",
       "      <th></th>\n",
       "      <th>pixel_0_0</th>\n",
       "      <th>pixel_0_1</th>\n",
       "      <th>pixel_0_2</th>\n",
       "      <th>pixel_0_3</th>\n",
       "      <th>pixel_0_4</th>\n",
       "      <th>pixel_0_5</th>\n",
       "      <th>pixel_0_6</th>\n",
       "      <th>pixel_0_7</th>\n",
       "      <th>pixel_1_0</th>\n",
       "      <th>pixel_1_1</th>\n",
       "      <th>...</th>\n",
       "      <th>pixel_6_6</th>\n",
       "      <th>pixel_6_7</th>\n",
       "      <th>pixel_7_0</th>\n",
       "      <th>pixel_7_1</th>\n",
       "      <th>pixel_7_2</th>\n",
       "      <th>pixel_7_3</th>\n",
       "      <th>pixel_7_4</th>\n",
       "      <th>pixel_7_5</th>\n",
       "      <th>pixel_7_6</th>\n",
       "      <th>pixel_7_7</th>\n",
       "    </tr>\n",
       "  </thead>\n",
       "  <tbody>\n",
       "    <tr>\n",
       "      <th>0</th>\n",
       "      <td>0.0</td>\n",
       "      <td>0.0</td>\n",
       "      <td>5.0</td>\n",
       "      <td>13.0</td>\n",
       "      <td>9.0</td>\n",
       "      <td>1.0</td>\n",
       "      <td>0.0</td>\n",
       "      <td>0.0</td>\n",
       "      <td>0.0</td>\n",
       "      <td>0.0</td>\n",
       "      <td>...</td>\n",
       "      <td>0.0</td>\n",
       "      <td>0.0</td>\n",
       "      <td>0.0</td>\n",
       "      <td>0.0</td>\n",
       "      <td>6.0</td>\n",
       "      <td>13.0</td>\n",
       "      <td>10.0</td>\n",
       "      <td>0.0</td>\n",
       "      <td>0.0</td>\n",
       "      <td>0.0</td>\n",
       "    </tr>\n",
       "    <tr>\n",
       "      <th>1</th>\n",
       "      <td>0.0</td>\n",
       "      <td>0.0</td>\n",
       "      <td>0.0</td>\n",
       "      <td>12.0</td>\n",
       "      <td>13.0</td>\n",
       "      <td>5.0</td>\n",
       "      <td>0.0</td>\n",
       "      <td>0.0</td>\n",
       "      <td>0.0</td>\n",
       "      <td>0.0</td>\n",
       "      <td>...</td>\n",
       "      <td>0.0</td>\n",
       "      <td>0.0</td>\n",
       "      <td>0.0</td>\n",
       "      <td>0.0</td>\n",
       "      <td>0.0</td>\n",
       "      <td>11.0</td>\n",
       "      <td>16.0</td>\n",
       "      <td>10.0</td>\n",
       "      <td>0.0</td>\n",
       "      <td>0.0</td>\n",
       "    </tr>\n",
       "    <tr>\n",
       "      <th>2</th>\n",
       "      <td>0.0</td>\n",
       "      <td>0.0</td>\n",
       "      <td>0.0</td>\n",
       "      <td>4.0</td>\n",
       "      <td>15.0</td>\n",
       "      <td>12.0</td>\n",
       "      <td>0.0</td>\n",
       "      <td>0.0</td>\n",
       "      <td>0.0</td>\n",
       "      <td>0.0</td>\n",
       "      <td>...</td>\n",
       "      <td>5.0</td>\n",
       "      <td>0.0</td>\n",
       "      <td>0.0</td>\n",
       "      <td>0.0</td>\n",
       "      <td>0.0</td>\n",
       "      <td>3.0</td>\n",
       "      <td>11.0</td>\n",
       "      <td>16.0</td>\n",
       "      <td>9.0</td>\n",
       "      <td>0.0</td>\n",
       "    </tr>\n",
       "    <tr>\n",
       "      <th>3</th>\n",
       "      <td>0.0</td>\n",
       "      <td>0.0</td>\n",
       "      <td>7.0</td>\n",
       "      <td>15.0</td>\n",
       "      <td>13.0</td>\n",
       "      <td>1.0</td>\n",
       "      <td>0.0</td>\n",
       "      <td>0.0</td>\n",
       "      <td>0.0</td>\n",
       "      <td>8.0</td>\n",
       "      <td>...</td>\n",
       "      <td>9.0</td>\n",
       "      <td>0.0</td>\n",
       "      <td>0.0</td>\n",
       "      <td>0.0</td>\n",
       "      <td>7.0</td>\n",
       "      <td>13.0</td>\n",
       "      <td>13.0</td>\n",
       "      <td>9.0</td>\n",
       "      <td>0.0</td>\n",
       "      <td>0.0</td>\n",
       "    </tr>\n",
       "    <tr>\n",
       "      <th>4</th>\n",
       "      <td>0.0</td>\n",
       "      <td>0.0</td>\n",
       "      <td>0.0</td>\n",
       "      <td>1.0</td>\n",
       "      <td>11.0</td>\n",
       "      <td>0.0</td>\n",
       "      <td>0.0</td>\n",
       "      <td>0.0</td>\n",
       "      <td>0.0</td>\n",
       "      <td>0.0</td>\n",
       "      <td>...</td>\n",
       "      <td>0.0</td>\n",
       "      <td>0.0</td>\n",
       "      <td>0.0</td>\n",
       "      <td>0.0</td>\n",
       "      <td>0.0</td>\n",
       "      <td>2.0</td>\n",
       "      <td>16.0</td>\n",
       "      <td>4.0</td>\n",
       "      <td>0.0</td>\n",
       "      <td>0.0</td>\n",
       "    </tr>\n",
       "  </tbody>\n",
       "</table>\n",
       "<p>5 rows × 64 columns</p>\n",
       "</div>"
      ],
      "text/plain": [
       "   pixel_0_0  pixel_0_1  pixel_0_2  pixel_0_3  pixel_0_4  pixel_0_5  \\\n",
       "0        0.0        0.0        5.0       13.0        9.0        1.0   \n",
       "1        0.0        0.0        0.0       12.0       13.0        5.0   \n",
       "2        0.0        0.0        0.0        4.0       15.0       12.0   \n",
       "3        0.0        0.0        7.0       15.0       13.0        1.0   \n",
       "4        0.0        0.0        0.0        1.0       11.0        0.0   \n",
       "\n",
       "   pixel_0_6  pixel_0_7  pixel_1_0  pixel_1_1  ...  pixel_6_6  pixel_6_7  \\\n",
       "0        0.0        0.0        0.0        0.0  ...        0.0        0.0   \n",
       "1        0.0        0.0        0.0        0.0  ...        0.0        0.0   \n",
       "2        0.0        0.0        0.0        0.0  ...        5.0        0.0   \n",
       "3        0.0        0.0        0.0        8.0  ...        9.0        0.0   \n",
       "4        0.0        0.0        0.0        0.0  ...        0.0        0.0   \n",
       "\n",
       "   pixel_7_0  pixel_7_1  pixel_7_2  pixel_7_3  pixel_7_4  pixel_7_5  \\\n",
       "0        0.0        0.0        6.0       13.0       10.0        0.0   \n",
       "1        0.0        0.0        0.0       11.0       16.0       10.0   \n",
       "2        0.0        0.0        0.0        3.0       11.0       16.0   \n",
       "3        0.0        0.0        7.0       13.0       13.0        9.0   \n",
       "4        0.0        0.0        0.0        2.0       16.0        4.0   \n",
       "\n",
       "   pixel_7_6  pixel_7_7  \n",
       "0        0.0        0.0  \n",
       "1        0.0        0.0  \n",
       "2        9.0        0.0  \n",
       "3        0.0        0.0  \n",
       "4        0.0        0.0  \n",
       "\n",
       "[5 rows x 64 columns]"
      ]
     },
     "execution_count": 11,
     "metadata": {},
     "output_type": "execute_result"
    }
   ],
   "source": [
    "#| code-fold: true\n",
    "X, y = load_digits(\n",
    "    n_class = 10,\n",
    "    return_X_y = True,\n",
    "    as_frame = True,\n",
    ")\n",
    "\n",
    "X.head()"
   ]
  },
  {
   "attachments": {},
   "cell_type": "markdown",
   "id": "7466b412",
   "metadata": {},
   "source": [
    "Each row represents a different black-and-white image of a handwritten digit. Each column represents the value of a pixel. For example, if you imagine the pixels arranged in a grid, `pixel_0_0` represents the value of the pixel in the top left of the image (first row, first column). Then, `pixel_0_1` represents the pixel in the first row and second column, and so on.\n",
    "\n",
    "Below, I have reconstructed the first 10 images in the dataset using the pixel data."
   ]
  },
  {
   "cell_type": "code",
   "execution_count": 12,
   "id": "4796e016",
   "metadata": {},
   "outputs": [
    {
     "data": {
      "image/png": "[encoded data removed]",
      "text/plain": [
       "<Figure size 720x360 with 10 Axes>"
      ]
     },
     "metadata": {
      "needs_background": "light"
     },
     "output_type": "display_data"
    }
   ],
   "source": [
    "#| code-fold: true\n",
    "sample_indices = range(10)\n",
    "\n",
    "fig, axes = plt.subplots(2, 5, figsize = (10, 5))\n",
    "# Flatten the 2darray into a 1darray so that I can index it with just one axis.\n",
    "axes = axes.flatten()\n",
    "\n",
    "for i in range(10):\n",
    "\n",
    "    # Convert a row of data into a 1darray, then reshape it into a 2darray.\n",
    "    sample_image = X.iloc[i].to_numpy().reshape(8, 8)\n",
    "    sample_label = y.iloc[i]\n",
    "\n",
    "    # current subplot\n",
    "    sp = axes[i]\n",
    "\n",
    "    sp.imshow(sample_image, cmap = \"gray_r\")\n",
    "    sp.set_title(f\"Label: {sample_label}\")\n",
    "\n",
    "    # Remove all ticks except one, at y = 0, and make its label blank.\n",
    "    # This is done because ticks and tick labels are unnecessary.\n",
    "    # I had to leave one tick in place to avoid an error where the background becomes transparent.\n",
    "    sp.set_xticks([])\n",
    "    sp.set_yticks([0.0])\n",
    "    sp.set_yticklabels([\"\"])\n",
    "\n",
    "    # Make the length of the remaining tick 0 so it is invisible.\n",
    "    sp.tick_params(axis = \"both\", length = 0.0)\n",
    "\n",
    "plt.show()"
   ]
  },
  {
   "attachments": {},
   "cell_type": "markdown",
   "id": "5a3a419f",
   "metadata": {},
   "source": [
    "Each image has a low resolution because it only contains 64 pixels in an 8-by-8 grid. Above each image, I displayed its label (in other words, the actual value of the handwritten digit).\n",
    "\n",
    "Later on in this project, the goal of the machine learning models will be to look at the images and predict their labels.\n",
    "\n",
    "Below, I have displayed a frequency table of the labels."
   ]
  },
  {
   "cell_type": "code",
   "execution_count": 13,
   "id": "7d1a0b98",
   "metadata": {},
   "outputs": [
    {
     "name": "stdout",
     "output_type": "stream",
     "text": [
      "Frequency Table of Labels\n"
     ]
    },
    {
     "data": {
      "text/plain": [
       "0    178\n",
       "1    182\n",
       "2    177\n",
       "3    183\n",
       "4    181\n",
       "5    182\n",
       "6    181\n",
       "7    179\n",
       "8    174\n",
       "9    180\n",
       "Name: target, dtype: int64"
      ]
     },
     "execution_count": 13,
     "metadata": {},
     "output_type": "execute_result"
    }
   ],
   "source": [
    "#| code-fold: true\n",
    "print(\"Frequency Table of Labels\")\n",
    "y.value_counts().sort_index()"
   ]
  },
  {
   "attachments": {},
   "cell_type": "markdown",
   "id": "02ef1ad6",
   "metadata": {},
   "source": [
    "All digits from 0 to 9 are present in the dataset. Furthermore, there are around 180 images for each label. The dataset seems balanced; that is, the labels are equally distributed.\n",
    "\n",
    "Now that I understand the contents of the dataset, I can move on to the machine learning models."
   ]
  },
  {
   "attachments": {},
   "cell_type": "markdown",
   "id": "f4b25c6a",
   "metadata": {},
   "source": [
    "# K Nearest Neighbors\n",
    "\n",
    "Before I use neural networks, I will use the K Nearest Neighbors (KNN) algorithm for comparison. This algorithm determines the *similarity* of a test observation to the training observations, then uses the most similar training observations (\"nearest neighbors\") to make a prediction. For more details on this algorithm, you can visit my past project, [Predicting Car Prices using the K Nearest Neighbors Algorithm](2021-12-21-Predicting-Car-Prices-K-Nearest-Neighbors.ipynb).\n",
    "\n",
    "Before evaluating the model, I will first perform hyperparameter optimization. This means that I will try to find the optimal \"settings\" for the model, which will make it perform better. These settings are unrelated to the data being used to train the model.\n",
    "\n",
    "In the case of KNN, I am concerned with the `n_neighbors` hyperparameter, which determines how many of the \"nearest neighbors\" are used to make a prediction. If this value is too low, the model may not have enough information to make a good prediction. If the value is too high, the model may make a prediction that is very far from the real value. Thus, I have to test various values.\n",
    "\n",
    "Below is a list of the values that I will test."
   ]
  },
  {
   "cell_type": "code",
   "execution_count": 14,
   "id": "35733162",
   "metadata": {},
   "outputs": [
    {
     "name": "stdout",
     "output_type": "stream",
     "text": [
      "[1, 2, 3, 4, 5, 6, 7, 8, 9, 10, 20, 30, 40, 50, 60, 70, 80, 90, 100, 110, 120, 130, 140, 150, 160, 170, 180, 190, 200]\n"
     ]
    }
   ],
   "source": [
    "#| code-fold: true\n",
    "# 1 to 10, then 10 to 200 with skips of 10\n",
    "k_list = list(range(1, 10, 1)) + list(range(10, 201, 10))\n",
    "\n",
    "knn_param_grid = [{\n",
    "    \"n_neighbors\": k_list\n",
    "}]\n",
    "\n",
    "print(k_list)"
   ]
  },
  {
   "attachments": {},
   "cell_type": "markdown",
   "id": "5dd9c391",
   "metadata": {},
   "source": [
    "The code below uses scikit-learn's `GridSearchCV` feature. It takes the grid of the parameter values that I want to try. Then, it tests the model using the different values, and records the model performance. It then identifies the best model based on performance.\n",
    "\n",
    "In this case, I will use accuracy as my performance metric. This refers to the number of correct predictions divided by the total number of predictions."
   ]
  },
  {
   "cell_type": "code",
   "execution_count": 15,
   "id": "11a57350",
   "metadata": {},
   "outputs": [
    {
     "data": {
      "text/plain": [
       "{'n_neighbors': 3}"
      ]
     },
     "execution_count": 15,
     "metadata": {},
     "output_type": "execute_result"
    }
   ],
   "source": [
    "#| code-fold: true\n",
    "# grid search for knn\n",
    "\n",
    "skf = StratifiedKFold(\n",
    "    n_splits = 5,\n",
    "    shuffle = True,\n",
    "    random_state = 0,\n",
    ")\n",
    "\n",
    "gs_knn = GridSearchCV(\n",
    "    KNeighborsClassifier(),\n",
    "    knn_param_grid,\n",
    "    scoring = \"accuracy\",\n",
    "    cv = skf,\n",
    ")\n",
    "\n",
    "gs_knn.fit(X, y)\n",
    "\n",
    "gs_knn.best_params_"
   ]
  },
  {
   "attachments": {},
   "cell_type": "markdown",
   "id": "dee36eb2",
   "metadata": {},
   "source": [
    "The result above tells me that the Grid Search determined that the model with `n_neighbors = 3` had the best accuracy compared to models with other values.\n",
    "\n",
    "Below is a graph that shows how the accuracy changed as the `n_neighbors` parameter changed."
   ]
  },
  {
   "cell_type": "code",
   "execution_count": 16,
   "id": "be4a025f",
   "metadata": {},
   "outputs": [
    {
     "data": {
      "image/png": "[encoded data removed]",
      "text/plain": [
       "<Figure size 432x288 with 1 Axes>"
      ]
     },
     "metadata": {
      "needs_background": "light"
     },
     "output_type": "display_data"
    }
   ],
   "source": [
    "#| code-fold: true\n",
    "gs_knn_results = pd.DataFrame(gs_knn.cv_results_)\n",
    "\n",
    "sns.lineplot(\n",
    "    data = gs_knn_results,\n",
    "    x = \"param_n_neighbors\",\n",
    "    y = \"mean_test_score\",\n",
    ")\n",
    "plt.title(\"KNN: Accuracy against n_neighbors Parameter\")\n",
    "plt.xlabel(\"n_neighbors\")\n",
    "plt.ylabel(\"Accuracy\")\n",
    "plt.show()"
   ]
  },
  {
   "attachments": {},
   "cell_type": "markdown",
   "id": "d289d646",
   "metadata": {},
   "source": [
    "Clearly, the general trend is that as the number of neighbors increased, the accuracy decreased. This makes sense because if too many neighbors are used, some of the neighbors may be very different from the observation for which we are trying to make a prediction.\n",
    "\n",
    "Next, I will use scikit-learn's `cross_validate` feature to obtain multiple performance metrics about the best KNN model that Grid Search found."
   ]
  },
  {
   "cell_type": "code",
   "execution_count": 26,
   "id": "b704e66c",
   "metadata": {},
   "outputs": [
    {
     "name": "stdout",
     "output_type": "stream",
     "text": [
      "K Nearest Neighbors\n"
     ]
    },
    {
     "data": {
      "text/plain": [
       "test_accuracy              0.987758\n",
       "test_recall_weighted       0.987758\n",
       "test_precision_weighted    0.988019\n",
       "test_f1_weighted           0.987729\n",
       "dtype: float64"
      ]
     },
     "execution_count": 26,
     "metadata": {},
     "output_type": "execute_result"
    }
   ],
   "source": [
    "#| code-fold: true\n",
    "def stratified_5fcv(model, X, y, skf):\n",
    "\n",
    "    metrics = [\n",
    "        \"accuracy\",\n",
    "        \"recall_weighted\",\n",
    "        \"precision_weighted\",\n",
    "        \"f1_weighted\",\n",
    "    ]\n",
    "\n",
    "    scores_dict = cross_validate(\n",
    "        estimator = model,\n",
    "        X = X,\n",
    "        y = y,\n",
    "        scoring = metrics,\n",
    "        cv = skf,\n",
    "    )\n",
    "\n",
    "    scores_df = pd.DataFrame(scores_dict)\n",
    "\n",
    "    mean_results = (\n",
    "        scores_df\n",
    "        .loc[:, [col for col in scores_df if col.startswith(\"test\")]]\n",
    "        .mean(axis = 0)\n",
    "    )\n",
    "\n",
    "    return mean_results\n",
    "\n",
    "# This will use the best estimator found.\n",
    "scores_knn = stratified_5fcv(gs_knn.best_estimator_, X, y, skf)\n",
    "\n",
    "print(\"K Nearest Neighbors\")\n",
    "scores_knn"
   ]
  },
  {
   "attachments": {},
   "cell_type": "markdown",
   "id": "48bfc6be",
   "metadata": {},
   "source": [
    "Above, I have displayed the mean scores of the KNN model from cross-validation. All of the scores were over 98%, which means that the model performed very well.\n",
    "\n",
    "I used multiple metrics for the sake of displaying the ability of `cross_validate` to measure multiple metrics. However, I will not go over these individually. For more information on recall, precision, and F1 score, visit my past project, [Naive Bayes Algorithm for Detecting Spam Messages](2021-12-14-Naive-Bayes-Algorithm-Detecting-Spam-Messages.ipynb), and scroll down to \"Recall, Precision, F1.\"\n",
    "\n",
    "Note that I used the \"weighted\" versions of some of the metrics. This is helpful when the labels are imbalanced. In the case of this project, there is slight imbalance, as each digit has around 175 to 185 images in the dataset.\n",
    "\n",
    "For a general guide on scikit-learn metrics, visit the [documentation](https://scikit-learn.org/stable/modules/model_evaluation.html).\n",
    "\n",
    "Moving on, let's compare the KNN model to a neural network."
   ]
  },
  {
   "attachments": {},
   "cell_type": "markdown",
   "id": "f0802ca7",
   "metadata": {},
   "source": [
    "# Neural Network\n",
    "\n",
    "Like with KNN, I will first perform hyperparameter optimization. I will focus on three hyperparameters of interest:\n",
    "\n",
    "- `hidden_layer_sizes`: This represents the number of hidden layers in the model, as well as their size (number of nodes).\n",
    "- `activation`: The activation function. I have chosen to only test the \"logistic\" or sigmoid function in order to save time during Grid Search.\n",
    "- `max_iter`: The maximum number of iterations during model fitting. I have set this to a somewhat high number (1000).\n",
    "\n",
    "The only hyperparameter for which I will test multiple values is `hidden_layer_sizes`. Below is a list of the values that I will try."
   ]
  },
  {
   "cell_type": "code",
   "execution_count": 27,
   "id": "ba94cacf",
   "metadata": {},
   "outputs": [
    {
     "data": {
      "text/plain": [
       "[(8,),\n",
       " (16,),\n",
       " (32,),\n",
       " (64,),\n",
       " (128,),\n",
       " (256,),\n",
       " (64, 64),\n",
       " (10, 10, 10),\n",
       " (64, 64, 64),\n",
       " (128, 128, 128)]"
      ]
     },
     "execution_count": 27,
     "metadata": {},
     "output_type": "execute_result"
    }
   ],
   "source": [
    "#| code-fold: true\n",
    "single_layer_list = [(8,), (16,), (32,), (64,), (128,), (256,)]\n",
    "\n",
    "multi_layer_list = [\n",
    "    (64, 64),\n",
    "    (10, 10, 10),\n",
    "    (64, 64, 64),\n",
    "    (128, 128, 128),\n",
    "]\n",
    "\n",
    "all_layer_list = single_layer_list + multi_layer_list\n",
    "\n",
    "all_layer_list"
   ]
  },
  {
   "attachments": {},
   "cell_type": "markdown",
   "id": "490b4275",
   "metadata": {},
   "source": [
    "Each set of parentheses is a unique value that I will try. The number of items between the parentheses represents the number of hidden layers. For example, with `(8,)`, there is only one item, so there is one hidden layer. Also, this hidden layer's size is 8, meaning it has 8 neurons.\n",
    "\n",
    "The code cell below performs the Grid Search to find the optimal setup of hidden layers."
   ]
  },
  {
   "cell_type": "code",
   "execution_count": 28,
   "id": "3f3a8c87",
   "metadata": {},
   "outputs": [
    {
     "data": {
      "text/plain": [
       "{'activation': 'logistic', 'hidden_layer_sizes': (256,), 'max_iter': 1000}"
      ]
     },
     "execution_count": 28,
     "metadata": {},
     "output_type": "execute_result"
    }
   ],
   "source": [
    "#| code-fold: true\n",
    "# Grid search for MLP\n",
    "\n",
    "# Hide warnings about optimization not converging yet.\n",
    "import warnings\n",
    "warnings.filterwarnings('ignore') \n",
    "\n",
    "mlp_param_grid = {\n",
    "    \"hidden_layer_sizes\": all_layer_list,\n",
    "    \"activation\": [\"logistic\"],\n",
    "    \"max_iter\": [1000],\n",
    "}\n",
    "\n",
    "gs_mlp = GridSearchCV(\n",
    "    MLPClassifier(),\n",
    "    mlp_param_grid,\n",
    "    scoring = \"accuracy\",\n",
    "    cv = skf,\n",
    ")\n",
    "\n",
    "gs_mlp.fit(X, y)\n",
    "\n",
    "gs_mlp.best_params_"
   ]
  },
  {
   "attachments": {},
   "cell_type": "markdown",
   "id": "1a60833e",
   "metadata": {},
   "source": [
    "The result above shows that the model with `hidden_layer_sizes = (256,)` performed the best. This model had only one hidden layer, which contained 256 neurons.\n",
    "\n",
    "I performed cross-validation using the best model. Below are the mean metric scores."
   ]
  },
  {
   "cell_type": "code",
   "execution_count": 30,
   "id": "1bb0654d",
   "metadata": {},
   "outputs": [
    {
     "name": "stdout",
     "output_type": "stream",
     "text": [
      "Neural network\n"
     ]
    },
    {
     "data": {
      "text/plain": [
       "test_accuracy              0.983863\n",
       "test_recall_weighted       0.983863\n",
       "test_precision_weighted    0.984525\n",
       "test_f1_weighted           0.983880\n",
       "dtype: float64"
      ]
     },
     "execution_count": 30,
     "metadata": {},
     "output_type": "execute_result"
    }
   ],
   "source": [
    "#| code-fold: true\n",
    "scores_mlp = stratified_5fcv(gs_mlp.best_estimator_, X, y, skf)\n",
    "\n",
    "print(\"Neural network\")\n",
    "scores_mlp"
   ]
  },
  {
   "attachments": {},
   "cell_type": "markdown",
   "id": "81f6d54b",
   "metadata": {},
   "source": [
    "Like the KNN model, the neural network also performed very well. All of its scores are over 98%.\n",
    "\n",
    "Let us compare the results of the KNN model and the neural network."
   ]
  },
  {
   "cell_type": "code",
   "execution_count": 31,
   "id": "7fc0cd02",
   "metadata": {},
   "outputs": [
    {
     "data": {
      "text/plain": [
       "test_accuracy              False\n",
       "test_recall_weighted       False\n",
       "test_precision_weighted    False\n",
       "test_f1_weighted           False\n",
       "dtype: bool"
      ]
     },
     "execution_count": 31,
     "metadata": {},
     "output_type": "execute_result"
    }
   ],
   "source": [
    "#| code-fold: true\n",
    "scores_mlp > scores_knn"
   ]
  },
  {
   "attachments": {},
   "cell_type": "markdown",
   "id": "42cf8ace",
   "metadata": {},
   "source": [
    "The table above shows `True` where the neural network outperformed the KNN, and `False` where the KNN performed better.\n",
    "\n",
    "It seems that the KNN performed slightly better than the neural network on all metrics: accuracy, recall, precision, and F1 score.\n",
    "\n",
    "However, this does not mean that KNN is always inherently better than a neural network. There are certain tradeoffs to consider.\n",
    "\n",
    "In the case of KNN, the advantage is that it takes no time to train, since it does not try to fit coefficients. Thus, it is much faster to use when performing Grid Search or cross-validation. However, the disadvantage is that it can take a lot of time to make predictions, since it uses the entire training set to make predictions. Furthermore, if we obtain more data later on and add it to the model, the accuracy might increase, but the amount of time needed to make a prediction will definitely increase.\n",
    "\n",
    "On the other hand, a neural network's advantage is that it can have multiple neurons and hidden layers, so it can form a deep understanding of variable relationships. What's unfortunate is that it takes a long time to train because it tries to find the optimal coefficent for each connection between two neurons. However, it takes a shorter time than KNN to make predictions. Furthermore, if we obtain more data later on and add it to the model, the amount of time needed to make a prediction will still remain the same (because the network will still have the same size)."
   ]
  },
  {
   "attachments": {},
   "cell_type": "markdown",
   "id": "e811c197",
   "metadata": {},
   "source": [
    "# Summary\n",
    "\n",
    "In summary, I briefly discussed how a neural network works, performed hyperparameter optimization on a KNN model and a neural network, compared the two models' performance, and discussed tradeoffs that must be considered when choosing a model to use.\n",
    "\n",
    "Thanks for reading!"
   ]
  },
  {
   "attachments": {},
   "cell_type": "markdown",
   "id": "0e4b8625",
   "metadata": {},
   "source": [
    "# Bibliography\n",
    "\n",
    "## Data Source\n",
    "\n",
    "Alpaydin, E., & Kaynak, C. (1998). UCI Machine Learning Repository: Optical Recognition of Handwritten Digits Data Set. UCI Machine Learning Repository. https://archive.ics.uci.edu/ml/datasets/Optical+Recognition+of+Handwritten+Digits\n",
    "\n",
    "The data was obtained via the following scikit-learn feature:\n",
    "\n",
    "scikit-learn developers. (2021). Sklearn.datasets.load_digits. Scikit-Learn. https://scikit-learn/stable/modules/generated/sklearn.datasets.load_digits.html\n",
    "\n",
    "## Information Sources\n",
    "\n",
    "Dataquest. (n.d.). Building A Handwritten Digits Classifier—Introduction. Dataquest. Retrieved January 21, 2022, from https://app.dataquest.io/c/50/m/244/guided-project%3A-building-a-handwritten-digits-classifier/1\n",
    "\n",
    "scikit-learn developers. (2021a). 3.3. Metrics and scoring: Quantifying the quality of predictions. Scikit-Learn. https://scikit-learn/stable/modules/model_evaluation.html\n",
    "\n",
    "scikit-learn developers. (2021b). Sklearn.model_selection.GridSearchCV. Scikit-Learn. https://scikit-learn/stable/modules/generated/sklearn.model_selection.GridSearchCV.html\n",
    "\n",
    "## Image Source\n",
    "\n",
    "Adair, C. (2016, February 26). Photo by Clint Adair on Unsplash. Unsplash. https://unsplash.com/photos/BW0vK-FA3eg"
   ]
  }
 ],
 "metadata": {
  "kernelspec": {
   "display_name": "Python 3",
   "language": "python",
   "name": "python3"
  },
  "language_info": {
   "codemirror_mode": {
    "name": "ipython",
    "version": 3
   },
   "file_extension": ".py",
   "mimetype": "text/x-python",
   "name": "python",
   "nbconvert_exporter": "python",
   "pygments_lexer": "ipython3",
   "version": "3.8.11"
  }
 },
 "nbformat": 4,
 "nbformat_minor": 5
}
