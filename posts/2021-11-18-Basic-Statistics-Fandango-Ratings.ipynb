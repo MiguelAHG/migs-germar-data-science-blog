{
 "cells": [
  {
   "cell_type": "raw",
   "metadata": {},
   "source": [
    "---\n",
    "aliases:\n",
    "- /python/pandas/matplotlib/seaborn/scipy/2021/11/18/Basic-Statistics-Fandango-Ratings\n",
    "author: Migs Germar\n",
    "\n",
    "branch: master\n",
    "categories:\n",
    "- python\n",
    "- pandas\n",
    "- matplotlib\n",
    "- seaborn\n",
    "- scipy\n",
    "date: '2021-11-18'\n",
    "description: I apply basic statistics concepts and hypothesis testing (i.e., Mann-Whitney\n",
    "  U rank test) in comparing Fandango movie rating distributions from 2015 and 2016.\n",
    "image: images/2021-11-18-movie-projector.jpg\n",
    "output-file: 2021-11-18-basic-statistics-fandango-ratings.html\n",
    "\n",
    "title: Basic Statistics with Fandango Movie Ratings\n",
    "toc: true\n",
    "\n",
    "---\n",
    "\n"
   ]
  },
  {
   "attachments": {},
   "cell_type": "markdown",
   "id": "mounted-prime",
   "metadata": {},
   "source": [
    "![](images/2021-11-18-movie-projector.jpg){fig-align=\"center\"}\n",
    "\n",
    "<center><a href = \"https://unsplash.com/photos/MAYsdoYpGuk\">Unsplash | Alex Litvin</a></center>"
   ]
  },
  {
   "attachments": {},
   "cell_type": "markdown",
   "id": "aware-valuable",
   "metadata": {},
   "source": [
    "# Overview\n",
    "\n",
    "Fandango is a website that sells tickets for movies. For each movie, the site provides a synopsis as well as an aggregated rating from 0.0 to 5.0.\n",
    "\n",
    "A [data journalism piece](https://fivethirtyeight.com/features/fandango-movies-ratings/) (Hickey, 2015) investigated Fandango's rating system. By comparing the displayed ratings to those in the website's code, it found that almost half of the displayed ratings were rounded up inappropriately. Thus, most movies had a rating of at least 3 stars. Furthermore, Fandango's ratings were generally higher than those of other movie rating websites. This implied that Fandango may have altered its ratings in order to encourage people to purchase its tickets.\n",
    "\n",
    "The present project aimed to determine whether the distribution of ratings has changed from the time of Hickey's analysis. Thus, the data used by Hickey was compared to more recent data from 2016. Furthermore, basic statistical concepts and hypothesis testing were applied in this project. The Mann-Whitney U rank test for independent samples showed that the distribution of 2015 ratings was significantly higher than that of 2016 ratings (p < 0.001)."
   ]
  },
  {
   "attachments": {},
   "cell_type": "markdown",
   "id": "administrative-negotiation",
   "metadata": {},
   "source": [
    ":::{.callout-note}\n",
    "\n",
    "I wrote this notebook by following a guided project on the [Dataquest](https://www.dataquest.io/) platform, specifically the [Guided Project: Investigating Fandango Movie Reviews](https://app.dataquest.io/c/53/m/288/guided-project%3A-investigating-fandango-movie-ratings/1/is-fandango-still-inflating-ratings). The general project flow and research questions came from Dataquest. However, all of the text and code here are written by me unless stated otherwise.\n",
    "\n",
    ":::"
   ]
  },
  {
   "attachments": {},
   "cell_type": "markdown",
   "id": "suited-challenge",
   "metadata": {},
   "source": [
    "# Preparations\n",
    "\n",
    "Below are the imports used for this project."
   ]
  },
  {
   "cell_type": "code",
   "execution_count": 3,
   "id": "christian-colorado",
   "metadata": {},
   "outputs": [],
   "source": [
    "import pandas as pd\n",
    "import numpy as np\n",
    "import matplotlib.pyplot as plt\n",
    "import seaborn as sns\n",
    "from scipy.stats import mannwhitneyu"
   ]
  },
  {
   "attachments": {},
   "cell_type": "markdown",
   "id": "quality-twelve",
   "metadata": {},
   "source": [
    "# Population and Samples\n",
    "\n",
    "Given the project goal, there were two populations of interest:\n",
    "\n",
    "- All movies released in 2015 with ratings on Fandango.\n",
    "- All movies released in 2016 with ratings on Fandango. \n",
    "\n",
    "However, the two datasets available included only samples of this population. These datasets were taken from [Dataquest](https://app.dataquest.io/c/53/m/288/guided-project%3A-investigating-fandango-movie-ratings/2/understanding-the-data).\n",
    "\n",
    "Dataset A was `fandango_score_comparison.csv`. It included movies released in 2014-2015 that had at least 30 reviews as of mid-2015. These amounted to 146 movies. The data dictionary, which explains the meanings of the data columns, can be found [here](https://github.com/fivethirtyeight/data/blob/master/fandango/README.md).\n",
    "\n",
    "Dataset B was `movie_ratings_16_17.csv`. It included 214 of the most popular movies released in 2016-2017. The ratings provided are from 2017. The data dictionary is [here](https://github.com/mircealex/Movie_ratings_2016_17/blob/master/README.md).\n",
    "\n",
    "Given the descriptions of the two samples, it was clear that the sampling was not random. Certain criteria, such as the number of reviews or the popularity of the movie, were used to select movies. Therefore, the samples did not truly represent the populations of interest, which include *all of the movies* released in each year.\n",
    "\n",
    "Therefore, the goal of the project was adjusted to account for the samples. We then sought to determine whether the distribution of Fandango ratings for popular movies in 2015 was similar to the distribution of Fandango ratings for popular movies in 2016. This new goal only considers \"popular\" movies, not all available movies.\n",
    "\n",
    "However, \"popularity\" had to be given a precise definition. Since this could not be directly measured, the benchmark used in Hickey's analysis was used in this project. That is, all movies with *at least 30 ratings* were considered as \"popular\" movies.\n",
    "\n",
    "# Data Cleaning\n",
    "\n",
    "Based on the adjusted goal of the project, the datasets were cleaned to get samples representative of the populations.\n",
    "\n",
    "First, only movies released in 2015 were taken from Dataset A, and only movies released in 2016 were taken from Dataset B.\n",
    "\n",
    "The next concern was that Dataset B did not provide the number of reviews, so the benchmark of having at least 30 reviews could not be used to identify objectively popular movies. However, it was possible to assume that all of the movies in Dataset B were popular. The person who scraped the data, Alex Olteanu, stated that he took the \"most voted and reviewed\" movies released in 2016 and 2017 [(Olteanu, 2017)](https://www.freecodecamp.org/news/whose-reviews-should-you-trust-imdb-rotten-tomatoes-metacritic-or-fandango-7d1010c6cf19/).\n",
    "\n",
    "The code below cleaned the data based on the above requirements, then printed the final sizes of the samples."
   ]
  },
  {
   "cell_type": "code",
   "execution_count": 4,
   "id": "346cfb2c",
   "metadata": {},
   "outputs": [
    {
     "name": "stdout",
     "output_type": "stream",
     "text": [
      "Number of 2015 movies: 129\n",
      "Number of 2016 movies: 191\n"
     ]
    }
   ],
   "source": [
    "#| code-fold: true\n",
    "folder = \"./private/2021-11-18-Fandango-Ratings-Files\"\n",
    "\n",
    "# Obtain full data, which includes ratings from various sites\n",
    "df_a_all = pd.read_csv(folder + \"/fandango_score_comparison.csv\")\n",
    "df_b_all = pd.read_csv(folder + \"/movie_ratings_16_17.csv\")\n",
    "\n",
    "# Dataset A: Take only the data from Fandango, not other sites\n",
    "df_a = df_a_all[[\n",
    "    \"FILM\",\n",
    "    \"Fandango_Stars\",\n",
    "    \"Fandango_Ratingvalue\",\n",
    "    \"Fandango_votes\",\n",
    "    \"Fandango_Difference\",\n",
    "]].copy()\n",
    "\n",
    "# Create a column of release years based on the FILM column\n",
    "df_a.loc[:, \"year\"] = (\n",
    "    df_a\n",
    "    .loc[:, \"FILM\"]\n",
    "    .str.extract(r\"\\((201[45])\\)$\")\n",
    "    .astype(int, errors = \"ignore\")\n",
    ")\n",
    "\n",
    "# Take movies from 2015\n",
    "df_a = df_a.loc[df_a[\"year\"] == 2015]\n",
    "\n",
    "# Dataset B: Take only data from Fandango, not other sites\n",
    "df_b = df_b_all[[\n",
    "    \"movie\",\n",
    "    \"year\",\n",
    "    \"fandango\",\n",
    "]].copy()\n",
    "\n",
    "# Take movies from 2016\n",
    "df_b = df_b.loc[df_b[\"year\"] == 2016]\n",
    "\n",
    "print(\"Number of 2015 movies:\", df_a.shape[0])\n",
    "print(\"Number of 2016 movies:\", df_b.shape[0])"
   ]
  },
  {
   "attachments": {},
   "cell_type": "markdown",
   "id": "eac8cc76",
   "metadata": {},
   "source": [
    "The sample sizes decreased because movies released in 2014 and 2017 were excluded.\n",
    "\n",
    "The first 5 entries in Dataset A, from 2015, were shown below."
   ]
  },
  {
   "cell_type": "code",
   "execution_count": 5,
   "id": "b9d111f0",
   "metadata": {},
   "outputs": [
    {
     "data": {
      "text/html": [
       "<div>\n",
       "<style scoped>\n",
       "    .dataframe tbody tr th:only-of-type {\n",
       "        vertical-align: middle;\n",
       "    }\n",
       "\n",
       "    .dataframe tbody tr th {\n",
       "        vertical-align: top;\n",
       "    }\n",
       "\n",
       "    .dataframe thead th {\n",
       "        text-align: right;\n",
       "    }\n",
       "</style>\n",
       "<table border=\"1\" class=\"dataframe\">\n",
       "  <thead>\n",
       "    <tr style=\"text-align: right;\">\n",
       "      <th></th>\n",
       "      <th>FILM</th>\n",
       "      <th>Fandango_Stars</th>\n",
       "      <th>Fandango_Ratingvalue</th>\n",
       "      <th>Fandango_votes</th>\n",
       "      <th>Fandango_Difference</th>\n",
       "      <th>year</th>\n",
       "    </tr>\n",
       "  </thead>\n",
       "  <tbody>\n",
       "    <tr>\n",
       "      <th>0</th>\n",
       "      <td>Avengers: Age of Ultron (2015)</td>\n",
       "      <td>5.0</td>\n",
       "      <td>4.5</td>\n",
       "      <td>14846</td>\n",
       "      <td>0.5</td>\n",
       "      <td>2015</td>\n",
       "    </tr>\n",
       "    <tr>\n",
       "      <th>1</th>\n",
       "      <td>Cinderella (2015)</td>\n",
       "      <td>5.0</td>\n",
       "      <td>4.5</td>\n",
       "      <td>12640</td>\n",
       "      <td>0.5</td>\n",
       "      <td>2015</td>\n",
       "    </tr>\n",
       "    <tr>\n",
       "      <th>2</th>\n",
       "      <td>Ant-Man (2015)</td>\n",
       "      <td>5.0</td>\n",
       "      <td>4.5</td>\n",
       "      <td>12055</td>\n",
       "      <td>0.5</td>\n",
       "      <td>2015</td>\n",
       "    </tr>\n",
       "    <tr>\n",
       "      <th>3</th>\n",
       "      <td>Do You Believe? (2015)</td>\n",
       "      <td>5.0</td>\n",
       "      <td>4.5</td>\n",
       "      <td>1793</td>\n",
       "      <td>0.5</td>\n",
       "      <td>2015</td>\n",
       "    </tr>\n",
       "    <tr>\n",
       "      <th>4</th>\n",
       "      <td>Hot Tub Time Machine 2 (2015)</td>\n",
       "      <td>3.5</td>\n",
       "      <td>3.0</td>\n",
       "      <td>1021</td>\n",
       "      <td>0.5</td>\n",
       "      <td>2015</td>\n",
       "    </tr>\n",
       "  </tbody>\n",
       "</table>\n",
       "</div>"
      ],
      "text/plain": [
       "                             FILM  Fandango_Stars  Fandango_Ratingvalue  \\\n",
       "0  Avengers: Age of Ultron (2015)             5.0                   4.5   \n",
       "1               Cinderella (2015)             5.0                   4.5   \n",
       "2                  Ant-Man (2015)             5.0                   4.5   \n",
       "3          Do You Believe? (2015)             5.0                   4.5   \n",
       "4   Hot Tub Time Machine 2 (2015)             3.5                   3.0   \n",
       "\n",
       "   Fandango_votes  Fandango_Difference  year  \n",
       "0           14846                  0.5  2015  \n",
       "1           12640                  0.5  2015  \n",
       "2           12055                  0.5  2015  \n",
       "3            1793                  0.5  2015  \n",
       "4            1021                  0.5  2015  "
      ]
     },
     "execution_count": 5,
     "metadata": {},
     "output_type": "execute_result"
    }
   ],
   "source": [
    "#| code-fold: true\n",
    "df_a.head()"
   ]
  },
  {
   "attachments": {},
   "cell_type": "markdown",
   "id": "9736b169",
   "metadata": {},
   "source": [
    "The `FILM` column gives the name of the film. `Fandango_Ratingvalue` is the hidden rating found in the website's HTML, whereas `Fandango_Stars` is the value that was displayed on the webpages.\n",
    "\n",
    "On the other hand, Dataset B only contained displayed ratings. The hidden ratings had been removed from the HTML before this dataset was collected."
   ]
  },
  {
   "cell_type": "code",
   "execution_count": 6,
   "id": "769ab9e8",
   "metadata": {},
   "outputs": [
    {
     "data": {
      "text/html": [
       "<div>\n",
       "<style scoped>\n",
       "    .dataframe tbody tr th:only-of-type {\n",
       "        vertical-align: middle;\n",
       "    }\n",
       "\n",
       "    .dataframe tbody tr th {\n",
       "        vertical-align: top;\n",
       "    }\n",
       "\n",
       "    .dataframe thead th {\n",
       "        text-align: right;\n",
       "    }\n",
       "</style>\n",
       "<table border=\"1\" class=\"dataframe\">\n",
       "  <thead>\n",
       "    <tr style=\"text-align: right;\">\n",
       "      <th></th>\n",
       "      <th>movie</th>\n",
       "      <th>year</th>\n",
       "      <th>fandango</th>\n",
       "    </tr>\n",
       "  </thead>\n",
       "  <tbody>\n",
       "    <tr>\n",
       "      <th>0</th>\n",
       "      <td>10 Cloverfield Lane</td>\n",
       "      <td>2016</td>\n",
       "      <td>3.5</td>\n",
       "    </tr>\n",
       "    <tr>\n",
       "      <th>1</th>\n",
       "      <td>13 Hours</td>\n",
       "      <td>2016</td>\n",
       "      <td>4.5</td>\n",
       "    </tr>\n",
       "    <tr>\n",
       "      <th>2</th>\n",
       "      <td>A Cure for Wellness</td>\n",
       "      <td>2016</td>\n",
       "      <td>3.0</td>\n",
       "    </tr>\n",
       "    <tr>\n",
       "      <th>4</th>\n",
       "      <td>A Hologram for the King</td>\n",
       "      <td>2016</td>\n",
       "      <td>3.0</td>\n",
       "    </tr>\n",
       "    <tr>\n",
       "      <th>5</th>\n",
       "      <td>A Monster Calls</td>\n",
       "      <td>2016</td>\n",
       "      <td>4.0</td>\n",
       "    </tr>\n",
       "  </tbody>\n",
       "</table>\n",
       "</div>"
      ],
      "text/plain": [
       "                     movie  year  fandango\n",
       "0      10 Cloverfield Lane  2016       3.5\n",
       "1                 13 Hours  2016       4.5\n",
       "2      A Cure for Wellness  2016       3.0\n",
       "4  A Hologram for the King  2016       3.0\n",
       "5          A Monster Calls  2016       4.0"
      ]
     },
     "execution_count": 6,
     "metadata": {},
     "output_type": "execute_result"
    }
   ],
   "source": [
    "#| code-fold: true\n",
    "df_b.head()"
   ]
  },
  {
   "attachments": {},
   "cell_type": "markdown",
   "id": "d661abf3",
   "metadata": {},
   "source": [
    "In both datasets, it may be observed that the displayed ratings were rounded to the nearest half-star from their original values."
   ]
  },
  {
   "attachments": {},
   "cell_type": "markdown",
   "id": "afa8f99e",
   "metadata": {},
   "source": [
    "# Analysis\n",
    "\n",
    "The goal was to determine whether the two samples have a similar distribution. Thus, a kernel density estimation (KDE) plot was used to visualize the distributions. KDE plots are similar to histograms, but these are smooth and continuous. The y-axis represents the approximated *probability density* at a particular value of x. [(Waskom, 2021)](http://seaborn.pydata.org/tutorial/distributions.html#tutorial-kde)"
   ]
  },
  {
   "cell_type": "code",
   "execution_count": 7,
   "id": "0c416662",
   "metadata": {},
   "outputs": [
    {
     "data": {
      "image/png": "[encoded data removed]",
      "text/plain": [
       "<Figure size 720x432 with 1 Axes>"
      ]
     },
     "metadata": {},
     "output_type": "display_data"
    }
   ],
   "source": [
    "#| code-fold: true\n",
    "plt.style.use('fivethirtyeight')\n",
    "\n",
    "plt.figure(figsize = (10, 6))\n",
    "\n",
    "sns.kdeplot(\n",
    "    data = df_a,\n",
    "    x = \"Fandango_Stars\",\n",
    "    label = \"Dataset A: 2015\",\n",
    ")\n",
    "\n",
    "sns.kdeplot(\n",
    "    data = df_b,\n",
    "    x = \"fandango\",\n",
    "    label = \"Dataset B: 2016\"\n",
    ")\n",
    "\n",
    "plt.title(\"Fandango Displayed Rating Distribution in 2015 and 2016\")\n",
    "\n",
    "plt.xlabel(\"Fandango Rating\")\n",
    "# Limit the x-axis to [0, 5] because this is the range of ratings\n",
    "plt.xlim(0, 5)\n",
    "# Show ticks in 0.5 intervals\n",
    "plt.xticks(np.arange(0.0, 5.5, 0.5))\n",
    "\n",
    "plt.ylabel(\"Probability Density\")\n",
    "\n",
    "plt.legend()\n",
    "\n",
    "plt.show()"
   ]
  },
  {
   "attachments": {},
   "cell_type": "markdown",
   "id": "759cf0e3",
   "metadata": {},
   "source": [
    "In the KDE plot above, the blue line represents the distribution of 2015 displayed ratings. On the other hand, the red line represents the distribution of 2016 displayed ratings. The hidden ratings from 2015 were excluded from this plot because these did not directly influence Fandango customers' ticket-purchasing decisions, unlike the displayed ratings.\n",
    "\n",
    "Both distributions were left-skewed. There were more high ratings than low ratings. However, the 2015 ratings noticeably had a higher mode, which was near 4.5. In general, the whole 2015 distribution seemed to be shifted to the right of the 2016 distribution. Therefore, it seemed that movies generally had higher Fandango ratings in 2015 than 2016.\n",
    "\n",
    "In order to get more specific numbers, frequency tables were generated."
   ]
  },
  {
   "cell_type": "code",
   "execution_count": 8,
   "id": "3a20c193",
   "metadata": {},
   "outputs": [
    {
     "name": "stdout",
     "output_type": "stream",
     "text": [
      "Number of ratings per interval of 0.25 stars\n"
     ]
    },
    {
     "data": {
      "text/html": [
       "<div>\n",
       "<style scoped>\n",
       "    .dataframe tbody tr th:only-of-type {\n",
       "        vertical-align: middle;\n",
       "    }\n",
       "\n",
       "    .dataframe tbody tr th {\n",
       "        vertical-align: top;\n",
       "    }\n",
       "\n",
       "    .dataframe thead th {\n",
       "        text-align: right;\n",
       "    }\n",
       "</style>\n",
       "<table border=\"1\" class=\"dataframe\">\n",
       "  <thead>\n",
       "    <tr style=\"text-align: right;\">\n",
       "      <th></th>\n",
       "      <th>2015</th>\n",
       "      <th>2016</th>\n",
       "    </tr>\n",
       "  </thead>\n",
       "  <tbody>\n",
       "    <tr>\n",
       "      <th>(2.4970000000000003, 2.75]</th>\n",
       "      <td>0.0</td>\n",
       "      <td>6</td>\n",
       "    </tr>\n",
       "    <tr>\n",
       "      <th>(2.75, 3.0]</th>\n",
       "      <td>11.0</td>\n",
       "      <td>14</td>\n",
       "    </tr>\n",
       "    <tr>\n",
       "      <th>(3.0, 3.25]</th>\n",
       "      <td>0.0</td>\n",
       "      <td>0</td>\n",
       "    </tr>\n",
       "    <tr>\n",
       "      <th>(3.25, 3.5]</th>\n",
       "      <td>23.0</td>\n",
       "      <td>46</td>\n",
       "    </tr>\n",
       "    <tr>\n",
       "      <th>(3.5, 3.75]</th>\n",
       "      <td>0.0</td>\n",
       "      <td>0</td>\n",
       "    </tr>\n",
       "    <tr>\n",
       "      <th>(3.75, 4.0]</th>\n",
       "      <td>37.0</td>\n",
       "      <td>77</td>\n",
       "    </tr>\n",
       "    <tr>\n",
       "      <th>(4.0, 4.25]</th>\n",
       "      <td>0.0</td>\n",
       "      <td>0</td>\n",
       "    </tr>\n",
       "    <tr>\n",
       "      <th>(4.25, 4.5]</th>\n",
       "      <td>49.0</td>\n",
       "      <td>47</td>\n",
       "    </tr>\n",
       "    <tr>\n",
       "      <th>(4.5, 4.75]</th>\n",
       "      <td>0.0</td>\n",
       "      <td>0</td>\n",
       "    </tr>\n",
       "    <tr>\n",
       "      <th>(4.75, 5.0]</th>\n",
       "      <td>9.0</td>\n",
       "      <td>1</td>\n",
       "    </tr>\n",
       "  </tbody>\n",
       "</table>\n",
       "</div>"
      ],
      "text/plain": [
       "                            2015  2016\n",
       "(2.4970000000000003, 2.75]   0.0     6\n",
       "(2.75, 3.0]                 11.0    14\n",
       "(3.0, 3.25]                  0.0     0\n",
       "(3.25, 3.5]                 23.0    46\n",
       "(3.5, 3.75]                  0.0     0\n",
       "(3.75, 4.0]                 37.0    77\n",
       "(4.0, 4.25]                  0.0     0\n",
       "(4.25, 4.5]                 49.0    47\n",
       "(4.5, 4.75]                  0.0     0\n",
       "(4.75, 5.0]                  9.0     1"
      ]
     },
     "execution_count": 8,
     "metadata": {},
     "output_type": "execute_result"
    }
   ],
   "source": [
    "#| code-fold: true\n",
    "# Create a frequency table for Dataset B (2016)\n",
    "freq_b = df_b[\"fandango\"].value_counts(bins = 10).sort_index()\n",
    "freq_b.name = \"2016\"\n",
    "\n",
    "# Use the bins in the B table for the A table\n",
    "freq_a = {}\n",
    "\n",
    "for rating in df_a[\"Fandango_Stars\"]:\n",
    "    for rng in freq_b.index:\n",
    "        if rating in rng:\n",
    "            freq_a.setdefault(rng, 0)\n",
    "            freq_a[rng] += 1\n",
    "            \n",
    "freq_a = pd.Series(freq_a, name = \"2015\")\n",
    "\n",
    "# Combine the tables into one\n",
    "freq_both = (\n",
    "    pd.DataFrame(freq_b)\n",
    "    .merge(\n",
    "        freq_a,\n",
    "        how = \"left\",\n",
    "        left_index = True,\n",
    "        right_index = True,\n",
    "    )\n",
    "    .fillna(0)\n",
    "    .loc[:, [\"2015\", \"2016\"]]\n",
    ")\n",
    "\n",
    "# Display the table\n",
    "print(\"Number of ratings per interval of 0.25 stars\")\n",
    "freq_both"
   ]
  },
  {
   "attachments": {},
   "cell_type": "markdown",
   "id": "f0e3fa48",
   "metadata": {},
   "source": [
    "The table shows that:\n",
    "\n",
    "- There were 11 more ratings above 4.25 in 2015 than in 2016.\n",
    "- There were 72 fewer ratings below 4.25 in 2015 than in 2016.\n",
    "\n",
    "This further supported the observation that Fandango's displayed ratings were generally higher in 2015 than in 2016.\n",
    "\n",
    "In order to determine whether this difference was statistically significant, hypothesis testing for two independent samples was used. Since the two distributions both looked left-skewed rather than normal, it was appropriate to use the Mann-Whitney U rank test. According to [NCSS](https://ncss-wpengine.netdna-ssl.com/wp-content/themes/ncss/pdf/Procedures/NCSS/Two-Sample_T-Test.pdf) (n.d.), this is a nonparametric test with the following assumptions:\n",
    "\n",
    "- **The variable is continuous, or at least ordinal.** Both datasets contained rounded mean ratings, so these followed an ordinal distribution with intervals of 0.5.\n",
    "- **The two populations' distributions are identical except for location.** One may occupy a higher range than the other. This was fulfilled because all of the ratings came from Fandango. It was expected that the ratings would be consistently left-skewed, especially since there was only a one-year gap between our two populations.\n",
    "- **The two samples are independent.** This was true because there was no movie that existed in both datasets. Dataset A only contained movies released in 2015, and Dataset B only contained movies released in 2016.\n",
    "- **The samples are simple random samples.** It was not certain that the people who collected the data chose totally randomly from a list of popular movies. However, since this is the best data available, it had to be used.\n",
    "\n",
    "Let the distribution of Dataset A be F(u), and that of Dataset B be G(u). The alternative hypothesis was that F(u) > G(u). The test was performed below using the Scipy package."
   ]
  },
  {
   "cell_type": "code",
   "execution_count": 9,
   "id": "be2db618",
   "metadata": {},
   "outputs": [
    {
     "name": "stdout",
     "output_type": "stream",
     "text": [
      "U1 statistic: 14871.5\n",
      "p-value: 0.000516222939793581\n"
     ]
    }
   ],
   "source": [
    "#| code-fold: true\n",
    "U1, p = mannwhitneyu(\n",
    "    df_a[\"Fandango_Stars\"],\n",
    "    df_b[\"fandango\"],\n",
    "    # Alternative hypothesis\n",
    "    alternative = \"greater\",\n",
    "    # Adjust for ties\n",
    "    method = \"asymptotic\",\n",
    ")\n",
    "\n",
    "print(f\"U1 statistic: {U1}\")\n",
    "print(f\"p-value: {p}\")"
   ]
  },
  {
   "attachments": {},
   "cell_type": "markdown",
   "id": "86f69bd4",
   "metadata": {},
   "source": [
    "The $U$ statistic is the \"the total number of times an observation in one group is \n",
    "preceded by an observation in the other group in the ordered configuration of combined samples (Gibbons, 1985)[.]\" (NCSS, n.d.)\n",
    "\n",
    "In this case, $U_1$ was the $U$ statistic of Dataset A with respect to Dataset B. Therefore, for around 14871.5 times, an observation in A was preceded by an observation in B. This was rather high, considering that each sample only had a few hundred observations.\n",
    "\n",
    "More importantly, the p-value was approximately 0.0005. Therefore, the difference between the two populations was significant at $\\alpha = 0.001$. The distribution of ratings in 2015 was significantly greater than that in 2016."
   ]
  },
  {
   "attachments": {},
   "cell_type": "markdown",
   "id": "3305d97f",
   "metadata": {},
   "source": [
    "# Conclusion\n",
    "\n",
    "A KDE plot, frequency table, and Mann-Whitney U rank test were used to investigate the Fandango ratings of popular movies. Based on the results, the alternative hypothesis is accepted. The ratings displayed in 2015 were significantly higher than those in 2016 (p < 0.001).\n",
    "\n",
    "The implication is that Fandango may have investigated the issues raised in Hickey's analysis and fixed their displayed ratings. They may have stopped the numbers from being rounded up excessively, so the 2016 ratings ended up being lower than the 2015 ratings.\n",
    "\n",
    "# Bibliography\n",
    "\n",
    "## Information Sources\n",
    "\n",
    "Details for Non-Parametric Alternatives in Case C-Q. (2021). In Biostatistics Open Learning Textbook. University of Florida. https://bolt.mph.ufl.edu/6050-6052/unit-4b/module-13/details-for-non-parametric-alternatives/\n",
    "\n",
    "Guided Project: Investigating Fandango Movie Ratings. (n.d.). Dataquest. Retrieved November 18, 2021, from https://www.dataquest.io/c/53/m/288/guided-project%3A-investigating-fandango-movie-ratings\n",
    "\n",
    "Hickey, W. (2015, October 15). Be Suspicious Of Online Movie Ratings, Especially Fandango’s. FiveThirtyEight. https://fivethirtyeight.com/features/fandango-movies-ratings/\n",
    "\n",
    "LaMorte, W. W. (2017, May 4). Mann-Whitney-Table-CriticalValues.pdf. Boston University School of Public Health. https://sphweb.bumc.bu.edu/otlt/MPH-Modules/BS/BS704_Nonparametric/Mann-Whitney-Table-CriticalValues.pdf\n",
    "\n",
    "NCSS. (n.d.). Chapter 206 Two-Sample T-Test. NCSS Statistics Solutions. Retrieved November 18, 2021, from https://ncss-wpengine.netdna-ssl.com/wp-content/themes/ncss/pdf/Procedures/NCSS/Two-Sample_T-Test.pdf\n",
    "\n",
    "scipy.stats.mannwhitneyu—SciPy v1.7.1 Manual. (2021). Scipy. https://docs.scipy.org/doc/scipy/reference/generated/scipy.stats.mannwhitneyu.html\n",
    "\n",
    "Waskom, M. (2021). Visualizing distributions of data—Seaborn 0.11.2 documentation. Seaborn. http://seaborn.pydata.org/tutorial/distributions.html#tutorial-kde\n",
    "\n",
    "## Image Sources\n",
    "\n",
    "Litvin, A. (2018, August 23). Photo by Alex Litvin on Unsplash. Unsplash. https://unsplash.com/photos/MAYsdoYpGuk"
   ]
  }
 ],
 "metadata": {
  "interpreter": {
   "hash": "4b7a4449de7beeedc6ed34ba27370b0a381735f26d943e9de4d535500c344c2d"
  },
  "kernelspec": {
   "display_name": "Python [conda env:new_streamlit_env2]",
   "language": "python",
   "name": "python3"
  },
  "language_info": {
   "codemirror_mode": {
    "name": "ipython",
    "version": 3
   },
   "file_extension": ".py",
   "mimetype": "text/x-python",
   "name": "python",
   "nbconvert_exporter": "python",
   "pygments_lexer": "ipython3",
   "version": "3.8.11"
  }
 },
 "nbformat": 4,
 "nbformat_minor": 5
}
