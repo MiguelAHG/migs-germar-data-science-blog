{
 "cells": [
  {
   "cell_type": "raw",
   "metadata": {},
   "source": [
    "---\n",
    "aliases:\n",
    "- /sql/sqlite/python/pandas/numpy/altair/2021/07/24/Using-SQL-Query-Analyze-CIA-Factbook-Database\n",
    "author: Migs Germar\n",
    "\n",
    "branch: master\n",
    "categories:\n",
    "- sql\n",
    "- sqlite\n",
    "- python\n",
    "- pandas\n",
    "- altair\n",
    "date: '2021-07-24'\n",
    "description: I use SQL to explore a database of facts about countries in the world.\n",
    "  In addition, I use Pandas and Altair to perform data transformations and create\n",
    "  interactive charts on population-related issues.\n",
    "image: images/2021-07-24-world-lights.jfif\n",
    "output-file: 2021-07-24-using-sql-query-analyze-cia-factbook-database.html\n",
    "\n",
    "title: Using SQL to Query and Analyze a CIA Factbook Database\n",
    "toc: true\n",
    "\n",
    "---\n",
    "\n"
   ]
  },
  {
   "attachments": {},
   "cell_type": "markdown",
   "id": "mounted-prime",
   "metadata": {},
   "source": [
    "![](images/2021-07-24-world-lights.jfif){fig-align=\"center\"}\n",
    "\n",
    "<center><a href = \"https://unsplash.com/photos/Q1p7bh3SHj8\">Unsplash | NASA</a></center>"
   ]
  },
  {
   "attachments": {},
   "cell_type": "markdown",
   "id": "aware-valuable",
   "metadata": {},
   "source": [
    "# Overview\n",
    "\n",
    "The [CIA World Factbook](https://www.cia.gov/the-world-factbook/) website is a collection of basic information on hundreds of countries and geopolitical entities. Each country is discussed with regards to a wide range of aspects, such as politics, security, socio-economics, and environment.\n",
    "\n",
    "For this project, we have downloaded the `factbook.db` database file, which contains CIA World Factbook data compiled by Dataquest. The goal of the project is to use **sqlite3** in Jupyter Notebook to query this database and perform basic **exploratory data analysis**. Specifically, SQL is used to produce summary statistics and data transformations, Pandas is used to perform further transformations, and Altair is used to create interactive charts."
   ]
  },
  {
   "attachments": {},
   "cell_type": "markdown",
   "id": "administrative-negotiation",
   "metadata": {},
   "source": [
    ":::{.callout-note}\n",
    "\n",
    "I wrote this notebook by following a guided project on the [Dataquest](https://www.dataquest.io/) platform, specifically, the [Analyzing CIA Factbook Data Using SQL](https://app.dataquest.io/c/43/m/257/guided-project%3A-analyzing-cia-factbook-data-using-sql/1/jupyter) Guided Project. The general project flow and research questions came from Dataquest. However, the text and code in this notebook are written by me unless stated otherwise.\n",
    "\n",
    ":::"
   ]
  },
  {
   "attachments": {},
   "cell_type": "markdown",
   "id": "suited-challenge",
   "metadata": {},
   "source": [
    "# Preparations"
   ]
  },
  {
   "attachments": {},
   "cell_type": "markdown",
   "id": "suspended-darwin",
   "metadata": {},
   "source": [
    "Install necessary packages."
   ]
  },
  {
   "cell_type": "code",
   "execution_count": 1,
   "id": "christian-colorado",
   "metadata": {},
   "outputs": [],
   "source": [
    "import pandas as pd\n",
    "import numpy as np\n",
    "import altair as alt"
   ]
  },
  {
   "attachments": {},
   "cell_type": "markdown",
   "id": "swiss-shopping",
   "metadata": {},
   "source": [
    "Connect Jupyter Notebook to the database file using the SQLite flavor of SQL."
   ]
  },
  {
   "cell_type": "code",
   "execution_count": 2,
   "id": "egyptian-kinase",
   "metadata": {},
   "outputs": [
    {
     "data": {
      "text/plain": [
       "'Connected: @private/2021-07-24-SQL-Fundamentals-Files/factbook.db'"
      ]
     },
     "execution_count": 2,
     "metadata": {},
     "output_type": "execute_result"
    }
   ],
   "source": [
    "%load_ext sql\n",
    "%sql sqlite:///private/2021-07-24-SQL-Fundamentals-Files/factbook.db"
   ]
  },
  {
   "attachments": {},
   "cell_type": "markdown",
   "id": "needed-green",
   "metadata": {},
   "source": [
    "# Exploratory Data Analysis"
   ]
  },
  {
   "attachments": {},
   "cell_type": "markdown",
   "id": "checked-roots",
   "metadata": {},
   "source": [
    "## Database Tables\n",
    "\n",
    "First, we inspect the tables in the database. SQL is used in a code cell via the `%%sql` magic."
   ]
  },
  {
   "cell_type": "code",
   "execution_count": 3,
   "id": "restricted-cancellation",
   "metadata": {},
   "outputs": [
    {
     "name": "stdout",
     "output_type": "stream",
     "text": [
      " * sqlite:///private/2021-07-24-SQL-Fundamentals-Files/factbook.db\n",
      "Done.\n"
     ]
    },
    {
     "data": {
      "text/html": [
       "<table>\n",
       "    <thead>\n",
       "        <tr>\n",
       "            <th>type</th>\n",
       "            <th>name</th>\n",
       "            <th>tbl_name</th>\n",
       "            <th>rootpage</th>\n",
       "            <th>sql</th>\n",
       "        </tr>\n",
       "    </thead>\n",
       "    <tbody>\n",
       "        <tr>\n",
       "            <td>table</td>\n",
       "            <td>sqlite_sequence</td>\n",
       "            <td>sqlite_sequence</td>\n",
       "            <td>3</td>\n",
       "            <td>CREATE TABLE sqlite_sequence(name,seq)</td>\n",
       "        </tr>\n",
       "        <tr>\n",
       "            <td>table</td>\n",
       "            <td>facts</td>\n",
       "            <td>facts</td>\n",
       "            <td>47</td>\n",
       "            <td>CREATE TABLE &quot;facts&quot; (&quot;id&quot; INTEGER PRIMARY KEY AUTOINCREMENT NOT NULL, &quot;code&quot; varchar(255) NOT NULL, &quot;name&quot; varchar(255) NOT NULL, &quot;area&quot; integer, &quot;area_land&quot; integer, &quot;area_water&quot; integer, &quot;population&quot; integer, &quot;population_growth&quot; float, &quot;birth_rate&quot; float, &quot;death_rate&quot; float, &quot;migration_rate&quot; float)</td>\n",
       "        </tr>\n",
       "    </tbody>\n",
       "</table>"
      ],
      "text/plain": [
       "[('table', 'sqlite_sequence', 'sqlite_sequence', 3, 'CREATE TABLE sqlite_sequence(name,seq)'),\n",
       " ('table', 'facts', 'facts', 47, 'CREATE TABLE \"facts\" (\"id\" INTEGER PRIMARY KEY AUTOINCREMENT NOT NULL, \"code\" varchar(255) NOT NULL, \"name\" varchar(255) NOT NULL, \"area\" integer, \"a ... (4 characters truncated) ... land\" integer, \"area_water\" integer, \"population\" integer, \"population_growth\" float, \"birth_rate\" float, \"death_rate\" float, \"migration_rate\" float)')]"
      ]
     },
     "execution_count": 3,
     "metadata": {},
     "output_type": "execute_result"
    }
   ],
   "source": [
    "%%sql\n",
    "SELECT *\n",
    "FROM sqlite_master\n",
    "WHERE type = \"table\";"
   ]
  },
  {
   "attachments": {},
   "cell_type": "markdown",
   "id": "warming-exchange",
   "metadata": {},
   "source": [
    "There are two tables in the database: `sqlite_sequence` and `facts`. The latter contains the data that we will analyze. The `sql` column above lists the columns in the `facts` table and their data types. The column names include \"area\", \"population\", \"population_growth\", etc. which are the kind of information that we would expect to know about a country."
   ]
  },
  {
   "attachments": {},
   "cell_type": "markdown",
   "id": "august-meeting",
   "metadata": {},
   "source": [
    "## The `facts` Table\n",
    "\n",
    "Let us inspect the first 5 rows of the `facts` table."
   ]
  },
  {
   "cell_type": "code",
   "execution_count": 4,
   "id": "appropriate-chapel",
   "metadata": {},
   "outputs": [
    {
     "name": "stdout",
     "output_type": "stream",
     "text": [
      " * sqlite:///private/2021-07-24-SQL-Fundamentals-Files/factbook.db\n",
      "Done.\n"
     ]
    },
    {
     "data": {
      "text/html": [
       "<table>\n",
       "    <thead>\n",
       "        <tr>\n",
       "            <th>id</th>\n",
       "            <th>code</th>\n",
       "            <th>name</th>\n",
       "            <th>area</th>\n",
       "            <th>area_land</th>\n",
       "            <th>area_water</th>\n",
       "            <th>population</th>\n",
       "            <th>population_growth</th>\n",
       "            <th>birth_rate</th>\n",
       "            <th>death_rate</th>\n",
       "            <th>migration_rate</th>\n",
       "        </tr>\n",
       "    </thead>\n",
       "    <tbody>\n",
       "        <tr>\n",
       "            <td>1</td>\n",
       "            <td>af</td>\n",
       "            <td>Afghanistan</td>\n",
       "            <td>652230</td>\n",
       "            <td>652230</td>\n",
       "            <td>0</td>\n",
       "            <td>32564342</td>\n",
       "            <td>2.32</td>\n",
       "            <td>38.57</td>\n",
       "            <td>13.89</td>\n",
       "            <td>1.51</td>\n",
       "        </tr>\n",
       "        <tr>\n",
       "            <td>2</td>\n",
       "            <td>al</td>\n",
       "            <td>Albania</td>\n",
       "            <td>28748</td>\n",
       "            <td>27398</td>\n",
       "            <td>1350</td>\n",
       "            <td>3029278</td>\n",
       "            <td>0.3</td>\n",
       "            <td>12.92</td>\n",
       "            <td>6.58</td>\n",
       "            <td>3.3</td>\n",
       "        </tr>\n",
       "        <tr>\n",
       "            <td>3</td>\n",
       "            <td>ag</td>\n",
       "            <td>Algeria</td>\n",
       "            <td>2381741</td>\n",
       "            <td>2381741</td>\n",
       "            <td>0</td>\n",
       "            <td>39542166</td>\n",
       "            <td>1.84</td>\n",
       "            <td>23.67</td>\n",
       "            <td>4.31</td>\n",
       "            <td>0.92</td>\n",
       "        </tr>\n",
       "        <tr>\n",
       "            <td>4</td>\n",
       "            <td>an</td>\n",
       "            <td>Andorra</td>\n",
       "            <td>468</td>\n",
       "            <td>468</td>\n",
       "            <td>0</td>\n",
       "            <td>85580</td>\n",
       "            <td>0.12</td>\n",
       "            <td>8.13</td>\n",
       "            <td>6.96</td>\n",
       "            <td>0.0</td>\n",
       "        </tr>\n",
       "        <tr>\n",
       "            <td>5</td>\n",
       "            <td>ao</td>\n",
       "            <td>Angola</td>\n",
       "            <td>1246700</td>\n",
       "            <td>1246700</td>\n",
       "            <td>0</td>\n",
       "            <td>19625353</td>\n",
       "            <td>2.78</td>\n",
       "            <td>38.78</td>\n",
       "            <td>11.49</td>\n",
       "            <td>0.46</td>\n",
       "        </tr>\n",
       "    </tbody>\n",
       "</table>"
      ],
      "text/plain": [
       "[(1, 'af', 'Afghanistan', 652230, 652230, 0, 32564342, 2.32, 38.57, 13.89, 1.51),\n",
       " (2, 'al', 'Albania', 28748, 27398, 1350, 3029278, 0.3, 12.92, 6.58, 3.3),\n",
       " (3, 'ag', 'Algeria', 2381741, 2381741, 0, 39542166, 1.84, 23.67, 4.31, 0.92),\n",
       " (4, 'an', 'Andorra', 468, 468, 0, 85580, 0.12, 8.13, 6.96, 0.0),\n",
       " (5, 'ao', 'Angola', 1246700, 1246700, 0, 19625353, 2.78, 38.78, 11.49, 0.46)]"
      ]
     },
     "execution_count": 4,
     "metadata": {},
     "output_type": "execute_result"
    }
   ],
   "source": [
    "%%sql\n",
    "SELECT *\n",
    "FROM facts\n",
    "LIMIT 5 --#Limit the result to the first 5 rows.\n",
    ";"
   ]
  },
  {
   "attachments": {},
   "cell_type": "markdown",
   "id": "alternative-library",
   "metadata": {},
   "source": [
    "Most of the column names are self-explanatory. The following are some additional information about the data according to Dataquest.\n",
    "\n",
    "- The areas are given in square kilometers ($\\text{km}^2$)\n",
    "- `population_growth` is given as the percentage of increase of the total population per year.\n",
    "- `birth_rate` and `death_rate` are given as the number of people who are born/pass away per year per 1000 people."
   ]
  },
  {
   "attachments": {},
   "cell_type": "markdown",
   "id": "nonprofit-officer",
   "metadata": {},
   "source": [
    "## Summary Statistics on Population Size and Growth\n",
    "\n",
    "Below, we calculate some basic summary statistics about the countries' populations and population growths. We want to see which countries have the highest and lowest value of each variable."
   ]
  },
  {
   "cell_type": "code",
   "execution_count": 5,
   "id": "progressive-batch",
   "metadata": {},
   "outputs": [
    {
     "name": "stdout",
     "output_type": "stream",
     "text": [
      " * sqlite:///private/2021-07-24-SQL-Fundamentals-Files/factbook.db\n",
      "Done.\n"
     ]
    },
    {
     "data": {
      "text/html": [
       "<table>\n",
       "    <thead>\n",
       "        <tr>\n",
       "            <th>MIN(population)</th>\n",
       "            <th>MAX(population)</th>\n",
       "            <th>MIN(population_growth)</th>\n",
       "            <th>MAX(population_growth)</th>\n",
       "        </tr>\n",
       "    </thead>\n",
       "    <tbody>\n",
       "        <tr>\n",
       "            <td>0</td>\n",
       "            <td>7256490011</td>\n",
       "            <td>0.0</td>\n",
       "            <td>4.02</td>\n",
       "        </tr>\n",
       "    </tbody>\n",
       "</table>"
      ],
      "text/plain": [
       "[(0, 7256490011, 0.0, 4.02)]"
      ]
     },
     "execution_count": 5,
     "metadata": {},
     "output_type": "execute_result"
    }
   ],
   "source": [
    "%%sql\n",
    "SELECT\n",
    "    MIN(population),\n",
    "    MAX(population),\n",
    "    MIN(population_growth),\n",
    "    MAX(population_growth)\n",
    "FROM facts\n",
    ";"
   ]
  },
  {
   "attachments": {},
   "cell_type": "markdown",
   "id": "international-miniature",
   "metadata": {},
   "source": [
    "Interestingly, the minimum population size among all of the countries in the table is 0, meaning no people at all. This is surprising since one would expect a country to have many people. This may indicate an error in the data, so let's check which countries have 0 people."
   ]
  },
  {
   "cell_type": "code",
   "execution_count": 6,
   "id": "modified-japanese",
   "metadata": {},
   "outputs": [
    {
     "name": "stdout",
     "output_type": "stream",
     "text": [
      " * sqlite:///private/2021-07-24-SQL-Fundamentals-Files/factbook.db\n",
      "Done.\n"
     ]
    },
    {
     "data": {
      "text/html": [
       "<table>\n",
       "    <thead>\n",
       "        <tr>\n",
       "            <th>id</th>\n",
       "            <th>code</th>\n",
       "            <th>name</th>\n",
       "            <th>area</th>\n",
       "            <th>area_land</th>\n",
       "            <th>area_water</th>\n",
       "            <th>population</th>\n",
       "            <th>population_growth</th>\n",
       "            <th>birth_rate</th>\n",
       "            <th>death_rate</th>\n",
       "            <th>migration_rate</th>\n",
       "        </tr>\n",
       "    </thead>\n",
       "    <tbody>\n",
       "        <tr>\n",
       "            <td>250</td>\n",
       "            <td>ay</td>\n",
       "            <td>Antarctica</td>\n",
       "            <td>None</td>\n",
       "            <td>280000</td>\n",
       "            <td>None</td>\n",
       "            <td>0</td>\n",
       "            <td>None</td>\n",
       "            <td>None</td>\n",
       "            <td>None</td>\n",
       "            <td>None</td>\n",
       "        </tr>\n",
       "    </tbody>\n",
       "</table>"
      ],
      "text/plain": [
       "[(250, 'ay', 'Antarctica', None, 280000, None, 0, None, None, None, None)]"
      ]
     },
     "execution_count": 6,
     "metadata": {},
     "output_type": "execute_result"
    }
   ],
   "source": [
    "%%sql\n",
    "SELECT *\n",
    "FROM facts\n",
    "WHERE population == 0\n",
    ";"
   ]
  },
  {
   "attachments": {},
   "cell_type": "markdown",
   "id": "urban-google",
   "metadata": {},
   "source": [
    "It turns out that it is not a country, but rather the continent of [Antarctica](https://www.cia.gov/the-world-factbook/countries/antarctica/), which is at the South Pole. It is too cold there for people to live comfortably, so of course its population size would be 0.\n",
    "\n",
    "The maximum population size, on the other hand, is over 7 billion, which seems too large. Let's check which country this is."
   ]
  },
  {
   "cell_type": "code",
   "execution_count": 7,
   "id": "excellent-inquiry",
   "metadata": {},
   "outputs": [
    {
     "name": "stdout",
     "output_type": "stream",
     "text": [
      " * sqlite:///private/2021-07-24-SQL-Fundamentals-Files/factbook.db\n",
      "Done.\n"
     ]
    },
    {
     "data": {
      "text/html": [
       "<table>\n",
       "    <thead>\n",
       "        <tr>\n",
       "            <th>id</th>\n",
       "            <th>code</th>\n",
       "            <th>name</th>\n",
       "            <th>area</th>\n",
       "            <th>area_land</th>\n",
       "            <th>area_water</th>\n",
       "            <th>population</th>\n",
       "            <th>population_growth</th>\n",
       "            <th>birth_rate</th>\n",
       "            <th>death_rate</th>\n",
       "            <th>migration_rate</th>\n",
       "        </tr>\n",
       "    </thead>\n",
       "    <tbody>\n",
       "        <tr>\n",
       "            <td>261</td>\n",
       "            <td>xx</td>\n",
       "            <td>World</td>\n",
       "            <td>None</td>\n",
       "            <td>None</td>\n",
       "            <td>None</td>\n",
       "            <td>7256490011</td>\n",
       "            <td>1.08</td>\n",
       "            <td>18.6</td>\n",
       "            <td>7.8</td>\n",
       "            <td>None</td>\n",
       "        </tr>\n",
       "    </tbody>\n",
       "</table>"
      ],
      "text/plain": [
       "[(261, 'xx', 'World', None, None, None, 7256490011, 1.08, 18.6, 7.8, None)]"
      ]
     },
     "execution_count": 7,
     "metadata": {},
     "output_type": "execute_result"
    }
   ],
   "source": [
    "%%sql\n",
    "SELECT *\n",
    "FROM facts\n",
    "WHERE population == (\n",
    "    SELECT MAX(population) --# Use a subquery to get the exact value of the maximum population size.\n",
    "    FROM facts\n",
    ")\n",
    ";"
   ]
  },
  {
   "attachments": {},
   "cell_type": "markdown",
   "id": "extreme-surname",
   "metadata": {},
   "source": [
    "It turns out that 7 billion refers to the total population in the entire world, not one country, so there is no error in the data. The data seems to have been collected in the mid-2010s, since the world population [reached 7.2 billion in 2013](https://earthsky.org/human-world/un-reports-global-human-population-now-7-2-billion-and-counting/).\n",
    "\n",
    "## Revised Summary Statistics\n",
    "\n",
    "We've come to the realization that this database doesn't just include entries on individual countries but also on entire continents and the entire world. Therefore, if we want to find useful information, we should **exclude the entries for Antarctica and the World**. We can do this using SQL's [NOT IN](https://www.universalclass.com/articles/computers/sql/using-the-in-not-and-like-operators-in-sql.htm) operator.\n",
    "\n",
    "Let's run our initial query again with this in mind."
   ]
  },
  {
   "cell_type": "code",
   "execution_count": 8,
   "id": "demonstrated-google",
   "metadata": {},
   "outputs": [
    {
     "name": "stdout",
     "output_type": "stream",
     "text": [
      " * sqlite:///private/2021-07-24-SQL-Fundamentals-Files/factbook.db\n",
      "Done.\n"
     ]
    },
    {
     "data": {
      "text/html": [
       "<table>\n",
       "    <thead>\n",
       "        <tr>\n",
       "            <th>MIN(population)</th>\n",
       "            <th>MAX(population)</th>\n",
       "            <th>MIN(population_growth)</th>\n",
       "            <th>MAX(population_growth)</th>\n",
       "        </tr>\n",
       "    </thead>\n",
       "    <tbody>\n",
       "        <tr>\n",
       "            <td>48</td>\n",
       "            <td>1367485388</td>\n",
       "            <td>0.0</td>\n",
       "            <td>4.02</td>\n",
       "        </tr>\n",
       "    </tbody>\n",
       "</table>"
      ],
      "text/plain": [
       "[(48, 1367485388, 0.0, 4.02)]"
      ]
     },
     "execution_count": 8,
     "metadata": {},
     "output_type": "execute_result"
    }
   ],
   "source": [
    "%%sql\n",
    "SELECT\n",
    "    MIN(population),\n",
    "    MAX(population),\n",
    "    MIN(population_growth),\n",
    "    MAX(population_growth)\n",
    "FROM facts\n",
    "WHERE name NOT IN (\"World\", \"Antarctica\")\n",
    "--# Exclude World and Antarctica from the entries being used in computation.\n",
    ";"
   ]
  },
  {
   "attachments": {},
   "cell_type": "markdown",
   "id": "compatible-biology",
   "metadata": {},
   "source": [
    "The population growth statistics are the same as before, but now, the population size statistics are different.\n",
    "\n",
    "Interestingly, the minimum population size is still very small—only 48 people. Which country is this?"
   ]
  },
  {
   "cell_type": "code",
   "execution_count": 9,
   "id": "fiscal-moment",
   "metadata": {},
   "outputs": [
    {
     "name": "stdout",
     "output_type": "stream",
     "text": [
      " * sqlite:///private/2021-07-24-SQL-Fundamentals-Files/factbook.db\n",
      "Done.\n"
     ]
    },
    {
     "data": {
      "text/html": [
       "<table>\n",
       "    <thead>\n",
       "        <tr>\n",
       "            <th>id</th>\n",
       "            <th>code</th>\n",
       "            <th>name</th>\n",
       "            <th>area</th>\n",
       "            <th>area_land</th>\n",
       "            <th>area_water</th>\n",
       "            <th>population</th>\n",
       "            <th>population_growth</th>\n",
       "            <th>birth_rate</th>\n",
       "            <th>death_rate</th>\n",
       "            <th>migration_rate</th>\n",
       "        </tr>\n",
       "    </thead>\n",
       "    <tbody>\n",
       "        <tr>\n",
       "            <td>238</td>\n",
       "            <td>pc</td>\n",
       "            <td>Pitcairn Islands</td>\n",
       "            <td>47</td>\n",
       "            <td>47</td>\n",
       "            <td>0</td>\n",
       "            <td>48</td>\n",
       "            <td>0.0</td>\n",
       "            <td>None</td>\n",
       "            <td>None</td>\n",
       "            <td>None</td>\n",
       "        </tr>\n",
       "    </tbody>\n",
       "</table>"
      ],
      "text/plain": [
       "[(238, 'pc', 'Pitcairn Islands', 47, 47, 0, 48, 0.0, None, None, None)]"
      ]
     },
     "execution_count": 9,
     "metadata": {},
     "output_type": "execute_result"
    }
   ],
   "source": [
    "%%sql\n",
    "SELECT *\n",
    "FROM facts\n",
    "WHERE population == (\n",
    "    SELECT MIN(population)\n",
    "    FROM facts\n",
    "    WHERE name NOT IN (\"World\", \"Antarctica\")\n",
    ")\n",
    ";"
   ]
  },
  {
   "attachments": {},
   "cell_type": "markdown",
   "id": "virtual-invasion",
   "metadata": {},
   "source": [
    "The country with a population of 48 is the [Pitcairn Islands](https://www.cia.gov/the-world-factbook/countries/pitcairn-islands/), which, according to the World Factbook, is a colony of the UK. The islands are small (the query result above shows only 47 square kilometers of land), so there are few people.\n",
    "\n",
    "On the other hand, the maximum population size was over 1.3 billion. Let's check which country this is."
   ]
  },
  {
   "cell_type": "code",
   "execution_count": 10,
   "id": "beautiful-jersey",
   "metadata": {},
   "outputs": [
    {
     "name": "stdout",
     "output_type": "stream",
     "text": [
      " * sqlite:///private/2021-07-24-SQL-Fundamentals-Files/factbook.db\n",
      "Done.\n"
     ]
    },
    {
     "data": {
      "text/html": [
       "<table>\n",
       "    <thead>\n",
       "        <tr>\n",
       "            <th>id</th>\n",
       "            <th>code</th>\n",
       "            <th>name</th>\n",
       "            <th>area</th>\n",
       "            <th>area_land</th>\n",
       "            <th>area_water</th>\n",
       "            <th>population</th>\n",
       "            <th>population_growth</th>\n",
       "            <th>birth_rate</th>\n",
       "            <th>death_rate</th>\n",
       "            <th>migration_rate</th>\n",
       "        </tr>\n",
       "    </thead>\n",
       "    <tbody>\n",
       "        <tr>\n",
       "            <td>37</td>\n",
       "            <td>ch</td>\n",
       "            <td>China</td>\n",
       "            <td>9596960</td>\n",
       "            <td>9326410</td>\n",
       "            <td>270550</td>\n",
       "            <td>1367485388</td>\n",
       "            <td>0.45</td>\n",
       "            <td>12.49</td>\n",
       "            <td>7.53</td>\n",
       "            <td>0.44</td>\n",
       "        </tr>\n",
       "    </tbody>\n",
       "</table>"
      ],
      "text/plain": [
       "[(37, 'ch', 'China', 9596960, 9326410, 270550, 1367485388, 0.45, 12.49, 7.53, 0.44)]"
      ]
     },
     "execution_count": 10,
     "metadata": {},
     "output_type": "execute_result"
    }
   ],
   "source": [
    "%%sql\n",
    "SELECT *\n",
    "FROM facts\n",
    "WHERE population == (\n",
    "    SELECT MAX(population)\n",
    "    FROM facts\n",
    "    WHERE name NOT IN (\"World\", \"Antarctica\")\n",
    ")\n",
    ";"
   ]
  },
  {
   "attachments": {},
   "cell_type": "markdown",
   "id": "harmful-tractor",
   "metadata": {},
   "source": [
    "Of course, the country with the largest population would be China. I expected this before I ran the query; China is well-known for the [one-child policy](https://www.scmp.com/economy/china-economy/article/3135510/chinas-one-child-policy-what-was-it-and-what-impact-did-it) that it enacted from 1980 to 2015 in order to curb the growth of its huge population.\n",
    "\n",
    "Now, let's investigate the minimum population growth, which was 0%. This means that the population wasn't increasing at all at that time."
   ]
  },
  {
   "cell_type": "code",
   "execution_count": 11,
   "id": "paperback-accessory",
   "metadata": {},
   "outputs": [
    {
     "name": "stdout",
     "output_type": "stream",
     "text": [
      " * sqlite:///private/2021-07-24-SQL-Fundamentals-Files/factbook.db\n",
      "Done.\n"
     ]
    },
    {
     "data": {
      "text/html": [
       "<table>\n",
       "    <thead>\n",
       "        <tr>\n",
       "            <th>id</th>\n",
       "            <th>code</th>\n",
       "            <th>name</th>\n",
       "            <th>area</th>\n",
       "            <th>area_land</th>\n",
       "            <th>area_water</th>\n",
       "            <th>population</th>\n",
       "            <th>population_growth</th>\n",
       "            <th>birth_rate</th>\n",
       "            <th>death_rate</th>\n",
       "            <th>migration_rate</th>\n",
       "        </tr>\n",
       "    </thead>\n",
       "    <tbody>\n",
       "        <tr>\n",
       "            <td>190</td>\n",
       "            <td>vt</td>\n",
       "            <td>Holy See (Vatican City)</td>\n",
       "            <td>0</td>\n",
       "            <td>0</td>\n",
       "            <td>0</td>\n",
       "            <td>842</td>\n",
       "            <td>0.0</td>\n",
       "            <td>None</td>\n",
       "            <td>None</td>\n",
       "            <td>None</td>\n",
       "        </tr>\n",
       "        <tr>\n",
       "            <td>200</td>\n",
       "            <td>ck</td>\n",
       "            <td>Cocos (Keeling) Islands</td>\n",
       "            <td>14</td>\n",
       "            <td>14</td>\n",
       "            <td>0</td>\n",
       "            <td>596</td>\n",
       "            <td>0.0</td>\n",
       "            <td>None</td>\n",
       "            <td>None</td>\n",
       "            <td>None</td>\n",
       "        </tr>\n",
       "        <tr>\n",
       "            <td>207</td>\n",
       "            <td>gl</td>\n",
       "            <td>Greenland</td>\n",
       "            <td>2166086</td>\n",
       "            <td>2166086</td>\n",
       "            <td>None</td>\n",
       "            <td>57733</td>\n",
       "            <td>0.0</td>\n",
       "            <td>14.48</td>\n",
       "            <td>8.49</td>\n",
       "            <td>5.98</td>\n",
       "        </tr>\n",
       "        <tr>\n",
       "            <td>238</td>\n",
       "            <td>pc</td>\n",
       "            <td>Pitcairn Islands</td>\n",
       "            <td>47</td>\n",
       "            <td>47</td>\n",
       "            <td>0</td>\n",
       "            <td>48</td>\n",
       "            <td>0.0</td>\n",
       "            <td>None</td>\n",
       "            <td>None</td>\n",
       "            <td>None</td>\n",
       "        </tr>\n",
       "    </tbody>\n",
       "</table>"
      ],
      "text/plain": [
       "[(190, 'vt', 'Holy See (Vatican City)', 0, 0, 0, 842, 0.0, None, None, None),\n",
       " (200, 'ck', 'Cocos (Keeling) Islands', 14, 14, 0, 596, 0.0, None, None, None),\n",
       " (207, 'gl', 'Greenland', 2166086, 2166086, None, 57733, 0.0, 14.48, 8.49, 5.98),\n",
       " (238, 'pc', 'Pitcairn Islands', 47, 47, 0, 48, 0.0, None, None, None)]"
      ]
     },
     "execution_count": 11,
     "metadata": {},
     "output_type": "execute_result"
    }
   ],
   "source": [
    "%%sql\n",
    "SELECT *\n",
    "FROM facts\n",
    "WHERE\n",
    "    population_growth == 0\n",
    "    AND name NOT IN (\"Antarctica\", \"World\")\n",
    ";"
   ]
  },
  {
   "attachments": {},
   "cell_type": "markdown",
   "id": "mighty-attempt",
   "metadata": {},
   "source": [
    "Four countries have shown up in the results. One of these is the Pitcairn Islands which were mentioned earlier. This makes sense as they have few people to begin with, and the Factbook states that it is rare for outsiders to migrate there.\n",
    "\n",
    "Interestingly, [Vatican City](https://www.cia.gov/the-world-factbook/countries/holy-see-vatican-city/) is among the countries without population growth, but this makes sense too. It is a small independent state within Italy that serves as the authority of Roman Catholicism.\n",
    "\n",
    "Finally, let's check the country with the highest population growth rate."
   ]
  },
  {
   "cell_type": "code",
   "execution_count": 12,
   "id": "hispanic-pierce",
   "metadata": {},
   "outputs": [
    {
     "name": "stdout",
     "output_type": "stream",
     "text": [
      " * sqlite:///private/2021-07-24-SQL-Fundamentals-Files/factbook.db\n",
      "Done.\n"
     ]
    },
    {
     "data": {
      "text/html": [
       "<table>\n",
       "    <thead>\n",
       "        <tr>\n",
       "            <th>id</th>\n",
       "            <th>code</th>\n",
       "            <th>name</th>\n",
       "            <th>area</th>\n",
       "            <th>area_land</th>\n",
       "            <th>area_water</th>\n",
       "            <th>population</th>\n",
       "            <th>population_growth</th>\n",
       "            <th>birth_rate</th>\n",
       "            <th>death_rate</th>\n",
       "            <th>migration_rate</th>\n",
       "        </tr>\n",
       "    </thead>\n",
       "    <tbody>\n",
       "        <tr>\n",
       "            <td>162</td>\n",
       "            <td>od</td>\n",
       "            <td>South Sudan</td>\n",
       "            <td>644329</td>\n",
       "            <td>None</td>\n",
       "            <td>None</td>\n",
       "            <td>12042910</td>\n",
       "            <td>4.02</td>\n",
       "            <td>36.91</td>\n",
       "            <td>8.18</td>\n",
       "            <td>11.47</td>\n",
       "        </tr>\n",
       "    </tbody>\n",
       "</table>"
      ],
      "text/plain": [
       "[(162, 'od', 'South Sudan', 644329, None, None, 12042910, 4.02, 36.91, 8.18, 11.47)]"
      ]
     },
     "execution_count": 12,
     "metadata": {},
     "output_type": "execute_result"
    }
   ],
   "source": [
    "%%sql\n",
    "SELECT *\n",
    "FROM facts\n",
    "WHERE population_growth == (\n",
    "    SELECT MAX(population_growth)\n",
    "    FROM facts\n",
    "    WHERE name NOT IN (\"World\", \"Antarctica\")\n",
    ")\n",
    ";"
   ]
  },
  {
   "attachments": {},
   "cell_type": "markdown",
   "id": "induced-translator",
   "metadata": {},
   "source": [
    "The country with the highest population growth rate is South Sudan. Its population was increasing by 4.02% annually at the time that the data was collected. According to [Hicks (2017)](https://natoassociation.ca/famine-in-south-sudan-a-food-security-crisis/), there was widespread famine in South Sudan, and its high population growth rendered the country's level of food production insufficient."
   ]
  },
  {
   "attachments": {},
   "cell_type": "markdown",
   "id": "perceived-witch",
   "metadata": {},
   "source": [
    "## Population Raw Increase\n",
    "\n",
    "Out of curiosity, we can investigate which countries may have the highest population raw increase. This means the increase in terms of the number of people as opposed to the percentage of the population.\n",
    "\n",
    "We can calculate this in an SQL query by multiplying population size by population growth rate. However, the query result needs to be stored as a DataFrame so that it can be used in a chart.\n",
    "\n",
    "First, we can store the result of an SQL query as a ResultSet object by using the **`<<` operator**, according to the [ipython-sql README](https://github.com/catherinedevlin/ipython-sql)."
   ]
  },
  {
   "cell_type": "code",
   "execution_count": 13,
   "id": "prostate-speaking",
   "metadata": {},
   "outputs": [
    {
     "name": "stdout",
     "output_type": "stream",
     "text": [
      " * sqlite:///private/2021-07-24-SQL-Fundamentals-Files/factbook.db\n",
      "Done.\n",
      "Returning data to local variable result\n"
     ]
    }
   ],
   "source": [
    "%%sql result <<\n",
    "SELECT\n",
    "    name,\n",
    "    population,\n",
    "    population_growth,\n",
    "    (population * population_growth / 100.0) AS \"population_raw_increase\" \n",
    "FROM facts\n",
    "WHERE name NOT IN (\"World\", \"Antarctica\")\n",
    "ORDER BY population_raw_increase DESC\n",
    ";"
   ]
  },
  {
   "attachments": {},
   "cell_type": "markdown",
   "id": "attractive-tactics",
   "metadata": {},
   "source": [
    "Then, the ResultSet can be converted into a DataFrame via its `.DataFrame()` method."
   ]
  },
  {
   "cell_type": "code",
   "execution_count": 14,
   "id": "missing-vitamin",
   "metadata": {},
   "outputs": [
    {
     "name": "stdout",
     "output_type": "stream",
     "text": [
      "(259, 4)\n"
     ]
    },
    {
     "data": {
      "text/html": [
       "<div>\n",
       "<style scoped>\n",
       "    .dataframe tbody tr th:only-of-type {\n",
       "        vertical-align: middle;\n",
       "    }\n",
       "\n",
       "    .dataframe tbody tr th {\n",
       "        vertical-align: top;\n",
       "    }\n",
       "\n",
       "    .dataframe thead th {\n",
       "        text-align: right;\n",
       "    }\n",
       "</style>\n",
       "<table border=\"1\" class=\"dataframe\">\n",
       "  <thead>\n",
       "    <tr style=\"text-align: right;\">\n",
       "      <th></th>\n",
       "      <th>name</th>\n",
       "      <th>population</th>\n",
       "      <th>population_growth</th>\n",
       "      <th>population_raw_increase</th>\n",
       "    </tr>\n",
       "  </thead>\n",
       "  <tbody>\n",
       "    <tr>\n",
       "      <th>0</th>\n",
       "      <td>India</td>\n",
       "      <td>1.251696e+09</td>\n",
       "      <td>1.22</td>\n",
       "      <td>1.527069e+07</td>\n",
       "    </tr>\n",
       "    <tr>\n",
       "      <th>1</th>\n",
       "      <td>China</td>\n",
       "      <td>1.367485e+09</td>\n",
       "      <td>0.45</td>\n",
       "      <td>6.153684e+06</td>\n",
       "    </tr>\n",
       "    <tr>\n",
       "      <th>2</th>\n",
       "      <td>Nigeria</td>\n",
       "      <td>1.815621e+08</td>\n",
       "      <td>2.45</td>\n",
       "      <td>4.448270e+06</td>\n",
       "    </tr>\n",
       "    <tr>\n",
       "      <th>3</th>\n",
       "      <td>Pakistan</td>\n",
       "      <td>1.990858e+08</td>\n",
       "      <td>1.46</td>\n",
       "      <td>2.906653e+06</td>\n",
       "    </tr>\n",
       "    <tr>\n",
       "      <th>4</th>\n",
       "      <td>Ethiopia</td>\n",
       "      <td>9.946582e+07</td>\n",
       "      <td>2.89</td>\n",
       "      <td>2.874562e+06</td>\n",
       "    </tr>\n",
       "    <tr>\n",
       "      <th>5</th>\n",
       "      <td>Bangladesh</td>\n",
       "      <td>1.689577e+08</td>\n",
       "      <td>1.60</td>\n",
       "      <td>2.703324e+06</td>\n",
       "    </tr>\n",
       "    <tr>\n",
       "      <th>6</th>\n",
       "      <td>United States</td>\n",
       "      <td>3.213689e+08</td>\n",
       "      <td>0.78</td>\n",
       "      <td>2.506677e+06</td>\n",
       "    </tr>\n",
       "    <tr>\n",
       "      <th>7</th>\n",
       "      <td>Indonesia</td>\n",
       "      <td>2.559937e+08</td>\n",
       "      <td>0.92</td>\n",
       "      <td>2.355142e+06</td>\n",
       "    </tr>\n",
       "    <tr>\n",
       "      <th>8</th>\n",
       "      <td>Congo, Democratic Republic of the</td>\n",
       "      <td>7.937514e+07</td>\n",
       "      <td>2.45</td>\n",
       "      <td>1.944691e+06</td>\n",
       "    </tr>\n",
       "    <tr>\n",
       "      <th>9</th>\n",
       "      <td>Philippines</td>\n",
       "      <td>1.009984e+08</td>\n",
       "      <td>1.61</td>\n",
       "      <td>1.626074e+06</td>\n",
       "    </tr>\n",
       "  </tbody>\n",
       "</table>\n",
       "</div>"
      ],
      "text/plain": [
       "                                name    population  population_growth  \\\n",
       "0                              India  1.251696e+09               1.22   \n",
       "1                              China  1.367485e+09               0.45   \n",
       "2                            Nigeria  1.815621e+08               2.45   \n",
       "3                           Pakistan  1.990858e+08               1.46   \n",
       "4                           Ethiopia  9.946582e+07               2.89   \n",
       "5                         Bangladesh  1.689577e+08               1.60   \n",
       "6                      United States  3.213689e+08               0.78   \n",
       "7                          Indonesia  2.559937e+08               0.92   \n",
       "8  Congo, Democratic Republic of the  7.937514e+07               2.45   \n",
       "9                        Philippines  1.009984e+08               1.61   \n",
       "\n",
       "   population_raw_increase  \n",
       "0             1.527069e+07  \n",
       "1             6.153684e+06  \n",
       "2             4.448270e+06  \n",
       "3             2.906653e+06  \n",
       "4             2.874562e+06  \n",
       "5             2.703324e+06  \n",
       "6             2.506677e+06  \n",
       "7             2.355142e+06  \n",
       "8             1.944691e+06  \n",
       "9             1.626074e+06  "
      ]
     },
     "execution_count": 14,
     "metadata": {},
     "output_type": "execute_result"
    }
   ],
   "source": [
    "pop_increase = result.DataFrame()\n",
    "\n",
    "print(pop_increase.shape)\n",
    "pop_increase.head(10)"
   ]
  },
  {
   "attachments": {},
   "cell_type": "markdown",
   "id": "approximate-bradford",
   "metadata": {},
   "source": [
    "The DataFrame above shows the top 10 countries in terms of population raw increase, which is written in scientific notation. Notably, while most of the values have an exponent of 6, India's has an exponent of 7. This means that its population raw increase is a whole order of magnitude higher than that of the other countries.\n",
    "\n",
    "We can communicate this result better by graphing population growth against population size, with population raw increase as a continuous grouping variable."
   ]
  },
  {
   "cell_type": "code",
   "execution_count": 15,
   "id": "contemporary-feelings",
   "metadata": {},
   "outputs": [
    {
     "data": {
      "text/html": [
       "\n",
       "<div id=\"altair-viz-aec59228209244c59dcef63933f948b1\"></div>\n",
       "<script type=\"text/javascript\">\n",
       "  (function(spec, embedOpt){\n",
       "    let outputDiv = document.currentScript.previousElementSibling;\n",
       "    if (outputDiv.id !== \"altair-viz-aec59228209244c59dcef63933f948b1\") {\n",
       "      outputDiv = document.getElementById(\"altair-viz-aec59228209244c59dcef63933f948b1\");\n",
       "    }\n",
       "    const paths = {\n",
       "      \"vega\": \"https://cdn.jsdelivr.net/npm//vega@5?noext\",\n",
       "      \"vega-lib\": \"https://cdn.jsdelivr.net/npm//vega-lib?noext\",\n",
       "      \"vega-lite\": \"https://cdn.jsdelivr.net/npm//vega-lite@4.8.1?noext\",\n",
       "      \"vega-embed\": \"https://cdn.jsdelivr.net/npm//vega-embed@6?noext\",\n",
       "    };\n",
       "\n",
       "    function loadScript(lib) {\n",
       "      return new Promise(function(resolve, reject) {\n",
       "        var s = document.createElement('script');\n",
       "        s.src = paths[lib];\n",
       "        s.async = true;\n",
       "        s.onload = () => resolve(paths[lib]);\n",
       "        s.onerror = () => reject(`Error loading script: ${paths[lib]}`);\n",
       "        document.getElementsByTagName(\"head\")[0].appendChild(s);\n",
       "      });\n",
       "    }\n",
       "\n",
       "    function showError(err) {\n",
       "      outputDiv.innerHTML = `<div class=\"error\" style=\"color:red;\">${err}</div>`;\n",
       "      throw err;\n",
       "    }\n",
       "\n",
       "    function displayChart(vegaEmbed) {\n",
       "      vegaEmbed(outputDiv, spec, embedOpt)\n",
       "        .catch(err => showError(`Javascript Error: ${err.message}<br>This usually means there's a typo in your chart specification. See the javascript console for the full traceback.`));\n",
       "    }\n",
       "\n",
       "    if(typeof define === \"function\" && define.amd) {\n",
       "      requirejs.config({paths});\n",
       "      require([\"vega-embed\"], displayChart, err => showError(`Error loading script: ${err.message}`));\n",
       "    } else if (typeof vegaEmbed === \"function\") {\n",
       "      displayChart(vegaEmbed);\n",
       "    } else {\n",
       "      loadScript(\"vega\")\n",
       "        .then(() => loadScript(\"vega-lite\"))\n",
       "        .then(() => loadScript(\"vega-embed\"))\n",
       "        .catch(showError)\n",
       "        .then(() => displayChart(vegaEmbed));\n",
       "    }\n",
       "  })({\"config\": {\"view\": {\"continuousWidth\": 400, \"continuousHeight\": 300}}, \"data\": {\"name\": \"data-3d41d6b487b0e2bcc651d80ca1f856cb\"}, \"mark\": \"point\", \"encoding\": {\"color\": {\"type\": \"quantitative\", \"field\": \"population_raw_increase\", \"title\": \"Population Raw Increase\"}, \"tooltip\": [{\"type\": \"nominal\", \"field\": \"name\"}, {\"type\": \"quantitative\", \"field\": \"population\"}, {\"type\": \"quantitative\", \"field\": \"population_growth\"}, {\"type\": \"quantitative\", \"field\": \"population_raw_increase\"}], \"x\": {\"type\": \"quantitative\", \"field\": \"population\", \"title\": \"Population Size\"}, \"y\": {\"type\": \"quantitative\", \"field\": \"population_growth\", \"title\": \"Population Growth Rate (% of Population)\"}}, \"selection\": {\"selector001\": {\"type\": \"interval\", \"bind\": \"scales\", \"encodings\": [\"x\", \"y\"]}}, \"title\": \"Population Growth Rate against Population Size\", \"$schema\": \"https://vega.github.io/schema/vega-lite/v4.8.1.json\", \"datasets\": {\"data-3d41d6b487b0e2bcc651d80ca1f856cb\": [{\"name\": \"India\", \"population\": 1251695584.0, \"population_growth\": 1.22, \"population_raw_increase\": 15270686.1248}, {\"name\": \"China\", \"population\": 1367485388.0, \"population_growth\": 0.45, \"population_raw_increase\": 6153684.246}, {\"name\": \"Nigeria\", \"population\": 181562056.0, \"population_growth\": 2.45, \"population_raw_increase\": 4448270.372}, {\"name\": \"Pakistan\", \"population\": 199085847.0, \"population_growth\": 1.46, \"population_raw_increase\": 2906653.3662}, {\"name\": \"Ethiopia\", \"population\": 99465819.0, \"population_growth\": 2.89, \"population_raw_increase\": 2874562.1691}, {\"name\": \"Bangladesh\", \"population\": 168957745.0, \"population_growth\": 1.6, \"population_raw_increase\": 2703323.92}, {\"name\": \"United States\", \"population\": 321368864.0, \"population_growth\": 0.78, \"population_raw_increase\": 2506677.1392}, {\"name\": \"Indonesia\", \"population\": 255993674.0, \"population_growth\": 0.92, \"population_raw_increase\": 2355141.8008000003}, {\"name\": \"Congo, Democratic Republic of the\", \"population\": 79375136.0, \"population_growth\": 2.45, \"population_raw_increase\": 1944690.8320000002}, {\"name\": \"Philippines\", \"population\": 100998376.0, \"population_growth\": 1.61, \"population_raw_increase\": 1626073.8536}, {\"name\": \"Egypt\", \"population\": 88487396.0, \"population_growth\": 1.79, \"population_raw_increase\": 1583924.3884}, {\"name\": \"Brazil\", \"population\": 204259812.0, \"population_growth\": 0.77, \"population_raw_increase\": 1572800.5524000002}, {\"name\": \"Mexico\", \"population\": 121736809.0, \"population_growth\": 1.18, \"population_raw_increase\": 1436494.3462}, {\"name\": \"Tanzania\", \"population\": 51045882.0, \"population_growth\": 2.79, \"population_raw_increase\": 1424180.1078}, {\"name\": \"European Union\", \"population\": 513949445.0, \"population_growth\": 0.25, \"population_raw_increase\": 1284873.6125}, {\"name\": \"Uganda\", \"population\": 37101745.0, \"population_growth\": 3.24, \"population_raw_increase\": 1202096.5380000002}, {\"name\": \"Iraq\", \"population\": 37056169.0, \"population_growth\": 2.93, \"population_raw_increase\": 1085745.7517}, {\"name\": \"Turkey\", \"population\": 79414269.0, \"population_growth\": 1.26, \"population_raw_increase\": 1000619.7894}, {\"name\": \"Iran\", \"population\": 81824270.0, \"population_growth\": 1.2, \"population_raw_increase\": 981891.24}, {\"name\": \"Vietnam\", \"population\": 94348835.0, \"population_growth\": 0.97, \"population_raw_increase\": 915183.6995}, {\"name\": \"Kenya\", \"population\": 45925301.0, \"population_growth\": 1.93, \"population_raw_increase\": 886358.3093}, {\"name\": \"Afghanistan\", \"population\": 32564342.0, \"population_growth\": 2.32, \"population_raw_increase\": 755492.7344}, {\"name\": \"Algeria\", \"population\": 39542166.0, \"population_growth\": 1.84, \"population_raw_increase\": 727575.8544}, {\"name\": \"South Africa\", \"population\": 53675563.0, \"population_growth\": 1.33, \"population_raw_increase\": 713884.9879000001}, {\"name\": \"Yemen\", \"population\": 26737317.0, \"population_growth\": 2.47, \"population_raw_increase\": 660411.7299}, {\"name\": \"Sudan\", \"population\": 36108853.0, \"population_growth\": 1.72, \"population_raw_increase\": 621072.2716}, {\"name\": \"Mozambique\", \"population\": 25303113.0, \"population_growth\": 2.45, \"population_raw_increase\": 619926.2685}, {\"name\": \"Cameroon\", \"population\": 23739218.0, \"population_growth\": 2.59, \"population_raw_increase\": 614845.7461999999}, {\"name\": \"Madagascar\", \"population\": 23812681.0, \"population_growth\": 2.58, \"population_raw_increase\": 614367.1698}, {\"name\": \"Malawi\", \"population\": 17964697.0, \"population_growth\": 3.32, \"population_raw_increase\": 596427.9404}, {\"name\": \"Niger\", \"population\": 18045729.0, \"population_growth\": 3.25, \"population_raw_increase\": 586486.1925}, {\"name\": \"Ghana\", \"population\": 26327649.0, \"population_growth\": 2.18, \"population_raw_increase\": 573942.7482}, {\"name\": \"Burkina Faso\", \"population\": 18931686.0, \"population_growth\": 3.03, \"population_raw_increase\": 573630.0858}, {\"name\": \"Burma\", \"population\": 56320206.0, \"population_growth\": 1.01, \"population_raw_increase\": 568834.0806}, {\"name\": \"Nepal\", \"population\": 31551305.0, \"population_growth\": 1.79, \"population_raw_increase\": 564768.3595}, {\"name\": \"Angola\", \"population\": 19625353.0, \"population_growth\": 2.78, \"population_raw_increase\": 545584.8134}, {\"name\": \"Mali\", \"population\": 16955536.0, \"population_growth\": 2.98, \"population_raw_increase\": 505274.9728}, {\"name\": \"Colombia\", \"population\": 46736728.0, \"population_growth\": 1.04, \"population_raw_increase\": 486061.9712}, {\"name\": \"South Sudan\", \"population\": 12042910.0, \"population_growth\": 4.02, \"population_raw_increase\": 484124.98199999996}, {\"name\": \"Cote d'Ivoire\", \"population\": 23295302.0, \"population_growth\": 1.91, \"population_raw_increase\": 444940.2682}, {\"name\": \"Malaysia\", \"population\": 30513848.0, \"population_growth\": 1.44, \"population_raw_increase\": 439399.4112}, {\"name\": \"Zambia\", \"population\": 15066266.0, \"population_growth\": 2.88, \"population_raw_increase\": 433908.4608}, {\"name\": \"Spain\", \"population\": 48146134.0, \"population_growth\": 0.89, \"population_raw_increase\": 428500.5926}, {\"name\": \"Venezuela\", \"population\": 29275460.0, \"population_growth\": 1.39, \"population_raw_increase\": 406928.894}, {\"name\": \"Saudi Arabia\", \"population\": 27752316.0, \"population_growth\": 1.46, \"population_raw_increase\": 405183.8136}, {\"name\": \"Argentina\", \"population\": 43431886.0, \"population_growth\": 0.93, \"population_raw_increase\": 403916.5398}, {\"name\": \"Burundi\", \"population\": 10742276.0, \"population_growth\": 3.28, \"population_raw_increase\": 352346.65280000004}, {\"name\": \"United Kingdom\", \"population\": 64088222.0, \"population_growth\": 0.54, \"population_raw_increase\": 346076.3988}, {\"name\": \"Senegal\", \"population\": 13975834.0, \"population_growth\": 2.45, \"population_raw_increase\": 342407.933}, {\"name\": \"Morocco\", \"population\": 33322699.0, \"population_growth\": 1.0, \"population_raw_increase\": 333226.99}, {\"name\": \"Rwanda\", \"population\": 12661733.0, \"population_growth\": 2.56, \"population_raw_increase\": 324140.3648}, {\"name\": \"Zimbabwe\", \"population\": 14229541.0, \"population_growth\": 2.21, \"population_raw_increase\": 314472.8561}, {\"name\": \"Guinea\", \"population\": 11780162.0, \"population_growth\": 2.63, \"population_raw_increase\": 309818.2606}, {\"name\": \"Peru\", \"population\": 30444999.0, \"population_growth\": 0.97, \"population_raw_increase\": 295316.49029999995}, {\"name\": \"Benin\", \"population\": 10448647.0, \"population_growth\": 2.78, \"population_raw_increase\": 290472.38659999997}, {\"name\": \"France\", \"population\": 66553766.0, \"population_growth\": 0.43, \"population_raw_increase\": 286181.1938}, {\"name\": \"Uzbekistan\", \"population\": 29199942.0, \"population_growth\": 0.93, \"population_raw_increase\": 271559.46060000005}, {\"name\": \"Guatemala\", \"population\": 14918999.0, \"population_growth\": 1.82, \"population_raw_increase\": 271525.7818}, {\"name\": \"Ukraine\", \"population\": 44429471.0, \"population_growth\": 0.6, \"population_raw_increase\": 266576.826}, {\"name\": \"Canada\", \"population\": 35099836.0, \"population_growth\": 0.75, \"population_raw_increase\": 263248.77}, {\"name\": \"Cambodia\", \"population\": 15708756.0, \"population_growth\": 1.58, \"population_raw_increase\": 248198.3448}, {\"name\": \"Australia\", \"population\": 22751014.0, \"population_growth\": 1.07, \"population_raw_increase\": 243435.8498}, {\"name\": \"Thailand\", \"population\": 67976405.0, \"population_growth\": 0.34, \"population_raw_increase\": 231119.77700000003}, {\"name\": \"Chad\", \"population\": 11631456.0, \"population_growth\": 1.89, \"population_raw_increase\": 219834.5184}, {\"name\": \"Ecuador\", \"population\": 15868396.0, \"population_growth\": 1.35, \"population_raw_increase\": 214223.34600000002}, {\"name\": \"Kazakhstan\", \"population\": 18157122.0, \"population_growth\": 1.14, \"population_raw_increase\": 206991.19079999998}, {\"name\": \"Togo\", \"population\": 7552318.0, \"population_growth\": 2.69, \"population_raw_increase\": 203157.35419999997}, {\"name\": \"Japan\", \"population\": 126919659.0, \"population_growth\": 0.16, \"population_raw_increase\": 203071.45440000002}, {\"name\": \"Somalia\", \"population\": 10616380.0, \"population_growth\": 1.83, \"population_raw_increase\": 194279.75400000002}, {\"name\": \"Sri Lanka\", \"population\": 22053488.0, \"population_growth\": 0.84, \"population_raw_increase\": 185249.29919999998}, {\"name\": \"Bolivia\", \"population\": 10800882.0, \"population_growth\": 1.56, \"population_raw_increase\": 168493.75920000003}, {\"name\": \"Italy\", \"population\": 61855120.0, \"population_growth\": 0.27, \"population_raw_increase\": 167008.824}, {\"name\": \"United Arab Emirates\", \"population\": 5779760.0, \"population_growth\": 2.58, \"population_raw_increase\": 149117.80800000002}, {\"name\": \"Honduras\", \"population\": 8746673.0, \"population_growth\": 1.68, \"population_raw_increase\": 146944.1064}, {\"name\": \"Eritrea\", \"population\": 6527689.0, \"population_growth\": 2.25, \"population_raw_increase\": 146873.0025}, {\"name\": \"Chile\", \"population\": 17508260.0, \"population_growth\": 0.82, \"population_raw_increase\": 143567.732}, {\"name\": \"Libya\", \"population\": 6411776.0, \"population_growth\": 2.23, \"population_raw_increase\": 142982.6048}, {\"name\": \"Tajikistan\", \"population\": 8191958.0, \"population_growth\": 1.71, \"population_raw_increase\": 140082.4818}, {\"name\": \"Sierra Leone\", \"population\": 5879098.0, \"population_growth\": 2.35, \"population_raw_increase\": 138158.803}, {\"name\": \"Germany\", \"population\": 80854408.0, \"population_growth\": 0.17, \"population_raw_increase\": 137452.49360000002}, {\"name\": \"Korea, North\", \"population\": 24983205.0, \"population_growth\": 0.53, \"population_raw_increase\": 132410.9865}, {\"name\": \"Dominican Republic\", \"population\": 10478756.0, \"population_growth\": 1.23, \"population_raw_increase\": 128888.69879999998}, {\"name\": \"Israel\", \"population\": 8049314.0, \"population_growth\": 1.56, \"population_raw_increase\": 125569.2984}, {\"name\": \"Papua New Guinea\", \"population\": 6672429.0, \"population_growth\": 1.78, \"population_raw_increase\": 118769.23620000001}, {\"name\": \"Haiti\", \"population\": 10110019.0, \"population_growth\": 1.17, \"population_raw_increase\": 118287.22229999998}, {\"name\": \"Central African Republic\", \"population\": 5391539.0, \"population_growth\": 2.13, \"population_raw_increase\": 114839.7807}, {\"name\": \"Singapore\", \"population\": 5674472.0, \"population_growth\": 1.89, \"population_raw_increase\": 107247.5208}, {\"name\": \"Laos\", \"population\": 6911544.0, \"population_growth\": 1.55, \"population_raw_increase\": 107128.93200000002}, {\"name\": \"Liberia\", \"population\": 4195666.0, \"population_growth\": 2.47, \"population_raw_increase\": 103632.95020000002}, {\"name\": \"Tunisia\", \"population\": 11037225.0, \"population_growth\": 0.89, \"population_raw_increase\": 98231.3025}, {\"name\": \"Congo, Republic of the\", \"population\": 4755097.0, \"population_growth\": 2.0, \"population_raw_increase\": 95101.94}, {\"name\": \"Azerbaijan\", \"population\": 9780780.0, \"population_growth\": 0.96, \"population_raw_increase\": 93895.48799999998}, {\"name\": \"Belgium\", \"population\": 11323973.0, \"population_growth\": 0.76, \"population_raw_increase\": 86062.1948}, {\"name\": \"Mauritania\", \"population\": 3596702.0, \"population_growth\": 2.23, \"population_raw_increase\": 80206.4546}, {\"name\": \"Paraguay\", \"population\": 6783272.0, \"population_growth\": 1.16, \"population_raw_increase\": 78685.9552}, {\"name\": \"Sweden\", \"population\": 9801616.0, \"population_growth\": 0.8, \"population_raw_increase\": 78412.92800000001}, {\"name\": \"Netherlands\", \"population\": 16947904.0, \"population_growth\": 0.41, \"population_raw_increase\": 69486.40639999999}, {\"name\": \"Korea, South\", \"population\": 49115196.0, \"population_growth\": 0.14, \"population_raw_increase\": 68761.27440000001}, {\"name\": \"Oman\", \"population\": 3286936.0, \"population_growth\": 2.07, \"population_raw_increase\": 68039.57519999999}, {\"name\": \"Qatar\", \"population\": 2194817.0, \"population_growth\": 3.07, \"population_raw_increase\": 67380.8819}, {\"name\": \"Jordan\", \"population\": 8117564.0, \"population_growth\": 0.83, \"population_raw_increase\": 67375.7812}, {\"name\": \"Romania\", \"population\": 21666350.0, \"population_growth\": 0.3, \"population_raw_increase\": 64999.05}, {\"name\": \"Kyrgyzstan\", \"population\": 5664939.0, \"population_growth\": 1.11, \"population_raw_increase\": 62880.82290000001}, {\"name\": \"Ireland\", \"population\": 4892305.0, \"population_growth\": 1.25, \"population_raw_increase\": 61153.8125}, {\"name\": \"Turkmenistan\", \"population\": 5231422.0, \"population_growth\": 1.14, \"population_raw_increase\": 59638.21079999999}, {\"name\": \"Nicaragua\", \"population\": 5907881.0, \"population_growth\": 1.0, \"population_raw_increase\": 59078.81}, {\"name\": \"Norway\", \"population\": 5207689.0, \"population_growth\": 1.13, \"population_raw_increase\": 58846.88569999999}, {\"name\": \"Costa Rica\", \"population\": 4814144.0, \"population_growth\": 1.22, \"population_raw_increase\": 58732.5568}, {\"name\": \"Switzerland\", \"population\": 8121830.0, \"population_growth\": 0.71, \"population_raw_increase\": 57664.992999999995}, {\"name\": \"Russia\", \"population\": 142423773.0, \"population_growth\": 0.04, \"population_raw_increase\": 56969.5092}, {\"name\": \"West Bank\", \"population\": 2785366.0, \"population_growth\": 1.95, \"population_raw_increase\": 54314.637}, {\"name\": \"Taiwan\", \"population\": 23415126.0, \"population_growth\": 0.23, \"population_raw_increase\": 53854.789800000006}, {\"name\": \"Lebanon\", \"population\": 6184701.0, \"population_growth\": 0.86, \"population_raw_increase\": 53188.42860000001}, {\"name\": \"Gaza Strip\", \"population\": 1869055.0, \"population_growth\": 2.81, \"population_raw_increase\": 52520.4455}, {\"name\": \"Panama\", \"population\": 3657024.0, \"population_growth\": 1.32, \"population_raw_increase\": 48272.71680000001}, {\"name\": \"Austria\", \"population\": 8665550.0, \"population_growth\": 0.55, \"population_raw_increase\": 47660.525}, {\"name\": \"Kuwait\", \"population\": 2788534.0, \"population_growth\": 1.62, \"population_raw_increase\": 45174.2508}, {\"name\": \"Gambia, The\", \"population\": 1967709.0, \"population_growth\": 2.16, \"population_raw_increase\": 42502.51440000001}, {\"name\": \"Bulgaria\", \"population\": 7186893.0, \"population_growth\": 0.58, \"population_raw_increase\": 41683.9794}, {\"name\": \"Mongolia\", \"population\": 2992908.0, \"population_growth\": 1.31, \"population_raw_increase\": 39207.0948}, {\"name\": \"Moldova\", \"population\": 3546847.0, \"population_growth\": 1.03, \"population_raw_increase\": 36532.5241}, {\"name\": \"New Zealand\", \"population\": 4438393.0, \"population_growth\": 0.82, \"population_raw_increase\": 36394.8226}, {\"name\": \"Poland\", \"population\": 38562189.0, \"population_growth\": 0.09, \"population_raw_increase\": 34705.9701}, {\"name\": \"Serbia\", \"population\": 7176794.0, \"population_growth\": 0.46, \"population_raw_increase\": 33013.252400000005}, {\"name\": \"Guinea-Bissau\", \"population\": 1726170.0, \"population_growth\": 1.91, \"population_raw_increase\": 32969.846999999994}, {\"name\": \"Gabon\", \"population\": 1705336.0, \"population_growth\": 1.93, \"population_raw_increase\": 32912.9848}, {\"name\": \"Bahrain\", \"population\": 1346613.0, \"population_growth\": 2.41, \"population_raw_increase\": 32453.3733}, {\"name\": \"Lithuania\", \"population\": 2884433.0, \"population_growth\": 1.04, \"population_raw_increase\": 29998.1032}, {\"name\": \"Timor-Leste\", \"population\": 1231116.0, \"population_growth\": 2.42, \"population_raw_increase\": 29793.007199999996}, {\"name\": \"Syria\", \"population\": 17064854.0, \"population_growth\": 0.16, \"population_raw_increase\": 27303.7664}, {\"name\": \"Hong Kong\", \"population\": 7141106.0, \"population_growth\": 0.38, \"population_raw_increase\": 27136.202800000003}, {\"name\": \"Botswana\", \"population\": 2182719.0, \"population_growth\": 1.21, \"population_raw_increase\": 26410.899899999997}, {\"name\": \"Finland\", \"population\": 5476922.0, \"population_growth\": 0.4, \"population_raw_increase\": 21907.688000000002}, {\"name\": \"Hungary\", \"population\": 9897541.0, \"population_growth\": 0.22, \"population_raw_increase\": 21774.5902}, {\"name\": \"Puerto Rico\", \"population\": 3598357.0, \"population_growth\": 0.6, \"population_raw_increase\": 21590.141999999996}, {\"name\": \"Latvia\", \"population\": 1986705.0, \"population_growth\": 1.06, \"population_raw_increase\": 21059.073000000004}, {\"name\": \"Jamaica\", \"population\": 2950210.0, \"population_growth\": 0.68, \"population_raw_increase\": 20061.428}, {\"name\": \"Belarus\", \"population\": 9589689.0, \"population_growth\": 0.2, \"population_raw_increase\": 19179.378}, {\"name\": \"Equatorial Guinea\", \"population\": 740743.0, \"population_growth\": 2.51, \"population_raw_increase\": 18592.6493}, {\"name\": \"Djibouti\", \"population\": 828324.0, \"population_growth\": 2.2, \"population_raw_increase\": 18223.128}, {\"name\": \"Czech Republic\", \"population\": 10644842.0, \"population_growth\": 0.16, \"population_raw_increase\": 17031.747199999998}, {\"name\": \"Cyprus\", \"population\": 1189197.0, \"population_growth\": 1.43, \"population_raw_increase\": 17005.5171}, {\"name\": \"Cuba\", \"population\": 11031433.0, \"population_growth\": 0.15, \"population_raw_increase\": 16547.1495}, {\"name\": \"Western Sahara\", \"population\": 570866.0, \"population_growth\": 2.82, \"population_raw_increase\": 16098.421199999999}, {\"name\": \"Swaziland\", \"population\": 1435613.0, \"population_growth\": 1.11, \"population_raw_increase\": 15935.304300000002}, {\"name\": \"El Salvador\", \"population\": 6141350.0, \"population_growth\": 0.25, \"population_raw_increase\": 15353.375}, {\"name\": \"Comoros\", \"population\": 780971.0, \"population_growth\": 1.77, \"population_raw_increase\": 13823.186699999998}, {\"name\": \"Namibia\", \"population\": 2212307.0, \"population_growth\": 0.59, \"population_raw_increase\": 13052.611299999999}, {\"name\": \"Solomon Islands\", \"population\": 622469.0, \"population_growth\": 2.02, \"population_raw_increase\": 12573.873800000001}, {\"name\": \"Denmark\", \"population\": 5581503.0, \"population_growth\": 0.22, \"population_raw_increase\": 12279.3066}, {\"name\": \"Luxembourg\", \"population\": 570252.0, \"population_growth\": 2.13, \"population_raw_increase\": 12146.3676}, {\"name\": \"Portugal\", \"population\": 10825309.0, \"population_growth\": 0.09, \"population_raw_increase\": 9742.7781}, {\"name\": \"Albania\", \"population\": 3029278.0, \"population_growth\": 0.3, \"population_raw_increase\": 9087.834}, {\"name\": \"Uruguay\", \"population\": 3341893.0, \"population_growth\": 0.27, \"population_raw_increase\": 9023.111100000002}, {\"name\": \"Mauritius\", \"population\": 1339827.0, \"population_growth\": 0.64, \"population_raw_increase\": 8574.8928}, {\"name\": \"Bhutan\", \"population\": 741919.0, \"population_growth\": 1.11, \"population_raw_increase\": 8235.3009}, {\"name\": \"Cabo Verde\", \"population\": 545993.0, \"population_growth\": 1.36, \"population_raw_increase\": 7425.504800000001}, {\"name\": \"Brunei\", \"population\": 429646.0, \"population_growth\": 1.62, \"population_raw_increase\": 6960.2652}, {\"name\": \"Estonia\", \"population\": 1265420.0, \"population_growth\": 0.55, \"population_raw_increase\": 6959.81}, {\"name\": \"Belize\", \"population\": 347369.0, \"population_growth\": 1.87, \"population_raw_increase\": 6495.8003}, {\"name\": \"Suriname\", \"population\": 579633.0, \"population_growth\": 1.08, \"population_raw_increase\": 6260.0364}, {\"name\": \"Lesotho\", \"population\": 1947701.0, \"population_growth\": 0.32, \"population_raw_increase\": 6232.6432}, {\"name\": \"Fiji\", \"population\": 909389.0, \"population_growth\": 0.67, \"population_raw_increase\": 6092.9063}, {\"name\": \"Croatia\", \"population\": 4464844.0, \"population_growth\": 0.13, \"population_raw_increase\": 5804.2972}, {\"name\": \"Vanuatu\", \"population\": 272264.0, \"population_growth\": 1.95, \"population_raw_increase\": 5309.147999999999}, {\"name\": \"Slovenia\", \"population\": 1983412.0, \"population_growth\": 0.26, \"population_raw_increase\": 5156.8712}, {\"name\": \"Bosnia and Herzegovina\", \"population\": 3867055.0, \"population_growth\": 0.13, \"population_raw_increase\": 5027.1715}, {\"name\": \"Macau\", \"population\": 592731.0, \"population_growth\": 0.8, \"population_raw_increase\": 4741.848000000001}, {\"name\": \"Armenia\", \"population\": 3056382.0, \"population_growth\": 0.15, \"population_raw_increase\": 4584.573}, {\"name\": \"Macedonia\", \"population\": 2096015.0, \"population_growth\": 0.2, \"population_raw_increase\": 4192.03}, {\"name\": \"Iceland\", \"population\": 331918.0, \"population_growth\": 1.21, \"population_raw_increase\": 4016.2077999999997}, {\"name\": \"Georgia\", \"population\": 4931226.0, \"population_growth\": 0.08, \"population_raw_increase\": 3944.9808000000003}, {\"name\": \"New Caledonia\", \"population\": 271615.0, \"population_growth\": 1.38, \"population_raw_increase\": 3748.2869999999994}, {\"name\": \"Sao Tome and Principe\", \"population\": 194006.0, \"population_growth\": 1.84, \"population_raw_increase\": 3569.7104000000004}, {\"name\": \"Bahamas, The\", \"population\": 324597.0, \"population_growth\": 0.85, \"population_raw_increase\": 2759.0745}, {\"name\": \"Montenegro\", \"population\": 647073.0, \"population_growth\": 0.42, \"population_raw_increase\": 2717.7065999999995}, {\"name\": \"French Polynesia\", \"population\": 282703.0, \"population_growth\": 0.94, \"population_raw_increase\": 2657.4082}, {\"name\": \"Trinidad and Tobago\", \"population\": 1222363.0, \"population_growth\": 0.13, \"population_raw_increase\": 1589.0719}, {\"name\": \"Aruba\", \"population\": 112162.0, \"population_growth\": 1.33, \"population_raw_increase\": 1491.7546000000002}, {\"name\": \"Malta\", \"population\": 413965.0, \"population_growth\": 0.31, \"population_raw_increase\": 1283.2915}, {\"name\": \"Kiribati\", \"population\": 105711.0, \"population_growth\": 1.15, \"population_raw_increase\": 1215.6765}, {\"name\": \"Marshall Islands\", \"population\": 72191.0, \"population_growth\": 1.66, \"population_raw_increase\": 1198.3706}, {\"name\": \"Cayman Islands\", \"population\": 56092.0, \"population_growth\": 2.1, \"population_raw_increase\": 1177.932}, {\"name\": \"Turks and Caicos Islands\", \"population\": 50280.0, \"population_growth\": 2.3, \"population_raw_increase\": 1156.4399999999998}, {\"name\": \"Samoa\", \"population\": 197773.0, \"population_growth\": 0.58, \"population_raw_increase\": 1147.0834}, {\"name\": \"Antigua and Barbuda\", \"population\": 92436.0, \"population_growth\": 1.24, \"population_raw_increase\": 1146.2064}, {\"name\": \"Northern Mariana Islands\", \"population\": 52344.0, \"population_growth\": 2.18, \"population_raw_increase\": 1141.0992}, {\"name\": \"Slovakia\", \"population\": 5445027.0, \"population_growth\": 0.02, \"population_raw_increase\": 1089.0054}, {\"name\": \"Greece\", \"population\": 10775643.0, \"population_growth\": 0.01, \"population_raw_increase\": 1077.5643}, {\"name\": \"Barbados\", \"population\": 290604.0, \"population_growth\": 0.31, \"population_raw_increase\": 900.8724000000001}, {\"name\": \"Guam\", \"population\": 161785.0, \"population_growth\": 0.54, \"population_raw_increase\": 873.6390000000001}, {\"name\": \"Jersey\", \"population\": 97294.0, \"population_growth\": 0.8, \"population_raw_increase\": 778.352}, {\"name\": \"British Virgin Islands\", \"population\": 33454.0, \"population_growth\": 2.32, \"population_raw_increase\": 776.1328}, {\"name\": \"Seychelles\", \"population\": 92430.0, \"population_growth\": 0.83, \"population_raw_increase\": 767.169}, {\"name\": \"Isle of Man\", \"population\": 87545.0, \"population_growth\": 0.76, \"population_raw_increase\": 665.342}, {\"name\": \"Curacao\", \"population\": 148406.0, \"population_growth\": 0.43, \"population_raw_increase\": 638.1458}, {\"name\": \"Virgin Islands\", \"population\": 103574.0, \"population_growth\": 0.59, \"population_raw_increase\": 611.0866}, {\"name\": \"Sint Maarten\", \"population\": 39689.0, \"population_growth\": 1.51, \"population_raw_increase\": 599.3039}, {\"name\": \"Saint Lucia\", \"population\": 163922.0, \"population_growth\": 0.34, \"population_raw_increase\": 557.3348000000001}, {\"name\": \"Grenada\", \"population\": 110694.0, \"population_growth\": 0.48, \"population_raw_increase\": 531.3312}, {\"name\": \"Micronesia, Federated States of\", \"population\": 105216.0, \"population_growth\": 0.46, \"population_raw_increase\": 483.9936}, {\"name\": \"Saint Kitts and Nevis\", \"population\": 51936.0, \"population_growth\": 0.76, \"population_raw_increase\": 394.7136}, {\"name\": \"Bermuda\", \"population\": 70196.0, \"population_growth\": 0.5, \"population_raw_increase\": 350.98}, {\"name\": \"Anguilla\", \"population\": 16418.0, \"population_growth\": 2.03, \"population_raw_increase\": 333.2853999999999}, {\"name\": \"Liechtenstein\", \"population\": 37624.0, \"population_growth\": 0.84, \"population_raw_increase\": 316.0416}, {\"name\": \"Maldives\", \"population\": 393253.0, \"population_growth\": 0.08, \"population_raw_increase\": 314.6024}, {\"name\": \"Cook Islands\", \"population\": 9838.0, \"population_growth\": 2.95, \"population_raw_increase\": 290.221}, {\"name\": \"Saint Vincent and the Grenadines\", \"population\": 102627.0, \"population_growth\": 0.28, \"population_raw_increase\": 287.35560000000004}, {\"name\": \"San Marino\", \"population\": 33020.0, \"population_growth\": 0.82, \"population_raw_increase\": 270.76399999999995}, {\"name\": \"Faroe Islands\", \"population\": 50196.0, \"population_growth\": 0.51, \"population_raw_increase\": 255.9996}, {\"name\": \"Guernsey\", \"population\": 66080.0, \"population_growth\": 0.34, \"population_raw_increase\": 224.672}, {\"name\": \"American Samoa\", \"population\": 54343.0, \"population_growth\": 0.3, \"population_raw_increase\": 163.029}, {\"name\": \"Dominica\", \"population\": 73607.0, \"population_growth\": 0.21, \"population_raw_increase\": 154.5747}, {\"name\": \"Guyana\", \"population\": 735222.0, \"population_growth\": 0.02, \"population_raw_increase\": 147.0444}, {\"name\": \"Andorra\", \"population\": 85580.0, \"population_growth\": 0.12, \"population_raw_increase\": 102.696}, {\"name\": \"Tuvalu\", \"population\": 10869.0, \"population_growth\": 0.82, \"population_raw_increase\": 89.1258}, {\"name\": \"Palau\", \"population\": 21265.0, \"population_growth\": 0.38, \"population_raw_increase\": 80.807}, {\"name\": \"Gibraltar\", \"population\": 29258.0, \"population_growth\": 0.24, \"population_raw_increase\": 70.2192}, {\"name\": \"Saint Pierre and Miquelon\", \"population\": 5657.0, \"population_growth\": 1.08, \"population_raw_increase\": 61.095600000000005}, {\"name\": \"Nauru\", \"population\": 9540.0, \"population_growth\": 0.55, \"population_raw_increase\": 52.47}, {\"name\": \"Wallis and Futuna\", \"population\": 15613.0, \"population_growth\": 0.33, \"population_raw_increase\": 51.5229}, {\"name\": \"Monaco\", \"population\": 30535.0, \"population_growth\": 0.12, \"population_raw_increase\": 36.641999999999996}, {\"name\": \"Tonga\", \"population\": 106501.0, \"population_growth\": 0.03, \"population_raw_increase\": 31.9503}, {\"name\": \"Montserrat\", \"population\": 5241.0, \"population_growth\": 0.5, \"population_raw_increase\": 26.205}, {\"name\": \"Saint Helena, Ascension, and Tristan da Cunha\", \"population\": 7795.0, \"population_growth\": 0.24, \"population_raw_increase\": 18.708}, {\"name\": \"Christmas Island\", \"population\": 1530.0, \"population_growth\": 1.11, \"population_raw_increase\": 16.983}, {\"name\": \"Svalbard\", \"population\": 1872.0, \"population_growth\": 0.03, \"population_raw_increase\": 0.5616}, {\"name\": \"Niue\", \"population\": 1190.0, \"population_growth\": 0.03, \"population_raw_increase\": 0.357}, {\"name\": \"Falkland Islands (Islas Malvinas)\", \"population\": 3361.0, \"population_growth\": 0.01, \"population_raw_increase\": 0.3361}, {\"name\": \"Norfolk Island\", \"population\": 2210.0, \"population_growth\": 0.01, \"population_raw_increase\": 0.221}, {\"name\": \"Tokelau\", \"population\": 1337.0, \"population_growth\": 0.01, \"population_raw_increase\": 0.1337}, {\"name\": \"Holy See (Vatican City)\", \"population\": 842.0, \"population_growth\": 0.0, \"population_raw_increase\": 0.0}, {\"name\": \"Cocos (Keeling) Islands\", \"population\": 596.0, \"population_growth\": 0.0, \"population_raw_increase\": 0.0}, {\"name\": \"Greenland\", \"population\": 57733.0, \"population_growth\": 0.0, \"population_raw_increase\": 0.0}, {\"name\": \"Pitcairn Islands\", \"population\": 48.0, \"population_growth\": 0.0, \"population_raw_increase\": 0.0}, {\"name\": \"Kosovo\", \"population\": 1870981.0, \"population_growth\": null, \"population_raw_increase\": null}, {\"name\": \"Ashmore and Cartier Islands\", \"population\": null, \"population_growth\": null, \"population_raw_increase\": null}, {\"name\": \"Coral Sea Islands\", \"population\": null, \"population_growth\": null, \"population_raw_increase\": null}, {\"name\": \"Heard Island and McDonald Islands\", \"population\": null, \"population_growth\": null, \"population_raw_increase\": null}, {\"name\": \"Clipperton Island\", \"population\": null, \"population_growth\": null, \"population_raw_increase\": null}, {\"name\": \"French Southern and Antarctic Lands\", \"population\": null, \"population_growth\": null, \"population_raw_increase\": null}, {\"name\": \"Saint Barthelemy\", \"population\": 7237.0, \"population_growth\": null, \"population_raw_increase\": null}, {\"name\": \"Saint Martin\", \"population\": 31754.0, \"population_growth\": null, \"population_raw_increase\": null}, {\"name\": \"Bouvet Island\", \"population\": null, \"population_growth\": null, \"population_raw_increase\": null}, {\"name\": \"Jan Mayen\", \"population\": null, \"population_growth\": null, \"population_raw_increase\": null}, {\"name\": \"Akrotiri\", \"population\": 15700.0, \"population_growth\": null, \"population_raw_increase\": null}, {\"name\": \"British Indian Ocean Territory\", \"population\": null, \"population_growth\": null, \"population_raw_increase\": null}, {\"name\": \"Dhekelia\", \"population\": 15700.0, \"population_growth\": null, \"population_raw_increase\": null}, {\"name\": \"South Georgia and South Sandwich Islands\", \"population\": null, \"population_growth\": null, \"population_raw_increase\": null}, {\"name\": \"Navassa Island\", \"population\": null, \"population_growth\": null, \"population_raw_increase\": null}, {\"name\": \"Wake Island\", \"population\": null, \"population_growth\": null, \"population_raw_increase\": null}, {\"name\": \"United States Pacific Island Wildlife Refuges\", \"population\": null, \"population_growth\": null, \"population_raw_increase\": null}, {\"name\": \"Paracel Islands\", \"population\": null, \"population_growth\": null, \"population_raw_increase\": null}, {\"name\": \"Spratly Islands\", \"population\": null, \"population_growth\": null, \"population_raw_increase\": null}, {\"name\": \"Arctic Ocean\", \"population\": null, \"population_growth\": null, \"population_raw_increase\": null}, {\"name\": \"Atlantic Ocean\", \"population\": null, \"population_growth\": null, \"population_raw_increase\": null}, {\"name\": \"Indian Ocean\", \"population\": null, \"population_growth\": null, \"population_raw_increase\": null}, {\"name\": \"Pacific Ocean\", \"population\": null, \"population_growth\": null, \"population_raw_increase\": null}, {\"name\": \"Southern Ocean\", \"population\": null, \"population_growth\": null, \"population_raw_increase\": null}]}}, {\"mode\": \"vega-lite\"});\n",
       "</script>"
      ],
      "text/plain": [
       "alt.Chart(...)"
      ]
     },
     "execution_count": 15,
     "metadata": {},
     "output_type": "execute_result"
    }
   ],
   "source": [
    "#| code-fold: true\n",
    "(\n",
    "    alt.Chart(pop_increase)\n",
    "    .mark_point()\n",
    "    .encode(\n",
    "        x = alt.X(\"population:Q\", title = \"Population Size\"),\n",
    "        y = alt.Y(\"population_growth:Q\", title = \"Population Growth Rate (% of Population)\"),\n",
    "        color = alt.Color(\"population_raw_increase:Q\", title = \"Population Raw Increase\"),\n",
    "        tooltip = [\n",
    "            \"name\",\n",
    "            \"population\",\n",
    "            \"population_growth\",\n",
    "            \"population_raw_increase\",\n",
    "        ]\n",
    "    )\n",
    "    .properties(title = \"Population Growth Rate against Population Size\")\n",
    "    .interactive()\n",
    ")"
   ]
  },
  {
   "attachments": {},
   "cell_type": "markdown",
   "id": "extra-genesis",
   "metadata": {},
   "source": [
    "One can click, drag, and scroll on the chart above in order to explore its data points. Hover over a point in order to view extra information like the country's name.\n",
    "\n",
    "In the case of the chart above, the population raw increase variable ranges from 0 people to 15 million people; this range is expressed with a **color gradient**. Looking at the data points, we can see that most of them are pale blue, indicating a low increase. India's point has the **darkest blue color**.\n",
    "\n",
    "Hovering over India's point, we can see its tooltip, which states that the population growth rate of India is 1.22%. This is not the highest global population growth rate; we saw earlier that this is around 4%. However, India's extremely **large population size** (over 1 billion) leads it to have the highest raw population increase."
   ]
  },
  {
   "attachments": {},
   "cell_type": "markdown",
   "id": "answering-enlargement",
   "metadata": {},
   "source": [
    "## Population Density\n",
    "\n",
    "Next, in this section, we will find the average **population size** and average **land area** among all countries."
   ]
  },
  {
   "cell_type": "code",
   "execution_count": 16,
   "id": "northern-isaac",
   "metadata": {},
   "outputs": [
    {
     "name": "stdout",
     "output_type": "stream",
     "text": [
      " * sqlite:///private/2021-07-24-SQL-Fundamentals-Files/factbook.db\n",
      "Done.\n"
     ]
    },
    {
     "data": {
      "text/html": [
       "<table>\n",
       "    <thead>\n",
       "        <tr>\n",
       "            <th>AVG(population)</th>\n",
       "            <th>AVG(area_land)</th>\n",
       "        </tr>\n",
       "    </thead>\n",
       "    <tbody>\n",
       "        <tr>\n",
       "            <td>32377011.0125</td>\n",
       "            <td>523693.2</td>\n",
       "        </tr>\n",
       "    </tbody>\n",
       "</table>"
      ],
      "text/plain": [
       "[(32377011.0125, 523693.2)]"
      ]
     },
     "execution_count": 16,
     "metadata": {},
     "output_type": "execute_result"
    }
   ],
   "source": [
    "%%sql\n",
    "SELECT\n",
    "    AVG(population),\n",
    "    AVG(area_land)\n",
    "FROM facts\n",
    "WHERE name NOT IN (\"World\", \"Antarctica\")\n",
    ";"
   ]
  },
  {
   "attachments": {},
   "cell_type": "markdown",
   "id": "protective-florist",
   "metadata": {},
   "source": [
    "The average population size is over 32 million people, and the average land area is over 500 thousand square kilometers.\n",
    "\n",
    "We can now investigate which countries have above-average population size and below-average land area."
   ]
  },
  {
   "cell_type": "code",
   "execution_count": 17,
   "id": "vocal-kentucky",
   "metadata": {},
   "outputs": [
    {
     "name": "stdout",
     "output_type": "stream",
     "text": [
      " * sqlite:///private/2021-07-24-SQL-Fundamentals-Files/factbook.db\n",
      "Done.\n"
     ]
    },
    {
     "data": {
      "text/html": [
       "<table>\n",
       "    <thead>\n",
       "        <tr>\n",
       "            <th>name</th>\n",
       "            <th>population</th>\n",
       "            <th>population_growth</th>\n",
       "            <th>area_land</th>\n",
       "        </tr>\n",
       "    </thead>\n",
       "    <tbody>\n",
       "        <tr>\n",
       "            <td>Uganda</td>\n",
       "            <td>37101745</td>\n",
       "            <td>3.24</td>\n",
       "            <td>197100</td>\n",
       "        </tr>\n",
       "        <tr>\n",
       "            <td>Iraq</td>\n",
       "            <td>37056169</td>\n",
       "            <td>2.93</td>\n",
       "            <td>437367</td>\n",
       "        </tr>\n",
       "        <tr>\n",
       "            <td>Philippines</td>\n",
       "            <td>100998376</td>\n",
       "            <td>1.61</td>\n",
       "            <td>298170</td>\n",
       "        </tr>\n",
       "        <tr>\n",
       "            <td>Bangladesh</td>\n",
       "            <td>168957745</td>\n",
       "            <td>1.6</td>\n",
       "            <td>130170</td>\n",
       "        </tr>\n",
       "        <tr>\n",
       "            <td>Morocco</td>\n",
       "            <td>33322699</td>\n",
       "            <td>1.0</td>\n",
       "            <td>446300</td>\n",
       "        </tr>\n",
       "        <tr>\n",
       "            <td>Vietnam</td>\n",
       "            <td>94348835</td>\n",
       "            <td>0.97</td>\n",
       "            <td>310070</td>\n",
       "        </tr>\n",
       "        <tr>\n",
       "            <td>Spain</td>\n",
       "            <td>48146134</td>\n",
       "            <td>0.89</td>\n",
       "            <td>498980</td>\n",
       "        </tr>\n",
       "        <tr>\n",
       "            <td>United Kingdom</td>\n",
       "            <td>64088222</td>\n",
       "            <td>0.54</td>\n",
       "            <td>241930</td>\n",
       "        </tr>\n",
       "        <tr>\n",
       "            <td>Thailand</td>\n",
       "            <td>67976405</td>\n",
       "            <td>0.34</td>\n",
       "            <td>510890</td>\n",
       "        </tr>\n",
       "        <tr>\n",
       "            <td>Italy</td>\n",
       "            <td>61855120</td>\n",
       "            <td>0.27</td>\n",
       "            <td>294140</td>\n",
       "        </tr>\n",
       "        <tr>\n",
       "            <td>Germany</td>\n",
       "            <td>80854408</td>\n",
       "            <td>0.17</td>\n",
       "            <td>348672</td>\n",
       "        </tr>\n",
       "        <tr>\n",
       "            <td>Japan</td>\n",
       "            <td>126919659</td>\n",
       "            <td>0.16</td>\n",
       "            <td>364485</td>\n",
       "        </tr>\n",
       "        <tr>\n",
       "            <td>Korea, South</td>\n",
       "            <td>49115196</td>\n",
       "            <td>0.14</td>\n",
       "            <td>96920</td>\n",
       "        </tr>\n",
       "        <tr>\n",
       "            <td>Poland</td>\n",
       "            <td>38562189</td>\n",
       "            <td>0.09</td>\n",
       "            <td>304255</td>\n",
       "        </tr>\n",
       "    </tbody>\n",
       "</table>"
      ],
      "text/plain": [
       "[('Uganda', 37101745, 3.24, 197100),\n",
       " ('Iraq', 37056169, 2.93, 437367),\n",
       " ('Philippines', 100998376, 1.61, 298170),\n",
       " ('Bangladesh', 168957745, 1.6, 130170),\n",
       " ('Morocco', 33322699, 1.0, 446300),\n",
       " ('Vietnam', 94348835, 0.97, 310070),\n",
       " ('Spain', 48146134, 0.89, 498980),\n",
       " ('United Kingdom', 64088222, 0.54, 241930),\n",
       " ('Thailand', 67976405, 0.34, 510890),\n",
       " ('Italy', 61855120, 0.27, 294140),\n",
       " ('Germany', 80854408, 0.17, 348672),\n",
       " ('Japan', 126919659, 0.16, 364485),\n",
       " ('Korea, South', 49115196, 0.14, 96920),\n",
       " ('Poland', 38562189, 0.09, 304255)]"
      ]
     },
     "execution_count": 17,
     "metadata": {},
     "output_type": "execute_result"
    }
   ],
   "source": [
    "%%sql\n",
    "SELECT\n",
    "    name,\n",
    "    population,\n",
    "    population_growth,\n",
    "    area_land\n",
    "FROM facts\n",
    "WHERE\n",
    "    population > (\n",
    "        SELECT AVG(population)\n",
    "        FROM facts\n",
    "        WHERE name NOT IN (\"World\", \"Antarctica\")\n",
    "    )\n",
    "    AND\n",
    "    area_land < (\n",
    "        SELECT AVG(area_land)\n",
    "        FROM facts\n",
    "        WHERE name NOT IN (\"World\", \"Antarctica\")\n",
    "    )\n",
    "    AND\n",
    "    name NOT IN (\"World\", \"Antarctica\")\n",
    "ORDER BY population_growth DESC\n",
    ";"
   ]
  },
  {
   "attachments": {},
   "cell_type": "markdown",
   "id": "pharmaceutical-birmingham",
   "metadata": {},
   "source": [
    "Since the countries in this table have above-average population size and below-average land area, these may be at risk of facing high population density in the future. This may be especially true for those with the **highest population growth rates**, such as Uganda, Iraq, and the Philippines.\n",
    "\n",
    "If we want to know which countries already have a high population density, though, we can run the query below. It calculates the population density as population size over land area, and then it displays the countries with the top 10 highest population densities."
   ]
  },
  {
   "cell_type": "code",
   "execution_count": 18,
   "id": "objective-restoration",
   "metadata": {},
   "outputs": [
    {
     "name": "stdout",
     "output_type": "stream",
     "text": [
      " * sqlite:///private/2021-07-24-SQL-Fundamentals-Files/factbook.db\n",
      "Done.\n",
      "Returning data to local variable result\n"
     ]
    }
   ],
   "source": [
    "%%sql result <<\n",
    "SELECT\n",
    "    name,\n",
    "    population,\n",
    "    population_growth,\n",
    "    area_land,\n",
    "    population / area_land AS \"population_density\"\n",
    "FROM facts\n",
    "WHERE name NOT IN (\"World\", \"Antarctica\")\n",
    "ORDER BY population_density DESC\n",
    ";"
   ]
  },
  {
   "attachments": {},
   "cell_type": "markdown",
   "id": "roman-planner",
   "metadata": {},
   "source": [
    "The resulting DataFrame is shown below. We have added 2 additional columns which will help us in making a chart:\n",
    "\n",
    "- `place`: Whether the country is in the top 10 countries in terms of population density.\n",
    "- `text`: The text to display for each country."
   ]
  },
  {
   "cell_type": "code",
   "execution_count": 19,
   "id": "phantom-corrections",
   "metadata": {},
   "outputs": [
    {
     "data": {
      "text/html": [
       "<div>\n",
       "<style scoped>\n",
       "    .dataframe tbody tr th:only-of-type {\n",
       "        vertical-align: middle;\n",
       "    }\n",
       "\n",
       "    .dataframe tbody tr th {\n",
       "        vertical-align: top;\n",
       "    }\n",
       "\n",
       "    .dataframe thead th {\n",
       "        text-align: right;\n",
       "    }\n",
       "</style>\n",
       "<table border=\"1\" class=\"dataframe\">\n",
       "  <thead>\n",
       "    <tr style=\"text-align: right;\">\n",
       "      <th></th>\n",
       "      <th>name</th>\n",
       "      <th>population</th>\n",
       "      <th>population_growth</th>\n",
       "      <th>area_land</th>\n",
       "      <th>population_density</th>\n",
       "      <th>place</th>\n",
       "      <th>text</th>\n",
       "    </tr>\n",
       "  </thead>\n",
       "  <tbody>\n",
       "    <tr>\n",
       "      <th>0</th>\n",
       "      <td>Macau</td>\n",
       "      <td>592731.0</td>\n",
       "      <td>0.80</td>\n",
       "      <td>28.0</td>\n",
       "      <td>21168.0</td>\n",
       "      <td>Top 10</td>\n",
       "      <td>Macau (Top 1)</td>\n",
       "    </tr>\n",
       "    <tr>\n",
       "      <th>1</th>\n",
       "      <td>Monaco</td>\n",
       "      <td>30535.0</td>\n",
       "      <td>0.12</td>\n",
       "      <td>2.0</td>\n",
       "      <td>15267.0</td>\n",
       "      <td>Top 10</td>\n",
       "      <td>Monaco (Top 2)</td>\n",
       "    </tr>\n",
       "    <tr>\n",
       "      <th>2</th>\n",
       "      <td>Singapore</td>\n",
       "      <td>5674472.0</td>\n",
       "      <td>1.89</td>\n",
       "      <td>687.0</td>\n",
       "      <td>8259.0</td>\n",
       "      <td>Top 10</td>\n",
       "      <td>Singapore (Top 3)</td>\n",
       "    </tr>\n",
       "    <tr>\n",
       "      <th>3</th>\n",
       "      <td>Hong Kong</td>\n",
       "      <td>7141106.0</td>\n",
       "      <td>0.38</td>\n",
       "      <td>1073.0</td>\n",
       "      <td>6655.0</td>\n",
       "      <td>Top 10</td>\n",
       "      <td>Hong Kong (Top 4)</td>\n",
       "    </tr>\n",
       "    <tr>\n",
       "      <th>4</th>\n",
       "      <td>Gaza Strip</td>\n",
       "      <td>1869055.0</td>\n",
       "      <td>2.81</td>\n",
       "      <td>360.0</td>\n",
       "      <td>5191.0</td>\n",
       "      <td>Top 10</td>\n",
       "      <td>Gaza Strip (Top 5)</td>\n",
       "    </tr>\n",
       "    <tr>\n",
       "      <th>5</th>\n",
       "      <td>Gibraltar</td>\n",
       "      <td>29258.0</td>\n",
       "      <td>0.24</td>\n",
       "      <td>6.0</td>\n",
       "      <td>4876.0</td>\n",
       "      <td>Top 10</td>\n",
       "      <td>Gibraltar (Top 6)</td>\n",
       "    </tr>\n",
       "    <tr>\n",
       "      <th>6</th>\n",
       "      <td>Bahrain</td>\n",
       "      <td>1346613.0</td>\n",
       "      <td>2.41</td>\n",
       "      <td>760.0</td>\n",
       "      <td>1771.0</td>\n",
       "      <td>Top 10</td>\n",
       "      <td>Bahrain (Top 7)</td>\n",
       "    </tr>\n",
       "    <tr>\n",
       "      <th>7</th>\n",
       "      <td>Maldives</td>\n",
       "      <td>393253.0</td>\n",
       "      <td>0.08</td>\n",
       "      <td>298.0</td>\n",
       "      <td>1319.0</td>\n",
       "      <td>Top 10</td>\n",
       "      <td>Maldives (Top 8)</td>\n",
       "    </tr>\n",
       "    <tr>\n",
       "      <th>8</th>\n",
       "      <td>Malta</td>\n",
       "      <td>413965.0</td>\n",
       "      <td>0.31</td>\n",
       "      <td>316.0</td>\n",
       "      <td>1310.0</td>\n",
       "      <td>Top 10</td>\n",
       "      <td>Malta (Top 9)</td>\n",
       "    </tr>\n",
       "    <tr>\n",
       "      <th>9</th>\n",
       "      <td>Bermuda</td>\n",
       "      <td>70196.0</td>\n",
       "      <td>0.50</td>\n",
       "      <td>54.0</td>\n",
       "      <td>1299.0</td>\n",
       "      <td>Top 10</td>\n",
       "      <td>Bermuda (Top 10)</td>\n",
       "    </tr>\n",
       "    <tr>\n",
       "      <th>10</th>\n",
       "      <td>Bangladesh</td>\n",
       "      <td>168957745.0</td>\n",
       "      <td>1.60</td>\n",
       "      <td>130170.0</td>\n",
       "      <td>1297.0</td>\n",
       "      <td>Below Top 10</td>\n",
       "      <td></td>\n",
       "    </tr>\n",
       "  </tbody>\n",
       "</table>\n",
       "</div>"
      ],
      "text/plain": [
       "          name   population  population_growth  area_land  population_density  \\\n",
       "0        Macau     592731.0               0.80       28.0             21168.0   \n",
       "1       Monaco      30535.0               0.12        2.0             15267.0   \n",
       "2    Singapore    5674472.0               1.89      687.0              8259.0   \n",
       "3    Hong Kong    7141106.0               0.38     1073.0              6655.0   \n",
       "4   Gaza Strip    1869055.0               2.81      360.0              5191.0   \n",
       "5    Gibraltar      29258.0               0.24        6.0              4876.0   \n",
       "6      Bahrain    1346613.0               2.41      760.0              1771.0   \n",
       "7     Maldives     393253.0               0.08      298.0              1319.0   \n",
       "8        Malta     413965.0               0.31      316.0              1310.0   \n",
       "9      Bermuda      70196.0               0.50       54.0              1299.0   \n",
       "10  Bangladesh  168957745.0               1.60   130170.0              1297.0   \n",
       "\n",
       "           place                text  \n",
       "0         Top 10       Macau (Top 1)  \n",
       "1         Top 10      Monaco (Top 2)  \n",
       "2         Top 10   Singapore (Top 3)  \n",
       "3         Top 10   Hong Kong (Top 4)  \n",
       "4         Top 10  Gaza Strip (Top 5)  \n",
       "5         Top 10   Gibraltar (Top 6)  \n",
       "6         Top 10     Bahrain (Top 7)  \n",
       "7         Top 10    Maldives (Top 8)  \n",
       "8         Top 10       Malta (Top 9)  \n",
       "9         Top 10    Bermuda (Top 10)  \n",
       "10  Below Top 10                      "
      ]
     },
     "execution_count": 19,
     "metadata": {},
     "output_type": "execute_result"
    }
   ],
   "source": [
    "pop_density = result.DataFrame()\n",
    "\n",
    "# Place variable\n",
    "pop_density[\"place\"] = [\"Top 10\"] * 10 + [\"Below Top 10\"] * (len(pop_density) - 10)\n",
    "\n",
    "# Text variable\n",
    "pop_density[\"text\"] = (\n",
    "    pop_density[\"name\"].copy()\n",
    "    # Append text that indicates the numeric place of the country.\n",
    "    .str.cat([\" (Top {})\".format(i) for i in range(1, len(pop_density) + 1)])\n",
    ")\n",
    "\n",
    "# Make the text blank for the countries below the top 10.\n",
    "pop_density.loc[\n",
    "    pop_density[\"place\"] == \"Below Top 10\",\n",
    "    \"text\"\n",
    "] = \"\"\n",
    "\n",
    "pop_density.head(11)"
   ]
  },
  {
   "attachments": {},
   "cell_type": "markdown",
   "id": "waiting-sight",
   "metadata": {},
   "source": [
    "The results above show the top 10 countries in terms of population density in people per square kilometer of land. Notably, Monaco and Gibraltar are cases of countries with under 10 square kilometers of land but also tens of thousands of people. On the other hand, Singapore and Hong Kong are cases of countries with a somewhat larger land area but huge population size due to urbanization. Hong Kong has the [highest number of over 150 m tall buildings](https://www.skyscrapercenter.com/cities) in the world, and Singapore has the 12th highest.\n",
    "\n",
    "[Jackson (2017)](https://discover.hubpages.com/politics/PopulationDensity) states that high population density in a place can lead to **noise pollution, territorial behavior, and lack of personal space** for the people there. Thus, these may be significant challenges for the countries listed above.\n",
    "\n",
    "Continuing on, we can take our analysis a step further by investigating countries with *both* high population density and high population growth rate. Such countries may be at risk of **further aggravation** of population density issues."
   ]
  },
  {
   "cell_type": "code",
   "execution_count": 20,
   "id": "announced-hybrid",
   "metadata": {},
   "outputs": [
    {
     "data": {
      "text/html": [
       "\n",
       "<div id=\"altair-viz-0734e0fcb4d2479c8d57d46dc17013ba\"></div>\n",
       "<script type=\"text/javascript\">\n",
       "  (function(spec, embedOpt){\n",
       "    let outputDiv = document.currentScript.previousElementSibling;\n",
       "    if (outputDiv.id !== \"altair-viz-0734e0fcb4d2479c8d57d46dc17013ba\") {\n",
       "      outputDiv = document.getElementById(\"altair-viz-0734e0fcb4d2479c8d57d46dc17013ba\");\n",
       "    }\n",
       "    const paths = {\n",
       "      \"vega\": \"https://cdn.jsdelivr.net/npm//vega@5?noext\",\n",
       "      \"vega-lib\": \"https://cdn.jsdelivr.net/npm//vega-lib?noext\",\n",
       "      \"vega-lite\": \"https://cdn.jsdelivr.net/npm//vega-lite@4.8.1?noext\",\n",
       "      \"vega-embed\": \"https://cdn.jsdelivr.net/npm//vega-embed@6?noext\",\n",
       "    };\n",
       "\n",
       "    function loadScript(lib) {\n",
       "      return new Promise(function(resolve, reject) {\n",
       "        var s = document.createElement('script');\n",
       "        s.src = paths[lib];\n",
       "        s.async = true;\n",
       "        s.onload = () => resolve(paths[lib]);\n",
       "        s.onerror = () => reject(`Error loading script: ${paths[lib]}`);\n",
       "        document.getElementsByTagName(\"head\")[0].appendChild(s);\n",
       "      });\n",
       "    }\n",
       "\n",
       "    function showError(err) {\n",
       "      outputDiv.innerHTML = `<div class=\"error\" style=\"color:red;\">${err}</div>`;\n",
       "      throw err;\n",
       "    }\n",
       "\n",
       "    function displayChart(vegaEmbed) {\n",
       "      vegaEmbed(outputDiv, spec, embedOpt)\n",
       "        .catch(err => showError(`Javascript Error: ${err.message}<br>This usually means there's a typo in your chart specification. See the javascript console for the full traceback.`));\n",
       "    }\n",
       "\n",
       "    if(typeof define === \"function\" && define.amd) {\n",
       "      requirejs.config({paths});\n",
       "      require([\"vega-embed\"], displayChart, err => showError(`Error loading script: ${err.message}`));\n",
       "    } else if (typeof vegaEmbed === \"function\") {\n",
       "      displayChart(vegaEmbed);\n",
       "    } else {\n",
       "      loadScript(\"vega\")\n",
       "        .then(() => loadScript(\"vega-lite\"))\n",
       "        .then(() => loadScript(\"vega-embed\"))\n",
       "        .catch(showError)\n",
       "        .then(() => displayChart(vegaEmbed));\n",
       "    }\n",
       "  })({\"config\": {\"view\": {\"continuousWidth\": 400, \"continuousHeight\": 300}}, \"layer\": [{\"mark\": \"point\", \"encoding\": {\"color\": {\"type\": \"nominal\", \"field\": \"place\", \"title\": \"Category of Population Density\"}, \"size\": {\"type\": \"quantitative\", \"field\": \"population_growth\", \"title\": \"Population Growth Rate (% of Population)\"}, \"tooltip\": [{\"type\": \"nominal\", \"field\": \"name\"}, {\"type\": \"quantitative\", \"field\": \"area_land\"}, {\"type\": \"quantitative\", \"field\": \"population\"}, {\"type\": \"quantitative\", \"field\": \"population_density\"}, {\"type\": \"quantitative\", \"field\": \"population_growth\"}], \"x\": {\"type\": \"quantitative\", \"field\": \"area_land\", \"scale\": {\"domain\": [0, 1100]}, \"title\": \"Land Area (Square Kilometers)\"}, \"y\": {\"type\": \"quantitative\", \"field\": \"population\", \"scale\": {\"domain\": [0, 6000000]}, \"title\": \"Population Size\"}}, \"selection\": {\"selector002\": {\"type\": \"interval\", \"bind\": \"scales\", \"encodings\": [\"x\", \"y\"]}}}, {\"mark\": {\"type\": \"text\", \"align\": \"center\", \"baseline\": \"middle\", \"dx\": 60}, \"encoding\": {\"text\": {\"type\": \"nominal\", \"field\": \"text\"}, \"x\": {\"type\": \"quantitative\", \"field\": \"area_land\", \"scale\": {\"domain\": [0, 1100]}, \"title\": \"Land Area (Square Kilometers)\"}, \"y\": {\"type\": \"quantitative\", \"field\": \"population\", \"scale\": {\"domain\": [0, 6000000]}, \"title\": \"Population Size\"}}}], \"data\": {\"name\": \"data-92f54e820d794629914b7f065b7b66c2\"}, \"title\": \"Top 10 Countries in Population Density\", \"$schema\": \"https://vega.github.io/schema/vega-lite/v4.8.1.json\", \"datasets\": {\"data-92f54e820d794629914b7f065b7b66c2\": [{\"name\": \"Macau\", \"population\": 592731.0, \"population_growth\": 0.8, \"area_land\": 28.0, \"population_density\": 21168.0, \"place\": \"Top 10\", \"text\": \"Macau (Top 1)\"}, {\"name\": \"Monaco\", \"population\": 30535.0, \"population_growth\": 0.12, \"area_land\": 2.0, \"population_density\": 15267.0, \"place\": \"Top 10\", \"text\": \"Monaco (Top 2)\"}, {\"name\": \"Singapore\", \"population\": 5674472.0, \"population_growth\": 1.89, \"area_land\": 687.0, \"population_density\": 8259.0, \"place\": \"Top 10\", \"text\": \"Singapore (Top 3)\"}, {\"name\": \"Hong Kong\", \"population\": 7141106.0, \"population_growth\": 0.38, \"area_land\": 1073.0, \"population_density\": 6655.0, \"place\": \"Top 10\", \"text\": \"Hong Kong (Top 4)\"}, {\"name\": \"Gaza Strip\", \"population\": 1869055.0, \"population_growth\": 2.81, \"area_land\": 360.0, \"population_density\": 5191.0, \"place\": \"Top 10\", \"text\": \"Gaza Strip (Top 5)\"}, {\"name\": \"Gibraltar\", \"population\": 29258.0, \"population_growth\": 0.24, \"area_land\": 6.0, \"population_density\": 4876.0, \"place\": \"Top 10\", \"text\": \"Gibraltar (Top 6)\"}, {\"name\": \"Bahrain\", \"population\": 1346613.0, \"population_growth\": 2.41, \"area_land\": 760.0, \"population_density\": 1771.0, \"place\": \"Top 10\", \"text\": \"Bahrain (Top 7)\"}, {\"name\": \"Maldives\", \"population\": 393253.0, \"population_growth\": 0.08, \"area_land\": 298.0, \"population_density\": 1319.0, \"place\": \"Top 10\", \"text\": \"Maldives (Top 8)\"}, {\"name\": \"Malta\", \"population\": 413965.0, \"population_growth\": 0.31, \"area_land\": 316.0, \"population_density\": 1310.0, \"place\": \"Top 10\", \"text\": \"Malta (Top 9)\"}, {\"name\": \"Bermuda\", \"population\": 70196.0, \"population_growth\": 0.5, \"area_land\": 54.0, \"population_density\": 1299.0, \"place\": \"Top 10\", \"text\": \"Bermuda (Top 10)\"}, {\"name\": \"Bangladesh\", \"population\": 168957745.0, \"population_growth\": 1.6, \"area_land\": 130170.0, \"population_density\": 1297.0, \"place\": \"Below Top 10\", \"text\": \"\"}, {\"name\": \"Sint Maarten\", \"population\": 39689.0, \"population_growth\": 1.51, \"area_land\": 34.0, \"population_density\": 1167.0, \"place\": \"Below Top 10\", \"text\": \"\"}, {\"name\": \"Guernsey\", \"population\": 66080.0, \"population_growth\": 0.34, \"area_land\": 78.0, \"population_density\": 847.0, \"place\": \"Below Top 10\", \"text\": \"\"}, {\"name\": \"Jersey\", \"population\": 97294.0, \"population_growth\": 0.8, \"area_land\": 116.0, \"population_density\": 838.0, \"place\": \"Below Top 10\", \"text\": \"\"}, {\"name\": \"Taiwan\", \"population\": 23415126.0, \"population_growth\": 0.23, \"area_land\": 32260.0, \"population_density\": 725.0, \"place\": \"Below Top 10\", \"text\": \"\"}, {\"name\": \"Barbados\", \"population\": 290604.0, \"population_growth\": 0.31, \"area_land\": 430.0, \"population_density\": 675.0, \"place\": \"Below Top 10\", \"text\": \"\"}, {\"name\": \"Mauritius\", \"population\": 1339827.0, \"population_growth\": 0.64, \"area_land\": 2030.0, \"population_density\": 660.0, \"place\": \"Below Top 10\", \"text\": \"\"}, {\"name\": \"Aruba\", \"population\": 112162.0, \"population_growth\": 1.33, \"area_land\": 180.0, \"population_density\": 623.0, \"place\": \"Below Top 10\", \"text\": \"\"}, {\"name\": \"Lebanon\", \"population\": 6184701.0, \"population_growth\": 0.86, \"area_land\": 10230.0, \"population_density\": 604.0, \"place\": \"Below Top 10\", \"text\": \"\"}, {\"name\": \"Saint Martin\", \"population\": 31754.0, \"population_growth\": null, \"area_land\": 54.0, \"population_density\": 588.0, \"place\": \"Below Top 10\", \"text\": \"\"}, {\"name\": \"San Marino\", \"population\": 33020.0, \"population_growth\": 0.82, \"area_land\": 61.0, \"population_density\": 541.0, \"place\": \"Below Top 10\", \"text\": \"\"}, {\"name\": \"Rwanda\", \"population\": 12661733.0, \"population_growth\": 2.56, \"area_land\": 24668.0, \"population_density\": 513.0, \"place\": \"Below Top 10\", \"text\": \"\"}, {\"name\": \"Korea, South\", \"population\": 49115196.0, \"population_growth\": 0.14, \"area_land\": 96920.0, \"population_density\": 506.0, \"place\": \"Below Top 10\", \"text\": \"\"}, {\"name\": \"Netherlands\", \"population\": 16947904.0, \"population_growth\": 0.41, \"area_land\": 33893.0, \"population_density\": 500.0, \"place\": \"Below Top 10\", \"text\": \"\"}, {\"name\": \"West Bank\", \"population\": 2785366.0, \"population_growth\": 1.95, \"area_land\": 5640.0, \"population_density\": 493.0, \"place\": \"Below Top 10\", \"text\": \"\"}, {\"name\": \"Nauru\", \"population\": 9540.0, \"population_growth\": 0.55, \"area_land\": 21.0, \"population_density\": 454.0, \"place\": \"Below Top 10\", \"text\": \"\"}, {\"name\": \"India\", \"population\": 1251695584.0, \"population_growth\": 1.22, \"area_land\": 2973193.0, \"population_density\": 420.0, \"place\": \"Below Top 10\", \"text\": \"\"}, {\"name\": \"Burundi\", \"population\": 10742276.0, \"population_growth\": 3.28, \"area_land\": 25680.0, \"population_density\": 418.0, \"place\": \"Below Top 10\", \"text\": \"\"}, {\"name\": \"Tuvalu\", \"population\": 10869.0, \"population_growth\": 0.82, \"area_land\": 26.0, \"population_density\": 418.0, \"place\": \"Below Top 10\", \"text\": \"\"}, {\"name\": \"Puerto Rico\", \"population\": 3598357.0, \"population_growth\": 0.6, \"area_land\": 8870.0, \"population_density\": 405.0, \"place\": \"Below Top 10\", \"text\": \"\"}, {\"name\": \"Marshall Islands\", \"population\": 72191.0, \"population_growth\": 1.66, \"area_land\": 181.0, \"population_density\": 398.0, \"place\": \"Below Top 10\", \"text\": \"\"}, {\"name\": \"Israel\", \"population\": 8049314.0, \"population_growth\": 1.56, \"area_land\": 20330.0, \"population_density\": 395.0, \"place\": \"Below Top 10\", \"text\": \"\"}, {\"name\": \"Belgium\", \"population\": 11323973.0, \"population_growth\": 0.76, \"area_land\": 30278.0, \"population_density\": 374.0, \"place\": \"Below Top 10\", \"text\": \"\"}, {\"name\": \"Haiti\", \"population\": 10110019.0, \"population_growth\": 1.17, \"area_land\": 27560.0, \"population_density\": 366.0, \"place\": \"Below Top 10\", \"text\": \"\"}, {\"name\": \"Comoros\", \"population\": 780971.0, \"population_growth\": 1.77, \"area_land\": 2235.0, \"population_density\": 349.0, \"place\": \"Below Top 10\", \"text\": \"\"}, {\"name\": \"Japan\", \"population\": 126919659.0, \"population_growth\": 0.16, \"area_land\": 364485.0, \"population_density\": 348.0, \"place\": \"Below Top 10\", \"text\": \"\"}, {\"name\": \"Sri Lanka\", \"population\": 22053488.0, \"population_growth\": 0.84, \"area_land\": 64630.0, \"population_density\": 341.0, \"place\": \"Below Top 10\", \"text\": \"\"}, {\"name\": \"Philippines\", \"population\": 100998376.0, \"population_growth\": 1.61, \"area_land\": 298170.0, \"population_density\": 338.0, \"place\": \"Below Top 10\", \"text\": \"\"}, {\"name\": \"Curacao\", \"population\": 148406.0, \"population_growth\": 0.43, \"area_land\": 444.0, \"population_density\": 334.0, \"place\": \"Below Top 10\", \"text\": \"\"}, {\"name\": \"Grenada\", \"population\": 110694.0, \"population_growth\": 0.48, \"area_land\": 344.0, \"population_density\": 321.0, \"place\": \"Below Top 10\", \"text\": \"\"}, {\"name\": \"Vietnam\", \"population\": 94348835.0, \"population_growth\": 0.97, \"area_land\": 310070.0, \"population_density\": 304.0, \"place\": \"Below Top 10\", \"text\": \"\"}, {\"name\": \"Virgin Islands\", \"population\": 103574.0, \"population_growth\": 0.59, \"area_land\": 346.0, \"population_density\": 299.0, \"place\": \"Below Top 10\", \"text\": \"\"}, {\"name\": \"Guam\", \"population\": 161785.0, \"population_growth\": 0.54, \"area_land\": 544.0, \"population_density\": 297.0, \"place\": \"Below Top 10\", \"text\": \"\"}, {\"name\": \"El Salvador\", \"population\": 6141350.0, \"population_growth\": 0.25, \"area_land\": 20721.0, \"population_density\": 296.0, \"place\": \"Below Top 10\", \"text\": \"\"}, {\"name\": \"American Samoa\", \"population\": 54343.0, \"population_growth\": 0.3, \"area_land\": 199.0, \"population_density\": 273.0, \"place\": \"Below Top 10\", \"text\": \"\"}, {\"name\": \"Jamaica\", \"population\": 2950210.0, \"population_growth\": 0.68, \"area_land\": 10831.0, \"population_density\": 272.0, \"place\": \"Below Top 10\", \"text\": \"\"}, {\"name\": \"Saint Lucia\", \"population\": 163922.0, \"population_growth\": 0.34, \"area_land\": 606.0, \"population_density\": 270.0, \"place\": \"Below Top 10\", \"text\": \"\"}, {\"name\": \"United Kingdom\", \"population\": 64088222.0, \"population_growth\": 0.54, \"area_land\": 241930.0, \"population_density\": 264.0, \"place\": \"Below Top 10\", \"text\": \"\"}, {\"name\": \"Saint Vincent and the Grenadines\", \"population\": 102627.0, \"population_growth\": 0.28, \"area_land\": 389.0, \"population_density\": 263.0, \"place\": \"Below Top 10\", \"text\": \"\"}, {\"name\": \"Pakistan\", \"population\": 199085847.0, \"population_growth\": 1.46, \"area_land\": 770875.0, \"population_density\": 258.0, \"place\": \"Below Top 10\", \"text\": \"\"}, {\"name\": \"Trinidad and Tobago\", \"population\": 1222363.0, \"population_growth\": 0.13, \"area_land\": 5128.0, \"population_density\": 238.0, \"place\": \"Below Top 10\", \"text\": \"\"}, {\"name\": \"Liechtenstein\", \"population\": 37624.0, \"population_growth\": 0.84, \"area_land\": 160.0, \"population_density\": 235.0, \"place\": \"Below Top 10\", \"text\": \"\"}, {\"name\": \"Germany\", \"population\": 80854408.0, \"population_growth\": 0.17, \"area_land\": 348672.0, \"population_density\": 231.0, \"place\": \"Below Top 10\", \"text\": \"\"}, {\"name\": \"British Virgin Islands\", \"population\": 33454.0, \"population_growth\": 2.32, \"area_land\": 151.0, \"population_density\": 221.0, \"place\": \"Below Top 10\", \"text\": \"\"}, {\"name\": \"Luxembourg\", \"population\": 570252.0, \"population_growth\": 2.13, \"area_land\": 2586.0, \"population_density\": 220.0, \"place\": \"Below Top 10\", \"text\": \"\"}, {\"name\": \"Nepal\", \"population\": 31551305.0, \"population_growth\": 1.79, \"area_land\": 143351.0, \"population_density\": 220.0, \"place\": \"Below Top 10\", \"text\": \"\"}, {\"name\": \"Dominican Republic\", \"population\": 10478756.0, \"population_growth\": 1.23, \"area_land\": 48320.0, \"population_density\": 216.0, \"place\": \"Below Top 10\", \"text\": \"\"}, {\"name\": \"Cayman Islands\", \"population\": 56092.0, \"population_growth\": 2.1, \"area_land\": 264.0, \"population_density\": 212.0, \"place\": \"Below Top 10\", \"text\": \"\"}, {\"name\": \"Italy\", \"population\": 61855120.0, \"population_growth\": 0.27, \"area_land\": 294140.0, \"population_density\": 210.0, \"place\": \"Below Top 10\", \"text\": \"\"}, {\"name\": \"Antigua and Barbuda\", \"population\": 92436.0, \"population_growth\": 1.24, \"area_land\": 442.0, \"population_density\": 209.0, \"place\": \"Below Top 10\", \"text\": \"\"}, {\"name\": \"Korea, North\", \"population\": 24983205.0, \"population_growth\": 0.53, \"area_land\": 120408.0, \"population_density\": 207.0, \"place\": \"Below Top 10\", \"text\": \"\"}, {\"name\": \"Seychelles\", \"population\": 92430.0, \"population_growth\": 0.83, \"area_land\": 455.0, \"population_density\": 203.0, \"place\": \"Below Top 10\", \"text\": \"\"}, {\"name\": \"Switzerland\", \"population\": 8121830.0, \"population_growth\": 0.71, \"area_land\": 39997.0, \"population_density\": 203.0, \"place\": \"Below Top 10\", \"text\": \"\"}, {\"name\": \"Sao Tome and Principe\", \"population\": 194006.0, \"population_growth\": 1.84, \"area_land\": 964.0, \"population_density\": 201.0, \"place\": \"Below Top 10\", \"text\": \"\"}, {\"name\": \"Nigeria\", \"population\": 181562056.0, \"population_growth\": 2.45, \"area_land\": 910768.0, \"population_density\": 199.0, \"place\": \"Below Top 10\", \"text\": \"\"}, {\"name\": \"Saint Kitts and Nevis\", \"population\": 51936.0, \"population_growth\": 0.76, \"area_land\": 261.0, \"population_density\": 198.0, \"place\": \"Below Top 10\", \"text\": \"\"}, {\"name\": \"Gambia, The\", \"population\": 1967709.0, \"population_growth\": 2.16, \"area_land\": 10120.0, \"population_density\": 194.0, \"place\": \"Below Top 10\", \"text\": \"\"}, {\"name\": \"Malawi\", \"population\": 17964697.0, \"population_growth\": 3.32, \"area_land\": 94080.0, \"population_density\": 190.0, \"place\": \"Below Top 10\", \"text\": \"\"}, {\"name\": \"Qatar\", \"population\": 2194817.0, \"population_growth\": 3.07, \"area_land\": 11586.0, \"population_density\": 189.0, \"place\": \"Below Top 10\", \"text\": \"\"}, {\"name\": \"Uganda\", \"population\": 37101745.0, \"population_growth\": 3.24, \"area_land\": 197100.0, \"population_density\": 188.0, \"place\": \"Below Top 10\", \"text\": \"\"}, {\"name\": \"Andorra\", \"population\": 85580.0, \"population_growth\": 0.12, \"area_land\": 468.0, \"population_density\": 182.0, \"place\": \"Below Top 10\", \"text\": \"\"}, {\"name\": \"Anguilla\", \"population\": 16418.0, \"population_growth\": 2.03, \"area_land\": 91.0, \"population_density\": 180.0, \"place\": \"Below Top 10\", \"text\": \"\"}, {\"name\": \"Kosovo\", \"population\": 1870981.0, \"population_growth\": null, \"area_land\": 10887.0, \"population_density\": 171.0, \"place\": \"Below Top 10\", \"text\": \"\"}, {\"name\": \"Kuwait\", \"population\": 2788534.0, \"population_growth\": 1.62, \"area_land\": 17818.0, \"population_density\": 156.0, \"place\": \"Below Top 10\", \"text\": \"\"}, {\"name\": \"Isle of Man\", \"population\": 87545.0, \"population_growth\": 0.76, \"area_land\": 572.0, \"population_density\": 153.0, \"place\": \"Below Top 10\", \"text\": \"\"}, {\"name\": \"Micronesia, Federated States of\", \"population\": 105216.0, \"population_growth\": 0.46, \"area_land\": 702.0, \"population_density\": 149.0, \"place\": \"Below Top 10\", \"text\": \"\"}, {\"name\": \"Tonga\", \"population\": 106501.0, \"population_growth\": 0.03, \"area_land\": 717.0, \"population_density\": 148.0, \"place\": \"Below Top 10\", \"text\": \"\"}, {\"name\": \"China\", \"population\": 1367485388.0, \"population_growth\": 0.45, \"area_land\": 9326410.0, \"population_density\": 146.0, \"place\": \"Below Top 10\", \"text\": \"\"}, {\"name\": \"Indonesia\", \"population\": 255993674.0, \"population_growth\": 0.92, \"area_land\": 1811569.0, \"population_density\": 141.0, \"place\": \"Below Top 10\", \"text\": \"\"}, {\"name\": \"Guatemala\", \"population\": 14918999.0, \"population_growth\": 1.82, \"area_land\": 107159.0, \"population_density\": 139.0, \"place\": \"Below Top 10\", \"text\": \"\"}, {\"name\": \"Togo\", \"population\": 7552318.0, \"population_growth\": 2.69, \"area_land\": 54385.0, \"population_density\": 138.0, \"place\": \"Below Top 10\", \"text\": \"\"}, {\"name\": \"Czech Republic\", \"population\": 10644842.0, \"population_growth\": 0.16, \"area_land\": 77247.0, \"population_density\": 137.0, \"place\": \"Below Top 10\", \"text\": \"\"}, {\"name\": \"Cabo Verde\", \"population\": 545993.0, \"population_growth\": 1.36, \"area_land\": 4033.0, \"population_density\": 135.0, \"place\": \"Below Top 10\", \"text\": \"\"}, {\"name\": \"Thailand\", \"population\": 67976405.0, \"population_growth\": 0.34, \"area_land\": 510890.0, \"population_density\": 133.0, \"place\": \"Below Top 10\", \"text\": \"\"}, {\"name\": \"Denmark\", \"population\": 5581503.0, \"population_growth\": 0.22, \"area_land\": 42434.0, \"population_density\": 131.0, \"place\": \"Below Top 10\", \"text\": \"\"}, {\"name\": \"Kiribati\", \"population\": 105711.0, \"population_growth\": 1.15, \"area_land\": 811.0, \"population_density\": 130.0, \"place\": \"Below Top 10\", \"text\": \"\"}, {\"name\": \"Cyprus\", \"population\": 1189197.0, \"population_growth\": 1.43, \"area_land\": 9241.0, \"population_density\": 128.0, \"place\": \"Below Top 10\", \"text\": \"\"}, {\"name\": \"Poland\", \"population\": 38562189.0, \"population_growth\": 0.09, \"area_land\": 304255.0, \"population_density\": 126.0, \"place\": \"Below Top 10\", \"text\": \"\"}, {\"name\": \"Azerbaijan\", \"population\": 9780780.0, \"population_growth\": 0.96, \"area_land\": 82629.0, \"population_density\": 118.0, \"place\": \"Below Top 10\", \"text\": \"\"}, {\"name\": \"Portugal\", \"population\": 10825309.0, \"population_growth\": 0.09, \"area_land\": 91470.0, \"population_density\": 118.0, \"place\": \"Below Top 10\", \"text\": \"\"}, {\"name\": \"Ghana\", \"population\": 26327649.0, \"population_growth\": 2.18, \"area_land\": 227533.0, \"population_density\": 115.0, \"place\": \"Below Top 10\", \"text\": \"\"}, {\"name\": \"Slovakia\", \"population\": 5445027.0, \"population_growth\": 0.02, \"area_land\": 48105.0, \"population_density\": 113.0, \"place\": \"Below Top 10\", \"text\": \"\"}, {\"name\": \"Northern Mariana Islands\", \"population\": 52344.0, \"population_growth\": 2.18, \"area_land\": 464.0, \"population_density\": 112.0, \"place\": \"Below Top 10\", \"text\": \"\"}, {\"name\": \"Tokelau\", \"population\": 1337.0, \"population_growth\": 0.01, \"area_land\": 12.0, \"population_density\": 111.0, \"place\": \"Below Top 10\", \"text\": \"\"}, {\"name\": \"Albania\", \"population\": 3029278.0, \"population_growth\": 0.3, \"area_land\": 27398.0, \"population_density\": 110.0, \"place\": \"Below Top 10\", \"text\": \"\"}, {\"name\": \"Hungary\", \"population\": 9897541.0, \"population_growth\": 0.22, \"area_land\": 89608.0, \"population_density\": 110.0, \"place\": \"Below Top 10\", \"text\": \"\"}, {\"name\": \"Wallis and Futuna\", \"population\": 15613.0, \"population_growth\": 0.33, \"area_land\": 142.0, \"population_density\": 109.0, \"place\": \"Below Top 10\", \"text\": \"\"}, {\"name\": \"Armenia\", \"population\": 3056382.0, \"population_growth\": 0.15, \"area_land\": 28203.0, \"population_density\": 108.0, \"place\": \"Below Top 10\", \"text\": \"\"}, {\"name\": \"Moldova\", \"population\": 3546847.0, \"population_growth\": 1.03, \"area_land\": 32891.0, \"population_density\": 107.0, \"place\": \"Below Top 10\", \"text\": \"\"}, {\"name\": \"Austria\", \"population\": 8665550.0, \"population_growth\": 0.55, \"area_land\": 82445.0, \"population_density\": 105.0, \"place\": \"Below Top 10\", \"text\": \"\"}, {\"name\": \"France\", \"population\": 66553766.0, \"population_growth\": 0.43, \"area_land\": 640427.0, \"population_density\": 103.0, \"place\": \"Below Top 10\", \"text\": \"\"}, {\"name\": \"Turkey\", \"population\": 79414269.0, \"population_growth\": 1.26, \"area_land\": 769632.0, \"population_density\": 103.0, \"place\": \"Below Top 10\", \"text\": \"\"}, {\"name\": \"Cuba\", \"population\": 11031433.0, \"population_growth\": 0.15, \"area_land\": 109820.0, \"population_density\": 100.0, \"place\": \"Below Top 10\", \"text\": \"\"}, {\"name\": \"Dominica\", \"population\": 73607.0, \"population_growth\": 0.21, \"area_land\": 751.0, \"population_density\": 98.0, \"place\": \"Below Top 10\", \"text\": \"\"}, {\"name\": \"Slovenia\", \"population\": 1983412.0, \"population_growth\": 0.26, \"area_land\": 20151.0, \"population_density\": 98.0, \"place\": \"Below Top 10\", \"text\": \"\"}, {\"name\": \"Spain\", \"population\": 48146134.0, \"population_growth\": 0.89, \"area_land\": 498980.0, \"population_density\": 96.0, \"place\": \"Below Top 10\", \"text\": \"\"}, {\"name\": \"Benin\", \"population\": 10448647.0, \"population_growth\": 2.78, \"area_land\": 110622.0, \"population_density\": 94.0, \"place\": \"Below Top 10\", \"text\": \"\"}, {\"name\": \"Costa Rica\", \"population\": 4814144.0, \"population_growth\": 1.22, \"area_land\": 51060.0, \"population_density\": 94.0, \"place\": \"Below Top 10\", \"text\": \"\"}, {\"name\": \"Romania\", \"population\": 21666350.0, \"population_growth\": 0.3, \"area_land\": 229891.0, \"population_density\": 94.0, \"place\": \"Below Top 10\", \"text\": \"\"}, {\"name\": \"Malaysia\", \"population\": 30513848.0, \"population_growth\": 1.44, \"area_land\": 328657.0, \"population_density\": 92.0, \"place\": \"Below Top 10\", \"text\": \"\"}, {\"name\": \"Serbia\", \"population\": 7176794.0, \"population_growth\": 0.46, \"area_land\": 77474.0, \"population_density\": 92.0, \"place\": \"Below Top 10\", \"text\": \"\"}, {\"name\": \"Syria\", \"population\": 17064854.0, \"population_growth\": 0.16, \"area_land\": 183630.0, \"population_density\": 92.0, \"place\": \"Below Top 10\", \"text\": \"\"}, {\"name\": \"Jordan\", \"population\": 8117564.0, \"population_growth\": 0.83, \"area_land\": 88802.0, \"population_density\": 91.0, \"place\": \"Below Top 10\", \"text\": \"\"}, {\"name\": \"Cambodia\", \"population\": 15708756.0, \"population_growth\": 1.58, \"area_land\": 176515.0, \"population_density\": 88.0, \"place\": \"Below Top 10\", \"text\": \"\"}, {\"name\": \"Egypt\", \"population\": 88487396.0, \"population_growth\": 1.79, \"area_land\": 995450.0, \"population_density\": 88.0, \"place\": \"Below Top 10\", \"text\": \"\"}, {\"name\": \"Burma\", \"population\": 56320206.0, \"population_growth\": 1.01, \"area_land\": 653508.0, \"population_density\": 86.0, \"place\": \"Below Top 10\", \"text\": \"\"}, {\"name\": \"Iraq\", \"population\": 37056169.0, \"population_growth\": 2.93, \"area_land\": 437367.0, \"population_density\": 84.0, \"place\": \"Below Top 10\", \"text\": \"\"}, {\"name\": \"Swaziland\", \"population\": 1435613.0, \"population_growth\": 1.11, \"area_land\": 17204.0, \"population_density\": 83.0, \"place\": \"Below Top 10\", \"text\": \"\"}, {\"name\": \"Greece\", \"population\": 10775643.0, \"population_growth\": 0.01, \"area_land\": 130647.0, \"population_density\": 82.0, \"place\": \"Below Top 10\", \"text\": \"\"}, {\"name\": \"Macedonia\", \"population\": 2096015.0, \"population_growth\": 0.2, \"area_land\": 25433.0, \"population_density\": 82.0, \"place\": \"Below Top 10\", \"text\": \"\"}, {\"name\": \"Sierra Leone\", \"population\": 5879098.0, \"population_growth\": 2.35, \"area_land\": 71620.0, \"population_density\": 82.0, \"place\": \"Below Top 10\", \"text\": \"\"}, {\"name\": \"Timor-Leste\", \"population\": 1231116.0, \"population_growth\": 2.42, \"area_land\": 14874.0, \"population_density\": 82.0, \"place\": \"Below Top 10\", \"text\": \"\"}, {\"name\": \"Brunei\", \"population\": 429646.0, \"population_growth\": 1.62, \"area_land\": 5265.0, \"population_density\": 81.0, \"place\": \"Below Top 10\", \"text\": \"\"}, {\"name\": \"Kenya\", \"population\": 45925301.0, \"population_growth\": 1.93, \"area_land\": 569140.0, \"population_density\": 80.0, \"place\": \"Below Top 10\", \"text\": \"\"}, {\"name\": \"Croatia\", \"population\": 4464844.0, \"population_growth\": 0.13, \"area_land\": 55974.0, \"population_density\": 79.0, \"place\": \"Below Top 10\", \"text\": \"\"}, {\"name\": \"Honduras\", \"population\": 8746673.0, \"population_growth\": 1.68, \"area_land\": 111890.0, \"population_density\": 78.0, \"place\": \"Below Top 10\", \"text\": \"\"}, {\"name\": \"Ukraine\", \"population\": 44429471.0, \"population_growth\": 0.6, \"area_land\": 579330.0, \"population_density\": 76.0, \"place\": \"Below Top 10\", \"text\": \"\"}, {\"name\": \"Bosnia and Herzegovina\", \"population\": 3867055.0, \"population_growth\": 0.13, \"area_land\": 51187.0, \"population_density\": 75.0, \"place\": \"Below Top 10\", \"text\": \"\"}, {\"name\": \"Morocco\", \"population\": 33322699.0, \"population_growth\": 1.0, \"area_land\": 446300.0, \"population_density\": 74.0, \"place\": \"Below Top 10\", \"text\": \"\"}, {\"name\": \"Cote d'Ivoire\", \"population\": 23295302.0, \"population_growth\": 1.91, \"area_land\": 318003.0, \"population_density\": 73.0, \"place\": \"Below Top 10\", \"text\": \"\"}, {\"name\": \"French Polynesia\", \"population\": 282703.0, \"population_growth\": 0.94, \"area_land\": 3827.0, \"population_density\": 73.0, \"place\": \"Below Top 10\", \"text\": \"\"}, {\"name\": \"Senegal\", \"population\": 13975834.0, \"population_growth\": 2.45, \"area_land\": 192530.0, \"population_density\": 72.0, \"place\": \"Below Top 10\", \"text\": \"\"}, {\"name\": \"Ireland\", \"population\": 4892305.0, \"population_growth\": 1.25, \"area_land\": 68883.0, \"population_density\": 71.0, \"place\": \"Below Top 10\", \"text\": \"\"}, {\"name\": \"Tunisia\", \"population\": 11037225.0, \"population_growth\": 0.89, \"area_land\": 155360.0, \"population_density\": 71.0, \"place\": \"Below Top 10\", \"text\": \"\"}, {\"name\": \"Georgia\", \"population\": 4931226.0, \"population_growth\": 0.08, \"area_land\": 69700.0, \"population_density\": 70.0, \"place\": \"Below Top 10\", \"text\": \"\"}, {\"name\": \"Samoa\", \"population\": 197773.0, \"population_growth\": 0.58, \"area_land\": 2821.0, \"population_density\": 70.0, \"place\": \"Below Top 10\", \"text\": \"\"}, {\"name\": \"Burkina Faso\", \"population\": 18931686.0, \"population_growth\": 3.03, \"area_land\": 273800.0, \"population_density\": 69.0, \"place\": \"Below Top 10\", \"text\": \"\"}, {\"name\": \"United Arab Emirates\", \"population\": 5779760.0, \"population_growth\": 2.58, \"area_land\": 83600.0, \"population_density\": 69.0, \"place\": \"Below Top 10\", \"text\": \"\"}, {\"name\": \"Uzbekistan\", \"population\": 29199942.0, \"population_growth\": 0.93, \"area_land\": 425400.0, \"population_density\": 68.0, \"place\": \"Below Top 10\", \"text\": \"\"}, {\"name\": \"Bulgaria\", \"population\": 7186893.0, \"population_growth\": 0.58, \"area_land\": 108489.0, \"population_density\": 66.0, \"place\": \"Below Top 10\", \"text\": \"\"}, {\"name\": \"Eritrea\", \"population\": 6527689.0, \"population_growth\": 2.25, \"area_land\": 101000.0, \"population_density\": 64.0, \"place\": \"Below Top 10\", \"text\": \"\"}, {\"name\": \"Lesotho\", \"population\": 1947701.0, \"population_growth\": 0.32, \"area_land\": 30355.0, \"population_density\": 64.0, \"place\": \"Below Top 10\", \"text\": \"\"}, {\"name\": \"Saint Helena, Ascension, and Tristan da Cunha\", \"population\": 7795.0, \"population_growth\": 0.24, \"area_land\": 122.0, \"population_density\": 63.0, \"place\": \"Below Top 10\", \"text\": \"\"}, {\"name\": \"Mexico\", \"population\": 121736809.0, \"population_growth\": 1.18, \"area_land\": 1943945.0, \"population_density\": 62.0, \"place\": \"Below Top 10\", \"text\": \"\"}, {\"name\": \"Guinea-Bissau\", \"population\": 1726170.0, \"population_growth\": 1.91, \"area_land\": 28120.0, \"population_density\": 61.0, \"place\": \"Below Top 10\", \"text\": \"\"}, {\"name\": \"Norfolk Island\", \"population\": 2210.0, \"population_growth\": 0.01, \"area_land\": 36.0, \"population_density\": 61.0, \"place\": \"Below Top 10\", \"text\": \"\"}, {\"name\": \"Ecuador\", \"population\": 15868396.0, \"population_growth\": 1.35, \"area_land\": 276841.0, \"population_density\": 57.0, \"place\": \"Below Top 10\", \"text\": \"\"}, {\"name\": \"Tajikistan\", \"population\": 8191958.0, \"population_growth\": 1.71, \"area_land\": 141510.0, \"population_density\": 57.0, \"place\": \"Below Top 10\", \"text\": \"\"}, {\"name\": \"Tanzania\", \"population\": 51045882.0, \"population_growth\": 2.79, \"area_land\": 885800.0, \"population_density\": 57.0, \"place\": \"Below Top 10\", \"text\": \"\"}, {\"name\": \"Iran\", \"population\": 81824270.0, \"population_growth\": 1.2, \"area_land\": 1531595.0, \"population_density\": 53.0, \"place\": \"Below Top 10\", \"text\": \"\"}, {\"name\": \"Turks and Caicos Islands\", \"population\": 50280.0, \"population_growth\": 2.3, \"area_land\": 948.0, \"population_density\": 53.0, \"place\": \"Below Top 10\", \"text\": \"\"}, {\"name\": \"Montserrat\", \"population\": 5241.0, \"population_growth\": 0.5, \"area_land\": 102.0, \"population_density\": 51.0, \"place\": \"Below Top 10\", \"text\": \"\"}, {\"name\": \"Cameroon\", \"population\": 23739218.0, \"population_growth\": 2.59, \"area_land\": 472710.0, \"population_density\": 50.0, \"place\": \"Below Top 10\", \"text\": \"\"}, {\"name\": \"Yemen\", \"population\": 26737317.0, \"population_growth\": 2.47, \"area_land\": 527968.0, \"population_density\": 50.0, \"place\": \"Below Top 10\", \"text\": \"\"}, {\"name\": \"Afghanistan\", \"population\": 32564342.0, \"population_growth\": 2.32, \"area_land\": 652230.0, \"population_density\": 49.0, \"place\": \"Below Top 10\", \"text\": \"\"}, {\"name\": \"Fiji\", \"population\": 909389.0, \"population_growth\": 0.67, \"area_land\": 18274.0, \"population_density\": 49.0, \"place\": \"Below Top 10\", \"text\": \"\"}, {\"name\": \"Nicaragua\", \"population\": 5907881.0, \"population_growth\": 1.0, \"area_land\": 119990.0, \"population_density\": 49.0, \"place\": \"Below Top 10\", \"text\": \"\"}, {\"name\": \"Panama\", \"population\": 3657024.0, \"population_growth\": 1.32, \"area_land\": 74340.0, \"population_density\": 49.0, \"place\": \"Below Top 10\", \"text\": \"\"}, {\"name\": \"Montenegro\", \"population\": 647073.0, \"population_growth\": 0.42, \"area_land\": 13452.0, \"population_density\": 48.0, \"place\": \"Below Top 10\", \"text\": \"\"}, {\"name\": \"Belarus\", \"population\": 9589689.0, \"population_growth\": 0.2, \"area_land\": 202900.0, \"population_density\": 47.0, \"place\": \"Below Top 10\", \"text\": \"\"}, {\"name\": \"Guinea\", \"population\": 11780162.0, \"population_growth\": 2.63, \"area_land\": 245717.0, \"population_density\": 47.0, \"place\": \"Below Top 10\", \"text\": \"\"}, {\"name\": \"Lithuania\", \"population\": 2884433.0, \"population_growth\": 1.04, \"area_land\": 62680.0, \"population_density\": 46.0, \"place\": \"Below Top 10\", \"text\": \"\"}, {\"name\": \"Palau\", \"population\": 21265.0, \"population_growth\": 0.38, \"area_land\": 459.0, \"population_density\": 46.0, \"place\": \"Below Top 10\", \"text\": \"\"}, {\"name\": \"Colombia\", \"population\": 46736728.0, \"population_growth\": 1.04, \"area_land\": 1038700.0, \"population_density\": 44.0, \"place\": \"Below Top 10\", \"text\": \"\"}, {\"name\": \"South Africa\", \"population\": 53675563.0, \"population_growth\": 1.33, \"area_land\": 1214470.0, \"population_density\": 44.0, \"place\": \"Below Top 10\", \"text\": \"\"}, {\"name\": \"Liberia\", \"population\": 4195666.0, \"population_growth\": 2.47, \"area_land\": 96320.0, \"population_density\": 43.0, \"place\": \"Below Top 10\", \"text\": \"\"}, {\"name\": \"Cocos (Keeling) Islands\", \"population\": 596.0, \"population_growth\": 0.0, \"area_land\": 14.0, \"population_density\": 42.0, \"place\": \"Below Top 10\", \"text\": \"\"}, {\"name\": \"Cook Islands\", \"population\": 9838.0, \"population_growth\": 2.95, \"area_land\": 236.0, \"population_density\": 41.0, \"place\": \"Below Top 10\", \"text\": \"\"}, {\"name\": \"Madagascar\", \"population\": 23812681.0, \"population_growth\": 2.58, \"area_land\": 581540.0, \"population_density\": 40.0, \"place\": \"Below Top 10\", \"text\": \"\"}, {\"name\": \"Zimbabwe\", \"population\": 14229541.0, \"population_growth\": 2.21, \"area_land\": 386847.0, \"population_density\": 36.0, \"place\": \"Below Top 10\", \"text\": \"\"}, {\"name\": \"Faroe Islands\", \"population\": 50196.0, \"population_growth\": 0.51, \"area_land\": 1393.0, \"population_density\": 36.0, \"place\": \"Below Top 10\", \"text\": \"\"}, {\"name\": \"Congo, Democratic Republic of the\", \"population\": 79375136.0, \"population_growth\": 2.45, \"area_land\": 2267048.0, \"population_density\": 35.0, \"place\": \"Below Top 10\", \"text\": \"\"}, {\"name\": \"Djibouti\", \"population\": 828324.0, \"population_growth\": 2.2, \"area_land\": 23180.0, \"population_density\": 35.0, \"place\": \"Below Top 10\", \"text\": \"\"}, {\"name\": \"United States\", \"population\": 321368864.0, \"population_growth\": 0.78, \"area_land\": 9161966.0, \"population_density\": 35.0, \"place\": \"Below Top 10\", \"text\": \"\"}, {\"name\": \"Venezuela\", \"population\": 29275460.0, \"population_growth\": 1.39, \"area_land\": 882050.0, \"population_density\": 33.0, \"place\": \"Below Top 10\", \"text\": \"\"}, {\"name\": \"Bahamas, The\", \"population\": 324597.0, \"population_growth\": 0.85, \"area_land\": 10010.0, \"population_density\": 32.0, \"place\": \"Below Top 10\", \"text\": \"\"}, {\"name\": \"Mozambique\", \"population\": 25303113.0, \"population_growth\": 2.45, \"area_land\": 786380.0, \"population_density\": 32.0, \"place\": \"Below Top 10\", \"text\": \"\"}, {\"name\": \"Latvia\", \"population\": 1986705.0, \"population_growth\": 1.06, \"area_land\": 62249.0, \"population_density\": 31.0, \"place\": \"Below Top 10\", \"text\": \"\"}, {\"name\": \"Estonia\", \"population\": 1265420.0, \"population_growth\": 0.55, \"area_land\": 42388.0, \"population_density\": 29.0, \"place\": \"Below Top 10\", \"text\": \"\"}, {\"name\": \"Kyrgyzstan\", \"population\": 5664939.0, \"population_growth\": 1.11, \"area_land\": 191801.0, \"population_density\": 29.0, \"place\": \"Below Top 10\", \"text\": \"\"}, {\"name\": \"Laos\", \"population\": 6911544.0, \"population_growth\": 1.55, \"area_land\": 230800.0, \"population_density\": 29.0, \"place\": \"Below Top 10\", \"text\": \"\"}, {\"name\": \"Equatorial Guinea\", \"population\": 740743.0, \"population_growth\": 2.51, \"area_land\": 28051.0, \"population_density\": 26.0, \"place\": \"Below Top 10\", \"text\": \"\"}, {\"name\": \"Brazil\", \"population\": 204259812.0, \"population_growth\": 0.77, \"area_land\": 8358140.0, \"population_density\": 24.0, \"place\": \"Below Top 10\", \"text\": \"\"}, {\"name\": \"Chile\", \"population\": 17508260.0, \"population_growth\": 0.82, \"area_land\": 743812.0, \"population_density\": 23.0, \"place\": \"Below Top 10\", \"text\": \"\"}, {\"name\": \"Peru\", \"population\": 30444999.0, \"population_growth\": 0.97, \"area_land\": 1279996.0, \"population_density\": 23.0, \"place\": \"Below Top 10\", \"text\": \"\"}, {\"name\": \"Sweden\", \"population\": 9801616.0, \"population_growth\": 0.8, \"area_land\": 410335.0, \"population_density\": 23.0, \"place\": \"Below Top 10\", \"text\": \"\"}, {\"name\": \"Saint Pierre and Miquelon\", \"population\": 5657.0, \"population_growth\": 1.08, \"area_land\": 242.0, \"population_density\": 23.0, \"place\": \"Below Top 10\", \"text\": \"\"}, {\"name\": \"Solomon Islands\", \"population\": 622469.0, \"population_growth\": 2.02, \"area_land\": 27986.0, \"population_density\": 22.0, \"place\": \"Below Top 10\", \"text\": \"\"}, {\"name\": \"Vanuatu\", \"population\": 272264.0, \"population_growth\": 1.95, \"area_land\": 12189.0, \"population_density\": 22.0, \"place\": \"Below Top 10\", \"text\": \"\"}, {\"name\": \"Zambia\", \"population\": 15066266.0, \"population_growth\": 2.88, \"area_land\": 743398.0, \"population_density\": 20.0, \"place\": \"Below Top 10\", \"text\": \"\"}, {\"name\": \"Bhutan\", \"population\": 741919.0, \"population_growth\": 1.11, \"area_land\": 38394.0, \"population_density\": 19.0, \"place\": \"Below Top 10\", \"text\": \"\"}, {\"name\": \"Uruguay\", \"population\": 3341893.0, \"population_growth\": 0.27, \"area_land\": 175015.0, \"population_density\": 19.0, \"place\": \"Below Top 10\", \"text\": \"\"}, {\"name\": \"Finland\", \"population\": 5476922.0, \"population_growth\": 0.4, \"area_land\": 303815.0, \"population_density\": 18.0, \"place\": \"Below Top 10\", \"text\": \"\"}, {\"name\": \"Norway\", \"population\": 5207689.0, \"population_growth\": 1.13, \"area_land\": 304282.0, \"population_density\": 17.0, \"place\": \"Below Top 10\", \"text\": \"\"}, {\"name\": \"Paraguay\", \"population\": 6783272.0, \"population_growth\": 1.16, \"area_land\": 397302.0, \"population_density\": 17.0, \"place\": \"Below Top 10\", \"text\": \"\"}, {\"name\": \"Algeria\", \"population\": 39542166.0, \"population_growth\": 1.84, \"area_land\": 2381741.0, \"population_density\": 16.0, \"place\": \"Below Top 10\", \"text\": \"\"}, {\"name\": \"New Zealand\", \"population\": 4438393.0, \"population_growth\": 0.82, \"area_land\": 267710.0, \"population_density\": 16.0, \"place\": \"Below Top 10\", \"text\": \"\"}, {\"name\": \"Somalia\", \"population\": 10616380.0, \"population_growth\": 1.83, \"area_land\": 627337.0, \"population_density\": 16.0, \"place\": \"Below Top 10\", \"text\": \"\"}, {\"name\": \"Angola\", \"population\": 19625353.0, \"population_growth\": 2.78, \"area_land\": 1246700.0, \"population_density\": 15.0, \"place\": \"Below Top 10\", \"text\": \"\"}, {\"name\": \"Argentina\", \"population\": 43431886.0, \"population_growth\": 0.93, \"area_land\": 2736690.0, \"population_density\": 15.0, \"place\": \"Below Top 10\", \"text\": \"\"}, {\"name\": \"Belize\", \"population\": 347369.0, \"population_growth\": 1.87, \"area_land\": 22806.0, \"population_density\": 15.0, \"place\": \"Below Top 10\", \"text\": \"\"}, {\"name\": \"Niger\", \"population\": 18045729.0, \"population_growth\": 3.25, \"area_land\": 1266700.0, \"population_density\": 14.0, \"place\": \"Below Top 10\", \"text\": \"\"}, {\"name\": \"Papua New Guinea\", \"population\": 6672429.0, \"population_growth\": 1.78, \"area_land\": 452860.0, \"population_density\": 14.0, \"place\": \"Below Top 10\", \"text\": \"\"}, {\"name\": \"New Caledonia\", \"population\": 271615.0, \"population_growth\": 1.38, \"area_land\": 18275.0, \"population_density\": 14.0, \"place\": \"Below Top 10\", \"text\": \"\"}, {\"name\": \"Congo, Republic of the\", \"population\": 4755097.0, \"population_growth\": 2.0, \"area_land\": 341500.0, \"population_density\": 13.0, \"place\": \"Below Top 10\", \"text\": \"\"}, {\"name\": \"Mali\", \"population\": 16955536.0, \"population_growth\": 2.98, \"area_land\": 1220190.0, \"population_density\": 13.0, \"place\": \"Below Top 10\", \"text\": \"\"}, {\"name\": \"Saudi Arabia\", \"population\": 27752316.0, \"population_growth\": 1.46, \"area_land\": 2149690.0, \"population_density\": 12.0, \"place\": \"Below Top 10\", \"text\": \"\"}, {\"name\": \"Turkmenistan\", \"population\": 5231422.0, \"population_growth\": 1.14, \"area_land\": 469930.0, \"population_density\": 11.0, \"place\": \"Below Top 10\", \"text\": \"\"}, {\"name\": \"Christmas Island\", \"population\": 1530.0, \"population_growth\": 1.11, \"area_land\": 135.0, \"population_density\": 11.0, \"place\": \"Below Top 10\", \"text\": \"\"}, {\"name\": \"Oman\", \"population\": 3286936.0, \"population_growth\": 2.07, \"area_land\": 309500.0, \"population_density\": 10.0, \"place\": \"Below Top 10\", \"text\": \"\"}, {\"name\": \"Bolivia\", \"population\": 10800882.0, \"population_growth\": 1.56, \"area_land\": 1083301.0, \"population_density\": 9.0, \"place\": \"Below Top 10\", \"text\": \"\"}, {\"name\": \"Chad\", \"population\": 11631456.0, \"population_growth\": 1.89, \"area_land\": 1259200.0, \"population_density\": 9.0, \"place\": \"Below Top 10\", \"text\": \"\"}, {\"name\": \"Central African Republic\", \"population\": 5391539.0, \"population_growth\": 2.13, \"area_land\": 622984.0, \"population_density\": 8.0, \"place\": \"Below Top 10\", \"text\": \"\"}, {\"name\": \"Russia\", \"population\": 142423773.0, \"population_growth\": 0.04, \"area_land\": 16377742.0, \"population_density\": 8.0, \"place\": \"Below Top 10\", \"text\": \"\"}, {\"name\": \"Gabon\", \"population\": 1705336.0, \"population_growth\": 1.93, \"area_land\": 257667.0, \"population_density\": 6.0, \"place\": \"Below Top 10\", \"text\": \"\"}, {\"name\": \"Kazakhstan\", \"population\": 18157122.0, \"population_growth\": 1.14, \"area_land\": 2699700.0, \"population_density\": 6.0, \"place\": \"Below Top 10\", \"text\": \"\"}, {\"name\": \"Niue\", \"population\": 1190.0, \"population_growth\": 0.03, \"area_land\": 260.0, \"population_density\": 4.0, \"place\": \"Below Top 10\", \"text\": \"\"}, {\"name\": \"Botswana\", \"population\": 2182719.0, \"population_growth\": 1.21, \"area_land\": 566730.0, \"population_density\": 3.0, \"place\": \"Below Top 10\", \"text\": \"\"}, {\"name\": \"Canada\", \"population\": 35099836.0, \"population_growth\": 0.75, \"area_land\": 9093507.0, \"population_density\": 3.0, \"place\": \"Below Top 10\", \"text\": \"\"}, {\"name\": \"Guyana\", \"population\": 735222.0, \"population_growth\": 0.02, \"area_land\": 196849.0, \"population_density\": 3.0, \"place\": \"Below Top 10\", \"text\": \"\"}, {\"name\": \"Iceland\", \"population\": 331918.0, \"population_growth\": 1.21, \"area_land\": 100250.0, \"population_density\": 3.0, \"place\": \"Below Top 10\", \"text\": \"\"}, {\"name\": \"Libya\", \"population\": 6411776.0, \"population_growth\": 2.23, \"area_land\": 1759540.0, \"population_density\": 3.0, \"place\": \"Below Top 10\", \"text\": \"\"}, {\"name\": \"Mauritania\", \"population\": 3596702.0, \"population_growth\": 2.23, \"area_land\": 1030700.0, \"population_density\": 3.0, \"place\": \"Below Top 10\", \"text\": \"\"}, {\"name\": \"Suriname\", \"population\": 579633.0, \"population_growth\": 1.08, \"area_land\": 156000.0, \"population_density\": 3.0, \"place\": \"Below Top 10\", \"text\": \"\"}, {\"name\": \"Australia\", \"population\": 22751014.0, \"population_growth\": 1.07, \"area_land\": 7682300.0, \"population_density\": 2.0, \"place\": \"Below Top 10\", \"text\": \"\"}, {\"name\": \"Namibia\", \"population\": 2212307.0, \"population_growth\": 0.59, \"area_land\": 823290.0, \"population_density\": 2.0, \"place\": \"Below Top 10\", \"text\": \"\"}, {\"name\": \"Western Sahara\", \"population\": 570866.0, \"population_growth\": 2.82, \"area_land\": 266000.0, \"population_density\": 2.0, \"place\": \"Below Top 10\", \"text\": \"\"}, {\"name\": \"Mongolia\", \"population\": 2992908.0, \"population_growth\": 1.31, \"area_land\": 1553556.0, \"population_density\": 1.0, \"place\": \"Below Top 10\", \"text\": \"\"}, {\"name\": \"Pitcairn Islands\", \"population\": 48.0, \"population_growth\": 0.0, \"area_land\": 47.0, \"population_density\": 1.0, \"place\": \"Below Top 10\", \"text\": \"\"}, {\"name\": \"Greenland\", \"population\": 57733.0, \"population_growth\": 0.0, \"area_land\": 2166086.0, \"population_density\": 0.0, \"place\": \"Below Top 10\", \"text\": \"\"}, {\"name\": \"Svalbard\", \"population\": 1872.0, \"population_growth\": 0.03, \"area_land\": 62045.0, \"population_density\": 0.0, \"place\": \"Below Top 10\", \"text\": \"\"}, {\"name\": \"Falkland Islands (Islas Malvinas)\", \"population\": 3361.0, \"population_growth\": 0.01, \"area_land\": 12173.0, \"population_density\": 0.0, \"place\": \"Below Top 10\", \"text\": \"\"}, {\"name\": \"Ethiopia\", \"population\": 99465819.0, \"population_growth\": 2.89, \"area_land\": null, \"population_density\": null, \"place\": \"Below Top 10\", \"text\": \"\"}, {\"name\": \"South Sudan\", \"population\": 12042910.0, \"population_growth\": 4.02, \"area_land\": null, \"population_density\": null, \"place\": \"Below Top 10\", \"text\": \"\"}, {\"name\": \"Sudan\", \"population\": 36108853.0, \"population_growth\": 1.72, \"area_land\": null, \"population_density\": null, \"place\": \"Below Top 10\", \"text\": \"\"}, {\"name\": \"Holy See (Vatican City)\", \"population\": 842.0, \"population_growth\": 0.0, \"area_land\": 0.0, \"population_density\": null, \"place\": \"Below Top 10\", \"text\": \"\"}, {\"name\": \"European Union\", \"population\": 513949445.0, \"population_growth\": 0.25, \"area_land\": null, \"population_density\": null, \"place\": \"Below Top 10\", \"text\": \"\"}, {\"name\": \"Ashmore and Cartier Islands\", \"population\": null, \"population_growth\": null, \"area_land\": 5.0, \"population_density\": null, \"place\": \"Below Top 10\", \"text\": \"\"}, {\"name\": \"Coral Sea Islands\", \"population\": null, \"population_growth\": null, \"area_land\": 3.0, \"population_density\": null, \"place\": \"Below Top 10\", \"text\": \"\"}, {\"name\": \"Heard Island and McDonald Islands\", \"population\": null, \"population_growth\": null, \"area_land\": 412.0, \"population_density\": null, \"place\": \"Below Top 10\", \"text\": \"\"}, {\"name\": \"Clipperton Island\", \"population\": null, \"population_growth\": null, \"area_land\": 6.0, \"population_density\": null, \"place\": \"Below Top 10\", \"text\": \"\"}, {\"name\": \"French Southern and Antarctic Lands\", \"population\": null, \"population_growth\": null, \"area_land\": null, \"population_density\": null, \"place\": \"Below Top 10\", \"text\": \"\"}, {\"name\": \"Saint Barthelemy\", \"population\": 7237.0, \"population_growth\": null, \"area_land\": null, \"population_density\": null, \"place\": \"Below Top 10\", \"text\": \"\"}, {\"name\": \"Bouvet Island\", \"population\": null, \"population_growth\": null, \"area_land\": 49.0, \"population_density\": null, \"place\": \"Below Top 10\", \"text\": \"\"}, {\"name\": \"Jan Mayen\", \"population\": null, \"population_growth\": null, \"area_land\": 377.0, \"population_density\": null, \"place\": \"Below Top 10\", \"text\": \"\"}, {\"name\": \"Akrotiri\", \"population\": 15700.0, \"population_growth\": null, \"area_land\": null, \"population_density\": null, \"place\": \"Below Top 10\", \"text\": \"\"}, {\"name\": \"British Indian Ocean Territory\", \"population\": null, \"population_growth\": null, \"area_land\": 60.0, \"population_density\": null, \"place\": \"Below Top 10\", \"text\": \"\"}, {\"name\": \"Dhekelia\", \"population\": 15700.0, \"population_growth\": null, \"area_land\": null, \"population_density\": null, \"place\": \"Below Top 10\", \"text\": \"\"}, {\"name\": \"South Georgia and South Sandwich Islands\", \"population\": null, \"population_growth\": null, \"area_land\": 3903.0, \"population_density\": null, \"place\": \"Below Top 10\", \"text\": \"\"}, {\"name\": \"Navassa Island\", \"population\": null, \"population_growth\": null, \"area_land\": 5.0, \"population_density\": null, \"place\": \"Below Top 10\", \"text\": \"\"}, {\"name\": \"Wake Island\", \"population\": null, \"population_growth\": null, \"area_land\": 6.0, \"population_density\": null, \"place\": \"Below Top 10\", \"text\": \"\"}, {\"name\": \"United States Pacific Island Wildlife Refuges\", \"population\": null, \"population_growth\": null, \"area_land\": null, \"population_density\": null, \"place\": \"Below Top 10\", \"text\": \"\"}, {\"name\": \"Paracel Islands\", \"population\": null, \"population_growth\": null, \"area_land\": 7.0, \"population_density\": null, \"place\": \"Below Top 10\", \"text\": \"\"}, {\"name\": \"Spratly Islands\", \"population\": null, \"population_growth\": null, \"area_land\": 5.0, \"population_density\": null, \"place\": \"Below Top 10\", \"text\": \"\"}, {\"name\": \"Arctic Ocean\", \"population\": null, \"population_growth\": null, \"area_land\": null, \"population_density\": null, \"place\": \"Below Top 10\", \"text\": \"\"}, {\"name\": \"Atlantic Ocean\", \"population\": null, \"population_growth\": null, \"area_land\": null, \"population_density\": null, \"place\": \"Below Top 10\", \"text\": \"\"}, {\"name\": \"Indian Ocean\", \"population\": null, \"population_growth\": null, \"area_land\": null, \"population_density\": null, \"place\": \"Below Top 10\", \"text\": \"\"}, {\"name\": \"Pacific Ocean\", \"population\": null, \"population_growth\": null, \"area_land\": null, \"population_density\": null, \"place\": \"Below Top 10\", \"text\": \"\"}, {\"name\": \"Southern Ocean\", \"population\": null, \"population_growth\": null, \"area_land\": null, \"population_density\": null, \"place\": \"Below Top 10\", \"text\": \"\"}]}}, {\"mode\": \"vega-lite\"});\n",
       "</script>"
      ],
      "text/plain": [
       "alt.LayerChart(...)"
      ]
     },
     "execution_count": 20,
     "metadata": {},
     "output_type": "execute_result"
    }
   ],
   "source": [
    "#| code-fold: true\n",
    "# Base layer with x and y axes\n",
    "base = (\n",
    "    alt.Chart(pop_density)\n",
    "    .mark_point()\n",
    "    .encode(\n",
    "        x = alt.X(\n",
    "            \"area_land:Q\",\n",
    "            title = \"Land Area (Square Kilometers)\",\n",
    "            scale = alt.Scale(domain = (0, 1100)),\n",
    "            # Limit the x and y axis domains.\n",
    "            # We will zoom in on the part of the chart that shows the important points.\n",
    "        ),\n",
    "        y = alt.Y(\n",
    "            \"population:Q\",\n",
    "            title = \"Population Size\",\n",
    "            scale = alt.Scale(domain = (0, 6000000)),\n",
    "        ),\n",
    "    )\n",
    ")\n",
    "\n",
    "# Scatter plot layer\n",
    "points = (\n",
    "    base\n",
    "    .encode(\n",
    "        # Express groupings using color and size.\n",
    "        color = alt.Color(\"place:N\", title = \"Category of Population Density\"),\n",
    "        size = alt.Size(\"population_growth:Q\", title = \"Population Growth Rate (% of Population)\"),\n",
    "        # Provide a tooltip with extra information.\n",
    "        tooltip = [\n",
    "            \"name\",\n",
    "            \"area_land\",\n",
    "            \"population\",\n",
    "            \"population_density\",\n",
    "            \"population_growth\",\n",
    "        ],\n",
    "    )\n",
    ")\n",
    "\n",
    "# Text layer\n",
    "text = (\n",
    "    base\n",
    "    .mark_text(\n",
    "        align = \"center\",\n",
    "        baseline = \"middle\",\n",
    "        dx = 60,\n",
    "        # Nudge text to the right.\n",
    "    )\n",
    "    .encode(\n",
    "        # Display the text variable.\n",
    "        text = \"text\",\n",
    "    )\n",
    ")\n",
    "\n",
    "# Combine layers.\n",
    "chart = (\n",
    "    (points + text)\n",
    "    .properties(title = \"Top 10 Countries in Population Density\")\n",
    "    .interactive()\n",
    ")\n",
    "\n",
    "# Display chart.\n",
    "chart"
   ]
  },
  {
   "attachments": {},
   "cell_type": "markdown",
   "id": "dynamic-cloud",
   "metadata": {},
   "source": [
    "In the chart above, the orange points represent the top 10 countries in terms of population density, while the blue points represent the other countries. Larger points have a higher population growth rate.\n",
    "\n",
    "Macau has the highest population density. However, **Gaza Strip, Bahrain, and Singapore** have higher population growth rates than Macau does (as indicated by the larger circles). This indicates that these countries' population sizes may increase quickly, thus leading to increased population density and aggravating the issues that come with it."
   ]
  },
  {
   "attachments": {},
   "cell_type": "markdown",
   "id": "norwegian-relations",
   "metadata": {},
   "source": [
    "## Death Rate and Birth Rate\n",
    "\n",
    "Our last query in SQL shall investigate which countries have a **higher death rate than birth rate**. Such countries may face a decrease in their population size.\n",
    "\n",
    "Note that we will calculate a new variable, `death_offset_birth`, by subtracting birth rate from death rate. This variable is indicative of the **net decrease in population** (if only births and deaths are taken into account)."
   ]
  },
  {
   "cell_type": "code",
   "execution_count": 21,
   "id": "later-remains",
   "metadata": {},
   "outputs": [
    {
     "name": "stdout",
     "output_type": "stream",
     "text": [
      " * sqlite:///private/2021-07-24-SQL-Fundamentals-Files/factbook.db\n",
      "Done.\n",
      "Returning data to local variable result\n"
     ]
    }
   ],
   "source": [
    "%%sql result <<\n",
    "SELECT\n",
    "    name,\n",
    "    population,\n",
    "    population_growth,\n",
    "    birth_rate,\n",
    "    death_rate,\n",
    "    death_rate - birth_rate AS \"death_offset_birth\"\n",
    "FROM facts\n",
    "WHERE name NOT IN (\"World\", \"Antarctica\")\n",
    "ORDER BY death_offset_birth DESC\n",
    ";"
   ]
  },
  {
   "attachments": {},
   "cell_type": "markdown",
   "id": "silver-links",
   "metadata": {},
   "source": [
    "The result of the query is shown below. Additionally, we have created a new column, `higher_category`. This indicates whether the death rate or the birth rate is higher for a particular country."
   ]
  },
  {
   "cell_type": "code",
   "execution_count": 22,
   "id": "difficult-classification",
   "metadata": {},
   "outputs": [
    {
     "data": {
      "text/html": [
       "<div>\n",
       "<style scoped>\n",
       "    .dataframe tbody tr th:only-of-type {\n",
       "        vertical-align: middle;\n",
       "    }\n",
       "\n",
       "    .dataframe tbody tr th {\n",
       "        vertical-align: top;\n",
       "    }\n",
       "\n",
       "    .dataframe thead th {\n",
       "        text-align: right;\n",
       "    }\n",
       "</style>\n",
       "<table border=\"1\" class=\"dataframe\">\n",
       "  <thead>\n",
       "    <tr style=\"text-align: right;\">\n",
       "      <th></th>\n",
       "      <th>name</th>\n",
       "      <th>population</th>\n",
       "      <th>population_growth</th>\n",
       "      <th>birth_rate</th>\n",
       "      <th>death_rate</th>\n",
       "      <th>death_offset_birth</th>\n",
       "      <th>higher_category</th>\n",
       "    </tr>\n",
       "  </thead>\n",
       "  <tbody>\n",
       "    <tr>\n",
       "      <th>0</th>\n",
       "      <td>Bulgaria</td>\n",
       "      <td>7186893.0</td>\n",
       "      <td>0.58</td>\n",
       "      <td>8.92</td>\n",
       "      <td>14.44</td>\n",
       "      <td>5.52</td>\n",
       "      <td>Death Rate Higher</td>\n",
       "    </tr>\n",
       "    <tr>\n",
       "      <th>1</th>\n",
       "      <td>Serbia</td>\n",
       "      <td>7176794.0</td>\n",
       "      <td>0.46</td>\n",
       "      <td>9.08</td>\n",
       "      <td>13.66</td>\n",
       "      <td>4.58</td>\n",
       "      <td>Death Rate Higher</td>\n",
       "    </tr>\n",
       "    <tr>\n",
       "      <th>2</th>\n",
       "      <td>Latvia</td>\n",
       "      <td>1986705.0</td>\n",
       "      <td>1.06</td>\n",
       "      <td>10.00</td>\n",
       "      <td>14.31</td>\n",
       "      <td>4.31</td>\n",
       "      <td>Death Rate Higher</td>\n",
       "    </tr>\n",
       "    <tr>\n",
       "      <th>3</th>\n",
       "      <td>Lithuania</td>\n",
       "      <td>2884433.0</td>\n",
       "      <td>1.04</td>\n",
       "      <td>10.10</td>\n",
       "      <td>14.27</td>\n",
       "      <td>4.17</td>\n",
       "      <td>Death Rate Higher</td>\n",
       "    </tr>\n",
       "    <tr>\n",
       "      <th>4</th>\n",
       "      <td>Ukraine</td>\n",
       "      <td>44429471.0</td>\n",
       "      <td>0.60</td>\n",
       "      <td>10.72</td>\n",
       "      <td>14.46</td>\n",
       "      <td>3.74</td>\n",
       "      <td>Death Rate Higher</td>\n",
       "    </tr>\n",
       "    <tr>\n",
       "      <th>5</th>\n",
       "      <td>Hungary</td>\n",
       "      <td>9897541.0</td>\n",
       "      <td>0.22</td>\n",
       "      <td>9.16</td>\n",
       "      <td>12.73</td>\n",
       "      <td>3.57</td>\n",
       "      <td>Death Rate Higher</td>\n",
       "    </tr>\n",
       "    <tr>\n",
       "      <th>6</th>\n",
       "      <td>Germany</td>\n",
       "      <td>80854408.0</td>\n",
       "      <td>0.17</td>\n",
       "      <td>8.47</td>\n",
       "      <td>11.42</td>\n",
       "      <td>2.95</td>\n",
       "      <td>Death Rate Higher</td>\n",
       "    </tr>\n",
       "    <tr>\n",
       "      <th>7</th>\n",
       "      <td>Slovenia</td>\n",
       "      <td>1983412.0</td>\n",
       "      <td>0.26</td>\n",
       "      <td>8.42</td>\n",
       "      <td>11.37</td>\n",
       "      <td>2.95</td>\n",
       "      <td>Death Rate Higher</td>\n",
       "    </tr>\n",
       "    <tr>\n",
       "      <th>8</th>\n",
       "      <td>Romania</td>\n",
       "      <td>21666350.0</td>\n",
       "      <td>0.30</td>\n",
       "      <td>9.14</td>\n",
       "      <td>11.90</td>\n",
       "      <td>2.76</td>\n",
       "      <td>Death Rate Higher</td>\n",
       "    </tr>\n",
       "    <tr>\n",
       "      <th>9</th>\n",
       "      <td>Croatia</td>\n",
       "      <td>4464844.0</td>\n",
       "      <td>0.13</td>\n",
       "      <td>9.45</td>\n",
       "      <td>12.18</td>\n",
       "      <td>2.73</td>\n",
       "      <td>Death Rate Higher</td>\n",
       "    </tr>\n",
       "  </tbody>\n",
       "</table>\n",
       "</div>"
      ],
      "text/plain": [
       "        name  population  population_growth  birth_rate  death_rate  \\\n",
       "0   Bulgaria   7186893.0               0.58        8.92       14.44   \n",
       "1     Serbia   7176794.0               0.46        9.08       13.66   \n",
       "2     Latvia   1986705.0               1.06       10.00       14.31   \n",
       "3  Lithuania   2884433.0               1.04       10.10       14.27   \n",
       "4    Ukraine  44429471.0               0.60       10.72       14.46   \n",
       "5    Hungary   9897541.0               0.22        9.16       12.73   \n",
       "6    Germany  80854408.0               0.17        8.47       11.42   \n",
       "7   Slovenia   1983412.0               0.26        8.42       11.37   \n",
       "8    Romania  21666350.0               0.30        9.14       11.90   \n",
       "9    Croatia   4464844.0               0.13        9.45       12.18   \n",
       "\n",
       "   death_offset_birth    higher_category  \n",
       "0                5.52  Death Rate Higher  \n",
       "1                4.58  Death Rate Higher  \n",
       "2                4.31  Death Rate Higher  \n",
       "3                4.17  Death Rate Higher  \n",
       "4                3.74  Death Rate Higher  \n",
       "5                3.57  Death Rate Higher  \n",
       "6                2.95  Death Rate Higher  \n",
       "7                2.95  Death Rate Higher  \n",
       "8                2.76  Death Rate Higher  \n",
       "9                2.73  Death Rate Higher  "
      ]
     },
     "execution_count": 22,
     "metadata": {},
     "output_type": "execute_result"
    }
   ],
   "source": [
    "db_rates = result.DataFrame()\n",
    "\n",
    "db_rates[\"higher_category\"] = (\n",
    "    db_rates[\"death_offset_birth\"]\n",
    "    .apply(lambda x: \"Death Rate Higher\" if x > 0 else \"Birth Rate Higher\")\n",
    ")\n",
    "\n",
    "db_rates.head(10)"
   ]
  },
  {
   "attachments": {},
   "cell_type": "markdown",
   "id": "numerical-chassis",
   "metadata": {},
   "source": [
    "The results above show the top 10 countries in terms of the difference between death rate and birth rate. At the top is Bulgaria; for every 1000 people each year, 14.44 die and 8.92 are born, meaning that deaths outnumber births by 5.52.\n",
    "\n",
    "We can make an **area chart** in order to get an idea of the death rate situation for all countries.\n",
    "\n",
    "Before that, though, how many countries have a death rate that is higher than the birth rate?"
   ]
  },
  {
   "cell_type": "code",
   "execution_count": 23,
   "id": "cheap-gravity",
   "metadata": {},
   "outputs": [
    {
     "data": {
      "text/plain": [
       "24"
      ]
     },
     "execution_count": 23,
     "metadata": {},
     "output_type": "execute_result"
    }
   ],
   "source": [
    "(db_rates[\"higher_category\"] == \"Death Rate Higher\").sum()"
   ]
  },
  {
   "attachments": {},
   "cell_type": "markdown",
   "id": "independent-ghana",
   "metadata": {},
   "source": [
    "There are 24 such countries. Thus, we can mention this fact in the chart title.\n",
    "\n",
    "The chart is shown below."
   ]
  },
  {
   "cell_type": "code",
   "execution_count": 24,
   "id": "disturbed-senegal",
   "metadata": {},
   "outputs": [
    {
     "data": {
      "text/html": [
       "\n",
       "<div id=\"altair-viz-4a506128846445b39fa8c64b02ddad15\"></div>\n",
       "<script type=\"text/javascript\">\n",
       "  (function(spec, embedOpt){\n",
       "    let outputDiv = document.currentScript.previousElementSibling;\n",
       "    if (outputDiv.id !== \"altair-viz-4a506128846445b39fa8c64b02ddad15\") {\n",
       "      outputDiv = document.getElementById(\"altair-viz-4a506128846445b39fa8c64b02ddad15\");\n",
       "    }\n",
       "    const paths = {\n",
       "      \"vega\": \"https://cdn.jsdelivr.net/npm//vega@5?noext\",\n",
       "      \"vega-lib\": \"https://cdn.jsdelivr.net/npm//vega-lib?noext\",\n",
       "      \"vega-lite\": \"https://cdn.jsdelivr.net/npm//vega-lite@4.8.1?noext\",\n",
       "      \"vega-embed\": \"https://cdn.jsdelivr.net/npm//vega-embed@6?noext\",\n",
       "    };\n",
       "\n",
       "    function loadScript(lib) {\n",
       "      return new Promise(function(resolve, reject) {\n",
       "        var s = document.createElement('script');\n",
       "        s.src = paths[lib];\n",
       "        s.async = true;\n",
       "        s.onload = () => resolve(paths[lib]);\n",
       "        s.onerror = () => reject(`Error loading script: ${paths[lib]}`);\n",
       "        document.getElementsByTagName(\"head\")[0].appendChild(s);\n",
       "      });\n",
       "    }\n",
       "\n",
       "    function showError(err) {\n",
       "      outputDiv.innerHTML = `<div class=\"error\" style=\"color:red;\">${err}</div>`;\n",
       "      throw err;\n",
       "    }\n",
       "\n",
       "    function displayChart(vegaEmbed) {\n",
       "      vegaEmbed(outputDiv, spec, embedOpt)\n",
       "        .catch(err => showError(`Javascript Error: ${err.message}<br>This usually means there's a typo in your chart specification. See the javascript console for the full traceback.`));\n",
       "    }\n",
       "\n",
       "    if(typeof define === \"function\" && define.amd) {\n",
       "      requirejs.config({paths});\n",
       "      require([\"vega-embed\"], displayChart, err => showError(`Error loading script: ${err.message}`));\n",
       "    } else if (typeof vegaEmbed === \"function\") {\n",
       "      displayChart(vegaEmbed);\n",
       "    } else {\n",
       "      loadScript(\"vega\")\n",
       "        .then(() => loadScript(\"vega-lite\"))\n",
       "        .then(() => loadScript(\"vega-embed\"))\n",
       "        .catch(showError)\n",
       "        .then(() => displayChart(vegaEmbed));\n",
       "    }\n",
       "  })({\"config\": {\"view\": {\"continuousWidth\": 400, \"continuousHeight\": 300}}, \"data\": {\"name\": \"data-6c48dff6796938b4e960c48a3bfa972a\"}, \"mark\": {\"type\": \"area\", \"point\": true}, \"encoding\": {\"color\": {\"type\": \"nominal\", \"field\": \"higher_category\", \"title\": \"Higher Rate\"}, \"tooltip\": [{\"type\": \"nominal\", \"field\": \"name\"}, {\"type\": \"quantitative\", \"field\": \"birth_rate\"}, {\"type\": \"quantitative\", \"field\": \"death_rate\"}, {\"type\": \"quantitative\", \"field\": \"death_offset_birth\"}], \"x\": {\"type\": \"quantitative\", \"field\": \"birth_rate\", \"title\": \"Birth Rate (Births per 1000 People per Year)\"}, \"y\": {\"type\": \"quantitative\", \"field\": \"death_offset_birth\", \"title\": \"Death Rate offset by Birth Rate\"}}, \"selection\": {\"selector003\": {\"type\": \"interval\", \"bind\": \"scales\", \"encodings\": [\"x\", \"y\"]}}, \"title\": \"Death Rate is Higher than Birth Rate for 24 Countries\", \"$schema\": \"https://vega.github.io/schema/vega-lite/v4.8.1.json\", \"datasets\": {\"data-6c48dff6796938b4e960c48a3bfa972a\": [{\"name\": \"Bulgaria\", \"population\": 7186893.0, \"population_growth\": 0.58, \"birth_rate\": 8.92, \"death_rate\": 14.44, \"death_offset_birth\": 5.52, \"higher_category\": \"Death Rate Higher\"}, {\"name\": \"Serbia\", \"population\": 7176794.0, \"population_growth\": 0.46, \"birth_rate\": 9.08, \"death_rate\": 13.66, \"death_offset_birth\": 4.58, \"higher_category\": \"Death Rate Higher\"}, {\"name\": \"Latvia\", \"population\": 1986705.0, \"population_growth\": 1.06, \"birth_rate\": 10.0, \"death_rate\": 14.31, \"death_offset_birth\": 4.3100000000000005, \"higher_category\": \"Death Rate Higher\"}, {\"name\": \"Lithuania\", \"population\": 2884433.0, \"population_growth\": 1.04, \"birth_rate\": 10.1, \"death_rate\": 14.27, \"death_offset_birth\": 4.17, \"higher_category\": \"Death Rate Higher\"}, {\"name\": \"Ukraine\", \"population\": 44429471.0, \"population_growth\": 0.6, \"birth_rate\": 10.72, \"death_rate\": 14.46, \"death_offset_birth\": 3.74, \"higher_category\": \"Death Rate Higher\"}, {\"name\": \"Hungary\", \"population\": 9897541.0, \"population_growth\": 0.22, \"birth_rate\": 9.16, \"death_rate\": 12.73, \"death_offset_birth\": 3.5700000000000003, \"higher_category\": \"Death Rate Higher\"}, {\"name\": \"Germany\", \"population\": 80854408.0, \"population_growth\": 0.17, \"birth_rate\": 8.47, \"death_rate\": 11.42, \"death_offset_birth\": 2.9499999999999993, \"higher_category\": \"Death Rate Higher\"}, {\"name\": \"Slovenia\", \"population\": 1983412.0, \"population_growth\": 0.26, \"birth_rate\": 8.42, \"death_rate\": 11.37, \"death_offset_birth\": 2.9499999999999993, \"higher_category\": \"Death Rate Higher\"}, {\"name\": \"Romania\", \"population\": 21666350.0, \"population_growth\": 0.3, \"birth_rate\": 9.14, \"death_rate\": 11.9, \"death_offset_birth\": 2.76, \"higher_category\": \"Death Rate Higher\"}, {\"name\": \"Croatia\", \"population\": 4464844.0, \"population_growth\": 0.13, \"birth_rate\": 9.45, \"death_rate\": 12.18, \"death_offset_birth\": 2.7300000000000004, \"higher_category\": \"Death Rate Higher\"}, {\"name\": \"Belarus\", \"population\": 9589689.0, \"population_growth\": 0.2, \"birth_rate\": 10.7, \"death_rate\": 13.36, \"death_offset_birth\": 2.66, \"higher_category\": \"Death Rate Higher\"}, {\"name\": \"Monaco\", \"population\": 30535.0, \"population_growth\": 0.12, \"birth_rate\": 6.65, \"death_rate\": 9.24, \"death_offset_birth\": 2.59, \"higher_category\": \"Death Rate Higher\"}, {\"name\": \"Greece\", \"population\": 10775643.0, \"population_growth\": 0.01, \"birth_rate\": 8.66, \"death_rate\": 11.09, \"death_offset_birth\": 2.4299999999999997, \"higher_category\": \"Death Rate Higher\"}, {\"name\": \"Saint Pierre and Miquelon\", \"population\": 5657.0, \"population_growth\": 1.08, \"birth_rate\": 7.42, \"death_rate\": 9.72, \"death_offset_birth\": 2.3000000000000007, \"higher_category\": \"Death Rate Higher\"}, {\"name\": \"Russia\", \"population\": 142423773.0, \"population_growth\": 0.04, \"birth_rate\": 11.6, \"death_rate\": 13.69, \"death_offset_birth\": 2.09, \"higher_category\": \"Death Rate Higher\"}, {\"name\": \"Estonia\", \"population\": 1265420.0, \"population_growth\": 0.55, \"birth_rate\": 10.51, \"death_rate\": 12.4, \"death_offset_birth\": 1.8900000000000006, \"higher_category\": \"Death Rate Higher\"}, {\"name\": \"Portugal\", \"population\": 10825309.0, \"population_growth\": 0.09, \"birth_rate\": 9.27, \"death_rate\": 11.02, \"death_offset_birth\": 1.75, \"higher_category\": \"Death Rate Higher\"}, {\"name\": \"Japan\", \"population\": 126919659.0, \"population_growth\": 0.16, \"birth_rate\": 7.93, \"death_rate\": 9.51, \"death_offset_birth\": 1.58, \"higher_category\": \"Death Rate Higher\"}, {\"name\": \"Italy\", \"population\": 61855120.0, \"population_growth\": 0.27, \"birth_rate\": 8.74, \"death_rate\": 10.19, \"death_offset_birth\": 1.4499999999999993, \"higher_category\": \"Death Rate Higher\"}, {\"name\": \"Bosnia and Herzegovina\", \"population\": 3867055.0, \"population_growth\": 0.13, \"birth_rate\": 8.87, \"death_rate\": 9.75, \"death_offset_birth\": 0.8800000000000008, \"higher_category\": \"Death Rate Higher\"}, {\"name\": \"Czech Republic\", \"population\": 10644842.0, \"population_growth\": 0.16, \"birth_rate\": 9.63, \"death_rate\": 10.34, \"death_offset_birth\": 0.7099999999999991, \"higher_category\": \"Death Rate Higher\"}, {\"name\": \"Moldova\", \"population\": 3546847.0, \"population_growth\": 1.03, \"birth_rate\": 12.0, \"death_rate\": 12.59, \"death_offset_birth\": 0.5899999999999999, \"higher_category\": \"Death Rate Higher\"}, {\"name\": \"Poland\", \"population\": 38562189.0, \"population_growth\": 0.09, \"birth_rate\": 9.74, \"death_rate\": 10.19, \"death_offset_birth\": 0.4499999999999993, \"higher_category\": \"Death Rate Higher\"}, {\"name\": \"Austria\", \"population\": 8665550.0, \"population_growth\": 0.55, \"birth_rate\": 9.41, \"death_rate\": 9.42, \"death_offset_birth\": 0.009999999999999787, \"higher_category\": \"Death Rate Higher\"}, {\"name\": \"European Union\", \"population\": 513949445.0, \"population_growth\": 0.25, \"birth_rate\": 10.2, \"death_rate\": 10.2, \"death_offset_birth\": 0.0, \"higher_category\": \"Birth Rate Higher\"}, {\"name\": \"Denmark\", \"population\": 5581503.0, \"population_growth\": 0.22, \"birth_rate\": 10.27, \"death_rate\": 10.25, \"death_offset_birth\": -0.019999999999999574, \"higher_category\": \"Birth Rate Higher\"}, {\"name\": \"Slovakia\", \"population\": 5445027.0, \"population_growth\": 0.02, \"birth_rate\": 9.91, \"death_rate\": 9.74, \"death_offset_birth\": -0.16999999999999993, \"higher_category\": \"Birth Rate Higher\"}, {\"name\": \"San Marino\", \"population\": 33020.0, \"population_growth\": 0.82, \"birth_rate\": 8.63, \"death_rate\": 8.45, \"death_offset_birth\": -0.1800000000000015, \"higher_category\": \"Birth Rate Higher\"}, {\"name\": \"Spain\", \"population\": 48146134.0, \"population_growth\": 0.89, \"birth_rate\": 9.64, \"death_rate\": 9.04, \"death_offset_birth\": -0.6000000000000014, \"higher_category\": \"Birth Rate Higher\"}, {\"name\": \"Finland\", \"population\": 5476922.0, \"population_growth\": 0.4, \"birth_rate\": 10.72, \"death_rate\": 9.83, \"death_offset_birth\": -0.8900000000000006, \"higher_category\": \"Birth Rate Higher\"}, {\"name\": \"Montenegro\", \"population\": 647073.0, \"population_growth\": 0.42, \"birth_rate\": 10.42, \"death_rate\": 9.43, \"death_offset_birth\": -0.9900000000000002, \"higher_category\": \"Birth Rate Higher\"}, {\"name\": \"Isle of Man\", \"population\": 87545.0, \"population_growth\": 0.76, \"birth_rate\": 11.1, \"death_rate\": 10.06, \"death_offset_birth\": -1.0399999999999991, \"higher_category\": \"Birth Rate Higher\"}, {\"name\": \"Guernsey\", \"population\": 66080.0, \"population_growth\": 0.34, \"birth_rate\": 9.84, \"death_rate\": 8.78, \"death_offset_birth\": -1.0600000000000005, \"higher_category\": \"Birth Rate Higher\"}, {\"name\": \"Malta\", \"population\": 413965.0, \"population_growth\": 0.31, \"birth_rate\": 10.18, \"death_rate\": 9.09, \"death_offset_birth\": -1.0899999999999999, \"higher_category\": \"Birth Rate Higher\"}, {\"name\": \"Andorra\", \"population\": 85580.0, \"population_growth\": 0.12, \"birth_rate\": 8.13, \"death_rate\": 6.96, \"death_offset_birth\": -1.1700000000000008, \"higher_category\": \"Birth Rate Higher\"}, {\"name\": \"Taiwan\", \"population\": 23415126.0, \"population_growth\": 0.23, \"birth_rate\": 8.47, \"death_rate\": 7.11, \"death_offset_birth\": -1.3600000000000003, \"higher_category\": \"Birth Rate Higher\"}, {\"name\": \"Korea, South\", \"population\": 49115196.0, \"population_growth\": 0.14, \"birth_rate\": 8.19, \"death_rate\": 6.75, \"death_offset_birth\": -1.4399999999999995, \"higher_category\": \"Birth Rate Higher\"}, {\"name\": \"Virgin Islands\", \"population\": 103574.0, \"population_growth\": 0.59, \"birth_rate\": 10.31, \"death_rate\": 8.54, \"death_offset_birth\": -1.7700000000000014, \"higher_category\": \"Birth Rate Higher\"}, {\"name\": \"Belgium\", \"population\": 11323973.0, \"population_growth\": 0.76, \"birth_rate\": 11.41, \"death_rate\": 9.63, \"death_offset_birth\": -1.7799999999999994, \"higher_category\": \"Birth Rate Higher\"}, {\"name\": \"Canada\", \"population\": 35099836.0, \"population_growth\": 0.75, \"birth_rate\": 10.28, \"death_rate\": 8.42, \"death_offset_birth\": -1.8599999999999994, \"higher_category\": \"Birth Rate Higher\"}, {\"name\": \"Georgia\", \"population\": 4931226.0, \"population_growth\": 0.08, \"birth_rate\": 12.74, \"death_rate\": 10.82, \"death_offset_birth\": -1.92, \"higher_category\": \"Birth Rate Higher\"}, {\"name\": \"Hong Kong\", \"population\": 7141106.0, \"population_growth\": 0.38, \"birth_rate\": 9.23, \"death_rate\": 7.07, \"death_offset_birth\": -2.16, \"higher_category\": \"Birth Rate Higher\"}, {\"name\": \"Netherlands\", \"population\": 16947904.0, \"population_growth\": 0.41, \"birth_rate\": 10.83, \"death_rate\": 8.66, \"death_offset_birth\": -2.17, \"higher_category\": \"Birth Rate Higher\"}, {\"name\": \"Cuba\", \"population\": 11031433.0, \"population_growth\": 0.15, \"birth_rate\": 9.9, \"death_rate\": 7.72, \"death_offset_birth\": -2.1800000000000006, \"higher_category\": \"Birth Rate Higher\"}, {\"name\": \"Puerto Rico\", \"population\": 3598357.0, \"population_growth\": 0.6, \"birth_rate\": 10.86, \"death_rate\": 8.67, \"death_offset_birth\": -2.1899999999999995, \"higher_category\": \"Birth Rate Higher\"}, {\"name\": \"Switzerland\", \"population\": 8121830.0, \"population_growth\": 0.71, \"birth_rate\": 10.5, \"death_rate\": 8.13, \"death_offset_birth\": -2.369999999999999, \"higher_category\": \"Birth Rate Higher\"}, {\"name\": \"Saint Helena, Ascension, and Tristan da Cunha\", \"population\": 7795.0, \"population_growth\": 0.24, \"birth_rate\": 9.88, \"death_rate\": 7.44, \"death_offset_birth\": -2.4400000000000004, \"higher_category\": \"Birth Rate Higher\"}, {\"name\": \"Macedonia\", \"population\": 2096015.0, \"population_growth\": 0.2, \"birth_rate\": 11.55, \"death_rate\": 9.08, \"death_offset_birth\": -2.4700000000000006, \"higher_category\": \"Birth Rate Higher\"}, {\"name\": \"Sweden\", \"population\": 9801616.0, \"population_growth\": 0.8, \"birth_rate\": 11.99, \"death_rate\": 9.4, \"death_offset_birth\": -2.59, \"higher_category\": \"Birth Rate Higher\"}, {\"name\": \"United Kingdom\", \"population\": 64088222.0, \"population_growth\": 0.54, \"birth_rate\": 12.17, \"death_rate\": 9.35, \"death_offset_birth\": -2.8200000000000003, \"higher_category\": \"Birth Rate Higher\"}, {\"name\": \"Palau\", \"population\": 21265.0, \"population_growth\": 0.38, \"birth_rate\": 11.05, \"death_rate\": 7.99, \"death_offset_birth\": -3.0600000000000005, \"higher_category\": \"Birth Rate Higher\"}, {\"name\": \"Bermuda\", \"population\": 70196.0, \"population_growth\": 0.5, \"birth_rate\": 11.33, \"death_rate\": 8.23, \"death_offset_birth\": -3.0999999999999996, \"higher_category\": \"Birth Rate Higher\"}, {\"name\": \"France\", \"population\": 66553766.0, \"population_growth\": 0.43, \"birth_rate\": 12.38, \"death_rate\": 9.16, \"death_offset_birth\": -3.2200000000000006, \"higher_category\": \"Birth Rate Higher\"}, {\"name\": \"Liechtenstein\", \"population\": 37624.0, \"population_growth\": 0.84, \"birth_rate\": 10.45, \"death_rate\": 7.12, \"death_offset_birth\": -3.329999999999999, \"higher_category\": \"Birth Rate Higher\"}, {\"name\": \"Thailand\", \"population\": 67976405.0, \"population_growth\": 0.34, \"birth_rate\": 11.19, \"death_rate\": 7.8, \"death_offset_birth\": -3.3899999999999997, \"higher_category\": \"Birth Rate Higher\"}, {\"name\": \"Barbados\", \"population\": 290604.0, \"population_growth\": 0.31, \"birth_rate\": 11.87, \"death_rate\": 8.44, \"death_offset_birth\": -3.4299999999999997, \"higher_category\": \"Birth Rate Higher\"}, {\"name\": \"Uruguay\", \"population\": 3341893.0, \"population_growth\": 0.27, \"birth_rate\": 13.07, \"death_rate\": 9.45, \"death_offset_birth\": -3.620000000000001, \"higher_category\": \"Birth Rate Higher\"}, {\"name\": \"Norway\", \"population\": 5207689.0, \"population_growth\": 1.13, \"birth_rate\": 12.14, \"death_rate\": 8.12, \"death_offset_birth\": -4.020000000000001, \"higher_category\": \"Birth Rate Higher\"}, {\"name\": \"Luxembourg\", \"population\": 570252.0, \"population_growth\": 2.13, \"birth_rate\": 11.37, \"death_rate\": 7.24, \"death_offset_birth\": -4.129999999999999, \"higher_category\": \"Birth Rate Higher\"}, {\"name\": \"Jersey\", \"population\": 97294.0, \"population_growth\": 0.8, \"birth_rate\": 11.91, \"death_rate\": 7.68, \"death_offset_birth\": -4.23, \"higher_category\": \"Birth Rate Higher\"}, {\"name\": \"Armenia\", \"population\": 3056382.0, \"population_growth\": 0.15, \"birth_rate\": 13.61, \"death_rate\": 9.34, \"death_offset_birth\": -4.27, \"higher_category\": \"Birth Rate Higher\"}, {\"name\": \"United States\", \"population\": 321368864.0, \"population_growth\": 0.78, \"birth_rate\": 12.49, \"death_rate\": 8.15, \"death_offset_birth\": -4.34, \"higher_category\": \"Birth Rate Higher\"}, {\"name\": \"Aruba\", \"population\": 112162.0, \"population_growth\": 1.33, \"birth_rate\": 12.56, \"death_rate\": 8.18, \"death_offset_birth\": -4.380000000000001, \"higher_category\": \"Birth Rate Higher\"}, {\"name\": \"Macau\", \"population\": 592731.0, \"population_growth\": 0.8, \"birth_rate\": 8.88, \"death_rate\": 4.22, \"death_offset_birth\": -4.660000000000001, \"higher_category\": \"Birth Rate Higher\"}, {\"name\": \"Cyprus\", \"population\": 1189197.0, \"population_growth\": 1.43, \"birth_rate\": 11.41, \"death_rate\": 6.62, \"death_offset_birth\": -4.79, \"higher_category\": \"Birth Rate Higher\"}, {\"name\": \"Singapore\", \"population\": 5674472.0, \"population_growth\": 1.89, \"birth_rate\": 8.27, \"death_rate\": 3.43, \"death_offset_birth\": -4.84, \"higher_category\": \"Birth Rate Higher\"}, {\"name\": \"Trinidad and Tobago\", \"population\": 1222363.0, \"population_growth\": 0.13, \"birth_rate\": 13.46, \"death_rate\": 8.56, \"death_offset_birth\": -4.9, \"higher_category\": \"Birth Rate Higher\"}, {\"name\": \"China\", \"population\": 1367485388.0, \"population_growth\": 0.45, \"birth_rate\": 12.49, \"death_rate\": 7.53, \"death_offset_birth\": -4.96, \"higher_category\": \"Birth Rate Higher\"}, {\"name\": \"Montserrat\", \"population\": 5241.0, \"population_growth\": 0.5, \"birth_rate\": 11.26, \"death_rate\": 6.3, \"death_offset_birth\": -4.96, \"higher_category\": \"Birth Rate Higher\"}, {\"name\": \"Australia\", \"population\": 22751014.0, \"population_growth\": 1.07, \"birth_rate\": 12.15, \"death_rate\": 7.14, \"death_offset_birth\": -5.010000000000001, \"higher_category\": \"Birth Rate Higher\"}, {\"name\": \"Faroe Islands\", \"population\": 50196.0, \"population_growth\": 0.51, \"birth_rate\": 13.77, \"death_rate\": 8.71, \"death_offset_birth\": -5.059999999999999, \"higher_category\": \"Birth Rate Higher\"}, {\"name\": \"Korea, North\", \"population\": 24983205.0, \"population_growth\": 0.53, \"birth_rate\": 14.52, \"death_rate\": 9.21, \"death_offset_birth\": -5.309999999999999, \"higher_category\": \"Birth Rate Higher\"}, {\"name\": \"Curacao\", \"population\": 148406.0, \"population_growth\": 0.43, \"birth_rate\": 13.8, \"death_rate\": 8.2, \"death_offset_birth\": -5.600000000000001, \"higher_category\": \"Birth Rate Higher\"}, {\"name\": \"Gibraltar\", \"population\": 29258.0, \"population_growth\": 0.24, \"birth_rate\": 14.08, \"death_rate\": 8.37, \"death_offset_birth\": -5.710000000000001, \"higher_category\": \"Birth Rate Higher\"}, {\"name\": \"Namibia\", \"population\": 2212307.0, \"population_growth\": 0.59, \"birth_rate\": 19.8, \"death_rate\": 13.91, \"death_offset_birth\": -5.890000000000001, \"higher_category\": \"Birth Rate Higher\"}, {\"name\": \"British Virgin Islands\", \"population\": 33454.0, \"population_growth\": 2.32, \"birth_rate\": 10.91, \"death_rate\": 4.99, \"death_offset_birth\": -5.92, \"higher_category\": \"Birth Rate Higher\"}, {\"name\": \"New Zealand\", \"population\": 4438393.0, \"population_growth\": 0.82, \"birth_rate\": 13.33, \"death_rate\": 7.36, \"death_offset_birth\": -5.97, \"higher_category\": \"Birth Rate Higher\"}, {\"name\": \"Greenland\", \"population\": 57733.0, \"population_growth\": 0.0, \"birth_rate\": 14.48, \"death_rate\": 8.49, \"death_offset_birth\": -5.99, \"higher_category\": \"Birth Rate Higher\"}, {\"name\": \"Falkland Islands (Islas Malvinas)\", \"population\": 3361.0, \"population_growth\": 0.01, \"birth_rate\": 10.9, \"death_rate\": 4.9, \"death_offset_birth\": -6.0, \"higher_category\": \"Birth Rate Higher\"}, {\"name\": \"Saint Lucia\", \"population\": 163922.0, \"population_growth\": 0.34, \"birth_rate\": 13.7, \"death_rate\": 7.42, \"death_offset_birth\": -6.279999999999999, \"higher_category\": \"Birth Rate Higher\"}, {\"name\": \"Cook Islands\", \"population\": 9838.0, \"population_growth\": 2.95, \"birth_rate\": 14.33, \"death_rate\": 8.03, \"death_offset_birth\": -6.300000000000001, \"higher_category\": \"Birth Rate Higher\"}, {\"name\": \"Albania\", \"population\": 3029278.0, \"population_growth\": 0.3, \"birth_rate\": 12.92, \"death_rate\": 6.58, \"death_offset_birth\": -6.34, \"higher_category\": \"Birth Rate Higher\"}, {\"name\": \"Mauritius\", \"population\": 1339827.0, \"population_growth\": 0.64, \"birth_rate\": 13.29, \"death_rate\": 6.91, \"death_offset_birth\": -6.379999999999999, \"higher_category\": \"Birth Rate Higher\"}, {\"name\": \"Saint Vincent and the Grenadines\", \"population\": 102627.0, \"population_growth\": 0.28, \"birth_rate\": 13.57, \"death_rate\": 7.18, \"death_offset_birth\": -6.390000000000001, \"higher_category\": \"Birth Rate Higher\"}, {\"name\": \"Saint Kitts and Nevis\", \"population\": 51936.0, \"population_growth\": 0.76, \"birth_rate\": 13.5, \"death_rate\": 7.09, \"death_offset_birth\": -6.41, \"higher_category\": \"Birth Rate Higher\"}, {\"name\": \"Cayman Islands\", \"population\": 56092.0, \"population_growth\": 2.1, \"birth_rate\": 12.11, \"death_rate\": 5.53, \"death_offset_birth\": -6.579999999999999, \"higher_category\": \"Birth Rate Higher\"}, {\"name\": \"Seychelles\", \"population\": 92430.0, \"population_growth\": 0.83, \"birth_rate\": 14.19, \"death_rate\": 6.89, \"death_offset_birth\": -7.3, \"higher_category\": \"Birth Rate Higher\"}, {\"name\": \"Dominica\", \"population\": 73607.0, \"population_growth\": 0.21, \"birth_rate\": 15.41, \"death_rate\": 7.91, \"death_offset_birth\": -7.5, \"higher_category\": \"Birth Rate Higher\"}, {\"name\": \"Botswana\", \"population\": 2182719.0, \"population_growth\": 1.21, \"birth_rate\": 20.96, \"death_rate\": 13.39, \"death_offset_birth\": -7.57, \"higher_category\": \"Birth Rate Higher\"}, {\"name\": \"Iceland\", \"population\": 331918.0, \"population_growth\": 1.21, \"birth_rate\": 13.91, \"death_rate\": 6.28, \"death_offset_birth\": -7.63, \"higher_category\": \"Birth Rate Higher\"}, {\"name\": \"Chile\", \"population\": 17508260.0, \"population_growth\": 0.82, \"birth_rate\": 13.83, \"death_rate\": 6.0, \"death_offset_birth\": -7.83, \"higher_category\": \"Birth Rate Higher\"}, {\"name\": \"Brazil\", \"population\": 204259812.0, \"population_growth\": 0.77, \"birth_rate\": 14.46, \"death_rate\": 6.58, \"death_offset_birth\": -7.880000000000001, \"higher_category\": \"Birth Rate Higher\"}, {\"name\": \"Grenada\", \"population\": 110694.0, \"population_growth\": 0.48, \"birth_rate\": 16.03, \"death_rate\": 8.08, \"death_offset_birth\": -7.950000000000001, \"higher_category\": \"Birth Rate Higher\"}, {\"name\": \"Anguilla\", \"population\": 16418.0, \"population_growth\": 2.03, \"birth_rate\": 12.67, \"death_rate\": 4.57, \"death_offset_birth\": -8.1, \"higher_category\": \"Birth Rate Higher\"}, {\"name\": \"Guyana\", \"population\": 735222.0, \"population_growth\": 0.02, \"birth_rate\": 15.59, \"death_rate\": 7.32, \"death_offset_birth\": -8.27, \"higher_category\": \"Birth Rate Higher\"}, {\"name\": \"Qatar\", \"population\": 2194817.0, \"population_growth\": 3.07, \"birth_rate\": 9.84, \"death_rate\": 1.53, \"death_offset_birth\": -8.31, \"higher_category\": \"Birth Rate Higher\"}, {\"name\": \"Ireland\", \"population\": 4892305.0, \"population_growth\": 1.25, \"birth_rate\": 14.84, \"death_rate\": 6.48, \"death_offset_birth\": -8.36, \"higher_category\": \"Birth Rate Higher\"}, {\"name\": \"Wallis and Futuna\", \"population\": 15613.0, \"population_growth\": 0.33, \"birth_rate\": 13.45, \"death_rate\": 5.06, \"death_offset_birth\": -8.39, \"higher_category\": \"Birth Rate Higher\"}, {\"name\": \"Bahamas, The\", \"population\": 324597.0, \"population_growth\": 0.85, \"birth_rate\": 15.5, \"death_rate\": 7.05, \"death_offset_birth\": -8.45, \"higher_category\": \"Birth Rate Higher\"}, {\"name\": \"Sint Maarten\", \"population\": 39689.0, \"population_growth\": 1.51, \"birth_rate\": 13.0, \"death_rate\": 4.51, \"death_offset_birth\": -8.49, \"higher_category\": \"Birth Rate Higher\"}, {\"name\": \"Argentina\", \"population\": 43431886.0, \"population_growth\": 0.93, \"birth_rate\": 16.64, \"death_rate\": 7.33, \"death_offset_birth\": -9.31, \"higher_category\": \"Birth Rate Higher\"}, {\"name\": \"Azerbaijan\", \"population\": 9780780.0, \"population_growth\": 0.96, \"birth_rate\": 16.64, \"death_rate\": 7.07, \"death_offset_birth\": -9.57, \"higher_category\": \"Birth Rate Higher\"}, {\"name\": \"Lebanon\", \"population\": 6184701.0, \"population_growth\": 0.86, \"birth_rate\": 14.59, \"death_rate\": 4.88, \"death_offset_birth\": -9.71, \"higher_category\": \"Birth Rate Higher\"}, {\"name\": \"Sri Lanka\", \"population\": 22053488.0, \"population_growth\": 0.84, \"birth_rate\": 15.85, \"death_rate\": 6.11, \"death_offset_birth\": -9.739999999999998, \"higher_category\": \"Birth Rate Higher\"}, {\"name\": \"New Caledonia\", \"population\": 271615.0, \"population_growth\": 1.38, \"birth_rate\": 15.33, \"death_rate\": 5.52, \"death_offset_birth\": -9.81, \"higher_category\": \"Birth Rate Higher\"}, {\"name\": \"Vietnam\", \"population\": 94348835.0, \"population_growth\": 0.97, \"birth_rate\": 15.96, \"death_rate\": 5.93, \"death_offset_birth\": -10.030000000000001, \"higher_category\": \"Birth Rate Higher\"}, {\"name\": \"Antigua and Barbuda\", \"population\": 92436.0, \"population_growth\": 1.24, \"birth_rate\": 15.85, \"death_rate\": 5.69, \"death_offset_birth\": -10.16, \"higher_category\": \"Birth Rate Higher\"}, {\"name\": \"French Polynesia\", \"population\": 282703.0, \"population_growth\": 0.94, \"birth_rate\": 15.22, \"death_rate\": 5.02, \"death_offset_birth\": -10.200000000000001, \"higher_category\": \"Birth Rate Higher\"}, {\"name\": \"Suriname\", \"population\": 579633.0, \"population_growth\": 1.08, \"birth_rate\": 16.34, \"death_rate\": 6.13, \"death_offset_birth\": -10.21, \"higher_category\": \"Birth Rate Higher\"}, {\"name\": \"Indonesia\", \"population\": 255993674.0, \"population_growth\": 0.92, \"birth_rate\": 16.72, \"death_rate\": 6.37, \"death_offset_birth\": -10.349999999999998, \"higher_category\": \"Birth Rate Higher\"}, {\"name\": \"Burma\", \"population\": 56320206.0, \"population_growth\": 1.01, \"birth_rate\": 18.39, \"death_rate\": 7.96, \"death_offset_birth\": -10.43, \"higher_category\": \"Birth Rate Higher\"}, {\"name\": \"Turkey\", \"population\": 79414269.0, \"population_growth\": 1.26, \"birth_rate\": 16.33, \"death_rate\": 5.88, \"death_offset_birth\": -10.45, \"higher_category\": \"Birth Rate Higher\"}, {\"name\": \"Lesotho\", \"population\": 1947701.0, \"population_growth\": 0.32, \"birth_rate\": 25.47, \"death_rate\": 14.89, \"death_offset_birth\": -10.579999999999998, \"higher_category\": \"Birth Rate Higher\"}, {\"name\": \"Tunisia\", \"population\": 11037225.0, \"population_growth\": 0.89, \"birth_rate\": 16.64, \"death_rate\": 5.98, \"death_offset_birth\": -10.66, \"higher_category\": \"Birth Rate Higher\"}, {\"name\": \"El Salvador\", \"population\": 6141350.0, \"population_growth\": 0.25, \"birth_rate\": 16.46, \"death_rate\": 5.69, \"death_offset_birth\": -10.77, \"higher_category\": \"Birth Rate Higher\"}, {\"name\": \"South Africa\", \"population\": 53675563.0, \"population_growth\": 1.33, \"birth_rate\": 20.75, \"death_rate\": 9.91, \"death_offset_birth\": -10.84, \"higher_category\": \"Birth Rate Higher\"}, {\"name\": \"Kazakhstan\", \"population\": 18157122.0, \"population_growth\": 1.14, \"birth_rate\": 19.15, \"death_rate\": 8.21, \"death_offset_birth\": -10.939999999999998, \"higher_category\": \"Birth Rate Higher\"}, {\"name\": \"Bahrain\", \"population\": 1346613.0, \"population_growth\": 2.41, \"birth_rate\": 13.66, \"death_rate\": 2.69, \"death_offset_birth\": -10.97, \"higher_category\": \"Birth Rate Higher\"}, {\"name\": \"Colombia\", \"population\": 46736728.0, \"population_growth\": 1.04, \"birth_rate\": 16.47, \"death_rate\": 5.4, \"death_offset_birth\": -11.069999999999999, \"higher_category\": \"Birth Rate Higher\"}, {\"name\": \"Bhutan\", \"population\": 741919.0, \"population_growth\": 1.11, \"birth_rate\": 17.78, \"death_rate\": 6.69, \"death_offset_birth\": -11.09, \"higher_category\": \"Birth Rate Higher\"}, {\"name\": \"Swaziland\", \"population\": 1435613.0, \"population_growth\": 1.11, \"birth_rate\": 24.67, \"death_rate\": 13.56, \"death_offset_birth\": -11.110000000000001, \"higher_category\": \"Birth Rate Higher\"}, {\"name\": \"Costa Rica\", \"population\": 4814144.0, \"population_growth\": 1.22, \"birth_rate\": 15.91, \"death_rate\": 4.55, \"death_offset_birth\": -11.36, \"higher_category\": \"Birth Rate Higher\"}, {\"name\": \"Jamaica\", \"population\": 2950210.0, \"population_growth\": 0.68, \"birth_rate\": 18.16, \"death_rate\": 6.7, \"death_offset_birth\": -11.46, \"higher_category\": \"Birth Rate Higher\"}, {\"name\": \"Paraguay\", \"population\": 6783272.0, \"population_growth\": 1.16, \"birth_rate\": 16.37, \"death_rate\": 4.68, \"death_offset_birth\": -11.690000000000001, \"higher_category\": \"Birth Rate Higher\"}, {\"name\": \"Uzbekistan\", \"population\": 29199942.0, \"population_growth\": 0.93, \"birth_rate\": 17.0, \"death_rate\": 5.3, \"death_offset_birth\": -11.7, \"higher_category\": \"Birth Rate Higher\"}, {\"name\": \"Guam\", \"population\": 161785.0, \"population_growth\": 0.54, \"birth_rate\": 16.82, \"death_rate\": 5.12, \"death_offset_birth\": -11.7, \"higher_category\": \"Birth Rate Higher\"}, {\"name\": \"Maldives\", \"population\": 393253.0, \"population_growth\": 0.08, \"birth_rate\": 15.75, \"death_rate\": 3.89, \"death_offset_birth\": -11.86, \"higher_category\": \"Birth Rate Higher\"}, {\"name\": \"Iran\", \"population\": 81824270.0, \"population_growth\": 1.2, \"birth_rate\": 17.99, \"death_rate\": 5.94, \"death_offset_birth\": -12.049999999999997, \"higher_category\": \"Birth Rate Higher\"}, {\"name\": \"India\", \"population\": 1251695584.0, \"population_growth\": 1.22, \"birth_rate\": 19.55, \"death_rate\": 7.32, \"death_offset_birth\": -12.23, \"higher_category\": \"Birth Rate Higher\"}, {\"name\": \"Peru\", \"population\": 30444999.0, \"population_growth\": 0.97, \"birth_rate\": 18.28, \"death_rate\": 6.01, \"death_offset_birth\": -12.270000000000001, \"higher_category\": \"Birth Rate Higher\"}, {\"name\": \"Nicaragua\", \"population\": 5907881.0, \"population_growth\": 1.0, \"birth_rate\": 18.03, \"death_rate\": 5.08, \"death_offset_birth\": -12.950000000000001, \"higher_category\": \"Birth Rate Higher\"}, {\"name\": \"Turks and Caicos Islands\", \"population\": 50280.0, \"population_growth\": 2.3, \"birth_rate\": 16.13, \"death_rate\": 3.1, \"death_offset_birth\": -13.03, \"higher_category\": \"Birth Rate Higher\"}, {\"name\": \"Turkmenistan\", \"population\": 5231422.0, \"population_growth\": 1.14, \"birth_rate\": 19.4, \"death_rate\": 6.13, \"death_offset_birth\": -13.27, \"higher_category\": \"Birth Rate Higher\"}, {\"name\": \"Israel\", \"population\": 8049314.0, \"population_growth\": 1.56, \"birth_rate\": 18.48, \"death_rate\": 5.15, \"death_offset_birth\": -13.33, \"higher_category\": \"Birth Rate Higher\"}, {\"name\": \"Fiji\", \"population\": 909389.0, \"population_growth\": 0.67, \"birth_rate\": 19.43, \"death_rate\": 6.04, \"death_offset_birth\": -13.39, \"higher_category\": \"Birth Rate Higher\"}, {\"name\": \"Morocco\", \"population\": 33322699.0, \"population_growth\": 1.0, \"birth_rate\": 18.2, \"death_rate\": 4.81, \"death_offset_birth\": -13.39, \"higher_category\": \"Birth Rate Higher\"}, {\"name\": \"Ecuador\", \"population\": 15868396.0, \"population_growth\": 1.35, \"birth_rate\": 18.51, \"death_rate\": 5.06, \"death_offset_birth\": -13.450000000000003, \"higher_category\": \"Birth Rate Higher\"}, {\"name\": \"United Arab Emirates\", \"population\": 5779760.0, \"population_growth\": 2.58, \"birth_rate\": 15.43, \"death_rate\": 1.97, \"death_offset_birth\": -13.459999999999999, \"higher_category\": \"Birth Rate Higher\"}, {\"name\": \"Panama\", \"population\": 3657024.0, \"population_growth\": 1.32, \"birth_rate\": 18.32, \"death_rate\": 4.81, \"death_offset_birth\": -13.510000000000002, \"higher_category\": \"Birth Rate Higher\"}, {\"name\": \"Mexico\", \"population\": 121736809.0, \"population_growth\": 1.18, \"birth_rate\": 18.78, \"death_rate\": 5.26, \"death_offset_birth\": -13.520000000000001, \"higher_category\": \"Birth Rate Higher\"}, {\"name\": \"Brunei\", \"population\": 429646.0, \"population_growth\": 1.62, \"birth_rate\": 17.32, \"death_rate\": 3.52, \"death_offset_birth\": -13.8, \"higher_category\": \"Birth Rate Higher\"}, {\"name\": \"Venezuela\", \"population\": 29275460.0, \"population_growth\": 1.39, \"birth_rate\": 19.16, \"death_rate\": 5.31, \"death_offset_birth\": -13.850000000000001, \"higher_category\": \"Birth Rate Higher\"}, {\"name\": \"Mongolia\", \"population\": 2992908.0, \"population_growth\": 1.31, \"birth_rate\": 20.25, \"death_rate\": 6.35, \"death_offset_birth\": -13.9, \"higher_category\": \"Birth Rate Higher\"}, {\"name\": \"Nepal\", \"population\": 31551305.0, \"population_growth\": 1.79, \"birth_rate\": 20.64, \"death_rate\": 6.56, \"death_offset_birth\": -14.080000000000002, \"higher_category\": \"Birth Rate Higher\"}, {\"name\": \"Dominican Republic\", \"population\": 10478756.0, \"population_growth\": 1.23, \"birth_rate\": 18.73, \"death_rate\": 4.55, \"death_offset_birth\": -14.18, \"higher_category\": \"Birth Rate Higher\"}, {\"name\": \"Cabo Verde\", \"population\": 545993.0, \"population_growth\": 1.36, \"birth_rate\": 20.33, \"death_rate\": 6.11, \"death_offset_birth\": -14.219999999999999, \"higher_category\": \"Birth Rate Higher\"}, {\"name\": \"Kiribati\", \"population\": 105711.0, \"population_growth\": 1.15, \"birth_rate\": 21.46, \"death_rate\": 7.12, \"death_offset_birth\": -14.34, \"higher_category\": \"Birth Rate Higher\"}, {\"name\": \"Libya\", \"population\": 6411776.0, \"population_growth\": 2.23, \"birth_rate\": 18.03, \"death_rate\": 3.58, \"death_offset_birth\": -14.450000000000001, \"higher_category\": \"Birth Rate Higher\"}, {\"name\": \"Haiti\", \"population\": 10110019.0, \"population_growth\": 1.17, \"birth_rate\": 22.31, \"death_rate\": 7.83, \"death_offset_birth\": -14.479999999999999, \"higher_category\": \"Birth Rate Higher\"}, {\"name\": \"Northern Mariana Islands\", \"population\": 52344.0, \"population_growth\": 2.18, \"birth_rate\": 18.32, \"death_rate\": 3.71, \"death_offset_birth\": -14.61, \"higher_category\": \"Birth Rate Higher\"}, {\"name\": \"Malaysia\", \"population\": 30513848.0, \"population_growth\": 1.44, \"birth_rate\": 19.71, \"death_rate\": 5.03, \"death_offset_birth\": -14.68, \"higher_category\": \"Birth Rate Higher\"}, {\"name\": \"Tuvalu\", \"population\": 10869.0, \"population_growth\": 0.82, \"birth_rate\": 23.74, \"death_rate\": 8.74, \"death_offset_birth\": -14.999999999999998, \"higher_category\": \"Birth Rate Higher\"}, {\"name\": \"Saudi Arabia\", \"population\": 27752316.0, \"population_growth\": 1.46, \"birth_rate\": 18.51, \"death_rate\": 3.33, \"death_offset_birth\": -15.180000000000001, \"higher_category\": \"Birth Rate Higher\"}, {\"name\": \"Bangladesh\", \"population\": 168957745.0, \"population_growth\": 1.6, \"birth_rate\": 21.14, \"death_rate\": 5.61, \"death_offset_birth\": -15.530000000000001, \"higher_category\": \"Birth Rate Higher\"}, {\"name\": \"Samoa\", \"population\": 197773.0, \"population_growth\": 0.58, \"birth_rate\": 20.87, \"death_rate\": 5.32, \"death_offset_birth\": -15.55, \"higher_category\": \"Birth Rate Higher\"}, {\"name\": \"Djibouti\", \"population\": 828324.0, \"population_growth\": 2.2, \"birth_rate\": 23.65, \"death_rate\": 7.73, \"death_offset_birth\": -15.919999999999998, \"higher_category\": \"Birth Rate Higher\"}, {\"name\": \"Pakistan\", \"population\": 199085847.0, \"population_growth\": 1.46, \"birth_rate\": 22.58, \"death_rate\": 6.49, \"death_offset_birth\": -16.089999999999996, \"higher_category\": \"Birth Rate Higher\"}, {\"name\": \"Cambodia\", \"population\": 15708756.0, \"population_growth\": 1.58, \"birth_rate\": 23.83, \"death_rate\": 7.68, \"death_offset_birth\": -16.15, \"higher_category\": \"Birth Rate Higher\"}, {\"name\": \"Bolivia\", \"population\": 10800882.0, \"population_growth\": 1.56, \"birth_rate\": 22.76, \"death_rate\": 6.52, \"death_offset_birth\": -16.240000000000002, \"higher_category\": \"Birth Rate Higher\"}, {\"name\": \"Micronesia, Federated States of\", \"population\": 105216.0, \"population_growth\": 0.46, \"birth_rate\": 20.54, \"death_rate\": 4.23, \"death_offset_birth\": -16.31, \"higher_category\": \"Birth Rate Higher\"}, {\"name\": \"Kyrgyzstan\", \"population\": 5664939.0, \"population_growth\": 1.11, \"birth_rate\": 22.98, \"death_rate\": 6.65, \"death_offset_birth\": -16.33, \"higher_category\": \"Birth Rate Higher\"}, {\"name\": \"Laos\", \"population\": 6911544.0, \"population_growth\": 1.55, \"birth_rate\": 24.25, \"death_rate\": 7.63, \"death_offset_birth\": -16.62, \"higher_category\": \"Birth Rate Higher\"}, {\"name\": \"Kuwait\", \"population\": 2788534.0, \"population_growth\": 1.62, \"birth_rate\": 19.91, \"death_rate\": 2.18, \"death_offset_birth\": -17.73, \"higher_category\": \"Birth Rate Higher\"}, {\"name\": \"Papua New Guinea\", \"population\": 6672429.0, \"population_growth\": 1.78, \"birth_rate\": 24.38, \"death_rate\": 6.53, \"death_offset_birth\": -17.849999999999998, \"higher_category\": \"Birth Rate Higher\"}, {\"name\": \"Honduras\", \"population\": 8746673.0, \"population_growth\": 1.68, \"birth_rate\": 23.14, \"death_rate\": 5.17, \"death_offset_birth\": -17.97, \"higher_category\": \"Birth Rate Higher\"}, {\"name\": \"Egypt\", \"population\": 88487396.0, \"population_growth\": 1.79, \"birth_rate\": 22.9, \"death_rate\": 4.77, \"death_offset_birth\": -18.13, \"higher_category\": \"Birth Rate Higher\"}, {\"name\": \"American Samoa\", \"population\": 54343.0, \"population_growth\": 0.3, \"birth_rate\": 22.89, \"death_rate\": 4.75, \"death_offset_birth\": -18.14, \"higher_category\": \"Birth Rate Higher\"}, {\"name\": \"Tonga\", \"population\": 106501.0, \"population_growth\": 0.03, \"birth_rate\": 23.0, \"death_rate\": 4.85, \"death_offset_birth\": -18.15, \"higher_category\": \"Birth Rate Higher\"}, {\"name\": \"Philippines\", \"population\": 100998376.0, \"population_growth\": 1.61, \"birth_rate\": 24.27, \"death_rate\": 6.11, \"death_offset_birth\": -18.16, \"higher_category\": \"Birth Rate Higher\"}, {\"name\": \"Syria\", \"population\": 17064854.0, \"population_growth\": 0.16, \"birth_rate\": 22.17, \"death_rate\": 4.0, \"death_offset_birth\": -18.17, \"higher_category\": \"Birth Rate Higher\"}, {\"name\": \"Tajikistan\", \"population\": 8191958.0, \"population_growth\": 1.71, \"birth_rate\": 24.38, \"death_rate\": 6.18, \"death_offset_birth\": -18.2, \"higher_category\": \"Birth Rate Higher\"}, {\"name\": \"Belize\", \"population\": 347369.0, \"population_growth\": 1.87, \"birth_rate\": 24.68, \"death_rate\": 5.97, \"death_offset_birth\": -18.71, \"higher_category\": \"Birth Rate Higher\"}, {\"name\": \"Guinea-Bissau\", \"population\": 1726170.0, \"population_growth\": 1.91, \"birth_rate\": 33.38, \"death_rate\": 14.33, \"death_offset_birth\": -19.050000000000004, \"higher_category\": \"Birth Rate Higher\"}, {\"name\": \"Nauru\", \"population\": 9540.0, \"population_growth\": 0.55, \"birth_rate\": 24.95, \"death_rate\": 5.87, \"death_offset_birth\": -19.08, \"higher_category\": \"Birth Rate Higher\"}, {\"name\": \"Cote d'Ivoire\", \"population\": 23295302.0, \"population_growth\": 1.91, \"birth_rate\": 28.67, \"death_rate\": 9.55, \"death_offset_birth\": -19.12, \"higher_category\": \"Birth Rate Higher\"}, {\"name\": \"Algeria\", \"population\": 39542166.0, \"population_growth\": 1.84, \"birth_rate\": 23.67, \"death_rate\": 4.31, \"death_offset_birth\": -19.360000000000003, \"higher_category\": \"Birth Rate Higher\"}, {\"name\": \"West Bank\", \"population\": 2785366.0, \"population_growth\": 1.95, \"birth_rate\": 22.99, \"death_rate\": 3.5, \"death_offset_birth\": -19.49, \"higher_category\": \"Birth Rate Higher\"}, {\"name\": \"Kenya\", \"population\": 45925301.0, \"population_growth\": 1.93, \"birth_rate\": 26.4, \"death_rate\": 6.89, \"death_offset_birth\": -19.509999999999998, \"higher_category\": \"Birth Rate Higher\"}, {\"name\": \"Guatemala\", \"population\": 14918999.0, \"population_growth\": 1.82, \"birth_rate\": 24.89, \"death_rate\": 4.77, \"death_offset_birth\": -20.12, \"higher_category\": \"Birth Rate Higher\"}, {\"name\": \"Comoros\", \"population\": 780971.0, \"population_growth\": 1.77, \"birth_rate\": 27.84, \"death_rate\": 7.57, \"death_offset_birth\": -20.27, \"higher_category\": \"Birth Rate Higher\"}, {\"name\": \"Vanuatu\", \"population\": 272264.0, \"population_growth\": 1.95, \"birth_rate\": 25.04, \"death_rate\": 4.09, \"death_offset_birth\": -20.95, \"higher_category\": \"Birth Rate Higher\"}, {\"name\": \"Oman\", \"population\": 3286936.0, \"population_growth\": 2.07, \"birth_rate\": 24.44, \"death_rate\": 3.36, \"death_offset_birth\": -21.080000000000002, \"higher_category\": \"Birth Rate Higher\"}, {\"name\": \"Central African Republic\", \"population\": 5391539.0, \"population_growth\": 2.13, \"birth_rate\": 35.08, \"death_rate\": 13.8, \"death_offset_birth\": -21.279999999999998, \"higher_category\": \"Birth Rate Higher\"}, {\"name\": \"Gabon\", \"population\": 1705336.0, \"population_growth\": 1.93, \"birth_rate\": 34.49, \"death_rate\": 13.12, \"death_offset_birth\": -21.370000000000005, \"higher_category\": \"Birth Rate Higher\"}, {\"name\": \"Marshall Islands\", \"population\": 72191.0, \"population_growth\": 1.66, \"birth_rate\": 25.6, \"death_rate\": 4.21, \"death_offset_birth\": -21.39, \"higher_category\": \"Birth Rate Higher\"}, {\"name\": \"Sudan\", \"population\": 36108853.0, \"population_growth\": 1.72, \"birth_rate\": 29.19, \"death_rate\": 7.66, \"death_offset_birth\": -21.53, \"higher_category\": \"Birth Rate Higher\"}, {\"name\": \"Jordan\", \"population\": 8117564.0, \"population_growth\": 0.83, \"birth_rate\": 25.37, \"death_rate\": 3.79, \"death_offset_birth\": -21.580000000000002, \"higher_category\": \"Birth Rate Higher\"}, {\"name\": \"Western Sahara\", \"population\": 570866.0, \"population_growth\": 2.82, \"birth_rate\": 30.24, \"death_rate\": 8.34, \"death_offset_birth\": -21.9, \"higher_category\": \"Birth Rate Higher\"}, {\"name\": \"Solomon Islands\", \"population\": 622469.0, \"population_growth\": 2.02, \"birth_rate\": 25.77, \"death_rate\": 3.85, \"death_offset_birth\": -21.919999999999998, \"higher_category\": \"Birth Rate Higher\"}, {\"name\": \"Zimbabwe\", \"population\": 14229541.0, \"population_growth\": 2.21, \"birth_rate\": 32.26, \"death_rate\": 10.13, \"death_offset_birth\": -22.129999999999995, \"higher_category\": \"Birth Rate Higher\"}, {\"name\": \"Chad\", \"population\": 11631456.0, \"population_growth\": 1.89, \"birth_rate\": 36.6, \"death_rate\": 14.28, \"death_offset_birth\": -22.32, \"higher_category\": \"Birth Rate Higher\"}, {\"name\": \"Eritrea\", \"population\": 6527689.0, \"population_growth\": 2.25, \"birth_rate\": 30.0, \"death_rate\": 7.52, \"death_offset_birth\": -22.48, \"higher_category\": \"Birth Rate Higher\"}, {\"name\": \"Mauritania\", \"population\": 3596702.0, \"population_growth\": 2.23, \"birth_rate\": 31.34, \"death_rate\": 8.2, \"death_offset_birth\": -23.14, \"higher_category\": \"Birth Rate Higher\"}, {\"name\": \"Yemen\", \"population\": 26737317.0, \"population_growth\": 2.47, \"birth_rate\": 29.98, \"death_rate\": 6.28, \"death_offset_birth\": -23.7, \"higher_category\": \"Birth Rate Higher\"}, {\"name\": \"Gambia, The\", \"population\": 1967709.0, \"population_growth\": 2.16, \"birth_rate\": 30.86, \"death_rate\": 7.15, \"death_offset_birth\": -23.71, \"higher_category\": \"Birth Rate Higher\"}, {\"name\": \"Ghana\", \"population\": 26327649.0, \"population_growth\": 2.18, \"birth_rate\": 31.09, \"death_rate\": 7.22, \"death_offset_birth\": -23.87, \"higher_category\": \"Birth Rate Higher\"}, {\"name\": \"Afghanistan\", \"population\": 32564342.0, \"population_growth\": 2.32, \"birth_rate\": 38.57, \"death_rate\": 13.89, \"death_offset_birth\": -24.68, \"higher_category\": \"Birth Rate Higher\"}, {\"name\": \"Liberia\", \"population\": 4195666.0, \"population_growth\": 2.47, \"birth_rate\": 34.41, \"death_rate\": 9.69, \"death_offset_birth\": -24.72, \"higher_category\": \"Birth Rate Higher\"}, {\"name\": \"Nigeria\", \"population\": 181562056.0, \"population_growth\": 2.45, \"birth_rate\": 37.64, \"death_rate\": 12.9, \"death_offset_birth\": -24.740000000000002, \"higher_category\": \"Birth Rate Higher\"}, {\"name\": \"Rwanda\", \"population\": 12661733.0, \"population_growth\": 2.56, \"birth_rate\": 33.75, \"death_rate\": 8.96, \"death_offset_birth\": -24.79, \"higher_category\": \"Birth Rate Higher\"}, {\"name\": \"Congo, Democratic Republic of the\", \"population\": 79375136.0, \"population_growth\": 2.45, \"birth_rate\": 34.88, \"death_rate\": 10.07, \"death_offset_birth\": -24.810000000000002, \"higher_category\": \"Birth Rate Higher\"}, {\"name\": \"Equatorial Guinea\", \"population\": 740743.0, \"population_growth\": 2.51, \"birth_rate\": 33.31, \"death_rate\": 8.19, \"death_offset_birth\": -25.120000000000005, \"higher_category\": \"Birth Rate Higher\"}, {\"name\": \"Madagascar\", \"population\": 23812681.0, \"population_growth\": 2.58, \"birth_rate\": 32.61, \"death_rate\": 6.81, \"death_offset_birth\": -25.8, \"higher_category\": \"Birth Rate Higher\"}, {\"name\": \"Congo, Republic of the\", \"population\": 4755097.0, \"population_growth\": 2.0, \"birth_rate\": 35.85, \"death_rate\": 10.0, \"death_offset_birth\": -25.85, \"higher_category\": \"Birth Rate Higher\"}, {\"name\": \"Cameroon\", \"population\": 23739218.0, \"population_growth\": 2.59, \"birth_rate\": 36.17, \"death_rate\": 10.11, \"death_offset_birth\": -26.060000000000002, \"higher_category\": \"Birth Rate Higher\"}, {\"name\": \"Senegal\", \"population\": 13975834.0, \"population_growth\": 2.45, \"birth_rate\": 34.52, \"death_rate\": 8.46, \"death_offset_birth\": -26.060000000000002, \"higher_category\": \"Birth Rate Higher\"}, {\"name\": \"Sierra Leone\", \"population\": 5879098.0, \"population_growth\": 2.35, \"birth_rate\": 37.03, \"death_rate\": 10.81, \"death_offset_birth\": -26.22, \"higher_category\": \"Birth Rate Higher\"}, {\"name\": \"Guinea\", \"population\": 11780162.0, \"population_growth\": 2.63, \"birth_rate\": 35.74, \"death_rate\": 9.46, \"death_offset_birth\": -26.28, \"higher_category\": \"Birth Rate Higher\"}, {\"name\": \"Mozambique\", \"population\": 25303113.0, \"population_growth\": 2.45, \"birth_rate\": 38.58, \"death_rate\": 12.1, \"death_offset_birth\": -26.479999999999997, \"higher_category\": \"Birth Rate Higher\"}, {\"name\": \"Somalia\", \"population\": 10616380.0, \"population_growth\": 1.83, \"birth_rate\": 40.45, \"death_rate\": 13.62, \"death_offset_birth\": -26.830000000000005, \"higher_category\": \"Birth Rate Higher\"}, {\"name\": \"Togo\", \"population\": 7552318.0, \"population_growth\": 2.69, \"birth_rate\": 34.13, \"death_rate\": 7.26, \"death_offset_birth\": -26.870000000000005, \"higher_category\": \"Birth Rate Higher\"}, {\"name\": \"Sao Tome and Principe\", \"population\": 194006.0, \"population_growth\": 1.84, \"birth_rate\": 34.23, \"death_rate\": 7.24, \"death_offset_birth\": -26.989999999999995, \"higher_category\": \"Birth Rate Higher\"}, {\"name\": \"Angola\", \"population\": 19625353.0, \"population_growth\": 2.78, \"birth_rate\": 38.78, \"death_rate\": 11.49, \"death_offset_birth\": -27.29, \"higher_category\": \"Birth Rate Higher\"}, {\"name\": \"Iraq\", \"population\": 37056169.0, \"population_growth\": 2.93, \"birth_rate\": 31.45, \"death_rate\": 3.77, \"death_offset_birth\": -27.68, \"higher_category\": \"Birth Rate Higher\"}, {\"name\": \"Benin\", \"population\": 10448647.0, \"population_growth\": 2.78, \"birth_rate\": 36.02, \"death_rate\": 8.21, \"death_offset_birth\": -27.810000000000002, \"higher_category\": \"Birth Rate Higher\"}, {\"name\": \"Timor-Leste\", \"population\": 1231116.0, \"population_growth\": 2.42, \"birth_rate\": 34.16, \"death_rate\": 6.1, \"death_offset_birth\": -28.059999999999995, \"higher_category\": \"Birth Rate Higher\"}, {\"name\": \"Gaza Strip\", \"population\": 1869055.0, \"population_growth\": 2.81, \"birth_rate\": 31.11, \"death_rate\": 3.04, \"death_offset_birth\": -28.07, \"higher_category\": \"Birth Rate Higher\"}, {\"name\": \"Tanzania\", \"population\": 51045882.0, \"population_growth\": 2.79, \"birth_rate\": 36.39, \"death_rate\": 8.0, \"death_offset_birth\": -28.39, \"higher_category\": \"Birth Rate Higher\"}, {\"name\": \"South Sudan\", \"population\": 12042910.0, \"population_growth\": 4.02, \"birth_rate\": 36.91, \"death_rate\": 8.18, \"death_offset_birth\": -28.729999999999997, \"higher_category\": \"Birth Rate Higher\"}, {\"name\": \"Ethiopia\", \"population\": 99465819.0, \"population_growth\": 2.89, \"birth_rate\": 37.27, \"death_rate\": 8.19, \"death_offset_birth\": -29.080000000000005, \"higher_category\": \"Birth Rate Higher\"}, {\"name\": \"Zambia\", \"population\": 15066266.0, \"population_growth\": 2.88, \"birth_rate\": 42.13, \"death_rate\": 12.67, \"death_offset_birth\": -29.46, \"higher_category\": \"Birth Rate Higher\"}, {\"name\": \"Burkina Faso\", \"population\": 18931686.0, \"population_growth\": 3.03, \"birth_rate\": 42.03, \"death_rate\": 11.72, \"death_offset_birth\": -30.310000000000002, \"higher_category\": \"Birth Rate Higher\"}, {\"name\": \"Mali\", \"population\": 16955536.0, \"population_growth\": 2.98, \"birth_rate\": 44.99, \"death_rate\": 12.89, \"death_offset_birth\": -32.1, \"higher_category\": \"Birth Rate Higher\"}, {\"name\": \"Burundi\", \"population\": 10742276.0, \"population_growth\": 3.28, \"birth_rate\": 42.01, \"death_rate\": 9.27, \"death_offset_birth\": -32.739999999999995, \"higher_category\": \"Birth Rate Higher\"}, {\"name\": \"Niger\", \"population\": 18045729.0, \"population_growth\": 3.25, \"birth_rate\": 45.45, \"death_rate\": 12.42, \"death_offset_birth\": -33.03, \"higher_category\": \"Birth Rate Higher\"}, {\"name\": \"Uganda\", \"population\": 37101745.0, \"population_growth\": 3.24, \"birth_rate\": 43.79, \"death_rate\": 10.69, \"death_offset_birth\": -33.1, \"higher_category\": \"Birth Rate Higher\"}, {\"name\": \"Malawi\", \"population\": 17964697.0, \"population_growth\": 3.32, \"birth_rate\": 41.56, \"death_rate\": 8.41, \"death_offset_birth\": -33.150000000000006, \"higher_category\": \"Birth Rate Higher\"}, {\"name\": \"Kosovo\", \"population\": 1870981.0, \"population_growth\": null, \"birth_rate\": null, \"death_rate\": null, \"death_offset_birth\": null, \"higher_category\": \"Birth Rate Higher\"}, {\"name\": \"Holy See (Vatican City)\", \"population\": 842.0, \"population_growth\": 0.0, \"birth_rate\": null, \"death_rate\": null, \"death_offset_birth\": null, \"higher_category\": \"Birth Rate Higher\"}, {\"name\": \"Ashmore and Cartier Islands\", \"population\": null, \"population_growth\": null, \"birth_rate\": null, \"death_rate\": null, \"death_offset_birth\": null, \"higher_category\": \"Birth Rate Higher\"}, {\"name\": \"Christmas Island\", \"population\": 1530.0, \"population_growth\": 1.11, \"birth_rate\": null, \"death_rate\": null, \"death_offset_birth\": null, \"higher_category\": \"Birth Rate Higher\"}, {\"name\": \"Cocos (Keeling) Islands\", \"population\": 596.0, \"population_growth\": 0.0, \"birth_rate\": null, \"death_rate\": null, \"death_offset_birth\": null, \"higher_category\": \"Birth Rate Higher\"}, {\"name\": \"Coral Sea Islands\", \"population\": null, \"population_growth\": null, \"birth_rate\": null, \"death_rate\": null, \"death_offset_birth\": null, \"higher_category\": \"Birth Rate Higher\"}, {\"name\": \"Heard Island and McDonald Islands\", \"population\": null, \"population_growth\": null, \"birth_rate\": null, \"death_rate\": null, \"death_offset_birth\": null, \"higher_category\": \"Birth Rate Higher\"}, {\"name\": \"Norfolk Island\", \"population\": 2210.0, \"population_growth\": 0.01, \"birth_rate\": null, \"death_rate\": null, \"death_offset_birth\": null, \"higher_category\": \"Birth Rate Higher\"}, {\"name\": \"Clipperton Island\", \"population\": null, \"population_growth\": null, \"birth_rate\": null, \"death_rate\": null, \"death_offset_birth\": null, \"higher_category\": \"Birth Rate Higher\"}, {\"name\": \"French Southern and Antarctic Lands\", \"population\": null, \"population_growth\": null, \"birth_rate\": null, \"death_rate\": null, \"death_offset_birth\": null, \"higher_category\": \"Birth Rate Higher\"}, {\"name\": \"Saint Barthelemy\", \"population\": 7237.0, \"population_growth\": null, \"birth_rate\": null, \"death_rate\": null, \"death_offset_birth\": null, \"higher_category\": \"Birth Rate Higher\"}, {\"name\": \"Saint Martin\", \"population\": 31754.0, \"population_growth\": null, \"birth_rate\": null, \"death_rate\": null, \"death_offset_birth\": null, \"higher_category\": \"Birth Rate Higher\"}, {\"name\": \"Niue\", \"population\": 1190.0, \"population_growth\": 0.03, \"birth_rate\": null, \"death_rate\": null, \"death_offset_birth\": null, \"higher_category\": \"Birth Rate Higher\"}, {\"name\": \"Tokelau\", \"population\": 1337.0, \"population_growth\": 0.01, \"birth_rate\": null, \"death_rate\": null, \"death_offset_birth\": null, \"higher_category\": \"Birth Rate Higher\"}, {\"name\": \"Bouvet Island\", \"population\": null, \"population_growth\": null, \"birth_rate\": null, \"death_rate\": null, \"death_offset_birth\": null, \"higher_category\": \"Birth Rate Higher\"}, {\"name\": \"Jan Mayen\", \"population\": null, \"population_growth\": null, \"birth_rate\": null, \"death_rate\": null, \"death_offset_birth\": null, \"higher_category\": \"Birth Rate Higher\"}, {\"name\": \"Svalbard\", \"population\": 1872.0, \"population_growth\": 0.03, \"birth_rate\": null, \"death_rate\": null, \"death_offset_birth\": null, \"higher_category\": \"Birth Rate Higher\"}, {\"name\": \"Akrotiri\", \"population\": 15700.0, \"population_growth\": null, \"birth_rate\": null, \"death_rate\": null, \"death_offset_birth\": null, \"higher_category\": \"Birth Rate Higher\"}, {\"name\": \"British Indian Ocean Territory\", \"population\": null, \"population_growth\": null, \"birth_rate\": null, \"death_rate\": null, \"death_offset_birth\": null, \"higher_category\": \"Birth Rate Higher\"}, {\"name\": \"Dhekelia\", \"population\": 15700.0, \"population_growth\": null, \"birth_rate\": null, \"death_rate\": null, \"death_offset_birth\": null, \"higher_category\": \"Birth Rate Higher\"}, {\"name\": \"Pitcairn Islands\", \"population\": 48.0, \"population_growth\": 0.0, \"birth_rate\": null, \"death_rate\": null, \"death_offset_birth\": null, \"higher_category\": \"Birth Rate Higher\"}, {\"name\": \"South Georgia and South Sandwich Islands\", \"population\": null, \"population_growth\": null, \"birth_rate\": null, \"death_rate\": null, \"death_offset_birth\": null, \"higher_category\": \"Birth Rate Higher\"}, {\"name\": \"Navassa Island\", \"population\": null, \"population_growth\": null, \"birth_rate\": null, \"death_rate\": null, \"death_offset_birth\": null, \"higher_category\": \"Birth Rate Higher\"}, {\"name\": \"Wake Island\", \"population\": null, \"population_growth\": null, \"birth_rate\": null, \"death_rate\": null, \"death_offset_birth\": null, \"higher_category\": \"Birth Rate Higher\"}, {\"name\": \"United States Pacific Island Wildlife Refuges\", \"population\": null, \"population_growth\": null, \"birth_rate\": null, \"death_rate\": null, \"death_offset_birth\": null, \"higher_category\": \"Birth Rate Higher\"}, {\"name\": \"Paracel Islands\", \"population\": null, \"population_growth\": null, \"birth_rate\": null, \"death_rate\": null, \"death_offset_birth\": null, \"higher_category\": \"Birth Rate Higher\"}, {\"name\": \"Spratly Islands\", \"population\": null, \"population_growth\": null, \"birth_rate\": null, \"death_rate\": null, \"death_offset_birth\": null, \"higher_category\": \"Birth Rate Higher\"}, {\"name\": \"Arctic Ocean\", \"population\": null, \"population_growth\": null, \"birth_rate\": null, \"death_rate\": null, \"death_offset_birth\": null, \"higher_category\": \"Birth Rate Higher\"}, {\"name\": \"Atlantic Ocean\", \"population\": null, \"population_growth\": null, \"birth_rate\": null, \"death_rate\": null, \"death_offset_birth\": null, \"higher_category\": \"Birth Rate Higher\"}, {\"name\": \"Indian Ocean\", \"population\": null, \"population_growth\": null, \"birth_rate\": null, \"death_rate\": null, \"death_offset_birth\": null, \"higher_category\": \"Birth Rate Higher\"}, {\"name\": \"Pacific Ocean\", \"population\": null, \"population_growth\": null, \"birth_rate\": null, \"death_rate\": null, \"death_offset_birth\": null, \"higher_category\": \"Birth Rate Higher\"}, {\"name\": \"Southern Ocean\", \"population\": null, \"population_growth\": null, \"birth_rate\": null, \"death_rate\": null, \"death_offset_birth\": null, \"higher_category\": \"Birth Rate Higher\"}]}}, {\"mode\": \"vega-lite\"});\n",
       "</script>"
      ],
      "text/plain": [
       "alt.Chart(...)"
      ]
     },
     "execution_count": 24,
     "metadata": {},
     "output_type": "execute_result"
    }
   ],
   "source": [
    "#| code-fold: true\n",
    "(\n",
    "    alt.Chart(db_rates)\n",
    "    .mark_area(point = True) # Show a point for each observation.\n",
    "    .encode(\n",
    "        x = alt.X(\"birth_rate:Q\", title = \"Birth Rate (Births per 1000 People per Year)\"),\n",
    "        y = alt.Y(\"death_offset_birth:Q\", title = \"Death Rate offset by Birth Rate\"),\n",
    "        color = alt.Color(\"higher_category:N\", title = \"Higher Rate\"),\n",
    "        tooltip = [\n",
    "            \"name\",\n",
    "            \"birth_rate\",\n",
    "            \"death_rate\",\n",
    "            \"death_offset_birth\",\n",
    "        ],\n",
    "    )\n",
    "    .properties(title = \"Death Rate is Higher than Birth Rate for 24 Countries\")\n",
    "    .interactive()\n",
    ")"
   ]
  },
  {
   "attachments": {},
   "cell_type": "markdown",
   "id": "secure-canberra",
   "metadata": {},
   "source": [
    "In the chart above, each point represents a country. Click, drag, and scroll in order to explore the countries and read their tooltips.\n",
    "\n",
    "The horizontal line marks the spot where the birth rate and death rate are equal—they cancel each other out. The blue part represents the majority of countries, which have a birth rate higher than the death rate. On the other hand, the orange part represents the 24 countries where deaths outnumber births.\n",
    "\n",
    "Interestingly, there is a **downward trend** in the chart. Death rate offset by birth rate appears to have a strong negative correlation with birth rate.\n",
    "\n",
    "More importantly, one would expect the 24 highlighted countries to have a negative population growth. However, if we look at the table, the **population growth rates are still positive**. This means that other factors such as migration may be involved in keeping the population growing rather than shrinking."
   ]
  },
  {
   "attachments": {},
   "cell_type": "markdown",
   "id": "compatible-missouri",
   "metadata": {},
   "source": [
    "# Summary\n",
    "\n",
    "In this project, we used a local database file of CIA World Factbook data about 259 countries. We explored the topics of population size, growth rate, raw increase, and density, as well as death rate and birth rate. We queried the database with SQL in order to calculate summary statistics and generate tables showing the top countries with certain characteristics. After identifying countries of interest, we did a little research on each one in order to understand why it had such characteristics. Lastly, we created interesting interactive charts that highlighted the countries of interest. These charts allowed the viewer to read extra information about each country via tooltips.\n",
    "\n",
    "Thanks for reading!"
   ]
  }
 ],
 "metadata": {
  "kernelspec": {
   "display_name": "Python 3",
   "language": "python",
   "name": "python3"
  },
  "language_info": {
   "codemirror_mode": {
    "name": "ipython",
    "version": 3
   },
   "file_extension": ".py",
   "mimetype": "text/x-python",
   "name": "python",
   "nbconvert_exporter": "python",
   "pygments_lexer": "ipython3",
   "version": "3.8.11"
  }
 },
 "nbformat": 4,
 "nbformat_minor": 5
}
